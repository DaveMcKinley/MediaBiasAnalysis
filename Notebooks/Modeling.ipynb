{
 "cells": [
  {
   "cell_type": "code",
   "execution_count": 2,
   "id": "b585ff3c",
   "metadata": {},
   "outputs": [],
   "source": [
    "import pandas as pd\n",
    "import numpy as np\n",
    "import seaborn as sns\n",
    "import matplotlib.pyplot as plt\n",
    "import random\n",
    "\n",
    "import nltk\n",
    "from nltk.tokenize import RegexpTokenizer\n",
    "from nltk.corpus import stopwords\n",
    "from nltk.stem import WordNetLemmatizer\n",
    "from  nltk import FreqDist\n",
    "\n",
    "from sklearn.feature_extraction.text import CountVectorizer, TfidfVectorizer\n",
    "from sklearn.naive_bayes import MultinomialNB\n",
    "from sklearn.linear_model import LogisticRegression, SGDClassifier\n",
    "from sklearn.preprocessing import StandardScaler\n",
    "from sklearn.decomposition import PCA\n",
    "from sklearn.tree import DecisionTreeClassifier\n",
    "from sklearn.ensemble import RandomForestClassifier\n",
    "from sklearn.preprocessing import OneHotEncoder\n",
    "\n",
    "from sklearn.pipeline import Pipeline\n",
    "from sklearn.model_selection import train_test_split, GridSearchCV, cross_validate, cross_val_score\n",
    "from sklearn import metrics\n",
    "from sklearn.metrics import accuracy_score, precision_score, recall_score, f1_score, roc_auc_score, plot_confusion_matrix\n",
    "from sklearn.metrics import classification_report, confusion_matrix, precision_recall_curve\n",
    "\n",
    "from sklearn.model_selection import train_test_split\n",
    "\n",
    "from tensorflow import keras\n",
    "from tensorflow.keras import layers\n",
    "\n",
    "import re\n",
    "import string"
   ]
  },
  {
   "cell_type": "code",
   "execution_count": 4,
   "id": "27c7341a",
   "metadata": {},
   "outputs": [
    {
     "data": {
      "text/html": [
       "<div>\n",
       "<style scoped>\n",
       "    .dataframe tbody tr th:only-of-type {\n",
       "        vertical-align: middle;\n",
       "    }\n",
       "\n",
       "    .dataframe tbody tr th {\n",
       "        vertical-align: top;\n",
       "    }\n",
       "\n",
       "    .dataframe thead th {\n",
       "        text-align: right;\n",
       "    }\n",
       "</style>\n",
       "<table border=\"1\" class=\"dataframe\">\n",
       "  <thead>\n",
       "    <tr style=\"text-align: right;\">\n",
       "      <th></th>\n",
       "      <th>Publication</th>\n",
       "      <th>Content</th>\n",
       "      <th>Bias</th>\n",
       "      <th>num_bias</th>\n",
       "      <th>processed_content</th>\n",
       "    </tr>\n",
       "  </thead>\n",
       "  <tbody>\n",
       "    <tr>\n",
       "      <th>0</th>\n",
       "      <td>CNN</td>\n",
       "      <td>Istanbul (CNN) At least 39 people were killed ...</td>\n",
       "      <td>Left</td>\n",
       "      <td>0</td>\n",
       "      <td>istanbul least people killed least wounded att...</td>\n",
       "    </tr>\n",
       "    <tr>\n",
       "      <th>1</th>\n",
       "      <td>CNN</td>\n",
       "      <td>Atlanta (CNN) This season’s College Football P...</td>\n",
       "      <td>Left</td>\n",
       "      <td>0</td>\n",
       "      <td>atlanta season college football playoff center...</td>\n",
       "    </tr>\n",
       "    <tr>\n",
       "      <th>2</th>\n",
       "      <td>CNN</td>\n",
       "      <td>(CNN) Revelers on the United States’ west coa...</td>\n",
       "      <td>Left</td>\n",
       "      <td>0</td>\n",
       "      <td>reveler united state west coast cheered advent...</td>\n",
       "    </tr>\n",
       "    <tr>\n",
       "      <th>3</th>\n",
       "      <td>CNN</td>\n",
       "      <td>West Palm Beach, Florida (CNN)  Donald Trump s...</td>\n",
       "      <td>Left</td>\n",
       "      <td>0</td>\n",
       "      <td>west palm beach florida donald trump said satu...</td>\n",
       "    </tr>\n",
       "    <tr>\n",
       "      <th>4</th>\n",
       "      <td>CNN</td>\n",
       "      <td>(CNN) Two small planes collided in Texas on S...</td>\n",
       "      <td>Left</td>\n",
       "      <td>0</td>\n",
       "      <td>two small plane collided texas saturday killin...</td>\n",
       "    </tr>\n",
       "    <tr>\n",
       "      <th>...</th>\n",
       "      <td>...</td>\n",
       "      <td>...</td>\n",
       "      <td>...</td>\n",
       "      <td>...</td>\n",
       "      <td>...</td>\n",
       "    </tr>\n",
       "    <tr>\n",
       "      <th>85360</th>\n",
       "      <td>National Review</td>\n",
       "      <td>I first read Thomas Sowell in college  —   no ...</td>\n",
       "      <td>Right</td>\n",
       "      <td>2</td>\n",
       "      <td>first read thomas sowell college thanks colleg...</td>\n",
       "    </tr>\n",
       "    <tr>\n",
       "      <th>85361</th>\n",
       "      <td>National Review</td>\n",
       "      <td>Whether it’s celebrated according to the Grego...</td>\n",
       "      <td>Right</td>\n",
       "      <td>2</td>\n",
       "      <td>whether celebrated according gregorian julian ...</td>\n",
       "    </tr>\n",
       "    <tr>\n",
       "      <th>85362</th>\n",
       "      <td>National Review</td>\n",
       "      <td>Editor’s Note: This piece first appeared in th...</td>\n",
       "      <td>Right</td>\n",
       "      <td>2</td>\n",
       "      <td>editor note piece first appeared april issue n...</td>\n",
       "    </tr>\n",
       "    <tr>\n",
       "      <th>85363</th>\n",
       "      <td>National Review</td>\n",
       "      <td>Israel would seem to be in a disastrous positi...</td>\n",
       "      <td>Right</td>\n",
       "      <td>2</td>\n",
       "      <td>israel would seem disastrous position given in...</td>\n",
       "    </tr>\n",
       "    <tr>\n",
       "      <th>85364</th>\n",
       "      <td>National Review</td>\n",
       "      <td>The year 2016 was a good one for books by men ...</td>\n",
       "      <td>Right</td>\n",
       "      <td>2</td>\n",
       "      <td>year good one book men named yuval past year r...</td>\n",
       "    </tr>\n",
       "  </tbody>\n",
       "</table>\n",
       "<p>85364 rows × 5 columns</p>\n",
       "</div>"
      ],
      "text/plain": [
       "           Publication                                            Content  \\\n",
       "0                  CNN  Istanbul (CNN) At least 39 people were killed ...   \n",
       "1                  CNN  Atlanta (CNN) This season’s College Football P...   \n",
       "2                  CNN   (CNN) Revelers on the United States’ west coa...   \n",
       "3                  CNN  West Palm Beach, Florida (CNN)  Donald Trump s...   \n",
       "4                  CNN   (CNN) Two small planes collided in Texas on S...   \n",
       "...                ...                                                ...   \n",
       "85360  National Review  I first read Thomas Sowell in college  —   no ...   \n",
       "85361  National Review  Whether it’s celebrated according to the Grego...   \n",
       "85362  National Review  Editor’s Note: This piece first appeared in th...   \n",
       "85363  National Review  Israel would seem to be in a disastrous positi...   \n",
       "85364  National Review  The year 2016 was a good one for books by men ...   \n",
       "\n",
       "        Bias  num_bias                                  processed_content  \n",
       "0       Left         0  istanbul least people killed least wounded att...  \n",
       "1       Left         0  atlanta season college football playoff center...  \n",
       "2       Left         0  reveler united state west coast cheered advent...  \n",
       "3       Left         0  west palm beach florida donald trump said satu...  \n",
       "4       Left         0  two small plane collided texas saturday killin...  \n",
       "...      ...       ...                                                ...  \n",
       "85360  Right         2  first read thomas sowell college thanks colleg...  \n",
       "85361  Right         2  whether celebrated according gregorian julian ...  \n",
       "85362  Right         2  editor note piece first appeared april issue n...  \n",
       "85363  Right         2  israel would seem disastrous position given in...  \n",
       "85364  Right         2  year good one book men named yuval past year r...  \n",
       "\n",
       "[85364 rows x 5 columns]"
      ]
     },
     "execution_count": 4,
     "metadata": {},
     "output_type": "execute_result"
    }
   ],
   "source": [
    "df = pd.read_pickle(\"../data/processed.pkl\")\n",
    "df"
   ]
  },
  {
   "cell_type": "code",
   "execution_count": 5,
   "id": "96ed51b6",
   "metadata": {},
   "outputs": [
    {
     "data": {
      "text/plain": [
       "Publication          0\n",
       "Content              0\n",
       "Bias                 0\n",
       "num_bias             0\n",
       "processed_content    0\n",
       "dtype: int64"
      ]
     },
     "execution_count": 5,
     "metadata": {},
     "output_type": "execute_result"
    }
   ],
   "source": [
    "df.isnull().sum()"
   ]
  },
  {
   "cell_type": "code",
   "execution_count": 6,
   "id": "32d4b295",
   "metadata": {},
   "outputs": [],
   "source": [
    "# Content of each article\n",
    "X = df[[\"processed_content\"]]\n",
    "# Target of biases\n",
    "y= df[\"num_bias\"]\n",
    "#set random seed\n",
    "seed = 42\n",
    "#holdout set\n",
    "X_hold, X_test, y_hold, y_test = train_test_split(X, y, test_size=0.10, random_state=seed)\n",
    "#training set\n",
    "X_train, X_val, y_train, y_val = train_test_split(X_hold, y_hold, test_size=0.25, random_state=seed)"
   ]
  },
  {
   "cell_type": "code",
   "execution_count": 53,
   "id": "bdb67ca1",
   "metadata": {},
   "outputs": [
    {
     "data": {
      "text/html": [
       "<div>\n",
       "<style scoped>\n",
       "    .dataframe tbody tr th:only-of-type {\n",
       "        vertical-align: middle;\n",
       "    }\n",
       "\n",
       "    .dataframe tbody tr th {\n",
       "        vertical-align: top;\n",
       "    }\n",
       "\n",
       "    .dataframe thead th {\n",
       "        text-align: right;\n",
       "    }\n",
       "</style>\n",
       "<table border=\"1\" class=\"dataframe\">\n",
       "  <thead>\n",
       "    <tr style=\"text-align: right;\">\n",
       "      <th></th>\n",
       "      <th>processed_content</th>\n",
       "    </tr>\n",
       "  </thead>\n",
       "  <tbody>\n",
       "    <tr>\n",
       "      <th>60555</th>\n",
       "      <td>tuesday broadcast situation room senator rober...</td>\n",
       "    </tr>\n",
       "    <tr>\n",
       "      <th>34511</th>\n",
       "      <td>top health official expressed heightened conce...</td>\n",
       "    </tr>\n",
       "    <tr>\n",
       "      <th>43210</th>\n",
       "      <td>dozen incredible kid clarke middle school wrot...</td>\n",
       "    </tr>\n",
       "    <tr>\n",
       "      <th>62118</th>\n",
       "      <td>new mexico democrat assigning new bill number ...</td>\n",
       "    </tr>\n",
       "    <tr>\n",
       "      <th>39828</th>\n",
       "      <td>sign receive report right inbox ly kjmnnn midd...</td>\n",
       "    </tr>\n",
       "  </tbody>\n",
       "</table>\n",
       "</div>"
      ],
      "text/plain": [
       "                                       processed_content\n",
       "60555  tuesday broadcast situation room senator rober...\n",
       "34511  top health official expressed heightened conce...\n",
       "43210  dozen incredible kid clarke middle school wrot...\n",
       "62118  new mexico democrat assigning new bill number ...\n",
       "39828  sign receive report right inbox ly kjmnnn midd..."
      ]
     },
     "execution_count": 53,
     "metadata": {},
     "output_type": "execute_result"
    }
   ],
   "source": [
    "X_train.head()"
   ]
  },
  {
   "cell_type": "code",
   "execution_count": 54,
   "id": "c31935e4",
   "metadata": {},
   "outputs": [
    {
     "data": {
      "text/plain": [
       "(57620, 1)"
      ]
     },
     "execution_count": 54,
     "metadata": {},
     "output_type": "execute_result"
    }
   ],
   "source": [
    "X_train.shape"
   ]
  },
  {
   "cell_type": "code",
   "execution_count": 55,
   "id": "d2f09dc3",
   "metadata": {},
   "outputs": [
    {
     "data": {
      "text/plain": [
       "(57620,)"
      ]
     },
     "execution_count": 55,
     "metadata": {},
     "output_type": "execute_result"
    }
   ],
   "source": [
    "y_train.shape"
   ]
  },
  {
   "cell_type": "code",
   "execution_count": 56,
   "id": "d78c1e60",
   "metadata": {},
   "outputs": [
    {
     "data": {
      "text/plain": [
       "60555    2\n",
       "34511    1\n",
       "43210    1\n",
       "62118    2\n",
       "39828    1\n",
       "Name: num_bias, dtype: int64"
      ]
     },
     "execution_count": 56,
     "metadata": {},
     "output_type": "execute_result"
    }
   ],
   "source": [
    "y_train.head()"
   ]
  },
  {
   "cell_type": "code",
   "execution_count": 57,
   "id": "5ad7ee78",
   "metadata": {},
   "outputs": [
    {
     "data": {
      "text/html": [
       "<div>\n",
       "<style scoped>\n",
       "    .dataframe tbody tr th:only-of-type {\n",
       "        vertical-align: middle;\n",
       "    }\n",
       "\n",
       "    .dataframe tbody tr th {\n",
       "        vertical-align: top;\n",
       "    }\n",
       "\n",
       "    .dataframe thead th {\n",
       "        text-align: right;\n",
       "    }\n",
       "</style>\n",
       "<table border=\"1\" class=\"dataframe\">\n",
       "  <thead>\n",
       "    <tr style=\"text-align: right;\">\n",
       "      <th></th>\n",
       "      <th>processed_content</th>\n",
       "    </tr>\n",
       "  </thead>\n",
       "  <tbody>\n",
       "    <tr>\n",
       "      <th>66202</th>\n",
       "      <td>texas bbq restaurant made transgender bathroom...</td>\n",
       "    </tr>\n",
       "    <tr>\n",
       "      <th>77557</th>\n",
       "      <td>former nbc news anchor tom brokaw agrees news ...</td>\n",
       "    </tr>\n",
       "    <tr>\n",
       "      <th>45472</th>\n",
       "      <td>one week since hillary clintonhillary diane ro...</td>\n",
       "    </tr>\n",
       "    <tr>\n",
       "      <th>72123</th>\n",
       "      <td>home state kentucky senate majority leader ral...</td>\n",
       "    </tr>\n",
       "    <tr>\n",
       "      <th>1349</th>\n",
       "      <td>typical target specific medium outlet exclude ...</td>\n",
       "    </tr>\n",
       "  </tbody>\n",
       "</table>\n",
       "</div>"
      ],
      "text/plain": [
       "                                       processed_content\n",
       "66202  texas bbq restaurant made transgender bathroom...\n",
       "77557  former nbc news anchor tom brokaw agrees news ...\n",
       "45472  one week since hillary clintonhillary diane ro...\n",
       "72123  home state kentucky senate majority leader ral...\n",
       "1349   typical target specific medium outlet exclude ..."
      ]
     },
     "execution_count": 57,
     "metadata": {},
     "output_type": "execute_result"
    }
   ],
   "source": [
    "X_val.head()"
   ]
  },
  {
   "cell_type": "code",
   "execution_count": 58,
   "id": "c678c082",
   "metadata": {},
   "outputs": [
    {
     "data": {
      "text/plain": [
       "(19207, 1)"
      ]
     },
     "execution_count": 58,
     "metadata": {},
     "output_type": "execute_result"
    }
   ],
   "source": [
    "X_val.shape"
   ]
  },
  {
   "cell_type": "code",
   "execution_count": 59,
   "id": "afeeaeaa",
   "metadata": {},
   "outputs": [
    {
     "data": {
      "text/plain": [
       "(19207,)"
      ]
     },
     "execution_count": 59,
     "metadata": {},
     "output_type": "execute_result"
    }
   ],
   "source": [
    "y_val.shape"
   ]
  },
  {
   "cell_type": "code",
   "execution_count": 60,
   "id": "99cafc18",
   "metadata": {},
   "outputs": [
    {
     "data": {
      "text/plain": [
       "66202    2\n",
       "77557    2\n",
       "45472    1\n",
       "72123    2\n",
       "1349     0\n",
       "Name: num_bias, dtype: int64"
      ]
     },
     "execution_count": 60,
     "metadata": {},
     "output_type": "execute_result"
    }
   ],
   "source": [
    "y_val.head()"
   ]
  },
  {
   "cell_type": "code",
   "execution_count": 61,
   "id": "fa1adc46",
   "metadata": {},
   "outputs": [
    {
     "name": "stdout",
     "output_type": "stream",
     "text": [
      "<class 'pandas.core.frame.DataFrame'>\n",
      "Int64Index: 57620 entries, 60555 to 32481\n",
      "Data columns (total 1 columns):\n",
      " #   Column             Non-Null Count  Dtype \n",
      "---  ------             --------------  ----- \n",
      " 0   processed_content  57620 non-null  object\n",
      "dtypes: object(1)\n",
      "memory usage: 900.3+ KB\n"
     ]
    }
   ],
   "source": [
    "X_train.info()"
   ]
  },
  {
   "cell_type": "code",
   "execution_count": 62,
   "id": "d50b8976",
   "metadata": {},
   "outputs": [
    {
     "name": "stdout",
     "output_type": "stream",
     "text": [
      "<class 'pandas.core.frame.DataFrame'>\n",
      "Int64Index: 19207 entries, 66202 to 40852\n",
      "Data columns (total 1 columns):\n",
      " #   Column             Non-Null Count  Dtype \n",
      "---  ------             --------------  ----- \n",
      " 0   processed_content  19207 non-null  object\n",
      "dtypes: object(1)\n",
      "memory usage: 300.1+ KB\n"
     ]
    }
   ],
   "source": [
    "X_val.info()"
   ]
  },
  {
   "cell_type": "code",
   "execution_count": 145,
   "id": "27a2cb55",
   "metadata": {},
   "outputs": [
    {
     "data": {
      "text/plain": [
       "CountVectorizer(max_features=3000, ngram_range=(1, 2), stop_words='english')"
      ]
     },
     "execution_count": 145,
     "metadata": {},
     "output_type": "execute_result"
    }
   ],
   "source": [
    "cvec = CountVectorizer(stop_words='english', ngram_range=(1,2), max_features=3000)\n",
    "cvec"
   ]
  },
  {
   "cell_type": "code",
   "execution_count": 146,
   "id": "de9c1be5",
   "metadata": {},
   "outputs": [
    {
     "data": {
      "text/plain": [
       "[('tuesday', 2790),\n",
       " ('broadcast', 323),\n",
       " ('situation', 2471),\n",
       " ('room', 2308),\n",
       " ('senator', 2399),\n",
       " ('robert', 2299),\n",
       " ('sentence', 2406),\n",
       " ('time', 2715),\n",
       " ('seriously', 2412),\n",
       " ('russia', 2326),\n",
       " ('recent', 2165),\n",
       " ('election', 844),\n",
       " ('role', 2304),\n",
       " ('wikileaks', 2941),\n",
       " ('played', 1952),\n",
       " ('regard', 2194),\n",
       " ('sure', 2625),\n",
       " ('type', 2803),\n",
       " ('message', 1647),\n",
       " ('send', 2400)]"
      ]
     },
     "execution_count": 146,
     "metadata": {},
     "output_type": "execute_result"
    }
   ],
   "source": [
    "from itertools import islice\n",
    "cvec.fit(X_train[\"processed_content\"])\n",
    "list(islice(cvec.vocabulary_.items(), 20))"
   ]
  },
  {
   "cell_type": "code",
   "execution_count": 147,
   "id": "39adeb2d",
   "metadata": {},
   "outputs": [],
   "source": [
    "tfidf_vectorizer = TfidfVectorizer(max_features=3000, \n",
    "                                   ngram_range=(1,2),\n",
    "                                  max_df =.95, min_df = 6)\n",
    "\n",
    "tfidf_vectorizer.fit(X_train[\"processed_content\"])\n",
    "X_train_tfidf_vec = tfidf_vectorizer.transform(X_train[\"processed_content\"])\n",
    "X_val_tfidf_vec = tfidf_vectorizer.transform(X_val[\"processed_content\"])"
   ]
  },
  {
   "cell_type": "code",
   "execution_count": 148,
   "id": "6629f2cb",
   "metadata": {},
   "outputs": [
    {
     "data": {
      "text/plain": [
       "<57620x3000 sparse matrix of type '<class 'numpy.float64'>'\n",
       "\twith 10712088 stored elements in Compressed Sparse Row format>"
      ]
     },
     "execution_count": 148,
     "metadata": {},
     "output_type": "execute_result"
    }
   ],
   "source": [
    "X_train_tfidf_vec"
   ]
  },
  {
   "cell_type": "code",
   "execution_count": 149,
   "id": "8a73d189",
   "metadata": {},
   "outputs": [
    {
     "data": {
      "text/plain": [
       "(57620, 3000)"
      ]
     },
     "execution_count": 149,
     "metadata": {},
     "output_type": "execute_result"
    }
   ],
   "source": [
    "X_train_tfidf_vec_df = pd.DataFrame(X_train_tfidf_vec.toarray(),columns=cvec.get_feature_names(), \n",
    "                              index=X_train.index)\n",
    "X_val_tfidf_vec_df = pd.DataFrame(X_val_tfidf_vec.toarray(), columns=cvec.get_feature_names(), \n",
    "                              index=X_val.index)\n",
    "\n",
    "X_train_tfidf_vec_df.shape"
   ]
  },
  {
   "cell_type": "code",
   "execution_count": 159,
   "id": "4712b452",
   "metadata": {},
   "outputs": [
    {
     "data": {
      "text/html": [
       "<div>\n",
       "<style scoped>\n",
       "    .dataframe tbody tr th:only-of-type {\n",
       "        vertical-align: middle;\n",
       "    }\n",
       "\n",
       "    .dataframe tbody tr th {\n",
       "        vertical-align: top;\n",
       "    }\n",
       "\n",
       "    .dataframe thead th {\n",
       "        text-align: right;\n",
       "    }\n",
       "</style>\n",
       "<table border=\"1\" class=\"dataframe\">\n",
       "  <thead>\n",
       "    <tr style=\"text-align: right;\">\n",
       "      <th></th>\n",
       "      <th>abc</th>\n",
       "      <th>ability</th>\n",
       "      <th>able</th>\n",
       "      <th>abortion</th>\n",
       "      <th>abroad</th>\n",
       "      <th>absolutely</th>\n",
       "      <th>abuse</th>\n",
       "      <th>academic</th>\n",
       "      <th>academy</th>\n",
       "      <th>accept</th>\n",
       "      <th>...</th>\n",
       "      <th>york time</th>\n",
       "      <th>young</th>\n",
       "      <th>young people</th>\n",
       "      <th>younger</th>\n",
       "      <th>youth</th>\n",
       "      <th>youtube</th>\n",
       "      <th>zero</th>\n",
       "      <th>zika</th>\n",
       "      <th>zone</th>\n",
       "      <th>zuckerberg</th>\n",
       "    </tr>\n",
       "  </thead>\n",
       "  <tbody>\n",
       "    <tr>\n",
       "      <th>60555</th>\n",
       "      <td>0.0</td>\n",
       "      <td>0.0</td>\n",
       "      <td>0.0</td>\n",
       "      <td>0.0</td>\n",
       "      <td>0.0</td>\n",
       "      <td>0.000000</td>\n",
       "      <td>0.0</td>\n",
       "      <td>0.0</td>\n",
       "      <td>0.0</td>\n",
       "      <td>0.0</td>\n",
       "      <td>...</td>\n",
       "      <td>0.0</td>\n",
       "      <td>0.0</td>\n",
       "      <td>0.0</td>\n",
       "      <td>0.0</td>\n",
       "      <td>0.0</td>\n",
       "      <td>0.0</td>\n",
       "      <td>0.0</td>\n",
       "      <td>0.000000</td>\n",
       "      <td>0.0</td>\n",
       "      <td>0.0</td>\n",
       "    </tr>\n",
       "    <tr>\n",
       "      <th>34511</th>\n",
       "      <td>0.0</td>\n",
       "      <td>0.0</td>\n",
       "      <td>0.0</td>\n",
       "      <td>0.0</td>\n",
       "      <td>0.0</td>\n",
       "      <td>0.040944</td>\n",
       "      <td>0.0</td>\n",
       "      <td>0.0</td>\n",
       "      <td>0.0</td>\n",
       "      <td>0.0</td>\n",
       "      <td>...</td>\n",
       "      <td>0.0</td>\n",
       "      <td>0.0</td>\n",
       "      <td>0.0</td>\n",
       "      <td>0.0</td>\n",
       "      <td>0.0</td>\n",
       "      <td>0.0</td>\n",
       "      <td>0.0</td>\n",
       "      <td>0.659306</td>\n",
       "      <td>0.0</td>\n",
       "      <td>0.0</td>\n",
       "    </tr>\n",
       "    <tr>\n",
       "      <th>43210</th>\n",
       "      <td>0.0</td>\n",
       "      <td>0.0</td>\n",
       "      <td>0.0</td>\n",
       "      <td>0.0</td>\n",
       "      <td>0.0</td>\n",
       "      <td>0.000000</td>\n",
       "      <td>0.0</td>\n",
       "      <td>0.0</td>\n",
       "      <td>0.0</td>\n",
       "      <td>0.0</td>\n",
       "      <td>...</td>\n",
       "      <td>0.0</td>\n",
       "      <td>0.0</td>\n",
       "      <td>0.0</td>\n",
       "      <td>0.0</td>\n",
       "      <td>0.0</td>\n",
       "      <td>0.0</td>\n",
       "      <td>0.0</td>\n",
       "      <td>0.000000</td>\n",
       "      <td>0.0</td>\n",
       "      <td>0.0</td>\n",
       "    </tr>\n",
       "    <tr>\n",
       "      <th>62118</th>\n",
       "      <td>0.0</td>\n",
       "      <td>0.0</td>\n",
       "      <td>0.0</td>\n",
       "      <td>0.0</td>\n",
       "      <td>0.0</td>\n",
       "      <td>0.000000</td>\n",
       "      <td>0.0</td>\n",
       "      <td>0.0</td>\n",
       "      <td>0.0</td>\n",
       "      <td>0.0</td>\n",
       "      <td>...</td>\n",
       "      <td>0.0</td>\n",
       "      <td>0.0</td>\n",
       "      <td>0.0</td>\n",
       "      <td>0.0</td>\n",
       "      <td>0.0</td>\n",
       "      <td>0.0</td>\n",
       "      <td>0.0</td>\n",
       "      <td>0.000000</td>\n",
       "      <td>0.0</td>\n",
       "      <td>0.0</td>\n",
       "    </tr>\n",
       "    <tr>\n",
       "      <th>39828</th>\n",
       "      <td>0.0</td>\n",
       "      <td>0.0</td>\n",
       "      <td>0.0</td>\n",
       "      <td>0.0</td>\n",
       "      <td>0.0</td>\n",
       "      <td>0.000000</td>\n",
       "      <td>0.0</td>\n",
       "      <td>0.0</td>\n",
       "      <td>0.0</td>\n",
       "      <td>0.0</td>\n",
       "      <td>...</td>\n",
       "      <td>0.0</td>\n",
       "      <td>0.0</td>\n",
       "      <td>0.0</td>\n",
       "      <td>0.0</td>\n",
       "      <td>0.0</td>\n",
       "      <td>0.0</td>\n",
       "      <td>0.0</td>\n",
       "      <td>0.000000</td>\n",
       "      <td>0.0</td>\n",
       "      <td>0.0</td>\n",
       "    </tr>\n",
       "  </tbody>\n",
       "</table>\n",
       "<p>5 rows × 3000 columns</p>\n",
       "</div>"
      ],
      "text/plain": [
       "       abc  ability  able  abortion  abroad  absolutely  abuse  academic  \\\n",
       "60555  0.0      0.0   0.0       0.0     0.0    0.000000    0.0       0.0   \n",
       "34511  0.0      0.0   0.0       0.0     0.0    0.040944    0.0       0.0   \n",
       "43210  0.0      0.0   0.0       0.0     0.0    0.000000    0.0       0.0   \n",
       "62118  0.0      0.0   0.0       0.0     0.0    0.000000    0.0       0.0   \n",
       "39828  0.0      0.0   0.0       0.0     0.0    0.000000    0.0       0.0   \n",
       "\n",
       "       academy  accept  ...  york time  young  young people  younger  youth  \\\n",
       "60555      0.0     0.0  ...        0.0    0.0           0.0      0.0    0.0   \n",
       "34511      0.0     0.0  ...        0.0    0.0           0.0      0.0    0.0   \n",
       "43210      0.0     0.0  ...        0.0    0.0           0.0      0.0    0.0   \n",
       "62118      0.0     0.0  ...        0.0    0.0           0.0      0.0    0.0   \n",
       "39828      0.0     0.0  ...        0.0    0.0           0.0      0.0    0.0   \n",
       "\n",
       "       youtube  zero      zika  zone  zuckerberg  \n",
       "60555      0.0   0.0  0.000000   0.0         0.0  \n",
       "34511      0.0   0.0  0.659306   0.0         0.0  \n",
       "43210      0.0   0.0  0.000000   0.0         0.0  \n",
       "62118      0.0   0.0  0.000000   0.0         0.0  \n",
       "39828      0.0   0.0  0.000000   0.0         0.0  \n",
       "\n",
       "[5 rows x 3000 columns]"
      ]
     },
     "execution_count": 159,
     "metadata": {},
     "output_type": "execute_result"
    }
   ],
   "source": [
    "X_train_tfidf_vec_df.head()"
   ]
  },
  {
   "cell_type": "code",
   "execution_count": null,
   "id": "2f35e9ef",
   "metadata": {},
   "outputs": [],
   "source": []
  },
  {
   "cell_type": "code",
   "execution_count": 158,
   "id": "5a4603a0",
   "metadata": {},
   "outputs": [
    {
     "data": {
      "text/html": [
       "<div>\n",
       "<style scoped>\n",
       "    .dataframe tbody tr th:only-of-type {\n",
       "        vertical-align: middle;\n",
       "    }\n",
       "\n",
       "    .dataframe tbody tr th {\n",
       "        vertical-align: top;\n",
       "    }\n",
       "\n",
       "    .dataframe thead th {\n",
       "        text-align: right;\n",
       "    }\n",
       "</style>\n",
       "<table border=\"1\" class=\"dataframe\">\n",
       "  <thead>\n",
       "    <tr style=\"text-align: right;\">\n",
       "      <th></th>\n",
       "      <th>abc</th>\n",
       "      <th>ability</th>\n",
       "      <th>able</th>\n",
       "      <th>abortion</th>\n",
       "      <th>abroad</th>\n",
       "      <th>absolutely</th>\n",
       "      <th>abuse</th>\n",
       "      <th>academic</th>\n",
       "      <th>academy</th>\n",
       "      <th>accept</th>\n",
       "      <th>...</th>\n",
       "      <th>york time</th>\n",
       "      <th>young</th>\n",
       "      <th>young people</th>\n",
       "      <th>younger</th>\n",
       "      <th>youth</th>\n",
       "      <th>youtube</th>\n",
       "      <th>zero</th>\n",
       "      <th>zika</th>\n",
       "      <th>zone</th>\n",
       "      <th>zuckerberg</th>\n",
       "    </tr>\n",
       "  </thead>\n",
       "  <tbody>\n",
       "    <tr>\n",
       "      <th>66202</th>\n",
       "      <td>0.0</td>\n",
       "      <td>0.0</td>\n",
       "      <td>0.000000</td>\n",
       "      <td>0.0</td>\n",
       "      <td>0.0</td>\n",
       "      <td>0.0</td>\n",
       "      <td>0.0</td>\n",
       "      <td>0.0</td>\n",
       "      <td>0.0</td>\n",
       "      <td>0.0</td>\n",
       "      <td>...</td>\n",
       "      <td>0.0</td>\n",
       "      <td>0.0</td>\n",
       "      <td>0.0</td>\n",
       "      <td>0.000000</td>\n",
       "      <td>0.0</td>\n",
       "      <td>0.0</td>\n",
       "      <td>0.0</td>\n",
       "      <td>0.0</td>\n",
       "      <td>0.0</td>\n",
       "      <td>0.0</td>\n",
       "    </tr>\n",
       "    <tr>\n",
       "      <th>77557</th>\n",
       "      <td>0.0</td>\n",
       "      <td>0.0</td>\n",
       "      <td>0.000000</td>\n",
       "      <td>0.0</td>\n",
       "      <td>0.0</td>\n",
       "      <td>0.0</td>\n",
       "      <td>0.0</td>\n",
       "      <td>0.0</td>\n",
       "      <td>0.0</td>\n",
       "      <td>0.0</td>\n",
       "      <td>...</td>\n",
       "      <td>0.0</td>\n",
       "      <td>0.0</td>\n",
       "      <td>0.0</td>\n",
       "      <td>0.042649</td>\n",
       "      <td>0.0</td>\n",
       "      <td>0.0</td>\n",
       "      <td>0.0</td>\n",
       "      <td>0.0</td>\n",
       "      <td>0.0</td>\n",
       "      <td>0.0</td>\n",
       "    </tr>\n",
       "    <tr>\n",
       "      <th>45472</th>\n",
       "      <td>0.0</td>\n",
       "      <td>0.0</td>\n",
       "      <td>0.000000</td>\n",
       "      <td>0.0</td>\n",
       "      <td>0.0</td>\n",
       "      <td>0.0</td>\n",
       "      <td>0.0</td>\n",
       "      <td>0.0</td>\n",
       "      <td>0.0</td>\n",
       "      <td>0.0</td>\n",
       "      <td>...</td>\n",
       "      <td>0.0</td>\n",
       "      <td>0.0</td>\n",
       "      <td>0.0</td>\n",
       "      <td>0.000000</td>\n",
       "      <td>0.0</td>\n",
       "      <td>0.0</td>\n",
       "      <td>0.0</td>\n",
       "      <td>0.0</td>\n",
       "      <td>0.0</td>\n",
       "      <td>0.0</td>\n",
       "    </tr>\n",
       "    <tr>\n",
       "      <th>72123</th>\n",
       "      <td>0.0</td>\n",
       "      <td>0.0</td>\n",
       "      <td>0.000000</td>\n",
       "      <td>0.0</td>\n",
       "      <td>0.0</td>\n",
       "      <td>0.0</td>\n",
       "      <td>0.0</td>\n",
       "      <td>0.0</td>\n",
       "      <td>0.0</td>\n",
       "      <td>0.0</td>\n",
       "      <td>...</td>\n",
       "      <td>0.0</td>\n",
       "      <td>0.0</td>\n",
       "      <td>0.0</td>\n",
       "      <td>0.000000</td>\n",
       "      <td>0.0</td>\n",
       "      <td>0.0</td>\n",
       "      <td>0.0</td>\n",
       "      <td>0.0</td>\n",
       "      <td>0.0</td>\n",
       "      <td>0.0</td>\n",
       "    </tr>\n",
       "    <tr>\n",
       "      <th>1349</th>\n",
       "      <td>0.0</td>\n",
       "      <td>0.0</td>\n",
       "      <td>0.032112</td>\n",
       "      <td>0.0</td>\n",
       "      <td>0.0</td>\n",
       "      <td>0.0</td>\n",
       "      <td>0.0</td>\n",
       "      <td>0.0</td>\n",
       "      <td>0.0</td>\n",
       "      <td>0.0</td>\n",
       "      <td>...</td>\n",
       "      <td>0.0</td>\n",
       "      <td>0.0</td>\n",
       "      <td>0.0</td>\n",
       "      <td>0.000000</td>\n",
       "      <td>0.0</td>\n",
       "      <td>0.0</td>\n",
       "      <td>0.0</td>\n",
       "      <td>0.0</td>\n",
       "      <td>0.0</td>\n",
       "      <td>0.0</td>\n",
       "    </tr>\n",
       "  </tbody>\n",
       "</table>\n",
       "<p>5 rows × 3000 columns</p>\n",
       "</div>"
      ],
      "text/plain": [
       "       abc  ability      able  abortion  abroad  absolutely  abuse  academic  \\\n",
       "66202  0.0      0.0  0.000000       0.0     0.0         0.0    0.0       0.0   \n",
       "77557  0.0      0.0  0.000000       0.0     0.0         0.0    0.0       0.0   \n",
       "45472  0.0      0.0  0.000000       0.0     0.0         0.0    0.0       0.0   \n",
       "72123  0.0      0.0  0.000000       0.0     0.0         0.0    0.0       0.0   \n",
       "1349   0.0      0.0  0.032112       0.0     0.0         0.0    0.0       0.0   \n",
       "\n",
       "       academy  accept  ...  york time  young  young people   younger  youth  \\\n",
       "66202      0.0     0.0  ...        0.0    0.0           0.0  0.000000    0.0   \n",
       "77557      0.0     0.0  ...        0.0    0.0           0.0  0.042649    0.0   \n",
       "45472      0.0     0.0  ...        0.0    0.0           0.0  0.000000    0.0   \n",
       "72123      0.0     0.0  ...        0.0    0.0           0.0  0.000000    0.0   \n",
       "1349       0.0     0.0  ...        0.0    0.0           0.0  0.000000    0.0   \n",
       "\n",
       "       youtube  zero  zika  zone  zuckerberg  \n",
       "66202      0.0   0.0   0.0   0.0         0.0  \n",
       "77557      0.0   0.0   0.0   0.0         0.0  \n",
       "45472      0.0   0.0   0.0   0.0         0.0  \n",
       "72123      0.0   0.0   0.0   0.0         0.0  \n",
       "1349       0.0   0.0   0.0   0.0         0.0  \n",
       "\n",
       "[5 rows x 3000 columns]"
      ]
     },
     "execution_count": 158,
     "metadata": {},
     "output_type": "execute_result"
    }
   ],
   "source": [
    "X_val_tfidf_vec_df.head()"
   ]
  },
  {
   "cell_type": "code",
   "execution_count": 184,
   "id": "2bc5ceb8",
   "metadata": {},
   "outputs": [],
   "source": [
    "X_train_tfidf_vec_df.to_pickle(\"../data/X_train_tfidf_vec_df.pkl\")\n"
   ]
  },
  {
   "cell_type": "code",
   "execution_count": 185,
   "id": "03b28492",
   "metadata": {},
   "outputs": [],
   "source": [
    "X_val_tfidf_vec_df.to_pickle(\"../data/X_val_tfidf_vec_df.pkl\")"
   ]
  },
  {
   "cell_type": "code",
   "execution_count": 152,
   "id": "a2f1a839",
   "metadata": {},
   "outputs": [
    {
     "data": {
      "text/html": [
       "<div>\n",
       "<style scoped>\n",
       "    .dataframe tbody tr th:only-of-type {\n",
       "        vertical-align: middle;\n",
       "    }\n",
       "\n",
       "    .dataframe tbody tr th {\n",
       "        vertical-align: top;\n",
       "    }\n",
       "\n",
       "    .dataframe thead th {\n",
       "        text-align: right;\n",
       "    }\n",
       "</style>\n",
       "<table border=\"1\" class=\"dataframe\">\n",
       "  <thead>\n",
       "    <tr style=\"text-align: right;\">\n",
       "      <th></th>\n",
       "      <th>term</th>\n",
       "      <th>weight</th>\n",
       "    </tr>\n",
       "  </thead>\n",
       "  <tbody>\n",
       "    <tr>\n",
       "      <th>2758</th>\n",
       "      <td>treatment</td>\n",
       "      <td>0.062134</td>\n",
       "    </tr>\n",
       "    <tr>\n",
       "      <th>2313</th>\n",
       "      <td>round</td>\n",
       "      <td>0.048158</td>\n",
       "    </tr>\n",
       "    <tr>\n",
       "      <th>2531</th>\n",
       "      <td>sport</td>\n",
       "      <td>0.026101</td>\n",
       "    </tr>\n",
       "    <tr>\n",
       "      <th>2007</th>\n",
       "      <td>presence</td>\n",
       "      <td>0.026009</td>\n",
       "    </tr>\n",
       "    <tr>\n",
       "      <th>1906</th>\n",
       "      <td>pennsylvania</td>\n",
       "      <td>0.025653</td>\n",
       "    </tr>\n",
       "    <tr>\n",
       "      <th>2965</th>\n",
       "      <td>worried</td>\n",
       "      <td>0.025445</td>\n",
       "    </tr>\n",
       "    <tr>\n",
       "      <th>474</th>\n",
       "      <td>clinton campaign</td>\n",
       "      <td>0.025403</td>\n",
       "    </tr>\n",
       "    <tr>\n",
       "      <th>1815</th>\n",
       "      <td>okay</td>\n",
       "      <td>0.022801</td>\n",
       "    </tr>\n",
       "    <tr>\n",
       "      <th>1747</th>\n",
       "      <td>negative</td>\n",
       "      <td>0.022628</td>\n",
       "    </tr>\n",
       "    <tr>\n",
       "      <th>2980</th>\n",
       "      <td>year</td>\n",
       "      <td>0.022158</td>\n",
       "    </tr>\n",
       "    <tr>\n",
       "      <th>1221</th>\n",
       "      <td>hill publishing</td>\n",
       "      <td>0.021745</td>\n",
       "    </tr>\n",
       "    <tr>\n",
       "      <th>2235</th>\n",
       "      <td>replacement</td>\n",
       "      <td>0.021311</td>\n",
       "    </tr>\n",
       "    <tr>\n",
       "      <th>1909</th>\n",
       "      <td>people</td>\n",
       "      <td>0.020018</td>\n",
       "    </tr>\n",
       "    <tr>\n",
       "      <th>2700</th>\n",
       "      <td>thought</td>\n",
       "      <td>0.019035</td>\n",
       "    </tr>\n",
       "    <tr>\n",
       "      <th>1752</th>\n",
       "      <td>netanyahu</td>\n",
       "      <td>0.018695</td>\n",
       "    </tr>\n",
       "    <tr>\n",
       "      <th>1514</th>\n",
       "      <td>level</td>\n",
       "      <td>0.018555</td>\n",
       "    </tr>\n",
       "    <tr>\n",
       "      <th>2333</th>\n",
       "      <td>said</td>\n",
       "      <td>0.018278</td>\n",
       "    </tr>\n",
       "    <tr>\n",
       "      <th>102</th>\n",
       "      <td>amazing</td>\n",
       "      <td>0.018255</td>\n",
       "    </tr>\n",
       "    <tr>\n",
       "      <th>520</th>\n",
       "      <td>community</td>\n",
       "      <td>0.017906</td>\n",
       "    </tr>\n",
       "    <tr>\n",
       "      <th>1254</th>\n",
       "      <td>house republican</td>\n",
       "      <td>0.017451</td>\n",
       "    </tr>\n",
       "  </tbody>\n",
       "</table>\n",
       "</div>"
      ],
      "text/plain": [
       "                  term    weight\n",
       "2758         treatment  0.062134\n",
       "2313             round  0.048158\n",
       "2531             sport  0.026101\n",
       "2007          presence  0.026009\n",
       "1906      pennsylvania  0.025653\n",
       "2965           worried  0.025445\n",
       "474   clinton campaign  0.025403\n",
       "1815              okay  0.022801\n",
       "1747          negative  0.022628\n",
       "2980              year  0.022158\n",
       "1221   hill publishing  0.021745\n",
       "2235       replacement  0.021311\n",
       "1909            people  0.020018\n",
       "2700           thought  0.019035\n",
       "1752         netanyahu  0.018695\n",
       "1514             level  0.018555\n",
       "2333              said  0.018278\n",
       "102            amazing  0.018255\n",
       "520          community  0.017906\n",
       "1254  house republican  0.017451"
      ]
     },
     "execution_count": 152,
     "metadata": {},
     "output_type": "execute_result"
    }
   ],
   "source": [
    "weights = np.asarray(X_train_tfidf_vec_df.mean(axis=0)).ravel().tolist()\n",
    "weights_df = pd.DataFrame({'term': cvec.get_feature_names(), 'weight': weights})\n",
    "weights_df.sort_values(by='weight', ascending=False).head(20)"
   ]
  },
  {
   "cell_type": "markdown",
   "id": "e6725cf5",
   "metadata": {},
   "source": [
    "## Modeless Predictions"
   ]
  },
  {
   "cell_type": "code",
   "execution_count": 153,
   "id": "1c542534",
   "metadata": {
    "scrolled": true
   },
   "outputs": [
    {
     "data": {
      "text/plain": [
       " 1    0.348889\n",
       "-1    0.328046\n",
       " 0    0.323065\n",
       "Name: num_bias, dtype: float64"
      ]
     },
     "execution_count": 153,
     "metadata": {},
     "output_type": "execute_result"
    }
   ],
   "source": [
    "y_train.value_counts(normalize= True)"
   ]
  },
  {
   "cell_type": "code",
   "execution_count": 2,
   "id": "7e9b6697",
   "metadata": {},
   "outputs": [],
   "source": [
    "X_train_tfidf_vec_df= pd.read_pickle(\"../data/X_train_tfidf_vec_df.pkl\")"
   ]
  },
  {
   "cell_type": "code",
   "execution_count": 3,
   "id": "85390f54",
   "metadata": {},
   "outputs": [],
   "source": [
    "X_val_tfidf_vec_df= pd.read_pickle(\"../data/X_val_tfidf_vec_df.pkl\")"
   ]
  },
  {
   "cell_type": "markdown",
   "id": "f8e2b720",
   "metadata": {},
   "source": [
    "## Baseline Model"
   ]
  },
  {
   "cell_type": "code",
   "execution_count": 154,
   "id": "d772bb3d",
   "metadata": {},
   "outputs": [],
   "source": [
    "models = [\n",
    "    LogisticRegression(random_state=seed),\n",
    "    MultinomialNB(),\n",
    "    DecisionTreeClassifier(),\n",
    "    RandomForestClassifier(n_estimators=200, max_depth=3, random_state=seed),\n",
    "    SGDClassifier(loss= \"hinge\", penalty= \"l2\", alpha=.01)]"
   ]
  },
  {
   "cell_type": "code",
   "execution_count": 155,
   "id": "debb6a2c",
   "metadata": {
    "scrolled": false
   },
   "outputs": [
    {
     "name": "stderr",
     "output_type": "stream",
     "text": [
      "C:\\Users\\david\\anaconda3\\envs\\learn-env\\lib\\site-packages\\sklearn\\linear_model\\_logistic.py:763: ConvergenceWarning: lbfgs failed to converge (status=1):\n",
      "STOP: TOTAL NO. of ITERATIONS REACHED LIMIT.\n",
      "\n",
      "Increase the number of iterations (max_iter) or scale the data as shown in:\n",
      "    https://scikit-learn.org/stable/modules/preprocessing.html\n",
      "Please also refer to the documentation for alternative solver options:\n",
      "    https://scikit-learn.org/stable/modules/linear_model.html#logistic-regression\n",
      "  n_iter_i = _check_optimize_result(\n",
      "C:\\Users\\david\\anaconda3\\envs\\learn-env\\lib\\site-packages\\sklearn\\linear_model\\_logistic.py:763: ConvergenceWarning: lbfgs failed to converge (status=1):\n",
      "STOP: TOTAL NO. of ITERATIONS REACHED LIMIT.\n",
      "\n",
      "Increase the number of iterations (max_iter) or scale the data as shown in:\n",
      "    https://scikit-learn.org/stable/modules/preprocessing.html\n",
      "Please also refer to the documentation for alternative solver options:\n",
      "    https://scikit-learn.org/stable/modules/linear_model.html#logistic-regression\n",
      "  n_iter_i = _check_optimize_result(\n",
      "C:\\Users\\david\\anaconda3\\envs\\learn-env\\lib\\site-packages\\sklearn\\linear_model\\_logistic.py:763: ConvergenceWarning: lbfgs failed to converge (status=1):\n",
      "STOP: TOTAL NO. of ITERATIONS REACHED LIMIT.\n",
      "\n",
      "Increase the number of iterations (max_iter) or scale the data as shown in:\n",
      "    https://scikit-learn.org/stable/modules/preprocessing.html\n",
      "Please also refer to the documentation for alternative solver options:\n",
      "    https://scikit-learn.org/stable/modules/linear_model.html#logistic-regression\n",
      "  n_iter_i = _check_optimize_result(\n",
      "C:\\Users\\david\\anaconda3\\envs\\learn-env\\lib\\site-packages\\sklearn\\linear_model\\_logistic.py:763: ConvergenceWarning: lbfgs failed to converge (status=1):\n",
      "STOP: TOTAL NO. of ITERATIONS REACHED LIMIT.\n",
      "\n",
      "Increase the number of iterations (max_iter) or scale the data as shown in:\n",
      "    https://scikit-learn.org/stable/modules/preprocessing.html\n",
      "Please also refer to the documentation for alternative solver options:\n",
      "    https://scikit-learn.org/stable/modules/linear_model.html#logistic-regression\n",
      "  n_iter_i = _check_optimize_result(\n",
      "C:\\Users\\david\\anaconda3\\envs\\learn-env\\lib\\site-packages\\sklearn\\linear_model\\_logistic.py:763: ConvergenceWarning: lbfgs failed to converge (status=1):\n",
      "STOP: TOTAL NO. of ITERATIONS REACHED LIMIT.\n",
      "\n",
      "Increase the number of iterations (max_iter) or scale the data as shown in:\n",
      "    https://scikit-learn.org/stable/modules/preprocessing.html\n",
      "Please also refer to the documentation for alternative solver options:\n",
      "    https://scikit-learn.org/stable/modules/linear_model.html#logistic-regression\n",
      "  n_iter_i = _check_optimize_result(\n"
     ]
    },
    {
     "name": "stdout",
     "output_type": "stream",
     "text": [
      "LogisticRegression's average score\n",
      "fit_time                 51.739990\n",
      "score_time                0.210016\n",
      "test_accuracy             0.919715\n",
      "train_accuracy            0.938502\n",
      "test_precision_micro      0.919715\n",
      "train_precision_micro     0.938502\n",
      "test_recall_micro         0.919715\n",
      "train_recall_micro        0.938502\n",
      "test_f1_micro             0.919715\n",
      "train_f1_micro            0.938502\n",
      "dtype: float64\n",
      "******************************\n",
      "MultinomialNB's average score\n",
      "fit_time                 1.163888\n",
      "score_time               0.184413\n",
      "test_accuracy            0.792329\n",
      "train_accuracy           0.796763\n",
      "test_precision_micro     0.792329\n",
      "train_precision_micro    0.796763\n",
      "test_recall_micro        0.792329\n",
      "train_recall_micro       0.796763\n",
      "test_f1_micro            0.792329\n",
      "train_f1_micro           0.796763\n",
      "dtype: float64\n",
      "******************************\n",
      "DecisionTreeClassifier's average score\n",
      "fit_time                 156.447419\n",
      "score_time                 0.211613\n",
      "test_accuracy              0.846546\n",
      "train_accuracy             0.999948\n",
      "test_precision_micro       0.846546\n",
      "train_precision_micro      0.999948\n",
      "test_recall_micro          0.846546\n",
      "train_recall_micro         0.999948\n",
      "test_f1_micro              0.846546\n",
      "train_f1_micro             0.999948\n",
      "dtype: float64\n",
      "******************************\n",
      "RandomForestClassifier's average score\n",
      "fit_time                 52.245733\n",
      "score_time                0.427428\n",
      "test_accuracy             0.689361\n",
      "train_accuracy            0.691422\n",
      "test_precision_micro      0.689361\n",
      "train_precision_micro     0.691422\n",
      "test_recall_micro         0.689361\n",
      "train_recall_micro        0.691422\n",
      "test_f1_micro             0.689361\n",
      "train_f1_micro            0.691422\n",
      "dtype: float64\n",
      "******************************\n",
      "SGDClassifier's average score\n",
      "fit_time                 5.688032\n",
      "score_time               0.165008\n",
      "test_accuracy            0.815533\n",
      "train_accuracy           0.818574\n",
      "test_precision_micro     0.815533\n",
      "train_precision_micro    0.818574\n",
      "test_recall_micro        0.815533\n",
      "train_recall_micro       0.818574\n",
      "test_f1_micro            0.815533\n",
      "train_f1_micro           0.818574\n",
      "dtype: float64\n",
      "******************************\n"
     ]
    }
   ],
   "source": [
    "for model in models:\n",
    "    model_name = model.__class__.__name__\n",
    "    scores= cross_validate(model, X_train_tfidf_vec_df, y_train, \n",
    "                                scoring=['accuracy', \"precision_micro\", \"recall_micro\", \"f1_micro\"],\n",
    "                                return_train_score= True)\n",
    "    model_scores = pd.DataFrame.from_dict(scores)\n",
    "    print(f\"{model_name}'s average score\")\n",
    "    print(model_scores.mean(axis=0))\n",
    "    print(\"*\"*40)"
   ]
  },
  {
   "cell_type": "markdown",
   "id": "f53f5d11",
   "metadata": {},
   "source": [
    "### Logitsic Regression"
   ]
  },
  {
   "cell_type": "code",
   "execution_count": 160,
   "id": "af77e88c",
   "metadata": {},
   "outputs": [],
   "source": [
    "seed = 42"
   ]
  },
  {
   "cell_type": "code",
   "execution_count": 162,
   "id": "bef63982",
   "metadata": {},
   "outputs": [
    {
     "name": "stderr",
     "output_type": "stream",
     "text": [
      "C:\\Users\\david\\anaconda3\\envs\\learn-env\\lib\\site-packages\\sklearn\\linear_model\\_logistic.py:763: ConvergenceWarning: lbfgs failed to converge (status=1):\n",
      "STOP: TOTAL NO. of ITERATIONS REACHED LIMIT.\n",
      "\n",
      "Increase the number of iterations (max_iter) or scale the data as shown in:\n",
      "    https://scikit-learn.org/stable/modules/preprocessing.html\n",
      "Please also refer to the documentation for alternative solver options:\n",
      "    https://scikit-learn.org/stable/modules/linear_model.html#logistic-regression\n",
      "  n_iter_i = _check_optimize_result(\n"
     ]
    },
    {
     "name": "stdout",
     "output_type": "stream",
     "text": [
      "0.9382158972578966\n",
      "0.9233092101837872\n"
     ]
    }
   ],
   "source": [
    "lr = LogisticRegression(random_state=seed, multi_class=\"auto\")\n",
    "lr.fit(X_train_tfidf_vec_df, y_train)\n",
    "print(lr.score(X_train_tfidf_vec_df, y_train))\n",
    "print(lr.score(X_val_tfidf_vec_df, y_val))"
   ]
  },
  {
   "cell_type": "code",
   "execution_count": 163,
   "id": "b6ae639d",
   "metadata": {},
   "outputs": [
    {
     "data": {
      "text/plain": [
       "Pipeline(steps=[('clf', LogisticRegression(random_state=42))])"
      ]
     },
     "execution_count": 163,
     "metadata": {},
     "output_type": "execute_result"
    }
   ],
   "source": [
    "lr_tuned = Pipeline(steps=[\n",
    "    ('clf', LogisticRegression(random_state=seed)),\n",
    "])\n",
    "lr_tuned"
   ]
  },
  {
   "cell_type": "code",
   "execution_count": 164,
   "id": "f2e2071b",
   "metadata": {},
   "outputs": [],
   "source": [
    "param_grid = {\n",
    "    'clf__penalty': [\"l2\"],\n",
    "    'clf__max_iter': [1000],\n",
    "    'clf__C': [1],\n",
    "    'clf__solver': ['newton-cg'],\n",
    "}"
   ]
  },
  {
   "cell_type": "code",
   "execution_count": 165,
   "id": "b85b6499",
   "metadata": {},
   "outputs": [],
   "source": [
    "grid = GridSearchCV(lr_tuned, param_grid, return_train_score=True)"
   ]
  },
  {
   "cell_type": "code",
   "execution_count": 166,
   "id": "e4ab5b03",
   "metadata": {},
   "outputs": [],
   "source": [
    "output = grid.fit(X_train_tfidf_vec_df, y_train)"
   ]
  },
  {
   "cell_type": "code",
   "execution_count": 167,
   "id": "5a236ad4",
   "metadata": {},
   "outputs": [
    {
     "data": {
      "text/plain": [
       "Pipeline(steps=[('clf',\n",
       "                 LogisticRegression(C=1, max_iter=1000, random_state=42,\n",
       "                                    solver='newton-cg'))])"
      ]
     },
     "execution_count": 167,
     "metadata": {},
     "output_type": "execute_result"
    }
   ],
   "source": [
    "output.best_estimator_"
   ]
  },
  {
   "cell_type": "code",
   "execution_count": 12,
   "id": "3b93d237",
   "metadata": {},
   "outputs": [],
   "source": [
    "def evaluate(model, X_tr, y_tr, X_te, y_te):\n",
    "    print('Accuracy Score:')\n",
    "    print(f'Train - {accuracy_score(y_tr, model.predict(X_tr))}')\n",
    "    print(f'Test - {accuracy_score(y_te, model.predict(X_te))}')\n",
    "    print('  ')\n",
    "    print('Classification Report:')\n",
    "    print(classification_report(y_te, model.predict(X_te)))\n",
    "    print('Confusion matrix for test data')\n",
    "    return plot_confusion_matrix(model, X_te, y_te, include_values=True, cmap=plt.cm.Blues)"
   ]
  },
  {
   "cell_type": "code",
   "execution_count": 169,
   "id": "7f035726",
   "metadata": {},
   "outputs": [
    {
     "name": "stdout",
     "output_type": "stream",
     "text": [
      "Accuracy Score:\n",
      "Train - 0.9381638320027769\n",
      "Test - 0.9235695319414796\n",
      "  \n",
      "Classification Report:\n",
      "              precision    recall  f1-score   support\n",
      "\n",
      "          -1       0.88      0.90      0.89      6276\n",
      "           0       0.99      0.98      0.99      6160\n",
      "           1       0.90      0.90      0.90      6771\n",
      "\n",
      "    accuracy                           0.92     19207\n",
      "   macro avg       0.93      0.92      0.92     19207\n",
      "weighted avg       0.92      0.92      0.92     19207\n",
      "\n",
      "Confusion matrix for test data\n"
     ]
    },
    {
     "data": {
      "text/plain": [
       "<sklearn.metrics._plot.confusion_matrix.ConfusionMatrixDisplay at 0x216081b9130>"
      ]
     },
     "execution_count": 169,
     "metadata": {},
     "output_type": "execute_result"
    },
    {
     "data": {
      "image/png": "[encoded data removed]",
      "text/plain": [
       "<Figure size 432x288 with 2 Axes>"
      ]
     },
     "metadata": {
      "needs_background": "light"
     },
     "output_type": "display_data"
    }
   ],
   "source": [
    "evaluate(output.best_estimator_, X_train_tfidf_vec_df, y_train, X_val_tfidf_vec_df, y_val)"
   ]
  },
  {
   "cell_type": "markdown",
   "id": "91a1ed41",
   "metadata": {},
   "source": [
    "## Linear regression with PCA"
   ]
  },
  {
   "cell_type": "code",
   "execution_count": 7,
   "id": "e9baef6c",
   "metadata": {},
   "outputs": [
    {
     "data": {
      "text/plain": [
       "Pipeline(steps=[('pca', PCA()),\n",
       "                ('clr',\n",
       "                 LogisticRegression(max_iter=1000, random_state=42,\n",
       "                                    solver='newton-cg'))])"
      ]
     },
     "execution_count": 7,
     "metadata": {},
     "output_type": "execute_result"
    }
   ],
   "source": [
    "pipe_lr = Pipeline([\n",
    "                    ('pca', PCA()), \n",
    "                    ('clr', LogisticRegression(max_iter=1000, \n",
    "                                               solver= \"newton-cg\",\n",
    "                                               penalty = \"l2\", \n",
    "                                               random_state=seed)\n",
    "                    )])\n",
    "pipe_lr"
   ]
  },
  {
   "cell_type": "code",
   "execution_count": 8,
   "id": "7181d77b",
   "metadata": {},
   "outputs": [],
   "source": [
    "param_grid = {\n",
    "    \"pca__n_components\" : [.99, .95, .9]\n",
    "}"
   ]
  },
  {
   "cell_type": "code",
   "execution_count": 9,
   "id": "9f13d5a8",
   "metadata": {},
   "outputs": [],
   "source": [
    "grid = GridSearchCV(pipe_lr, param_grid, return_train_score=True, cv = 3)"
   ]
  },
  {
   "cell_type": "code",
   "execution_count": 10,
   "id": "f6bd891e",
   "metadata": {},
   "outputs": [],
   "source": [
    "output = grid.fit(X_train_tfidf_vec_df, y_train)"
   ]
  },
  {
   "cell_type": "code",
   "execution_count": 13,
   "id": "0e07fb1b",
   "metadata": {},
   "outputs": [
    {
     "name": "stdout",
     "output_type": "stream",
     "text": [
      "Accuracy Score:\n",
      "Train - 0.936879555709823\n",
      "Test - 0.9225282449107096\n",
      "  \n",
      "Classification Report:\n",
      "              precision    recall  f1-score   support\n",
      "\n",
      "          -1       0.88      0.89      0.89      6276\n",
      "           0       0.99      0.98      0.99      6160\n",
      "           1       0.90      0.90      0.90      6771\n",
      "\n",
      "    accuracy                           0.92     19207\n",
      "   macro avg       0.92      0.92      0.92     19207\n",
      "weighted avg       0.92      0.92      0.92     19207\n",
      "\n",
      "Confusion matrix for test data\n"
     ]
    },
    {
     "data": {
      "text/plain": [
       "<sklearn.metrics._plot.confusion_matrix.ConfusionMatrixDisplay at 0x2409c0c1220>"
      ]
     },
     "execution_count": 13,
     "metadata": {},
     "output_type": "execute_result"
    },
    {
     "data": {
      "image/png": "[encoded data removed]",
      "text/plain": [
       "<Figure size 432x288 with 2 Axes>"
      ]
     },
     "metadata": {
      "needs_background": "light"
     },
     "output_type": "display_data"
    }
   ],
   "source": [
    "evaluate(output.best_estimator_, X_train_tfidf_vec_df, y_train, X_val_tfidf_vec_df, y_val)"
   ]
  },
  {
   "cell_type": "code",
   "execution_count": null,
   "id": "1198df12",
   "metadata": {},
   "outputs": [],
   "source": []
  },
  {
   "cell_type": "markdown",
   "id": "fb341ffe",
   "metadata": {},
   "source": [
    "## Naive Bayes"
   ]
  },
  {
   "cell_type": "code",
   "execution_count": 14,
   "id": "c2109f0d",
   "metadata": {},
   "outputs": [
    {
     "data": {
      "text/plain": [
       "Pipeline(steps=[('clf', MultinomialNB())])"
      ]
     },
     "execution_count": 14,
     "metadata": {},
     "output_type": "execute_result"
    }
   ],
   "source": [
    "nb_tuned = Pipeline(steps=[\n",
    "    ('clf', MultinomialNB()),\n",
    "])\n",
    "nb_tuned"
   ]
  },
  {
   "cell_type": "code",
   "execution_count": 15,
   "id": "e255ab8c",
   "metadata": {},
   "outputs": [],
   "source": [
    "param_grid = {\n",
    "    'clf__alpha': [.1, 1e-2, 3e-3],\n",
    "}"
   ]
  },
  {
   "cell_type": "code",
   "execution_count": 16,
   "id": "99df4c8d",
   "metadata": {},
   "outputs": [],
   "source": [
    "grid = GridSearchCV(nb_tuned, param_grid, return_train_score=True)"
   ]
  },
  {
   "cell_type": "code",
   "execution_count": 17,
   "id": "c77bc361",
   "metadata": {},
   "outputs": [],
   "source": [
    "output = grid.fit(X_train_tfidf_vec_df, y_train)"
   ]
  },
  {
   "cell_type": "code",
   "execution_count": 19,
   "id": "eaee5762",
   "metadata": {},
   "outputs": [
    {
     "data": {
      "text/plain": [
       "Pipeline(steps=[('clf', MultinomialNB(alpha=0.003))])"
      ]
     },
     "execution_count": 19,
     "metadata": {},
     "output_type": "execute_result"
    }
   ],
   "source": [
    "output.best_estimator_"
   ]
  },
  {
   "cell_type": "code",
   "execution_count": 18,
   "id": "ee3562a5",
   "metadata": {},
   "outputs": [
    {
     "name": "stdout",
     "output_type": "stream",
     "text": [
      "Accuracy Score:\n",
      "Train - 0.8001388406803194\n",
      "Test - 0.8038735877544645\n",
      "  \n",
      "Classification Report:\n",
      "              precision    recall  f1-score   support\n",
      "\n",
      "          -1       0.76      0.72      0.74      6276\n",
      "           0       0.93      0.88      0.91      6160\n",
      "           1       0.74      0.82      0.78      6771\n",
      "\n",
      "    accuracy                           0.80     19207\n",
      "   macro avg       0.81      0.80      0.81     19207\n",
      "weighted avg       0.81      0.80      0.80     19207\n",
      "\n",
      "Confusion matrix for test data\n"
     ]
    },
    {
     "data": {
      "text/plain": [
       "<sklearn.metrics._plot.confusion_matrix.ConfusionMatrixDisplay at 0x2409ba31610>"
      ]
     },
     "execution_count": 18,
     "metadata": {},
     "output_type": "execute_result"
    },
    {
     "data": {
      "image/png": "[encoded data removed]",
      "text/plain": [
       "<Figure size 432x288 with 2 Axes>"
      ]
     },
     "metadata": {
      "needs_background": "light"
     },
     "output_type": "display_data"
    }
   ],
   "source": [
    "evaluate(output.best_estimator_, X_train_tfidf_vec_df, y_train, X_val_tfidf_vec_df, y_val)"
   ]
  },
  {
   "cell_type": "markdown",
   "id": "764d936a",
   "metadata": {},
   "source": [
    "## Decision Trees"
   ]
  },
  {
   "cell_type": "code",
   "execution_count": 1,
   "id": "58f4fc25",
   "metadata": {},
   "outputs": [
    {
     "ename": "NameError",
     "evalue": "name 'Pipeline' is not defined",
     "output_type": "error",
     "traceback": [
      "\u001b[1;31m---------------------------------------------------------------------------\u001b[0m",
      "\u001b[1;31mNameError\u001b[0m                                 Traceback (most recent call last)",
      "\u001b[1;32m~\\AppData\\Local\\Temp/ipykernel_74744/435903642.py\u001b[0m in \u001b[0;36m<module>\u001b[1;34m\u001b[0m\n\u001b[1;32m----> 1\u001b[1;33m dt_tuned = Pipeline(steps=[\n\u001b[0m\u001b[0;32m      2\u001b[0m     \u001b[1;33m(\u001b[0m\u001b[1;34m'clf'\u001b[0m\u001b[1;33m,\u001b[0m \u001b[0mDecisionTreeClassifier\u001b[0m\u001b[1;33m(\u001b[0m\u001b[1;33m)\u001b[0m\u001b[1;33m)\u001b[0m\u001b[1;33m,\u001b[0m\u001b[1;33m\u001b[0m\u001b[1;33m\u001b[0m\u001b[0m\n\u001b[0;32m      3\u001b[0m ])\n\u001b[0;32m      4\u001b[0m \u001b[0mdt_tuned\u001b[0m\u001b[1;33m\u001b[0m\u001b[1;33m\u001b[0m\u001b[0m\n",
      "\u001b[1;31mNameError\u001b[0m: name 'Pipeline' is not defined"
     ]
    }
   ],
   "source": [
    "dt_tuned = Pipeline(steps=[\n",
    "    ('clf', DecisionTreeClassifier()),\n",
    "])\n",
    "dt_tuned"
   ]
  },
  {
   "cell_type": "code",
   "execution_count": 21,
   "id": "5e61f34f",
   "metadata": {},
   "outputs": [],
   "source": [
    "param_grid = {\n",
    "    'clf__max_depth': [5, 15, 25],\n",
    "    'clf__min_samples_leaf': [5,7,10],\n",
    "    'clf__min_samples_split': [5,7,10],\n",
    "}"
   ]
  },
  {
   "cell_type": "code",
   "execution_count": 22,
   "id": "f6a02aca",
   "metadata": {},
   "outputs": [],
   "source": [
    "grid = GridSearchCV(dt_tuned, param_grid, return_train_score=True)\n"
   ]
  },
  {
   "cell_type": "code",
   "execution_count": 23,
   "id": "193b852f",
   "metadata": {},
   "outputs": [],
   "source": [
    "output = grid.fit(X_train_tfidf_vec_df, y_train)"
   ]
  },
  {
   "cell_type": "code",
   "execution_count": 47,
   "id": "42a192de",
   "metadata": {},
   "outputs": [
    {
     "data": {
      "text/plain": [
       "Pipeline(steps=[('clf',\n",
       "                 DecisionTreeClassifier(max_depth=25, min_samples_leaf=10,\n",
       "                                        min_samples_split=5))])"
      ]
     },
     "execution_count": 47,
     "metadata": {},
     "output_type": "execute_result"
    }
   ],
   "source": [
    "output.best_estimator_"
   ]
  },
  {
   "cell_type": "code",
   "execution_count": 24,
   "id": "40467b70",
   "metadata": {},
   "outputs": [
    {
     "name": "stdout",
     "output_type": "stream",
     "text": [
      "Accuracy Score:\n",
      "Train - 0.9112113849357862\n",
      "Test - 0.8570312906752746\n",
      "  \n",
      "Classification Report:\n",
      "              precision    recall  f1-score   support\n",
      "\n",
      "          -1       0.76      0.84      0.80      6276\n",
      "           0       0.99      0.98      0.99      6160\n",
      "           1       0.83      0.76      0.80      6771\n",
      "\n",
      "    accuracy                           0.86     19207\n",
      "   macro avg       0.86      0.86      0.86     19207\n",
      "weighted avg       0.86      0.86      0.86     19207\n",
      "\n",
      "Confusion matrix for test data\n"
     ]
    },
    {
     "data": {
      "text/plain": [
       "<sklearn.metrics._plot.confusion_matrix.ConfusionMatrixDisplay at 0x2409be955e0>"
      ]
     },
     "execution_count": 24,
     "metadata": {},
     "output_type": "execute_result"
    },
    {
     "data": {
      "image/png": "[encoded data removed]",
      "text/plain": [
       "<Figure size 432x288 with 2 Axes>"
      ]
     },
     "metadata": {
      "needs_background": "light"
     },
     "output_type": "display_data"
    }
   ],
   "source": [
    "evaluate(output.best_estimator_, X_train_tfidf_vec_df, y_train, X_val_tfidf_vec_df, y_val)"
   ]
  },
  {
   "cell_type": "markdown",
   "id": "5bcace2a",
   "metadata": {},
   "source": [
    "## Support Vector Machine"
   ]
  },
  {
   "cell_type": "code",
   "execution_count": null,
   "id": "dfdd3bc3",
   "metadata": {},
   "outputs": [],
   "source": [
    "svm_tuned = Pipeline(steps=[\n",
    "    ('clf', RandomForestClassifier()),\n",
    "])\n",
    "svm_tuned"
   ]
  },
  {
   "cell_type": "code",
   "execution_count": null,
   "id": "fae70216",
   "metadata": {},
   "outputs": [],
   "source": [
    "param_grid = {\n",
    "    \"clf__loss\" : [\"hinge\", \"log\", \"squared_hinge\", \"modified_huber\", \"perceptron\"],\n",
    "    \"clf__alpha\" : [0.0001, 0.001, 0.01, 0.1],\n",
    "    \"clf__penalty\" : [\"l2\", \"l1\", \"elasticnet\", \"none\"],\n",
    "}"
   ]
  },
  {
   "cell_type": "code",
   "execution_count": null,
   "id": "e90fc8b4",
   "metadata": {},
   "outputs": [],
   "source": [
    "grid = GridSearchCV(svm_tuned, param_grid, return_train_score=True)"
   ]
  },
  {
   "cell_type": "code",
   "execution_count": null,
   "id": "7c933a97",
   "metadata": {},
   "outputs": [],
   "source": [
    "output = grid.fit(X_train_tfidf_vec_df, y_train)"
   ]
  },
  {
   "cell_type": "code",
   "execution_count": null,
   "id": "46a8a7e8",
   "metadata": {},
   "outputs": [],
   "source": [
    "output.best_estimator_"
   ]
  },
  {
   "cell_type": "code",
   "execution_count": null,
   "id": "3fa92338",
   "metadata": {},
   "outputs": [],
   "source": [
    "evaluate(output.best_estimator_, X_train_tfidf_vec_df, y_train, X_val_tfidf_vec_df, y_val)"
   ]
  },
  {
   "cell_type": "code",
   "execution_count": null,
   "id": "d1ecf2e9",
   "metadata": {},
   "outputs": [],
   "source": []
  },
  {
   "cell_type": "markdown",
   "id": "9395bc0a",
   "metadata": {},
   "source": [
    "## Neural Network"
   ]
  },
  {
   "cell_type": "code",
   "execution_count": 7,
   "id": "86193a47",
   "metadata": {},
   "outputs": [],
   "source": [
    "def visualize_training_results(history):\n",
    "    '''\n",
    "    From https://machinelearningmastery.com/display-deep-learning-model-training-history-in-keras/\n",
    "    \n",
    "    Input: keras history object (output from trained model)\n",
    "    '''\n",
    "    fig, (ax1, ax2) = plt.subplots(2, sharex=True)\n",
    "    fig.suptitle('Model Results')\n",
    "\n",
    "    # summarize history for accuracy\n",
    "    ax1.plot(history.history['accuracy'])\n",
    "    ax1.plot(history.history['val_accuracy'])\n",
    "    ax1.set_ylabel('Accuracy')\n",
    "    ax1.legend(['train', 'test'], loc='upper left')\n",
    "    # summarize history for loss\n",
    "    ax2.plot(history.history['loss'])\n",
    "    ax2.plot(history.history['val_loss'])\n",
    "    ax2.set_ylabel('Loss')\n",
    "    ax2.legend(['train', 'test'], loc='upper left')\n",
    "    \n",
    "    plt.xlabel('Epoch')\n",
    "    plt.show()"
   ]
  },
  {
   "cell_type": "code",
   "execution_count": 8,
   "id": "c04b94db",
   "metadata": {},
   "outputs": [
    {
     "data": {
      "text/plain": [
       "6714"
      ]
     },
     "execution_count": 8,
     "metadata": {},
     "output_type": "execute_result"
    }
   ],
   "source": [
    "# Find our longest review - will need for padding later\n",
    "max_length = max([len(s.split()) for s in X_train[\"processed_content\"]])\n",
    "max_length"
   ]
  },
  {
   "cell_type": "code",
   "execution_count": 9,
   "id": "72f050a3",
   "metadata": {},
   "outputs": [],
   "source": [
    "tokenizer = keras.preprocessing.text.Tokenizer()\n",
    "\n",
    "tokenizer.fit_on_texts(X_train[\"processed_content\"])\n",
    "\n",
    "X_train_token = tokenizer.texts_to_sequences(X_train[\"processed_content\"])\n",
    "X_val_token = tokenizer.texts_to_sequences(X_val[\"processed_content\"])"
   ]
  },
  {
   "cell_type": "code",
   "execution_count": 10,
   "id": "9e3c520f",
   "metadata": {},
   "outputs": [
    {
     "data": {
      "text/plain": [
       "[('trump', 1),\n",
       " ('said', 2),\n",
       " ('would', 3),\n",
       " ('people', 4),\n",
       " ('one', 5),\n",
       " ('state', 6),\n",
       " ('year', 7),\n",
       " ('new', 8),\n",
       " ('president', 9),\n",
       " ('time', 10)]"
      ]
     },
     "execution_count": 10,
     "metadata": {},
     "output_type": "execute_result"
    }
   ],
   "source": [
    "list(tokenizer.word_index.items())[:10]"
   ]
  },
  {
   "cell_type": "code",
   "execution_count": 11,
   "id": "cd186ba0",
   "metadata": {},
   "outputs": [
    {
     "name": "stdout",
     "output_type": "stream",
     "text": [
      "[162, 2124, 668, 644, 309, 1067, 8382, 4961, 8264, 3989, 4776, 1298, 4157, 10, 1568, 2961, 204, 7882, 202, 57, 394, 2095, 1158, 2566, 407, 1117, 436, 1224, 8382, 2, 40, 127, 539, 543, 5931, 812, 736, 708, 349, 37153, 1298, 63, 95, 1481, 586, 2013, 806, 589, 681, 401, 149, 63, 95, 396, 149, 423, 3305, 396, 149, 63, 289, 396, 29, 10, 1568, 2961, 204, 7882, 202, 57, 394, 2095, 1158, 2566, 407, 1117, 436, 1224, 98, 2369, 9, 245, 192, 349, 436, 1224, 1021, 4576, 2624, 63, 95, 681, 6383, 3647, 436, 1224, 156, 262, 25, 26, 8657, 9544, 681, 401, 143, 10826, 1376, 2556, 133, 33, 25, 1298, 8957, 407, 1224, 20, 436, 297, 3821, 5953, 94]\n"
     ]
    }
   ],
   "source": [
    "# Same example, after processing\n",
    "print(X_train_token[0])"
   ]
  },
  {
   "cell_type": "code",
   "execution_count": 12,
   "id": "f32de252",
   "metadata": {},
   "outputs": [
    {
     "name": "stdout",
     "output_type": "stream",
     "text": [
      "157205\n"
     ]
    }
   ],
   "source": [
    "vocab_size = len(tokenizer.word_index) + 1\n",
    "print(vocab_size)"
   ]
  },
  {
   "cell_type": "code",
   "execution_count": 13,
   "id": "91fdaa48",
   "metadata": {},
   "outputs": [],
   "source": [
    "# Now, let's pad so each review is the same length as our longest review\n",
    "# Basically, adding zeros at the end\n",
    "\n",
    "X_train_processed = keras.preprocessing.sequence.pad_sequences(\n",
    "    X_train_token, maxlen=max_length, padding='post')\n",
    "X_val_processed = keras.preprocessing.sequence.pad_sequences(\n",
    "    X_val_token, maxlen=max_length, padding='post')"
   ]
  },
  {
   "cell_type": "code",
   "execution_count": 14,
   "id": "e31acd31",
   "metadata": {},
   "outputs": [
    {
     "data": {
      "text/plain": [
       "array([[  162,  2124,   668, ...,     0,     0,     0],\n",
       "       [  218,   101,    76, ...,     0,     0,     0],\n",
       "       [ 1088,  2898,   764, ...,     0,     0,     0],\n",
       "       ...,\n",
       "       [  310,  1069,  3545, ...,     0,     0,     0],\n",
       "       [  327,    95,    56, ...,     0,     0,     0],\n",
       "       [  112,    51, 17444, ...,     0,     0,     0]])"
      ]
     },
     "execution_count": 14,
     "metadata": {},
     "output_type": "execute_result"
    }
   ],
   "source": [
    "X_train_processed"
   ]
  },
  {
   "cell_type": "code",
   "execution_count": 15,
   "id": "ec230310",
   "metadata": {},
   "outputs": [
    {
     "data": {
      "text/plain": [
       "array([[0., 0., 1.],\n",
       "       [0., 0., 1.],\n",
       "       [0., 1., 0.],\n",
       "       [0., 0., 1.],\n",
       "       [1., 0., 0.],\n",
       "       [1., 0., 0.],\n",
       "       [0., 0., 1.],\n",
       "       [1., 0., 0.],\n",
       "       [0., 0., 1.],\n",
       "       [0., 1., 0.]], dtype=float32)"
      ]
     },
     "execution_count": 15,
     "metadata": {},
     "output_type": "execute_result"
    }
   ],
   "source": [
    "from keras.utils import to_categorical\n",
    "#one-hot encode target column\n",
    "y_train2 = to_categorical(y_train)\n",
    "y_val2 = to_categorical(y_val)\n",
    "\n",
    "#vcheck that target column has been converted\n",
    "y_val2[0:10]"
   ]
  },
  {
   "cell_type": "code",
   "execution_count": 16,
   "id": "8389596b",
   "metadata": {},
   "outputs": [],
   "source": [
    "def create_embedding_matrix(glove_filepath, word_index, embedding_dim):\n",
    "    '''\n",
    "    Grabs the embeddings just for the words in our vocabulary\n",
    "    \n",
    "    Inputs:\n",
    "    glove_filepath - string, location of the glove text file to use\n",
    "    word_index - word_index attribute from the keras tokenizer\n",
    "    embedding_dim - int, number of dimensions to embed, a hyperparameter\n",
    "    \n",
    "    Output:\n",
    "    embedding_matrix - numpy array of embeddings\n",
    "    '''\n",
    "    vocab_size = len(word_index) + 1  # Adding again 1 because of reserved 0 index\n",
    "    embedding_matrix = np.zeros((vocab_size, embedding_dim))\n",
    "\n",
    "    with open(glove_filepath, encoding=\"UTF-8\") as f:\n",
    "        for line in f:\n",
    "            word, *vector = line.split()\n",
    "            if word in word_index:\n",
    "                idx = word_index[word] \n",
    "                embedding_matrix[idx] = np.array(\n",
    "                    vector, dtype=np.float32)[:embedding_dim]\n",
    "\n",
    "    return embedding_matrix"
   ]
  },
  {
   "cell_type": "code",
   "execution_count": 17,
   "id": "2734feb7",
   "metadata": {},
   "outputs": [],
   "source": [
    "embedding_dim = 50\n",
    "embedding_matrix = create_embedding_matrix('../data/glove.6B.50d.txt',\n",
    "                                           tokenizer.word_index, \n",
    "                                           embedding_dim)"
   ]
  },
  {
   "cell_type": "code",
   "execution_count": 18,
   "id": "b893d8f5",
   "metadata": {},
   "outputs": [
    {
     "data": {
      "text/plain": [
       "array([[ 0.        ,  0.        ,  0.        , ...,  0.        ,\n",
       "         0.        ,  0.        ],\n",
       "       [ 0.45769   ,  0.85191   ,  0.31097999, ..., -0.74225998,\n",
       "         0.77052999,  0.26394001],\n",
       "       [ 0.38973001, -0.2121    ,  0.51836997, ...,  0.86119002,\n",
       "         0.1415    ,  1.20179999],\n",
       "       ...,\n",
       "       [ 0.        ,  0.        ,  0.        , ...,  0.        ,\n",
       "         0.        ,  0.        ],\n",
       "       [ 0.        ,  0.        ,  0.        , ...,  0.        ,\n",
       "         0.        ,  0.        ],\n",
       "       [-0.60434002, -0.97134   , -0.10733   , ..., -0.23074999,\n",
       "        -0.55489999,  0.49355999]])"
      ]
     },
     "execution_count": 18,
     "metadata": {},
     "output_type": "execute_result"
    }
   ],
   "source": [
    "embedding_matrix"
   ]
  },
  {
   "cell_type": "code",
   "execution_count": 19,
   "id": "fbe6b28f",
   "metadata": {},
   "outputs": [
    {
     "name": "stdout",
     "output_type": "stream",
     "text": [
      "Model: \"sequential\"\n",
      "_________________________________________________________________\n",
      "Layer (type)                 Output Shape              Param #   \n",
      "=================================================================\n",
      "embedding (Embedding)        (None, 6714, 50)          7860250   \n",
      "_________________________________________________________________\n",
      "flatten (Flatten)            (None, 335700)            0         \n",
      "_________________________________________________________________\n",
      "dense (Dense)                (None, 3)                 1007103   \n",
      "=================================================================\n",
      "Total params: 8,867,353\n",
      "Trainable params: 1,007,103\n",
      "Non-trainable params: 7,860,250\n",
      "_________________________________________________________________\n"
     ]
    }
   ],
   "source": [
    "# Time to model!\n",
    "model = keras.models.Sequential()\n",
    "model.add(layers.Embedding(vocab_size, embedding_dim, \n",
    "                           weights=[embedding_matrix], \n",
    "                           input_length=max_length, \n",
    "                           trainable=False)) # Note - not retraining the embedding layer\n",
    "model.add(layers.Flatten()) # flattening these layers down before connecting to dense layer\n",
    "model.add(layers.Dense(3, activation='softmax'))\n",
    "\n",
    "model.compile(optimizer='adam',\n",
    "              loss='categorical_crossentropy',\n",
    "              metrics=['accuracy'])\n",
    "\n",
    "model.summary()"
   ]
  },
  {
   "cell_type": "code",
   "execution_count": 20,
   "id": "06eaceaf",
   "metadata": {},
   "outputs": [
    {
     "name": "stdout",
     "output_type": "stream",
     "text": [
      "Epoch 1/10\n",
      "577/577 [==============================] - 67s 116ms/step - loss: 1.0778 - accuracy: 0.6294 - val_loss: 1.2848 - val_accuracy: 0.6290\n",
      "Epoch 2/10\n",
      "577/577 [==============================] - 66s 115ms/step - loss: 0.6754 - accuracy: 0.7523 - val_loss: 1.3621 - val_accuracy: 0.6406\n",
      "Epoch 3/10\n",
      "577/577 [==============================] - 66s 114ms/step - loss: 0.5488 - accuracy: 0.7936 - val_loss: 1.3754 - val_accuracy: 0.6389\n",
      "Epoch 4/10\n",
      "577/577 [==============================] - 65s 113ms/step - loss: 0.4850 - accuracy: 0.8147 - val_loss: 1.5360 - val_accuracy: 0.6363\n",
      "Epoch 5/10\n",
      "577/577 [==============================] - 75s 130ms/step - loss: 0.4580 - accuracy: 0.8236 - val_loss: 1.7149 - val_accuracy: 0.6263\n",
      "Epoch 6/10\n",
      "577/577 [==============================] - 75s 130ms/step - loss: 0.4244 - accuracy: 0.8392 - val_loss: 1.8377 - val_accuracy: 0.6364\n",
      "Epoch 7/10\n",
      "577/577 [==============================] - 67s 116ms/step - loss: 0.4023 - accuracy: 0.8489 - val_loss: 2.0977 - val_accuracy: 0.6214\n",
      "Epoch 8/10\n",
      "577/577 [==============================] - 77s 133ms/step - loss: 0.3851 - accuracy: 0.8564 - val_loss: 2.1484 - val_accuracy: 0.6276\n",
      "Epoch 9/10\n",
      "577/577 [==============================] - 67s 116ms/step - loss: 0.3650 - accuracy: 0.8638 - val_loss: 2.2515 - val_accuracy: 0.6261\n",
      "Epoch 10/10\n",
      "577/577 [==============================] - 63s 109ms/step - loss: 0.3575 - accuracy: 0.8674 - val_loss: 2.4351 - val_accuracy: 0.6183\n"
     ]
    }
   ],
   "source": [
    "history = model.fit(X_train_processed, y_train2,\n",
    "                    epochs=10,\n",
    "                    batch_size=100,\n",
    "                    validation_data=(X_val_processed, y_val2))"
   ]
  },
  {
   "cell_type": "code",
   "execution_count": 21,
   "id": "5c1fcfe5",
   "metadata": {},
   "outputs": [
    {
     "data": {
      "image/png": "[encoded data removed]",
      "text/plain": [
       "<Figure size 432x288 with 2 Axes>"
      ]
     },
     "metadata": {
      "needs_background": "light"
     },
     "output_type": "display_data"
    }
   ],
   "source": [
    "visualize_training_results(history)"
   ]
  },
  {
   "cell_type": "code",
   "execution_count": 22,
   "id": "2e2a1c09",
   "metadata": {},
   "outputs": [
    {
     "name": "stdout",
     "output_type": "stream",
     "text": [
      "Model: \"tuned\"\n",
      "_________________________________________________________________\n",
      "Layer (type)                 Output Shape              Param #   \n",
      "=================================================================\n",
      "embedding_1 (Embedding)      (None, 6714, 50)          7860250   \n",
      "_________________________________________________________________\n",
      "flatten_1 (Flatten)          (None, 335700)            0         \n",
      "_________________________________________________________________\n",
      "dense_1 (Dense)              (None, 3)                 1007103   \n",
      "=================================================================\n",
      "Total params: 8,867,353\n",
      "Trainable params: 8,867,353\n",
      "Non-trainable params: 0\n",
      "_________________________________________________________________\n"
     ]
    }
   ],
   "source": [
    "model = keras.models.Sequential(name=\"tuned\")\n",
    "model.add(layers.Embedding(vocab_size, embedding_dim, \n",
    "                           weights=[embedding_matrix], \n",
    "                           input_length=max_length, \n",
    "                           trainable=True)) \n",
    "model.add(layers.Flatten()) # flattening these layers down before connecting to dense layer\n",
    "model.add(layers.Dense(3, activation='softmax'))\n",
    "\n",
    "model.compile(optimizer='adam',\n",
    "              loss='categorical_crossentropy',\n",
    "              metrics=['accuracy'])\n",
    "\n",
    "model.summary()"
   ]
  },
  {
   "cell_type": "code",
   "execution_count": 23,
   "id": "f0c3a776",
   "metadata": {},
   "outputs": [
    {
     "name": "stdout",
     "output_type": "stream",
     "text": [
      "Epoch 1/10\n",
      "577/577 [==============================] - 146s 253ms/step - loss: 0.9459 - accuracy: 0.6769 - val_loss: 0.8233 - val_accuracy: 0.7433\n",
      "Epoch 2/10\n",
      "577/577 [==============================] - 164s 284ms/step - loss: 0.3474 - accuracy: 0.8708 - val_loss: 0.7702 - val_accuracy: 0.7838\n",
      "Epoch 3/10\n",
      "577/577 [==============================] - 146s 253ms/step - loss: 0.1626 - accuracy: 0.9435 - val_loss: 0.7749 - val_accuracy: 0.8014\n",
      "Epoch 4/10\n",
      "577/577 [==============================] - 154s 267ms/step - loss: 0.0739 - accuracy: 0.9791 - val_loss: 0.8002 - val_accuracy: 0.8143\n",
      "Epoch 5/10\n",
      "577/577 [==============================] - 155s 269ms/step - loss: 0.0349 - accuracy: 0.9933 - val_loss: 0.8139 - val_accuracy: 0.8198\n",
      "Epoch 6/10\n",
      "577/577 [==============================] - 144s 250ms/step - loss: 0.0188 - accuracy: 0.9974 - val_loss: 0.7777 - val_accuracy: 0.8264\n",
      "Epoch 7/10\n",
      "577/577 [==============================] - 154s 266ms/step - loss: 0.0129 - accuracy: 0.9986 - val_loss: 0.8054 - val_accuracy: 0.8303\n",
      "Epoch 8/10\n",
      "577/577 [==============================] - 156s 270ms/step - loss: 0.0080 - accuracy: 0.9992 - val_loss: 0.8227 - val_accuracy: 0.8320\n",
      "Epoch 9/10\n",
      "577/577 [==============================] - 153s 266ms/step - loss: 0.0055 - accuracy: 0.9996 - val_loss: 0.8514 - val_accuracy: 0.8328\n",
      "Epoch 10/10\n",
      "577/577 [==============================] - 157s 273ms/step - loss: 0.0040 - accuracy: 0.9996 - val_loss: 0.8541 - val_accuracy: 0.8358\n"
     ]
    }
   ],
   "source": [
    "history = model.fit(X_train_processed, y_train2,\n",
    "                    epochs=10,\n",
    "                    batch_size=100,\n",
    "                    validation_data=(X_val_processed, y_val2))"
   ]
  },
  {
   "cell_type": "code",
   "execution_count": null,
   "id": "a3838ddd",
   "metadata": {},
   "outputs": [],
   "source": [
    "visualize_training_results(history)"
   ]
  },
  {
   "cell_type": "code",
   "execution_count": 24,
   "id": "1078ded3",
   "metadata": {},
   "outputs": [],
   "source": [
    "from keras.layers.convolutional import Conv1D\n",
    "from keras.layers.convolutional import MaxPooling1D"
   ]
  },
  {
   "cell_type": "code",
   "execution_count": 29,
   "id": "b39d3529",
   "metadata": {},
   "outputs": [
    {
     "name": "stdout",
     "output_type": "stream",
     "text": [
      "Model: \"tuned\"\n",
      "_________________________________________________________________\n",
      "Layer (type)                 Output Shape              Param #   \n",
      "=================================================================\n",
      "embedding_4 (Embedding)      (None, 6714, 50)          7860250   \n",
      "_________________________________________________________________\n",
      "conv1d_2 (Conv1D)            (None, 6710, 25)          6275      \n",
      "_________________________________________________________________\n",
      "max_pooling1d_2 (MaxPooling1 (None, 3355, 25)          0         \n",
      "_________________________________________________________________\n",
      "flatten_4 (Flatten)          (None, 83875)             0         \n",
      "_________________________________________________________________\n",
      "dense_4 (Dense)              (None, 3)                 251628    \n",
      "=================================================================\n",
      "Total params: 8,118,153\n",
      "Trainable params: 257,903\n",
      "Non-trainable params: 7,860,250\n",
      "_________________________________________________________________\n"
     ]
    }
   ],
   "source": [
    "model = keras.models.Sequential(name=\"tuned\")\n",
    "model.add(layers.Embedding(vocab_size, embedding_dim, \n",
    "                           weights=[embedding_matrix], \n",
    "                           input_length=max_length, \n",
    "                           trainable=False)) \n",
    "model.add(Conv1D(filters=25, kernel_size=5, activation='relu'))\n",
    "model.add(MaxPooling1D(pool_size=2))\n",
    "model.add(layers.Flatten()) # flattening these layers down before connecting to dense layer\n",
    "model.add(layers.Dense(3, activation='softmax'))\n",
    "\n",
    "model.compile(optimizer='adam',\n",
    "              loss='categorical_crossentropy',\n",
    "              metrics=['accuracy'])\n",
    "\n",
    "model.summary()"
   ]
  },
  {
   "cell_type": "code",
   "execution_count": null,
   "id": "36bc2289",
   "metadata": {},
   "outputs": [
    {
     "name": "stdout",
     "output_type": "stream",
     "text": [
      "Epoch 1/10\n",
      "577/577 [==============================] - 478s 829ms/step - loss: 0.7387 - accuracy: 0.6878 - val_loss: 0.6167 - val_accuracy: 0.7508\n",
      "Epoch 2/10\n",
      "577/577 [==============================] - 525s 909ms/step - loss: 0.5192 - accuracy: 0.7952 - val_loss: 0.5643 - val_accuracy: 0.7794\n",
      "Epoch 3/10\n",
      "577/577 [==============================] - 554s 961ms/step - loss: 0.4237 - accuracy: 0.8349 - val_loss: 0.5064 - val_accuracy: 0.8043\n",
      "Epoch 4/10\n",
      "577/577 [==============================] - 534s 926ms/step - loss: 0.3616 - accuracy: 0.8603 - val_loss: 0.5346 - val_accuracy: 0.7994\n",
      "Epoch 5/10\n",
      "  3/577 [..............................] - ETA: 5:36 - loss: 0.2816 - accuracy: 0.8800"
     ]
    }
   ],
   "source": [
    "history = model.fit(X_train_processed, y_train2,\n",
    "                    epochs=10,\n",
    "                    batch_size=100,\n",
    "                    validation_data=(X_val_processed, y_val2))"
   ]
  },
  {
   "cell_type": "code",
   "execution_count": null,
   "id": "68e1117e",
   "metadata": {},
   "outputs": [],
   "source": []
  }
 ],
 "metadata": {
  "kernelspec": {
   "display_name": "Python (learn-env)",
   "language": "python",
   "name": "learn-env"
  },
  "language_info": {
   "codemirror_mode": {
    "name": "ipython",
    "version": 3
   },
   "file_extension": ".py",
   "mimetype": "text/x-python",
   "name": "python",
   "nbconvert_exporter": "python",
   "pygments_lexer": "ipython3",
   "version": "3.8.11"
  }
 },
 "nbformat": 4,
 "nbformat_minor": 5
}
