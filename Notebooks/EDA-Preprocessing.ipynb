{
 "cells": [
  {
   "cell_type": "markdown",
   "id": "4b2d71e0",
   "metadata": {},
   "source": [
    "# EDA"
   ]
  },
  {
   "cell_type": "code",
   "execution_count": 399,
   "id": "95ff3095",
   "metadata": {},
   "outputs": [],
   "source": [
    "import pandas as pd\n",
    "import numpy as np\n",
    "import seaborn as sns\n",
    "import matplotlib.pyplot as plt\n",
    "import random\n",
    "\n",
    "import nltk\n",
    "from nltk.tokenize import RegexpTokenizer\n",
    "from nltk.corpus import stopwords\n",
    "from nltk.stem import WordNetLemmatizer\n",
    "from  nltk import FreqDist\n",
    "\n",
    "from sklearn.pipeline import Pipeline\n",
    "from sklearn.compose import ColumnTransformer\n",
    "from sklearn.impute import SimpleImputer\n",
    "from mlxtend.feature_selection import ColumnSelector\n",
    "from sklearn.feature_selection import chi2\n",
    "\n",
    "from sklearn.feature_extraction.text import CountVectorizer, TfidfVectorizer\n",
    "from sklearn.naive_bayes import MultinomialNB\n",
    "from sklearn.linear_model import LogisticRegression, SGDClassifier\n",
    "from sklearn.preprocessing import StandardScaler\n",
    "from sklearn.decomposition import PCA\n",
    "from sklearn.tree import DecisionTreeClassifier\n",
    "from sklearn.ensemble import RandomForestClassifier\n",
    "from sklearn.svm import LinearSVC\n",
    "\n",
    "from sklearn.model_selection import train_test_split, GridSearchCV, cross_validate, cross_val_score\n",
    "from sklearn import metrics\n",
    "from sklearn.metrics import accuracy_score, precision_score, recall_score, f1_score, roc_auc_score, plot_confusion_matrix\n",
    "from sklearn.metrics import classification_report, confusion_matrix, precision_recall_curve\n",
    "\n",
    "from sklearn.model_selection import train_test_split\n",
    "import re\n",
    "import string"
   ]
  },
  {
   "cell_type": "code",
   "execution_count": 400,
   "id": "1601af57",
   "metadata": {},
   "outputs": [
    {
     "data": {
      "text/html": [
       "<div>\n",
       "<style scoped>\n",
       "    .dataframe tbody tr th:only-of-type {\n",
       "        vertical-align: middle;\n",
       "    }\n",
       "\n",
       "    .dataframe tbody tr th {\n",
       "        vertical-align: top;\n",
       "    }\n",
       "\n",
       "    .dataframe thead th {\n",
       "        text-align: right;\n",
       "    }\n",
       "</style>\n",
       "<table border=\"1\" class=\"dataframe\">\n",
       "  <thead>\n",
       "    <tr style=\"text-align: right;\">\n",
       "      <th></th>\n",
       "      <th>Publication</th>\n",
       "      <th>Content</th>\n",
       "      <th>Bias</th>\n",
       "    </tr>\n",
       "  </thead>\n",
       "  <tbody>\n",
       "    <tr>\n",
       "      <th>0</th>\n",
       "      <td>CNN</td>\n",
       "      <td>Istanbul (CNN) At least 39 people were killed ...</td>\n",
       "      <td>Left</td>\n",
       "    </tr>\n",
       "    <tr>\n",
       "      <th>1</th>\n",
       "      <td>CNN</td>\n",
       "      <td>Atlanta (CNN) This season’s College Football P...</td>\n",
       "      <td>Left</td>\n",
       "    </tr>\n",
       "    <tr>\n",
       "      <th>2</th>\n",
       "      <td>CNN</td>\n",
       "      <td>(CNN) Revelers on the United States’ west coa...</td>\n",
       "      <td>Left</td>\n",
       "    </tr>\n",
       "    <tr>\n",
       "      <th>3</th>\n",
       "      <td>CNN</td>\n",
       "      <td>West Palm Beach, Florida (CNN)  Donald Trump s...</td>\n",
       "      <td>Left</td>\n",
       "    </tr>\n",
       "    <tr>\n",
       "      <th>4</th>\n",
       "      <td>CNN</td>\n",
       "      <td>(CNN) Two small planes collided in Texas on S...</td>\n",
       "      <td>Left</td>\n",
       "    </tr>\n",
       "  </tbody>\n",
       "</table>\n",
       "</div>"
      ],
      "text/plain": [
       "  Publication                                            Content  Bias\n",
       "0         CNN  Istanbul (CNN) At least 39 people were killed ...  Left\n",
       "1         CNN  Atlanta (CNN) This season’s College Football P...  Left\n",
       "2         CNN   (CNN) Revelers on the United States’ west coa...  Left\n",
       "3         CNN  West Palm Beach, Florida (CNN)  Donald Trump s...  Left\n",
       "4         CNN   (CNN) Two small planes collided in Texas on S...  Left"
      ]
     },
     "execution_count": 400,
     "metadata": {},
     "output_type": "execute_result"
    }
   ],
   "source": [
    "df = pd.read_pickle(\"../data/df.pkl\")\n",
    "df.head()"
   ]
  },
  {
   "cell_type": "code",
   "execution_count": 5,
   "id": "61536b4b",
   "metadata": {},
   "outputs": [
    {
     "data": {
      "text/plain": [
       "(85365, 3)"
      ]
     },
     "execution_count": 5,
     "metadata": {},
     "output_type": "execute_result"
    }
   ],
   "source": [
    "df.shape"
   ]
  },
  {
   "cell_type": "code",
   "execution_count": 6,
   "id": "59e4bdde",
   "metadata": {},
   "outputs": [
    {
     "data": {
      "text/plain": [
       "Publication    0\n",
       "Content        1\n",
       "Bias           0\n",
       "dtype: int64"
      ]
     },
     "execution_count": 6,
     "metadata": {},
     "output_type": "execute_result"
    }
   ],
   "source": [
    "df.isna().sum()"
   ]
  },
  {
   "cell_type": "code",
   "execution_count": 7,
   "id": "18274d07",
   "metadata": {},
   "outputs": [],
   "source": [
    "df.dropna(inplace=True)"
   ]
  },
  {
   "cell_type": "code",
   "execution_count": 8,
   "id": "5260f08a",
   "metadata": {},
   "outputs": [
    {
     "data": {
      "text/plain": [
       "Publication    0\n",
       "Content        0\n",
       "Bias           0\n",
       "dtype: int64"
      ]
     },
     "execution_count": 8,
     "metadata": {},
     "output_type": "execute_result"
    }
   ],
   "source": [
    "df.isna().sum()"
   ]
  },
  {
   "cell_type": "code",
   "execution_count": 9,
   "id": "b6997683",
   "metadata": {},
   "outputs": [
    {
     "data": {
      "text/plain": [
       "<bound method DataFrame.info of            Publication                                            Content  \\\n",
       "0                  CNN  Istanbul (CNN) At least 39 people were killed ...   \n",
       "1                  CNN  Atlanta (CNN) This season’s College Football P...   \n",
       "2                  CNN   (CNN) Revelers on the United States’ west coa...   \n",
       "3                  CNN  West Palm Beach, Florida (CNN)  Donald Trump s...   \n",
       "4                  CNN   (CNN) Two small planes collided in Texas on S...   \n",
       "...                ...                                                ...   \n",
       "85360  National Review  I first read Thomas Sowell in college  —   no ...   \n",
       "85361  National Review  Whether it’s celebrated according to the Grego...   \n",
       "85362  National Review  Editor’s Note: This piece first appeared in th...   \n",
       "85363  National Review  Israel would seem to be in a disastrous positi...   \n",
       "85364  National Review  The year 2016 was a good one for books by men ...   \n",
       "\n",
       "        Bias  \n",
       "0       Left  \n",
       "1       Left  \n",
       "2       Left  \n",
       "3       Left  \n",
       "4       Left  \n",
       "...      ...  \n",
       "85360  Right  \n",
       "85361  Right  \n",
       "85362  Right  \n",
       "85363  Right  \n",
       "85364  Right  \n",
       "\n",
       "[85364 rows x 3 columns]>"
      ]
     },
     "execution_count": 9,
     "metadata": {},
     "output_type": "execute_result"
    }
   ],
   "source": [
    "df.info"
   ]
  },
  {
   "cell_type": "code",
   "execution_count": 10,
   "id": "7c4b8666",
   "metadata": {},
   "outputs": [
    {
     "data": {
      "text/plain": [
       "Breitbart          23781\n",
       "The Hill           16811\n",
       "Vox                16371\n",
       "CNN                11488\n",
       "Reuters            10710\n",
       "National Review     6203\n",
       "Name: Publication, dtype: int64"
      ]
     },
     "execution_count": 10,
     "metadata": {},
     "output_type": "execute_result"
    }
   ],
   "source": [
    "df[\"Publication\"].value_counts()"
   ]
  },
  {
   "cell_type": "code",
   "execution_count": 11,
   "id": "ab871004",
   "metadata": {},
   "outputs": [
    {
     "data": {
      "text/plain": [
       "Right     29984\n",
       "Left      27859\n",
       "Center    27521\n",
       "Name: Bias, dtype: int64"
      ]
     },
     "execution_count": 11,
     "metadata": {},
     "output_type": "execute_result"
    }
   ],
   "source": [
    "df[\"Bias\"].value_counts()"
   ]
  },
  {
   "cell_type": "code",
   "execution_count": 12,
   "id": "a49518ac",
   "metadata": {},
   "outputs": [
    {
     "name": "stdout",
     "output_type": "stream",
     "text": [
      "Percentage of Articles per Bias in Dataset:\n"
     ]
    },
    {
     "data": {
      "text/plain": [
       "Right     35.124877\n",
       "Left      32.635537\n",
       "Center    32.239586\n",
       "Name: Bias, dtype: float64"
      ]
     },
     "execution_count": 12,
     "metadata": {},
     "output_type": "execute_result"
    }
   ],
   "source": [
    "print(\"Percentage of Articles per Bias in Dataset:\")\n",
    "df[\"Bias\"].value_counts(normalize=True)*100"
   ]
  },
  {
   "cell_type": "code",
   "execution_count": 13,
   "id": "5105f8c2",
   "metadata": {},
   "outputs": [],
   "source": [
    "def countplot(df, col, hue=None, rotation=None, order=None):\n",
    "    \"\"\"\n",
    "    This function builds a Seaborn countplot and allows the user to set certain parameters to customize the graph.\n",
    "    \n",
    "    df - dataframe being used\n",
    "    col- column in dataframe being used\n",
    "    hue - second column being used(if any)\n",
    "    rotation - sets the rotation of the x-ticks for readability\n",
    "    \"\"\"\n",
    "    fig, ax = plt.subplots(figsize=(12,8))\n",
    "    sns.countplot(data = df, x = col, hue = hue, order = order)\n",
    "    ax.set_xticklabels(labels = ax.get_xticklabels(), rotation= rotation, fontsize = 15)\n",
    "    ax.set_xlabel(xlabel = col, fontsize = 20)\n",
    "    ax.tick_params(axis='y', which='major', labelsize=15)\n",
    "    ax.set_ylabel(ylabel = \"Number of articles\", fontsize = 20)\n",
    "    ax.set_title(f\"Number of articles per {col}\", fontsize = 30)\n",
    "    plt.show()"
   ]
  },
  {
   "cell_type": "code",
   "execution_count": 14,
   "id": "e524d92b",
   "metadata": {},
   "outputs": [
    {
     "data": {
      "image/png": "[encoded data removed]",
      "text/plain": [
       "<Figure size 864x576 with 1 Axes>"
      ]
     },
     "metadata": {
      "needs_background": "light"
     },
     "output_type": "display_data"
    }
   ],
   "source": [
    "countplot(df, \"Publication\", order = df[\"Publication\"].value_counts().index)"
   ]
  },
  {
   "cell_type": "code",
   "execution_count": 15,
   "id": "b44b23a9",
   "metadata": {},
   "outputs": [
    {
     "data": {
      "image/png": "[encoded data removed]",
      "text/plain": [
       "<Figure size 864x576 with 1 Axes>"
      ]
     },
     "metadata": {
      "needs_background": "light"
     },
     "output_type": "display_data"
    }
   ],
   "source": [
    "countplot(df, \"Bias\", order = [\"Left\", \"Center\", \"Right\"])"
   ]
  },
  {
   "cell_type": "code",
   "execution_count": 16,
   "id": "145b1067",
   "metadata": {},
   "outputs": [],
   "source": [
    "df_plot = df.groupby(['Publication', 'Bias']).size().reset_index().pivot(columns='Publication', index='Bias', values=0)"
   ]
  },
  {
   "cell_type": "code",
   "execution_count": 17,
   "id": "e9af39ac",
   "metadata": {},
   "outputs": [],
   "source": [
    "df_plot = df_plot.reindex([\"Left\", \"Center\", \"Right\"])"
   ]
  },
  {
   "cell_type": "code",
   "execution_count": 18,
   "id": "742d05b7",
   "metadata": {},
   "outputs": [
    {
     "data": {
      "image/png": "[encoded data removed]",
      "text/plain": [
       "<Figure size 1440x720 with 1 Axes>"
      ]
     },
     "metadata": {
      "needs_background": "light"
     },
     "output_type": "display_data"
    }
   ],
   "source": [
    "df_plot.plot(kind='bar', stacked=True, figsize=(20,10))\n",
    "plt.xticks(rotation=\"horizontal\", fontsize = 30)\n",
    "plt.xlabel(xlabel = \"Bias\", fontsize = 40)\n",
    "plt.yticks(rotation=\"horizontal\", fontsize = 30)\n",
    "plt.ylabel(ylabel = \"Number of Articles\", fontsize = 40)\n",
    "plt.title(label= \"Number of Articles per Publication per Bias\", fontsize = 40)\n",
    "plt.legend(bbox_to_anchor=(1.3, 1), loc=\"upper right\", ncol=1, fontsize= 25, title = \"Publication\", title_fontsize= 35)\n",
    "plt.show()"
   ]
  },
  {
   "cell_type": "code",
   "execution_count": 401,
   "id": "aa788597",
   "metadata": {},
   "outputs": [
    {
     "data": {
      "text/html": [
       "<div>\n",
       "<style scoped>\n",
       "    .dataframe tbody tr th:only-of-type {\n",
       "        vertical-align: middle;\n",
       "    }\n",
       "\n",
       "    .dataframe tbody tr th {\n",
       "        vertical-align: top;\n",
       "    }\n",
       "\n",
       "    .dataframe thead th {\n",
       "        text-align: right;\n",
       "    }\n",
       "</style>\n",
       "<table border=\"1\" class=\"dataframe\">\n",
       "  <thead>\n",
       "    <tr style=\"text-align: right;\">\n",
       "      <th></th>\n",
       "      <th>Publication</th>\n",
       "      <th>Content</th>\n",
       "      <th>Bias</th>\n",
       "    </tr>\n",
       "  </thead>\n",
       "  <tbody>\n",
       "    <tr>\n",
       "      <th>0</th>\n",
       "      <td>CNN</td>\n",
       "      <td>Istanbul (CNN) At least 39 people were killed ...</td>\n",
       "      <td>Left</td>\n",
       "    </tr>\n",
       "    <tr>\n",
       "      <th>1</th>\n",
       "      <td>CNN</td>\n",
       "      <td>Atlanta (CNN) This season’s College Football P...</td>\n",
       "      <td>Left</td>\n",
       "    </tr>\n",
       "    <tr>\n",
       "      <th>2</th>\n",
       "      <td>CNN</td>\n",
       "      <td>(CNN) Revelers on the United States’ west coa...</td>\n",
       "      <td>Left</td>\n",
       "    </tr>\n",
       "    <tr>\n",
       "      <th>3</th>\n",
       "      <td>CNN</td>\n",
       "      <td>West Palm Beach, Florida (CNN)  Donald Trump s...</td>\n",
       "      <td>Left</td>\n",
       "    </tr>\n",
       "    <tr>\n",
       "      <th>4</th>\n",
       "      <td>CNN</td>\n",
       "      <td>(CNN) Two small planes collided in Texas on S...</td>\n",
       "      <td>Left</td>\n",
       "    </tr>\n",
       "    <tr>\n",
       "      <th>...</th>\n",
       "      <td>...</td>\n",
       "      <td>...</td>\n",
       "      <td>...</td>\n",
       "    </tr>\n",
       "    <tr>\n",
       "      <th>85360</th>\n",
       "      <td>National Review</td>\n",
       "      <td>I first read Thomas Sowell in college  —   no ...</td>\n",
       "      <td>Right</td>\n",
       "    </tr>\n",
       "    <tr>\n",
       "      <th>85361</th>\n",
       "      <td>National Review</td>\n",
       "      <td>Whether it’s celebrated according to the Grego...</td>\n",
       "      <td>Right</td>\n",
       "    </tr>\n",
       "    <tr>\n",
       "      <th>85362</th>\n",
       "      <td>National Review</td>\n",
       "      <td>Editor’s Note: This piece first appeared in th...</td>\n",
       "      <td>Right</td>\n",
       "    </tr>\n",
       "    <tr>\n",
       "      <th>85363</th>\n",
       "      <td>National Review</td>\n",
       "      <td>Israel would seem to be in a disastrous positi...</td>\n",
       "      <td>Right</td>\n",
       "    </tr>\n",
       "    <tr>\n",
       "      <th>85364</th>\n",
       "      <td>National Review</td>\n",
       "      <td>The year 2016 was a good one for books by men ...</td>\n",
       "      <td>Right</td>\n",
       "    </tr>\n",
       "  </tbody>\n",
       "</table>\n",
       "<p>85365 rows × 3 columns</p>\n",
       "</div>"
      ],
      "text/plain": [
       "           Publication                                            Content  \\\n",
       "0                  CNN  Istanbul (CNN) At least 39 people were killed ...   \n",
       "1                  CNN  Atlanta (CNN) This season’s College Football P...   \n",
       "2                  CNN   (CNN) Revelers on the United States’ west coa...   \n",
       "3                  CNN  West Palm Beach, Florida (CNN)  Donald Trump s...   \n",
       "4                  CNN   (CNN) Two small planes collided in Texas on S...   \n",
       "...                ...                                                ...   \n",
       "85360  National Review  I first read Thomas Sowell in college  —   no ...   \n",
       "85361  National Review  Whether it’s celebrated according to the Grego...   \n",
       "85362  National Review  Editor’s Note: This piece first appeared in th...   \n",
       "85363  National Review  Israel would seem to be in a disastrous positi...   \n",
       "85364  National Review  The year 2016 was a good one for books by men ...   \n",
       "\n",
       "        Bias  \n",
       "0       Left  \n",
       "1       Left  \n",
       "2       Left  \n",
       "3       Left  \n",
       "4       Left  \n",
       "...      ...  \n",
       "85360  Right  \n",
       "85361  Right  \n",
       "85362  Right  \n",
       "85363  Right  \n",
       "85364  Right  \n",
       "\n",
       "[85365 rows x 3 columns]"
      ]
     },
     "execution_count": 401,
     "metadata": {},
     "output_type": "execute_result"
    }
   ],
   "source": [
    "df"
   ]
  },
  {
   "cell_type": "code",
   "execution_count": 402,
   "id": "744ba5e0",
   "metadata": {},
   "outputs": [
    {
     "ename": "KeyboardInterrupt",
     "evalue": "",
     "output_type": "error",
     "traceback": [
      "\u001b[1;31m---------------------------------------------------------------------------\u001b[0m",
      "\u001b[1;31mKeyboardInterrupt\u001b[0m                         Traceback (most recent call last)",
      "\u001b[1;32m~\\AppData\\Local\\Temp/ipykernel_78668/611304423.py\u001b[0m in \u001b[0;36m<module>\u001b[1;34m\u001b[0m\n\u001b[0;32m      1\u001b[0m \u001b[0mdf\u001b[0m\u001b[1;33m[\u001b[0m\u001b[1;34m'word_count'\u001b[0m\u001b[1;33m]\u001b[0m \u001b[1;33m=\u001b[0m \u001b[0mdf\u001b[0m\u001b[1;33m[\u001b[0m\u001b[1;34m\"Content\"\u001b[0m\u001b[1;33m]\u001b[0m\u001b[1;33m.\u001b[0m\u001b[0mapply\u001b[0m\u001b[1;33m(\u001b[0m\u001b[1;32mlambda\u001b[0m \u001b[0mx\u001b[0m\u001b[1;33m:\u001b[0m \u001b[0mlen\u001b[0m\u001b[1;33m(\u001b[0m\u001b[0mnltk\u001b[0m\u001b[1;33m.\u001b[0m\u001b[0mword_tokenize\u001b[0m\u001b[1;33m(\u001b[0m\u001b[0mstr\u001b[0m\u001b[1;33m(\u001b[0m\u001b[0mx\u001b[0m\u001b[1;33m)\u001b[0m\u001b[1;33m)\u001b[0m\u001b[1;33m)\u001b[0m \u001b[1;33m)\u001b[0m\u001b[1;33m\u001b[0m\u001b[1;33m\u001b[0m\u001b[0m\n\u001b[0;32m      2\u001b[0m \u001b[0mdf\u001b[0m\u001b[1;33m[\u001b[0m\u001b[1;34m'char_count'\u001b[0m\u001b[1;33m]\u001b[0m \u001b[1;33m=\u001b[0m \u001b[0mdf\u001b[0m\u001b[1;33m[\u001b[0m\u001b[1;34m\"Content\"\u001b[0m\u001b[1;33m]\u001b[0m\u001b[1;33m.\u001b[0m\u001b[0mapply\u001b[0m\u001b[1;33m(\u001b[0m\u001b[1;32mlambda\u001b[0m \u001b[0mx\u001b[0m\u001b[1;33m:\u001b[0m \u001b[0msum\u001b[0m\u001b[1;33m(\u001b[0m\u001b[0mlen\u001b[0m\u001b[1;33m(\u001b[0m\u001b[0mword\u001b[0m\u001b[1;33m)\u001b[0m \u001b[1;32mfor\u001b[0m \u001b[0mword\u001b[0m \u001b[1;32min\u001b[0m \u001b[0mnltk\u001b[0m\u001b[1;33m.\u001b[0m\u001b[0mword_tokenize\u001b[0m\u001b[1;33m(\u001b[0m\u001b[0mstr\u001b[0m\u001b[1;33m(\u001b[0m\u001b[0mx\u001b[0m\u001b[1;33m)\u001b[0m\u001b[1;33m)\u001b[0m\u001b[1;33m)\u001b[0m \u001b[1;33m)\u001b[0m\u001b[1;33m\u001b[0m\u001b[1;33m\u001b[0m\u001b[0m\n\u001b[1;32m----> 3\u001b[1;33m \u001b[0mdf\u001b[0m\u001b[1;33m[\u001b[0m\u001b[1;34m'sentence_count'\u001b[0m\u001b[1;33m]\u001b[0m \u001b[1;33m=\u001b[0m \u001b[0mdf\u001b[0m\u001b[1;33m[\u001b[0m\u001b[1;34m\"Content\"\u001b[0m\u001b[1;33m]\u001b[0m\u001b[1;33m.\u001b[0m\u001b[0mapply\u001b[0m\u001b[1;33m(\u001b[0m\u001b[1;32mlambda\u001b[0m \u001b[0mx\u001b[0m\u001b[1;33m:\u001b[0m \u001b[0mlen\u001b[0m\u001b[1;33m(\u001b[0m\u001b[0mnltk\u001b[0m\u001b[1;33m.\u001b[0m\u001b[0msent_tokenize\u001b[0m\u001b[1;33m(\u001b[0m\u001b[0mstr\u001b[0m\u001b[1;33m(\u001b[0m\u001b[0mx\u001b[0m\u001b[1;33m)\u001b[0m\u001b[1;33m)\u001b[0m\u001b[1;33m)\u001b[0m \u001b[1;33m)\u001b[0m\u001b[1;33m\u001b[0m\u001b[1;33m\u001b[0m\u001b[0m\n\u001b[0m",
      "\u001b[1;32m~\\anaconda3\\envs\\learn-env\\lib\\site-packages\\pandas\\core\\series.py\u001b[0m in \u001b[0;36mapply\u001b[1;34m(self, func, convert_dtype, args, **kwargs)\u001b[0m\n\u001b[0;32m   4355\u001b[0m         \u001b[0mdtype\u001b[0m\u001b[1;33m:\u001b[0m \u001b[0mfloat64\u001b[0m\u001b[1;33m\u001b[0m\u001b[1;33m\u001b[0m\u001b[0m\n\u001b[0;32m   4356\u001b[0m         \"\"\"\n\u001b[1;32m-> 4357\u001b[1;33m         \u001b[1;32mreturn\u001b[0m \u001b[0mSeriesApply\u001b[0m\u001b[1;33m(\u001b[0m\u001b[0mself\u001b[0m\u001b[1;33m,\u001b[0m \u001b[0mfunc\u001b[0m\u001b[1;33m,\u001b[0m \u001b[0mconvert_dtype\u001b[0m\u001b[1;33m,\u001b[0m \u001b[0margs\u001b[0m\u001b[1;33m,\u001b[0m \u001b[0mkwargs\u001b[0m\u001b[1;33m)\u001b[0m\u001b[1;33m.\u001b[0m\u001b[0mapply\u001b[0m\u001b[1;33m(\u001b[0m\u001b[1;33m)\u001b[0m\u001b[1;33m\u001b[0m\u001b[1;33m\u001b[0m\u001b[0m\n\u001b[0m\u001b[0;32m   4358\u001b[0m \u001b[1;33m\u001b[0m\u001b[0m\n\u001b[0;32m   4359\u001b[0m     def _reduce(\n",
      "\u001b[1;32m~\\anaconda3\\envs\\learn-env\\lib\\site-packages\\pandas\\core\\apply.py\u001b[0m in \u001b[0;36mapply\u001b[1;34m(self)\u001b[0m\n\u001b[0;32m   1041\u001b[0m             \u001b[1;32mreturn\u001b[0m \u001b[0mself\u001b[0m\u001b[1;33m.\u001b[0m\u001b[0mapply_str\u001b[0m\u001b[1;33m(\u001b[0m\u001b[1;33m)\u001b[0m\u001b[1;33m\u001b[0m\u001b[1;33m\u001b[0m\u001b[0m\n\u001b[0;32m   1042\u001b[0m \u001b[1;33m\u001b[0m\u001b[0m\n\u001b[1;32m-> 1043\u001b[1;33m         \u001b[1;32mreturn\u001b[0m \u001b[0mself\u001b[0m\u001b[1;33m.\u001b[0m\u001b[0mapply_standard\u001b[0m\u001b[1;33m(\u001b[0m\u001b[1;33m)\u001b[0m\u001b[1;33m\u001b[0m\u001b[1;33m\u001b[0m\u001b[0m\n\u001b[0m\u001b[0;32m   1044\u001b[0m \u001b[1;33m\u001b[0m\u001b[0m\n\u001b[0;32m   1045\u001b[0m     \u001b[1;32mdef\u001b[0m \u001b[0magg\u001b[0m\u001b[1;33m(\u001b[0m\u001b[0mself\u001b[0m\u001b[1;33m)\u001b[0m\u001b[1;33m:\u001b[0m\u001b[1;33m\u001b[0m\u001b[1;33m\u001b[0m\u001b[0m\n",
      "\u001b[1;32m~\\anaconda3\\envs\\learn-env\\lib\\site-packages\\pandas\\core\\apply.py\u001b[0m in \u001b[0;36mapply_standard\u001b[1;34m(self)\u001b[0m\n\u001b[0;32m   1097\u001b[0m                 \u001b[1;31m# List[Union[Callable[..., Any], str]]]]]\"; expected\u001b[0m\u001b[1;33m\u001b[0m\u001b[1;33m\u001b[0m\u001b[1;33m\u001b[0m\u001b[0m\n\u001b[0;32m   1098\u001b[0m                 \u001b[1;31m# \"Callable[[Any], Any]\"\u001b[0m\u001b[1;33m\u001b[0m\u001b[1;33m\u001b[0m\u001b[1;33m\u001b[0m\u001b[0m\n\u001b[1;32m-> 1099\u001b[1;33m                 mapped = lib.map_infer(\n\u001b[0m\u001b[0;32m   1100\u001b[0m                     \u001b[0mvalues\u001b[0m\u001b[1;33m,\u001b[0m\u001b[1;33m\u001b[0m\u001b[1;33m\u001b[0m\u001b[0m\n\u001b[0;32m   1101\u001b[0m                     \u001b[0mf\u001b[0m\u001b[1;33m,\u001b[0m  \u001b[1;31m# type: ignore[arg-type]\u001b[0m\u001b[1;33m\u001b[0m\u001b[1;33m\u001b[0m\u001b[0m\n",
      "\u001b[1;32m~\\anaconda3\\envs\\learn-env\\lib\\site-packages\\pandas\\_libs\\lib.pyx\u001b[0m in \u001b[0;36mpandas._libs.lib.map_infer\u001b[1;34m()\u001b[0m\n",
      "\u001b[1;32m~\\AppData\\Local\\Temp/ipykernel_78668/611304423.py\u001b[0m in \u001b[0;36m<lambda>\u001b[1;34m(x)\u001b[0m\n\u001b[0;32m      1\u001b[0m \u001b[0mdf\u001b[0m\u001b[1;33m[\u001b[0m\u001b[1;34m'word_count'\u001b[0m\u001b[1;33m]\u001b[0m \u001b[1;33m=\u001b[0m \u001b[0mdf\u001b[0m\u001b[1;33m[\u001b[0m\u001b[1;34m\"Content\"\u001b[0m\u001b[1;33m]\u001b[0m\u001b[1;33m.\u001b[0m\u001b[0mapply\u001b[0m\u001b[1;33m(\u001b[0m\u001b[1;32mlambda\u001b[0m \u001b[0mx\u001b[0m\u001b[1;33m:\u001b[0m \u001b[0mlen\u001b[0m\u001b[1;33m(\u001b[0m\u001b[0mnltk\u001b[0m\u001b[1;33m.\u001b[0m\u001b[0mword_tokenize\u001b[0m\u001b[1;33m(\u001b[0m\u001b[0mstr\u001b[0m\u001b[1;33m(\u001b[0m\u001b[0mx\u001b[0m\u001b[1;33m)\u001b[0m\u001b[1;33m)\u001b[0m\u001b[1;33m)\u001b[0m \u001b[1;33m)\u001b[0m\u001b[1;33m\u001b[0m\u001b[1;33m\u001b[0m\u001b[0m\n\u001b[0;32m      2\u001b[0m \u001b[0mdf\u001b[0m\u001b[1;33m[\u001b[0m\u001b[1;34m'char_count'\u001b[0m\u001b[1;33m]\u001b[0m \u001b[1;33m=\u001b[0m \u001b[0mdf\u001b[0m\u001b[1;33m[\u001b[0m\u001b[1;34m\"Content\"\u001b[0m\u001b[1;33m]\u001b[0m\u001b[1;33m.\u001b[0m\u001b[0mapply\u001b[0m\u001b[1;33m(\u001b[0m\u001b[1;32mlambda\u001b[0m \u001b[0mx\u001b[0m\u001b[1;33m:\u001b[0m \u001b[0msum\u001b[0m\u001b[1;33m(\u001b[0m\u001b[0mlen\u001b[0m\u001b[1;33m(\u001b[0m\u001b[0mword\u001b[0m\u001b[1;33m)\u001b[0m \u001b[1;32mfor\u001b[0m \u001b[0mword\u001b[0m \u001b[1;32min\u001b[0m \u001b[0mnltk\u001b[0m\u001b[1;33m.\u001b[0m\u001b[0mword_tokenize\u001b[0m\u001b[1;33m(\u001b[0m\u001b[0mstr\u001b[0m\u001b[1;33m(\u001b[0m\u001b[0mx\u001b[0m\u001b[1;33m)\u001b[0m\u001b[1;33m)\u001b[0m\u001b[1;33m)\u001b[0m \u001b[1;33m)\u001b[0m\u001b[1;33m\u001b[0m\u001b[1;33m\u001b[0m\u001b[0m\n\u001b[1;32m----> 3\u001b[1;33m \u001b[0mdf\u001b[0m\u001b[1;33m[\u001b[0m\u001b[1;34m'sentence_count'\u001b[0m\u001b[1;33m]\u001b[0m \u001b[1;33m=\u001b[0m \u001b[0mdf\u001b[0m\u001b[1;33m[\u001b[0m\u001b[1;34m\"Content\"\u001b[0m\u001b[1;33m]\u001b[0m\u001b[1;33m.\u001b[0m\u001b[0mapply\u001b[0m\u001b[1;33m(\u001b[0m\u001b[1;32mlambda\u001b[0m \u001b[0mx\u001b[0m\u001b[1;33m:\u001b[0m \u001b[0mlen\u001b[0m\u001b[1;33m(\u001b[0m\u001b[0mnltk\u001b[0m\u001b[1;33m.\u001b[0m\u001b[0msent_tokenize\u001b[0m\u001b[1;33m(\u001b[0m\u001b[0mstr\u001b[0m\u001b[1;33m(\u001b[0m\u001b[0mx\u001b[0m\u001b[1;33m)\u001b[0m\u001b[1;33m)\u001b[0m\u001b[1;33m)\u001b[0m \u001b[1;33m)\u001b[0m\u001b[1;33m\u001b[0m\u001b[1;33m\u001b[0m\u001b[0m\n\u001b[0m",
      "\u001b[1;32m~\\anaconda3\\envs\\learn-env\\lib\\site-packages\\nltk\\tokenize\\__init__.py\u001b[0m in \u001b[0;36msent_tokenize\u001b[1;34m(text, language)\u001b[0m\n\u001b[0;32m    106\u001b[0m     \"\"\"\n\u001b[0;32m    107\u001b[0m     \u001b[0mtokenizer\u001b[0m \u001b[1;33m=\u001b[0m \u001b[0mload\u001b[0m\u001b[1;33m(\u001b[0m\u001b[1;34m\"tokenizers/punkt/{0}.pickle\"\u001b[0m\u001b[1;33m.\u001b[0m\u001b[0mformat\u001b[0m\u001b[1;33m(\u001b[0m\u001b[0mlanguage\u001b[0m\u001b[1;33m)\u001b[0m\u001b[1;33m)\u001b[0m\u001b[1;33m\u001b[0m\u001b[1;33m\u001b[0m\u001b[0m\n\u001b[1;32m--> 108\u001b[1;33m     \u001b[1;32mreturn\u001b[0m \u001b[0mtokenizer\u001b[0m\u001b[1;33m.\u001b[0m\u001b[0mtokenize\u001b[0m\u001b[1;33m(\u001b[0m\u001b[0mtext\u001b[0m\u001b[1;33m)\u001b[0m\u001b[1;33m\u001b[0m\u001b[1;33m\u001b[0m\u001b[0m\n\u001b[0m\u001b[0;32m    109\u001b[0m \u001b[1;33m\u001b[0m\u001b[0m\n\u001b[0;32m    110\u001b[0m \u001b[1;33m\u001b[0m\u001b[0m\n",
      "\u001b[1;32m~\\anaconda3\\envs\\learn-env\\lib\\site-packages\\nltk\\tokenize\\punkt.py\u001b[0m in \u001b[0;36mtokenize\u001b[1;34m(self, text, realign_boundaries)\u001b[0m\n\u001b[0;32m   1272\u001b[0m         \u001b[0mGiven\u001b[0m \u001b[0ma\u001b[0m \u001b[0mtext\u001b[0m\u001b[1;33m,\u001b[0m \u001b[0mreturns\u001b[0m \u001b[0ma\u001b[0m \u001b[0mlist\u001b[0m \u001b[0mof\u001b[0m \u001b[0mthe\u001b[0m \u001b[0msentences\u001b[0m \u001b[1;32min\u001b[0m \u001b[0mthat\u001b[0m \u001b[0mtext\u001b[0m\u001b[1;33m.\u001b[0m\u001b[1;33m\u001b[0m\u001b[1;33m\u001b[0m\u001b[0m\n\u001b[0;32m   1273\u001b[0m         \"\"\"\n\u001b[1;32m-> 1274\u001b[1;33m         \u001b[1;32mreturn\u001b[0m \u001b[0mlist\u001b[0m\u001b[1;33m(\u001b[0m\u001b[0mself\u001b[0m\u001b[1;33m.\u001b[0m\u001b[0msentences_from_text\u001b[0m\u001b[1;33m(\u001b[0m\u001b[0mtext\u001b[0m\u001b[1;33m,\u001b[0m \u001b[0mrealign_boundaries\u001b[0m\u001b[1;33m)\u001b[0m\u001b[1;33m)\u001b[0m\u001b[1;33m\u001b[0m\u001b[1;33m\u001b[0m\u001b[0m\n\u001b[0m\u001b[0;32m   1275\u001b[0m \u001b[1;33m\u001b[0m\u001b[0m\n\u001b[0;32m   1276\u001b[0m     \u001b[1;32mdef\u001b[0m \u001b[0mdebug_decisions\u001b[0m\u001b[1;33m(\u001b[0m\u001b[0mself\u001b[0m\u001b[1;33m,\u001b[0m \u001b[0mtext\u001b[0m\u001b[1;33m)\u001b[0m\u001b[1;33m:\u001b[0m\u001b[1;33m\u001b[0m\u001b[1;33m\u001b[0m\u001b[0m\n",
      "\u001b[1;32m~\\anaconda3\\envs\\learn-env\\lib\\site-packages\\nltk\\tokenize\\punkt.py\u001b[0m in \u001b[0;36msentences_from_text\u001b[1;34m(self, text, realign_boundaries)\u001b[0m\n\u001b[0;32m   1326\u001b[0m         \u001b[0mfollows\u001b[0m \u001b[0mthe\u001b[0m \u001b[0mperiod\u001b[0m\u001b[1;33m.\u001b[0m\u001b[1;33m\u001b[0m\u001b[1;33m\u001b[0m\u001b[0m\n\u001b[0;32m   1327\u001b[0m         \"\"\"\n\u001b[1;32m-> 1328\u001b[1;33m         \u001b[1;32mreturn\u001b[0m \u001b[1;33m[\u001b[0m\u001b[0mtext\u001b[0m\u001b[1;33m[\u001b[0m\u001b[0ms\u001b[0m\u001b[1;33m:\u001b[0m\u001b[0me\u001b[0m\u001b[1;33m]\u001b[0m \u001b[1;32mfor\u001b[0m \u001b[0ms\u001b[0m\u001b[1;33m,\u001b[0m \u001b[0me\u001b[0m \u001b[1;32min\u001b[0m \u001b[0mself\u001b[0m\u001b[1;33m.\u001b[0m\u001b[0mspan_tokenize\u001b[0m\u001b[1;33m(\u001b[0m\u001b[0mtext\u001b[0m\u001b[1;33m,\u001b[0m \u001b[0mrealign_boundaries\u001b[0m\u001b[1;33m)\u001b[0m\u001b[1;33m]\u001b[0m\u001b[1;33m\u001b[0m\u001b[1;33m\u001b[0m\u001b[0m\n\u001b[0m\u001b[0;32m   1329\u001b[0m \u001b[1;33m\u001b[0m\u001b[0m\n\u001b[0;32m   1330\u001b[0m     \u001b[1;32mdef\u001b[0m \u001b[0m_slices_from_text\u001b[0m\u001b[1;33m(\u001b[0m\u001b[0mself\u001b[0m\u001b[1;33m,\u001b[0m \u001b[0mtext\u001b[0m\u001b[1;33m)\u001b[0m\u001b[1;33m:\u001b[0m\u001b[1;33m\u001b[0m\u001b[1;33m\u001b[0m\u001b[0m\n",
      "\u001b[1;32m~\\anaconda3\\envs\\learn-env\\lib\\site-packages\\nltk\\tokenize\\punkt.py\u001b[0m in \u001b[0;36m<listcomp>\u001b[1;34m(.0)\u001b[0m\n\u001b[0;32m   1326\u001b[0m         \u001b[0mfollows\u001b[0m \u001b[0mthe\u001b[0m \u001b[0mperiod\u001b[0m\u001b[1;33m.\u001b[0m\u001b[1;33m\u001b[0m\u001b[1;33m\u001b[0m\u001b[0m\n\u001b[0;32m   1327\u001b[0m         \"\"\"\n\u001b[1;32m-> 1328\u001b[1;33m         \u001b[1;32mreturn\u001b[0m \u001b[1;33m[\u001b[0m\u001b[0mtext\u001b[0m\u001b[1;33m[\u001b[0m\u001b[0ms\u001b[0m\u001b[1;33m:\u001b[0m\u001b[0me\u001b[0m\u001b[1;33m]\u001b[0m \u001b[1;32mfor\u001b[0m \u001b[0ms\u001b[0m\u001b[1;33m,\u001b[0m \u001b[0me\u001b[0m \u001b[1;32min\u001b[0m \u001b[0mself\u001b[0m\u001b[1;33m.\u001b[0m\u001b[0mspan_tokenize\u001b[0m\u001b[1;33m(\u001b[0m\u001b[0mtext\u001b[0m\u001b[1;33m,\u001b[0m \u001b[0mrealign_boundaries\u001b[0m\u001b[1;33m)\u001b[0m\u001b[1;33m]\u001b[0m\u001b[1;33m\u001b[0m\u001b[1;33m\u001b[0m\u001b[0m\n\u001b[0m\u001b[0;32m   1329\u001b[0m \u001b[1;33m\u001b[0m\u001b[0m\n\u001b[0;32m   1330\u001b[0m     \u001b[1;32mdef\u001b[0m \u001b[0m_slices_from_text\u001b[0m\u001b[1;33m(\u001b[0m\u001b[0mself\u001b[0m\u001b[1;33m,\u001b[0m \u001b[0mtext\u001b[0m\u001b[1;33m)\u001b[0m\u001b[1;33m:\u001b[0m\u001b[1;33m\u001b[0m\u001b[1;33m\u001b[0m\u001b[0m\n",
      "\u001b[1;32m~\\anaconda3\\envs\\learn-env\\lib\\site-packages\\nltk\\tokenize\\punkt.py\u001b[0m in \u001b[0;36mspan_tokenize\u001b[1;34m(self, text, realign_boundaries)\u001b[0m\n\u001b[0;32m   1316\u001b[0m         \u001b[1;32mif\u001b[0m \u001b[0mrealign_boundaries\u001b[0m\u001b[1;33m:\u001b[0m\u001b[1;33m\u001b[0m\u001b[1;33m\u001b[0m\u001b[0m\n\u001b[0;32m   1317\u001b[0m             \u001b[0mslices\u001b[0m \u001b[1;33m=\u001b[0m \u001b[0mself\u001b[0m\u001b[1;33m.\u001b[0m\u001b[0m_realign_boundaries\u001b[0m\u001b[1;33m(\u001b[0m\u001b[0mtext\u001b[0m\u001b[1;33m,\u001b[0m \u001b[0mslices\u001b[0m\u001b[1;33m)\u001b[0m\u001b[1;33m\u001b[0m\u001b[1;33m\u001b[0m\u001b[0m\n\u001b[1;32m-> 1318\u001b[1;33m         \u001b[1;32mfor\u001b[0m \u001b[0msl\u001b[0m \u001b[1;32min\u001b[0m \u001b[0mslices\u001b[0m\u001b[1;33m:\u001b[0m\u001b[1;33m\u001b[0m\u001b[1;33m\u001b[0m\u001b[0m\n\u001b[0m\u001b[0;32m   1319\u001b[0m             \u001b[1;32myield\u001b[0m \u001b[1;33m(\u001b[0m\u001b[0msl\u001b[0m\u001b[1;33m.\u001b[0m\u001b[0mstart\u001b[0m\u001b[1;33m,\u001b[0m \u001b[0msl\u001b[0m\u001b[1;33m.\u001b[0m\u001b[0mstop\u001b[0m\u001b[1;33m)\u001b[0m\u001b[1;33m\u001b[0m\u001b[1;33m\u001b[0m\u001b[0m\n\u001b[0;32m   1320\u001b[0m \u001b[1;33m\u001b[0m\u001b[0m\n",
      "\u001b[1;32m~\\anaconda3\\envs\\learn-env\\lib\\site-packages\\nltk\\tokenize\\punkt.py\u001b[0m in \u001b[0;36m_realign_boundaries\u001b[1;34m(self, text, slices)\u001b[0m\n\u001b[0;32m   1357\u001b[0m         \"\"\"\n\u001b[0;32m   1358\u001b[0m         \u001b[0mrealign\u001b[0m \u001b[1;33m=\u001b[0m \u001b[1;36m0\u001b[0m\u001b[1;33m\u001b[0m\u001b[1;33m\u001b[0m\u001b[0m\n\u001b[1;32m-> 1359\u001b[1;33m         \u001b[1;32mfor\u001b[0m \u001b[0msl1\u001b[0m\u001b[1;33m,\u001b[0m \u001b[0msl2\u001b[0m \u001b[1;32min\u001b[0m \u001b[0m_pair_iter\u001b[0m\u001b[1;33m(\u001b[0m\u001b[0mslices\u001b[0m\u001b[1;33m)\u001b[0m\u001b[1;33m:\u001b[0m\u001b[1;33m\u001b[0m\u001b[1;33m\u001b[0m\u001b[0m\n\u001b[0m\u001b[0;32m   1360\u001b[0m             \u001b[0msl1\u001b[0m \u001b[1;33m=\u001b[0m \u001b[0mslice\u001b[0m\u001b[1;33m(\u001b[0m\u001b[0msl1\u001b[0m\u001b[1;33m.\u001b[0m\u001b[0mstart\u001b[0m \u001b[1;33m+\u001b[0m \u001b[0mrealign\u001b[0m\u001b[1;33m,\u001b[0m \u001b[0msl1\u001b[0m\u001b[1;33m.\u001b[0m\u001b[0mstop\u001b[0m\u001b[1;33m)\u001b[0m\u001b[1;33m\u001b[0m\u001b[1;33m\u001b[0m\u001b[0m\n\u001b[0;32m   1361\u001b[0m             \u001b[1;32mif\u001b[0m \u001b[1;32mnot\u001b[0m \u001b[0msl2\u001b[0m\u001b[1;33m:\u001b[0m\u001b[1;33m\u001b[0m\u001b[1;33m\u001b[0m\u001b[0m\n",
      "\u001b[1;32m~\\anaconda3\\envs\\learn-env\\lib\\site-packages\\nltk\\tokenize\\punkt.py\u001b[0m in \u001b[0;36m_pair_iter\u001b[1;34m(it)\u001b[0m\n\u001b[0;32m    317\u001b[0m     \u001b[1;32mexcept\u001b[0m \u001b[0mStopIteration\u001b[0m\u001b[1;33m:\u001b[0m\u001b[1;33m\u001b[0m\u001b[1;33m\u001b[0m\u001b[0m\n\u001b[0;32m    318\u001b[0m         \u001b[1;32mreturn\u001b[0m\u001b[1;33m\u001b[0m\u001b[1;33m\u001b[0m\u001b[0m\n\u001b[1;32m--> 319\u001b[1;33m     \u001b[1;32mfor\u001b[0m \u001b[0mel\u001b[0m \u001b[1;32min\u001b[0m \u001b[0mit\u001b[0m\u001b[1;33m:\u001b[0m\u001b[1;33m\u001b[0m\u001b[1;33m\u001b[0m\u001b[0m\n\u001b[0m\u001b[0;32m    320\u001b[0m         \u001b[1;32myield\u001b[0m \u001b[1;33m(\u001b[0m\u001b[0mprev\u001b[0m\u001b[1;33m,\u001b[0m \u001b[0mel\u001b[0m\u001b[1;33m)\u001b[0m\u001b[1;33m\u001b[0m\u001b[1;33m\u001b[0m\u001b[0m\n\u001b[0;32m    321\u001b[0m         \u001b[0mprev\u001b[0m \u001b[1;33m=\u001b[0m \u001b[0mel\u001b[0m\u001b[1;33m\u001b[0m\u001b[1;33m\u001b[0m\u001b[0m\n",
      "\u001b[1;32m~\\anaconda3\\envs\\learn-env\\lib\\site-packages\\nltk\\tokenize\\punkt.py\u001b[0m in \u001b[0;36m_slices_from_text\u001b[1;34m(self, text)\u001b[0m\n\u001b[0;32m   1332\u001b[0m         \u001b[1;32mfor\u001b[0m \u001b[0mmatch\u001b[0m \u001b[1;32min\u001b[0m \u001b[0mself\u001b[0m\u001b[1;33m.\u001b[0m\u001b[0m_lang_vars\u001b[0m\u001b[1;33m.\u001b[0m\u001b[0mperiod_context_re\u001b[0m\u001b[1;33m(\u001b[0m\u001b[1;33m)\u001b[0m\u001b[1;33m.\u001b[0m\u001b[0mfinditer\u001b[0m\u001b[1;33m(\u001b[0m\u001b[0mtext\u001b[0m\u001b[1;33m)\u001b[0m\u001b[1;33m:\u001b[0m\u001b[1;33m\u001b[0m\u001b[1;33m\u001b[0m\u001b[0m\n\u001b[0;32m   1333\u001b[0m             \u001b[0mcontext\u001b[0m \u001b[1;33m=\u001b[0m \u001b[0mmatch\u001b[0m\u001b[1;33m.\u001b[0m\u001b[0mgroup\u001b[0m\u001b[1;33m(\u001b[0m\u001b[1;33m)\u001b[0m \u001b[1;33m+\u001b[0m \u001b[0mmatch\u001b[0m\u001b[1;33m.\u001b[0m\u001b[0mgroup\u001b[0m\u001b[1;33m(\u001b[0m\u001b[1;34m\"after_tok\"\u001b[0m\u001b[1;33m)\u001b[0m\u001b[1;33m\u001b[0m\u001b[1;33m\u001b[0m\u001b[0m\n\u001b[1;32m-> 1334\u001b[1;33m             \u001b[1;32mif\u001b[0m \u001b[0mself\u001b[0m\u001b[1;33m.\u001b[0m\u001b[0mtext_contains_sentbreak\u001b[0m\u001b[1;33m(\u001b[0m\u001b[0mcontext\u001b[0m\u001b[1;33m)\u001b[0m\u001b[1;33m:\u001b[0m\u001b[1;33m\u001b[0m\u001b[1;33m\u001b[0m\u001b[0m\n\u001b[0m\u001b[0;32m   1335\u001b[0m                 \u001b[1;32myield\u001b[0m \u001b[0mslice\u001b[0m\u001b[1;33m(\u001b[0m\u001b[0mlast_break\u001b[0m\u001b[1;33m,\u001b[0m \u001b[0mmatch\u001b[0m\u001b[1;33m.\u001b[0m\u001b[0mend\u001b[0m\u001b[1;33m(\u001b[0m\u001b[1;33m)\u001b[0m\u001b[1;33m)\u001b[0m\u001b[1;33m\u001b[0m\u001b[1;33m\u001b[0m\u001b[0m\n\u001b[0;32m   1336\u001b[0m                 \u001b[1;32mif\u001b[0m \u001b[0mmatch\u001b[0m\u001b[1;33m.\u001b[0m\u001b[0mgroup\u001b[0m\u001b[1;33m(\u001b[0m\u001b[1;34m\"next_tok\"\u001b[0m\u001b[1;33m)\u001b[0m\u001b[1;33m:\u001b[0m\u001b[1;33m\u001b[0m\u001b[1;33m\u001b[0m\u001b[0m\n",
      "\u001b[1;32m~\\anaconda3\\envs\\learn-env\\lib\\site-packages\\nltk\\tokenize\\punkt.py\u001b[0m in \u001b[0;36mtext_contains_sentbreak\u001b[1;34m(self, text)\u001b[0m\n\u001b[0;32m   1378\u001b[0m         \"\"\"\n\u001b[0;32m   1379\u001b[0m         \u001b[0mfound\u001b[0m \u001b[1;33m=\u001b[0m \u001b[1;32mFalse\u001b[0m  \u001b[1;31m# used to ignore last token\u001b[0m\u001b[1;33m\u001b[0m\u001b[1;33m\u001b[0m\u001b[0m\n\u001b[1;32m-> 1380\u001b[1;33m         \u001b[1;32mfor\u001b[0m \u001b[0mt\u001b[0m \u001b[1;32min\u001b[0m \u001b[0mself\u001b[0m\u001b[1;33m.\u001b[0m\u001b[0m_annotate_tokens\u001b[0m\u001b[1;33m(\u001b[0m\u001b[0mself\u001b[0m\u001b[1;33m.\u001b[0m\u001b[0m_tokenize_words\u001b[0m\u001b[1;33m(\u001b[0m\u001b[0mtext\u001b[0m\u001b[1;33m)\u001b[0m\u001b[1;33m)\u001b[0m\u001b[1;33m:\u001b[0m\u001b[1;33m\u001b[0m\u001b[1;33m\u001b[0m\u001b[0m\n\u001b[0m\u001b[0;32m   1381\u001b[0m             \u001b[1;32mif\u001b[0m \u001b[0mfound\u001b[0m\u001b[1;33m:\u001b[0m\u001b[1;33m\u001b[0m\u001b[1;33m\u001b[0m\u001b[0m\n\u001b[0;32m   1382\u001b[0m                 \u001b[1;32mreturn\u001b[0m \u001b[1;32mTrue\u001b[0m\u001b[1;33m\u001b[0m\u001b[1;33m\u001b[0m\u001b[0m\n",
      "\u001b[1;32m~\\anaconda3\\envs\\learn-env\\lib\\site-packages\\nltk\\tokenize\\punkt.py\u001b[0m in \u001b[0;36m_annotate_second_pass\u001b[1;34m(self, tokens)\u001b[0m\n\u001b[0;32m   1515\u001b[0m         \"\"\"\n\u001b[0;32m   1516\u001b[0m         \u001b[1;32mfor\u001b[0m \u001b[0mt1\u001b[0m\u001b[1;33m,\u001b[0m \u001b[0mt2\u001b[0m \u001b[1;32min\u001b[0m \u001b[0m_pair_iter\u001b[0m\u001b[1;33m(\u001b[0m\u001b[0mtokens\u001b[0m\u001b[1;33m)\u001b[0m\u001b[1;33m:\u001b[0m\u001b[1;33m\u001b[0m\u001b[1;33m\u001b[0m\u001b[0m\n\u001b[1;32m-> 1517\u001b[1;33m             \u001b[0mself\u001b[0m\u001b[1;33m.\u001b[0m\u001b[0m_second_pass_annotation\u001b[0m\u001b[1;33m(\u001b[0m\u001b[0mt1\u001b[0m\u001b[1;33m,\u001b[0m \u001b[0mt2\u001b[0m\u001b[1;33m)\u001b[0m\u001b[1;33m\u001b[0m\u001b[1;33m\u001b[0m\u001b[0m\n\u001b[0m\u001b[0;32m   1518\u001b[0m             \u001b[1;32myield\u001b[0m \u001b[0mt1\u001b[0m\u001b[1;33m\u001b[0m\u001b[1;33m\u001b[0m\u001b[0m\n\u001b[0;32m   1519\u001b[0m \u001b[1;33m\u001b[0m\u001b[0m\n",
      "\u001b[1;31mKeyboardInterrupt\u001b[0m: "
     ]
    }
   ],
   "source": [
    "df['word_count'] = df[\"Content\"].apply(lambda x: len(nltk.word_tokenize(str(x))) )\n",
    "df['char_count'] = df[\"Content\"].apply(lambda x: sum(len(word) for word in nltk.word_tokenize(str(x))) )\n",
    "df['sentence_count'] = df[\"Content\"].apply(lambda x: len(nltk.sent_tokenize(str(x))) )"
   ]
  },
  {
   "cell_type": "code",
   "execution_count": null,
   "id": "34631c76",
   "metadata": {},
   "outputs": [],
   "source": [
    "df"
   ]
  },
  {
   "cell_type": "code",
   "execution_count": null,
   "id": "dd388298",
   "metadata": {},
   "outputs": [],
   "source": []
  },
  {
   "cell_type": "code",
   "execution_count": null,
   "id": "bd83c38d",
   "metadata": {},
   "outputs": [],
   "source": []
  },
  {
   "cell_type": "markdown",
   "id": "4669ba9f",
   "metadata": {},
   "source": [
    "# Preprocessing Data"
   ]
  },
  {
   "cell_type": "code",
   "execution_count": 19,
   "id": "da5622a9",
   "metadata": {},
   "outputs": [
    {
     "data": {
      "text/html": [
       "<div>\n",
       "<style scoped>\n",
       "    .dataframe tbody tr th:only-of-type {\n",
       "        vertical-align: middle;\n",
       "    }\n",
       "\n",
       "    .dataframe tbody tr th {\n",
       "        vertical-align: top;\n",
       "    }\n",
       "\n",
       "    .dataframe thead th {\n",
       "        text-align: right;\n",
       "    }\n",
       "</style>\n",
       "<table border=\"1\" class=\"dataframe\">\n",
       "  <thead>\n",
       "    <tr style=\"text-align: right;\">\n",
       "      <th></th>\n",
       "      <th>Publication</th>\n",
       "      <th>Content</th>\n",
       "      <th>Bias</th>\n",
       "    </tr>\n",
       "  </thead>\n",
       "  <tbody>\n",
       "    <tr>\n",
       "      <th>0</th>\n",
       "      <td>CNN</td>\n",
       "      <td>Istanbul (CNN) At least 39 people were killed ...</td>\n",
       "      <td>Left</td>\n",
       "    </tr>\n",
       "    <tr>\n",
       "      <th>1</th>\n",
       "      <td>CNN</td>\n",
       "      <td>Atlanta (CNN) This season’s College Football P...</td>\n",
       "      <td>Left</td>\n",
       "    </tr>\n",
       "    <tr>\n",
       "      <th>2</th>\n",
       "      <td>CNN</td>\n",
       "      <td>(CNN) Revelers on the United States’ west coa...</td>\n",
       "      <td>Left</td>\n",
       "    </tr>\n",
       "    <tr>\n",
       "      <th>3</th>\n",
       "      <td>CNN</td>\n",
       "      <td>West Palm Beach, Florida (CNN)  Donald Trump s...</td>\n",
       "      <td>Left</td>\n",
       "    </tr>\n",
       "    <tr>\n",
       "      <th>4</th>\n",
       "      <td>CNN</td>\n",
       "      <td>(CNN) Two small planes collided in Texas on S...</td>\n",
       "      <td>Left</td>\n",
       "    </tr>\n",
       "    <tr>\n",
       "      <th>...</th>\n",
       "      <td>...</td>\n",
       "      <td>...</td>\n",
       "      <td>...</td>\n",
       "    </tr>\n",
       "    <tr>\n",
       "      <th>85360</th>\n",
       "      <td>National Review</td>\n",
       "      <td>I first read Thomas Sowell in college  —   no ...</td>\n",
       "      <td>Right</td>\n",
       "    </tr>\n",
       "    <tr>\n",
       "      <th>85361</th>\n",
       "      <td>National Review</td>\n",
       "      <td>Whether it’s celebrated according to the Grego...</td>\n",
       "      <td>Right</td>\n",
       "    </tr>\n",
       "    <tr>\n",
       "      <th>85362</th>\n",
       "      <td>National Review</td>\n",
       "      <td>Editor’s Note: This piece first appeared in th...</td>\n",
       "      <td>Right</td>\n",
       "    </tr>\n",
       "    <tr>\n",
       "      <th>85363</th>\n",
       "      <td>National Review</td>\n",
       "      <td>Israel would seem to be in a disastrous positi...</td>\n",
       "      <td>Right</td>\n",
       "    </tr>\n",
       "    <tr>\n",
       "      <th>85364</th>\n",
       "      <td>National Review</td>\n",
       "      <td>The year 2016 was a good one for books by men ...</td>\n",
       "      <td>Right</td>\n",
       "    </tr>\n",
       "  </tbody>\n",
       "</table>\n",
       "<p>85364 rows × 3 columns</p>\n",
       "</div>"
      ],
      "text/plain": [
       "           Publication                                            Content  \\\n",
       "0                  CNN  Istanbul (CNN) At least 39 people were killed ...   \n",
       "1                  CNN  Atlanta (CNN) This season’s College Football P...   \n",
       "2                  CNN   (CNN) Revelers on the United States’ west coa...   \n",
       "3                  CNN  West Palm Beach, Florida (CNN)  Donald Trump s...   \n",
       "4                  CNN   (CNN) Two small planes collided in Texas on S...   \n",
       "...                ...                                                ...   \n",
       "85360  National Review  I first read Thomas Sowell in college  —   no ...   \n",
       "85361  National Review  Whether it’s celebrated according to the Grego...   \n",
       "85362  National Review  Editor’s Note: This piece first appeared in th...   \n",
       "85363  National Review  Israel would seem to be in a disastrous positi...   \n",
       "85364  National Review  The year 2016 was a good one for books by men ...   \n",
       "\n",
       "        Bias  \n",
       "0       Left  \n",
       "1       Left  \n",
       "2       Left  \n",
       "3       Left  \n",
       "4       Left  \n",
       "...      ...  \n",
       "85360  Right  \n",
       "85361  Right  \n",
       "85362  Right  \n",
       "85363  Right  \n",
       "85364  Right  \n",
       "\n",
       "[85364 rows x 3 columns]"
      ]
     },
     "execution_count": 19,
     "metadata": {},
     "output_type": "execute_result"
    }
   ],
   "source": [
    "df"
   ]
  },
  {
   "cell_type": "code",
   "execution_count": 371,
   "id": "6844c998",
   "metadata": {},
   "outputs": [],
   "source": [
    "#If we did a multi class\n",
    "dict_sent = {'Left':0, \n",
    "             'Center':1,\n",
    "             'Right':2}\n",
    "df[\"num_bias\"] = df[\"Bias\"].map(dict_sent)"
   ]
  },
  {
   "cell_type": "code",
   "execution_count": 372,
   "id": "fb68259a",
   "metadata": {},
   "outputs": [
    {
     "data": {
      "text/html": [
       "<div>\n",
       "<style scoped>\n",
       "    .dataframe tbody tr th:only-of-type {\n",
       "        vertical-align: middle;\n",
       "    }\n",
       "\n",
       "    .dataframe tbody tr th {\n",
       "        vertical-align: top;\n",
       "    }\n",
       "\n",
       "    .dataframe thead th {\n",
       "        text-align: right;\n",
       "    }\n",
       "</style>\n",
       "<table border=\"1\" class=\"dataframe\">\n",
       "  <thead>\n",
       "    <tr style=\"text-align: right;\">\n",
       "      <th></th>\n",
       "      <th>Publication</th>\n",
       "      <th>Content</th>\n",
       "      <th>Bias</th>\n",
       "      <th>num_bias</th>\n",
       "      <th>processed_content</th>\n",
       "    </tr>\n",
       "  </thead>\n",
       "  <tbody>\n",
       "    <tr>\n",
       "      <th>0</th>\n",
       "      <td>CNN</td>\n",
       "      <td>Istanbul (CNN) At least 39 people were killed ...</td>\n",
       "      <td>Left</td>\n",
       "      <td>0</td>\n",
       "      <td>istanbul least people killed least wounded att...</td>\n",
       "    </tr>\n",
       "    <tr>\n",
       "      <th>1</th>\n",
       "      <td>CNN</td>\n",
       "      <td>Atlanta (CNN) This season’s College Football P...</td>\n",
       "      <td>Left</td>\n",
       "      <td>0</td>\n",
       "      <td>atlanta season college football playoff center...</td>\n",
       "    </tr>\n",
       "    <tr>\n",
       "      <th>2</th>\n",
       "      <td>CNN</td>\n",
       "      <td>(CNN) Revelers on the United States’ west coa...</td>\n",
       "      <td>Left</td>\n",
       "      <td>0</td>\n",
       "      <td>reveler united state west coast cheered advent...</td>\n",
       "    </tr>\n",
       "    <tr>\n",
       "      <th>3</th>\n",
       "      <td>CNN</td>\n",
       "      <td>West Palm Beach, Florida (CNN)  Donald Trump s...</td>\n",
       "      <td>Left</td>\n",
       "      <td>0</td>\n",
       "      <td>west palm beach florida donald trump said satu...</td>\n",
       "    </tr>\n",
       "    <tr>\n",
       "      <th>4</th>\n",
       "      <td>CNN</td>\n",
       "      <td>(CNN) Two small planes collided in Texas on S...</td>\n",
       "      <td>Left</td>\n",
       "      <td>0</td>\n",
       "      <td>two small plane collided texas saturday killin...</td>\n",
       "    </tr>\n",
       "  </tbody>\n",
       "</table>\n",
       "</div>"
      ],
      "text/plain": [
       "  Publication                                            Content  Bias  \\\n",
       "0         CNN  Istanbul (CNN) At least 39 people were killed ...  Left   \n",
       "1         CNN  Atlanta (CNN) This season’s College Football P...  Left   \n",
       "2         CNN   (CNN) Revelers on the United States’ west coa...  Left   \n",
       "3         CNN  West Palm Beach, Florida (CNN)  Donald Trump s...  Left   \n",
       "4         CNN   (CNN) Two small planes collided in Texas on S...  Left   \n",
       "\n",
       "   num_bias                                  processed_content  \n",
       "0         0  istanbul least people killed least wounded att...  \n",
       "1         0  atlanta season college football playoff center...  \n",
       "2         0  reveler united state west coast cheered advent...  \n",
       "3         0  west palm beach florida donald trump said satu...  \n",
       "4         0  two small plane collided texas saturday killin...  "
      ]
     },
     "execution_count": 372,
     "metadata": {},
     "output_type": "execute_result"
    }
   ],
   "source": [
    "df.head()"
   ]
  },
  {
   "cell_type": "code",
   "execution_count": 373,
   "id": "f3467dc0",
   "metadata": {},
   "outputs": [
    {
     "data": {
      "text/html": [
       "<div>\n",
       "<style scoped>\n",
       "    .dataframe tbody tr th:only-of-type {\n",
       "        vertical-align: middle;\n",
       "    }\n",
       "\n",
       "    .dataframe tbody tr th {\n",
       "        vertical-align: top;\n",
       "    }\n",
       "\n",
       "    .dataframe thead th {\n",
       "        text-align: right;\n",
       "    }\n",
       "</style>\n",
       "<table border=\"1\" class=\"dataframe\">\n",
       "  <thead>\n",
       "    <tr style=\"text-align: right;\">\n",
       "      <th></th>\n",
       "      <th>Publication</th>\n",
       "      <th>Content</th>\n",
       "      <th>Bias</th>\n",
       "      <th>num_bias</th>\n",
       "      <th>processed_content</th>\n",
       "    </tr>\n",
       "  </thead>\n",
       "  <tbody>\n",
       "    <tr>\n",
       "      <th>45001</th>\n",
       "      <td>The Hill</td>\n",
       "      <td>Rep. Al GreenAlexander (Al) N. GreenWe need a ...</td>\n",
       "      <td>Center</td>\n",
       "      <td>1</td>\n",
       "      <td>rep al greenalexander al greenwe need climate ...</td>\n",
       "    </tr>\n",
       "    <tr>\n",
       "      <th>45002</th>\n",
       "      <td>The Hill</td>\n",
       "      <td>View the discussion thread. The Hill 1625 K St...</td>\n",
       "      <td>Center</td>\n",
       "      <td>1</td>\n",
       "      <td></td>\n",
       "    </tr>\n",
       "    <tr>\n",
       "      <th>45003</th>\n",
       "      <td>The Hill</td>\n",
       "      <td>Rep. Al GreenAlexander (Al) N. GreenWe need a ...</td>\n",
       "      <td>Center</td>\n",
       "      <td>1</td>\n",
       "      <td>rep al greenalexander al greenwe need climate ...</td>\n",
       "    </tr>\n",
       "    <tr>\n",
       "      <th>45004</th>\n",
       "      <td>The Hill</td>\n",
       "      <td>The public health community has been closely w...</td>\n",
       "      <td>Center</td>\n",
       "      <td>1</td>\n",
       "      <td>public health community closely watching propo...</td>\n",
       "    </tr>\n",
       "    <tr>\n",
       "      <th>45005</th>\n",
       "      <td>The Hill</td>\n",
       "      <td>One of the contributing factors that led to Do...</td>\n",
       "      <td>Center</td>\n",
       "      <td>1</td>\n",
       "      <td>one contributing factor led donald trump elect...</td>\n",
       "    </tr>\n",
       "  </tbody>\n",
       "</table>\n",
       "</div>"
      ],
      "text/plain": [
       "      Publication                                            Content    Bias  \\\n",
       "45001    The Hill  Rep. Al GreenAlexander (Al) N. GreenWe need a ...  Center   \n",
       "45002    The Hill  View the discussion thread. The Hill 1625 K St...  Center   \n",
       "45003    The Hill  Rep. Al GreenAlexander (Al) N. GreenWe need a ...  Center   \n",
       "45004    The Hill  The public health community has been closely w...  Center   \n",
       "45005    The Hill  One of the contributing factors that led to Do...  Center   \n",
       "\n",
       "       num_bias                                  processed_content  \n",
       "45001         1  rep al greenalexander al greenwe need climate ...  \n",
       "45002         1                                                     \n",
       "45003         1  rep al greenalexander al greenwe need climate ...  \n",
       "45004         1  public health community closely watching propo...  \n",
       "45005         1  one contributing factor led donald trump elect...  "
      ]
     },
     "execution_count": 373,
     "metadata": {},
     "output_type": "execute_result"
    }
   ],
   "source": [
    "df.iloc[45000:45005]"
   ]
  },
  {
   "cell_type": "code",
   "execution_count": 374,
   "id": "273592a5",
   "metadata": {},
   "outputs": [
    {
     "data": {
      "text/html": [
       "<div>\n",
       "<style scoped>\n",
       "    .dataframe tbody tr th:only-of-type {\n",
       "        vertical-align: middle;\n",
       "    }\n",
       "\n",
       "    .dataframe tbody tr th {\n",
       "        vertical-align: top;\n",
       "    }\n",
       "\n",
       "    .dataframe thead th {\n",
       "        text-align: right;\n",
       "    }\n",
       "</style>\n",
       "<table border=\"1\" class=\"dataframe\">\n",
       "  <thead>\n",
       "    <tr style=\"text-align: right;\">\n",
       "      <th></th>\n",
       "      <th>Publication</th>\n",
       "      <th>Content</th>\n",
       "      <th>Bias</th>\n",
       "      <th>num_bias</th>\n",
       "      <th>processed_content</th>\n",
       "    </tr>\n",
       "  </thead>\n",
       "  <tbody>\n",
       "    <tr>\n",
       "      <th>85360</th>\n",
       "      <td>National Review</td>\n",
       "      <td>I first read Thomas Sowell in college  —   no ...</td>\n",
       "      <td>Right</td>\n",
       "      <td>2</td>\n",
       "      <td>first read thomas sowell college thanks colleg...</td>\n",
       "    </tr>\n",
       "    <tr>\n",
       "      <th>85361</th>\n",
       "      <td>National Review</td>\n",
       "      <td>Whether it’s celebrated according to the Grego...</td>\n",
       "      <td>Right</td>\n",
       "      <td>2</td>\n",
       "      <td>whether celebrated according gregorian julian ...</td>\n",
       "    </tr>\n",
       "    <tr>\n",
       "      <th>85362</th>\n",
       "      <td>National Review</td>\n",
       "      <td>Editor’s Note: This piece first appeared in th...</td>\n",
       "      <td>Right</td>\n",
       "      <td>2</td>\n",
       "      <td>editor note piece first appeared april issue n...</td>\n",
       "    </tr>\n",
       "    <tr>\n",
       "      <th>85363</th>\n",
       "      <td>National Review</td>\n",
       "      <td>Israel would seem to be in a disastrous positi...</td>\n",
       "      <td>Right</td>\n",
       "      <td>2</td>\n",
       "      <td>israel would seem disastrous position given in...</td>\n",
       "    </tr>\n",
       "    <tr>\n",
       "      <th>85364</th>\n",
       "      <td>National Review</td>\n",
       "      <td>The year 2016 was a good one for books by men ...</td>\n",
       "      <td>Right</td>\n",
       "      <td>2</td>\n",
       "      <td>year good one book men named yuval past year r...</td>\n",
       "    </tr>\n",
       "  </tbody>\n",
       "</table>\n",
       "</div>"
      ],
      "text/plain": [
       "           Publication                                            Content  \\\n",
       "85360  National Review  I first read Thomas Sowell in college  —   no ...   \n",
       "85361  National Review  Whether it’s celebrated according to the Grego...   \n",
       "85362  National Review  Editor’s Note: This piece first appeared in th...   \n",
       "85363  National Review  Israel would seem to be in a disastrous positi...   \n",
       "85364  National Review  The year 2016 was a good one for books by men ...   \n",
       "\n",
       "        Bias  num_bias                                  processed_content  \n",
       "85360  Right         2  first read thomas sowell college thanks colleg...  \n",
       "85361  Right         2  whether celebrated according gregorian julian ...  \n",
       "85362  Right         2  editor note piece first appeared april issue n...  \n",
       "85363  Right         2  israel would seem disastrous position given in...  \n",
       "85364  Right         2  year good one book men named yuval past year r...  "
      ]
     },
     "execution_count": 374,
     "metadata": {},
     "output_type": "execute_result"
    }
   ],
   "source": [
    "df.tail()"
   ]
  },
  {
   "cell_type": "code",
   "execution_count": 277,
   "id": "2eee3748",
   "metadata": {},
   "outputs": [],
   "source": [
    "tokenizer = RegexpTokenizer(r\"(?u)\\b\\w\\w+\\b\")\n",
    "lemma = WordNetLemmatizer()"
   ]
  },
  {
   "cell_type": "code",
   "execution_count": 278,
   "id": "e4c88c18",
   "metadata": {},
   "outputs": [
    {
     "data": {
      "text/plain": [
       "['cnn', 'vox', 'reuters', 'the hill', 'breitbart', 'national review']"
      ]
     },
     "execution_count": 278,
     "metadata": {},
     "output_type": "execute_result"
    }
   ],
   "source": [
    "source = list(df[\"Publication\"].unique())\n",
    "source = (map(lambda x: x.lower(), source))\n",
    "source = list(source)\n",
    "source"
   ]
  },
  {
   "cell_type": "code",
   "execution_count": 279,
   "id": "3d69a56c",
   "metadata": {},
   "outputs": [
    {
     "name": "stdout",
     "output_type": "stream",
     "text": [
      "['i', 'me', 'my', 'myself', 'we', 'our', 'ours', 'ourselves', 'you', \"you're\", \"you've\", \"you'll\", \"you'd\", 'your', 'yours', 'yourself', 'yourselves', 'he', 'him', 'his', 'himself', 'she', \"she's\", 'her', 'hers', 'herself', 'it', \"it's\", 'its', 'itself', 'they', 'them', 'their', 'theirs', 'themselves', 'what', 'which', 'who', 'whom', 'this', 'that', \"that'll\", 'these', 'those', 'am', 'is', 'are', 'was', 'were', 'be', 'been', 'being', 'have', 'has', 'had', 'having', 'do', 'does', 'did', 'doing', 'a', 'an', 'the', 'and', 'but', 'if', 'or', 'because', 'as', 'until', 'while', 'of', 'at', 'by', 'for', 'with', 'about', 'against', 'between', 'into', 'through', 'during', 'before', 'after', 'above', 'below', 'to', 'from', 'up', 'down', 'in', 'out', 'on', 'off', 'over', 'under', 'again', 'further', 'then', 'once', 'here', 'there', 'when', 'where', 'why', 'how', 'all', 'any', 'both', 'each', 'few', 'more', 'most', 'other', 'some', 'such', 'no', 'nor', 'not', 'only', 'own', 'same', 'so', 'than', 'too', 'very', 's', 't', 'can', 'will', 'just', 'don', \"don't\", 'should', \"should've\", 'now', 'd', 'll', 'm', 'o', 're', 've', 'y', 'ain', 'aren', \"aren't\", 'couldn', \"couldn't\", 'didn', \"didn't\", 'doesn', \"doesn't\", 'hadn', \"hadn't\", 'hasn', \"hasn't\", 'haven', \"haven't\", 'isn', \"isn't\", 'ma', 'mightn', \"mightn't\", 'mustn', \"mustn't\", 'needn', \"needn't\", 'shan', \"shan't\", 'shouldn', \"shouldn't\", 'wasn', \"wasn't\", 'weren', \"weren't\", 'won', \"won't\", 'wouldn', \"wouldn't\", '!', '\"', '#', '$', '%', '&', \"'\", '(', ')', '*', '+', ',', '-', '.', '/', ':', ';', '<', '=', '>', '?', '@', '[', '\\\\', ']', '^', '_', '`', '{', '|', '}', '~', 'cnn', 'vox', 'reuters', 'the hill', 'breitbart', 'national review']\n"
     ]
    }
   ],
   "source": [
    "stopwords_list = stopwords.words(\"english\")\n",
    "stopwords_list += string.punctuation\n",
    "stopwords_list += source\n",
    "print(stopwords_list)"
   ]
  },
  {
   "cell_type": "code",
   "execution_count": 28,
   "id": "779bc7be",
   "metadata": {},
   "outputs": [
    {
     "data": {
      "text/plain": [
       "[0, 1, 2, 3, 4, 5, 6, 7, 8, 9]"
      ]
     },
     "execution_count": 28,
     "metadata": {},
     "output_type": "execute_result"
    }
   ],
   "source": [
    "nums = [i for i in range(10)]\n",
    "nums"
   ]
  },
  {
   "cell_type": "code",
   "execution_count": 261,
   "id": "74c50154",
   "metadata": {},
   "outputs": [
    {
     "data": {
      "text/plain": [
       "'Rock band Papa Roach took a swing at Paul RyanPaul  Davis RyanEmbattled Juul seeks allies in Washington Ex-Parkland students criticize Kellyanne Conway Latina leaders: \\'It\\'s a women\\'s world more than anything\\' MORE on Twitter after being the butt of a social media joke about the House Speaker. A viral meme late Friday imagined a phony New York Times report that Ryan was heard listening to Papa Roach\\'s 2000 hit \"Last Resort\" as he drove away from the White House after the GOP\\'s healthcare bill was pulled from the floor in the face of certain failure. The original tweet, by comedian Justin Halpern, echoed throughout Twitter, unleashing a torrent of Papa Roach references and jokes about Ryan\\'s musical taste. Some on social media were even confused over whether it was a real New York Times report. ooof the kicker on this New York Times story...\\xa0pic.twitter.com/YO6Wq3k5vK Halpern later tweeted: \"I honestly thought my Paul Ryan/ Papa Roach photoshop joke was obvious,\" decrying the confusion over it\\'s legitimacy.\\xa0 Papa Roach itself chimed in on Twitter, taking a dig at Ryan for pulling his ObamaCare repeal bill from the floor. \"When we feel defeated we listen to Paul Ryan,\" the band tweeted.\\xa0 When we feel defeated we listen to Paul Ryan. #RoachGate\\xa0pic.twitter.com/40LAbYJGXh Papa Roach also sought to use their viral moment to raise mental health awareness, noting in another tweet that \"Last Resort\" was about suicidal feelings and urging anyone with similar feelings to reach out to a help-line. \\xa0 ...but seriously Last Resort was written about suicide, if anyone is feeling defeated get help at\\xa0@800273TALK View the discussion thread. The Hill 1625 K Street, NW Suite 900 Washington DC 20006 | 202-628-8500 tel | 202-628-8503 fax The contents of this site are ©2019 Capitol Hill Publishing Corp., a subsidiary of News Communications, Inc.'"
      ]
     },
     "execution_count": 261,
     "metadata": {},
     "output_type": "execute_result"
    }
   ],
   "source": [
    "test = df[\"Content\"].iloc[random.randint(0,df.shape[0])]\n",
    "test"
   ]
  },
  {
   "cell_type": "code",
   "execution_count": 263,
   "id": "e123f26c",
   "metadata": {},
   "outputs": [],
   "source": [
    "test = test.lower()"
   ]
  },
  {
   "cell_type": "code",
   "execution_count": 262,
   "id": "43a7d0ed",
   "metadata": {},
   "outputs": [],
   "source": [
    "pattern = \"((@[a-zA-Z0-9_-]+)((?=\\s+)|$|[!?.,-]))\"\n",
    "pattern1 =  \"((the views expressed by)([\\s\\S]*)$)\"\n",
    "pattern2 = \"([\\d.])\"\n",
    "pattern3 = \"(http\\S+)\"\n",
    "pattern4 = \"((view the discussion thread.)([\\s\\S]*)$)\"\n",
    "pattern5 = \"((pic.)?twitter\\.com\\/[A-Za-z0-9_]{5,1000}(\\?(\\w+=\\w+&?)*)?)\""
   ]
  },
  {
   "cell_type": "code",
   "execution_count": null,
   "id": "fdb437d7",
   "metadata": {},
   "outputs": [],
   "source": []
  },
  {
   "cell_type": "code",
   "execution_count": null,
   "id": "246a17eb",
   "metadata": {},
   "outputs": [],
   "source": [
    " ((pic.)?twitter\\.com\\/[A-Za-z0-9_]{5,1000}(\\?(\\w+=\\w+&?)*)?) | \\\n",
    "                ([^\\x00-\\x7F]+\\ *(?:[^\\x00-\\x7F]| )*)|((view the discussion thread.)([\\s\\S]*)$)|\\\n",
    "                ((the views expressed by contributors are their own and not the views of the hill.)([\\s\\S]*)$)|(http\\S+)|([\\d.])"
   ]
  },
  {
   "cell_type": "code",
   "execution_count": 264,
   "id": "8aab45e8",
   "metadata": {},
   "outputs": [
    {
     "data": {
      "text/plain": [
       "'rock band papa roach took a swing at paul ryanpaul  davis ryanembattled juul seeks allies in washington ex-parkland students criticize kellyanne conway latina leaders: \\'it\\'s a women\\'s world more than anything\\' more on twitter after being the butt of a social media joke about the house speaker. a viral meme late friday imagined a phony new york times report that ryan was heard listening to papa roach\\'s 2000 hit \"last resort\" as he drove away from the white house after the gop\\'s healthcare bill was pulled from the floor in the face of certain failure. the original tweet, by comedian justin halpern, echoed throughout twitter, unleashing a torrent of papa roach references and jokes about ryan\\'s musical taste. some on social media were even confused over whether it was a real new york times report. ooof the kicker on this new york times story...\\xa0pic.twitter.com/yo6wq3k5vk halpern later tweeted: \"i honestly thought my paul ryan/ papa roach photoshop joke was obvious,\" decrying the confusion over it\\'s legitimacy.\\xa0 papa roach itself chimed in on twitter, taking a dig at ryan for pulling his obamacare repeal bill from the floor. \"when we feel defeated we listen to paul ryan,\" the band tweeted.\\xa0 when we feel defeated we listen to paul ryan. #roachgate\\xa0pic.twitter.com/40labyjgxh papa roach also sought to use their viral moment to raise mental health awareness, noting in another tweet that \"last resort\" was about suicidal feelings and urging anyone with similar feelings to reach out to a help-line. \\xa0 ...but seriously last resort was written about suicide, if anyone is feeling defeated get help at\\xa0 view the discussion thread. the hill 1625 k street, nw suite 900 washington dc 20006 | 202-628-8500 tel | 202-628-8503 fax the contents of this site are ©2019 capitol hill publishing corp., a subsidiary of news communications, inc.'"
      ]
     },
     "execution_count": 264,
     "metadata": {},
     "output_type": "execute_result"
    }
   ],
   "source": [
    "test = re.sub(pattern,\"\", test)\n",
    "test"
   ]
  },
  {
   "cell_type": "code",
   "execution_count": 265,
   "id": "92c8f6d9",
   "metadata": {
    "scrolled": true
   },
   "outputs": [
    {
     "data": {
      "text/plain": [
       "'rock band papa roach took a swing at paul ryanpaul  davis ryanembattled juul seeks allies in washington ex-parkland students criticize kellyanne conway latina leaders: \\'it\\'s a women\\'s world more than anything\\' more on twitter after being the butt of a social media joke about the house speaker. a viral meme late friday imagined a phony new york times report that ryan was heard listening to papa roach\\'s 2000 hit \"last resort\" as he drove away from the white house after the gop\\'s healthcare bill was pulled from the floor in the face of certain failure. the original tweet, by comedian justin halpern, echoed throughout twitter, unleashing a torrent of papa roach references and jokes about ryan\\'s musical taste. some on social media were even confused over whether it was a real new york times report. ooof the kicker on this new york times story...\\xa0pic.twitter.com/yo6wq3k5vk halpern later tweeted: \"i honestly thought my paul ryan/ papa roach photoshop joke was obvious,\" decrying the confusion over it\\'s legitimacy.\\xa0 papa roach itself chimed in on twitter, taking a dig at ryan for pulling his obamacare repeal bill from the floor. \"when we feel defeated we listen to paul ryan,\" the band tweeted.\\xa0 when we feel defeated we listen to paul ryan. #roachgate\\xa0pic.twitter.com/40labyjgxh papa roach also sought to use their viral moment to raise mental health awareness, noting in another tweet that \"last resort\" was about suicidal feelings and urging anyone with similar feelings to reach out to a help-line. \\xa0 ...but seriously last resort was written about suicide, if anyone is feeling defeated get help at\\xa0 view the discussion thread. the hill 1625 k street, nw suite 900 washington dc 20006 | 202-628-8500 tel | 202-628-8503 fax the contents of this site are ©2019 capitol hill publishing corp., a subsidiary of news communications, inc.'"
      ]
     },
     "execution_count": 265,
     "metadata": {},
     "output_type": "execute_result"
    }
   ],
   "source": [
    "test =  re.sub(pattern1,\"\", test)\n",
    "test"
   ]
  },
  {
   "cell_type": "code",
   "execution_count": 266,
   "id": "483bf7f9",
   "metadata": {},
   "outputs": [
    {
     "data": {
      "text/plain": [
       "'rock band papa roach took a swing at paul ryanpaul  davis ryanembattled juul seeks allies in washington ex-parkland students criticize kellyanne conway latina leaders: \\'it\\'s a women\\'s world more than anything\\' more on twitter after being the butt of a social media joke about the house speaker. a viral meme late friday imagined a phony new york times report that ryan was heard listening to papa roach\\'s 2000 hit \"last resort\" as he drove away from the white house after the gop\\'s healthcare bill was pulled from the floor in the face of certain failure. the original tweet, by comedian justin halpern, echoed throughout twitter, unleashing a torrent of papa roach references and jokes about ryan\\'s musical taste. some on social media were even confused over whether it was a real new york times report. ooof the kicker on this new york times story...\\xa0 halpern later tweeted: \"i honestly thought my paul ryan/ papa roach photoshop joke was obvious,\" decrying the confusion over it\\'s legitimacy.\\xa0 papa roach itself chimed in on twitter, taking a dig at ryan for pulling his obamacare repeal bill from the floor. \"when we feel defeated we listen to paul ryan,\" the band tweeted.\\xa0 when we feel defeated we listen to paul ryan. #roachgate\\xa0 papa roach also sought to use their viral moment to raise mental health awareness, noting in another tweet that \"last resort\" was about suicidal feelings and urging anyone with similar feelings to reach out to a help-line. \\xa0 ...but seriously last resort was written about suicide, if anyone is feeling defeated get help at\\xa0 view the discussion thread. the hill 1625 k street, nw suite 900 washington dc 20006 | 202-628-8500 tel | 202-628-8503 fax the contents of this site are ©2019 capitol hill publishing corp., a subsidiary of news communications, inc.'"
      ]
     },
     "execution_count": 266,
     "metadata": {},
     "output_type": "execute_result"
    }
   ],
   "source": [
    "test =  re.sub(pattern5,\"\", test)\n",
    "test"
   ]
  },
  {
   "cell_type": "code",
   "execution_count": 267,
   "id": "62432af7",
   "metadata": {},
   "outputs": [
    {
     "data": {
      "text/plain": [
       "'rock band papa roach took a swing at paul ryanpaul  davis ryanembattled juul seeks allies in washington ex-parkland students criticize kellyanne conway latina leaders: \\'it\\'s a women\\'s world more than anything\\' more on twitter after being the butt of a social media joke about the house speaker a viral meme late friday imagined a phony new york times report that ryan was heard listening to papa roach\\'s  hit \"last resort\" as he drove away from the white house after the gop\\'s healthcare bill was pulled from the floor in the face of certain failure the original tweet, by comedian justin halpern, echoed throughout twitter, unleashing a torrent of papa roach references and jokes about ryan\\'s musical taste some on social media were even confused over whether it was a real new york times report ooof the kicker on this new york times story\\xa0 halpern later tweeted: \"i honestly thought my paul ryan/ papa roach photoshop joke was obvious,\" decrying the confusion over it\\'s legitimacy\\xa0 papa roach itself chimed in on twitter, taking a dig at ryan for pulling his obamacare repeal bill from the floor \"when we feel defeated we listen to paul ryan,\" the band tweeted\\xa0 when we feel defeated we listen to paul ryan #roachgate\\xa0 papa roach also sought to use their viral moment to raise mental health awareness, noting in another tweet that \"last resort\" was about suicidal feelings and urging anyone with similar feelings to reach out to a help-line \\xa0 but seriously last resort was written about suicide, if anyone is feeling defeated get help at\\xa0 view the discussion thread the hill  k street, nw suite  washington dc  | -- tel | -- fax the contents of this site are © capitol hill publishing corp, a subsidiary of news communications, inc'"
      ]
     },
     "execution_count": 267,
     "metadata": {},
     "output_type": "execute_result"
    }
   ],
   "source": [
    "test =  re.sub(pattern2,\"\", test)\n",
    "test"
   ]
  },
  {
   "cell_type": "code",
   "execution_count": 268,
   "id": "9d168a1d",
   "metadata": {},
   "outputs": [
    {
     "data": {
      "text/plain": [
       "'rock band papa roach took a swing at paul ryanpaul  davis ryanembattled juul seeks allies in washington ex-parkland students criticize kellyanne conway latina leaders: \\'it\\'s a women\\'s world more than anything\\' more on twitter after being the butt of a social media joke about the house speaker a viral meme late friday imagined a phony new york times report that ryan was heard listening to papa roach\\'s  hit \"last resort\" as he drove away from the white house after the gop\\'s healthcare bill was pulled from the floor in the face of certain failure the original tweet, by comedian justin halpern, echoed throughout twitter, unleashing a torrent of papa roach references and jokes about ryan\\'s musical taste some on social media were even confused over whether it was a real new york times report ooof the kicker on this new york times story\\xa0 halpern later tweeted: \"i honestly thought my paul ryan/ papa roach photoshop joke was obvious,\" decrying the confusion over it\\'s legitimacy\\xa0 papa roach itself chimed in on twitter, taking a dig at ryan for pulling his obamacare repeal bill from the floor \"when we feel defeated we listen to paul ryan,\" the band tweeted\\xa0 when we feel defeated we listen to paul ryan #roachgate\\xa0 papa roach also sought to use their viral moment to raise mental health awareness, noting in another tweet that \"last resort\" was about suicidal feelings and urging anyone with similar feelings to reach out to a help-line \\xa0 but seriously last resort was written about suicide, if anyone is feeling defeated get help at\\xa0 view the discussion thread the hill  k street, nw suite  washington dc  | -- tel | -- fax the contents of this site are © capitol hill publishing corp, a subsidiary of news communications, inc'"
      ]
     },
     "execution_count": 268,
     "metadata": {},
     "output_type": "execute_result"
    }
   ],
   "source": [
    "test =  re.sub(pattern3,\"\", test)\n",
    "test"
   ]
  },
  {
   "cell_type": "code",
   "execution_count": 269,
   "id": "9965db75",
   "metadata": {},
   "outputs": [
    {
     "data": {
      "text/plain": [
       "'rock band papa roach took a swing at paul ryanpaul  davis ryanembattled juul seeks allies in washington ex-parkland students criticize kellyanne conway latina leaders: \\'it\\'s a women\\'s world more than anything\\' more on twitter after being the butt of a social media joke about the house speaker a viral meme late friday imagined a phony new york times report that ryan was heard listening to papa roach\\'s  hit \"last resort\" as he drove away from the white house after the gop\\'s healthcare bill was pulled from the floor in the face of certain failure the original tweet, by comedian justin halpern, echoed throughout twitter, unleashing a torrent of papa roach references and jokes about ryan\\'s musical taste some on social media were even confused over whether it was a real new york times report ooof the kicker on this new york times story\\xa0 halpern later tweeted: \"i honestly thought my paul ryan/ papa roach photoshop joke was obvious,\" decrying the confusion over it\\'s legitimacy\\xa0 papa roach itself chimed in on twitter, taking a dig at ryan for pulling his obamacare repeal bill from the floor \"when we feel defeated we listen to paul ryan,\" the band tweeted\\xa0 when we feel defeated we listen to paul ryan #roachgate\\xa0 papa roach also sought to use their viral moment to raise mental health awareness, noting in another tweet that \"last resort\" was about suicidal feelings and urging anyone with similar feelings to reach out to a help-line \\xa0 but seriously last resort was written about suicide, if anyone is feeling defeated get help at\\xa0 '"
      ]
     },
     "execution_count": 269,
     "metadata": {},
     "output_type": "execute_result"
    }
   ],
   "source": [
    "test =  re.sub(pattern4,\"\", test)\n",
    "test"
   ]
  },
  {
   "cell_type": "code",
   "execution_count": 270,
   "id": "b203b0eb",
   "metadata": {},
   "outputs": [
    {
     "data": {
      "text/plain": [
       "'rock band papa roach took a swing at paul ryanpaul  davis ryanembattled juul seeks allies in washington ex-parkland students criticize kellyanne conway latina leaders: \\'it\\'s a women\\'s world more than anything\\' more on twitter after being the butt of a social media joke about the house speaker a viral meme late friday imagined a phony new york times report that ryan was heard listening to papa roach\\'s  hit \"last resort\" as he drove away from the white house after the gop\\'s healthcare bill was pulled from the floor in the face of certain failure the original tweet, by comedian justin halpern, echoed throughout twitter, unleashing a torrent of papa roach references and jokes about ryan\\'s musical taste some on social media were even confused over whether it was a real new york times report ooof the kicker on this new york times story\\xa0 halpern later tweeted: \"i honestly thought my paul ryan/ papa roach photoshop joke was obvious,\" decrying the confusion over it\\'s legitimacy\\xa0 papa roach itself chimed in on twitter, taking a dig at ryan for pulling his obamacare repeal bill from the floor \"when we feel defeated we listen to paul ryan,\" the band tweeted\\xa0 when we feel defeated we listen to paul ryan #roachgate\\xa0 papa roach also sought to use their viral moment to raise mental health awareness, noting in another tweet that \"last resort\" was about suicidal feelings and urging anyone with similar feelings to reach out to a help-line \\xa0 but seriously last resort was written about suicide, if anyone is feeling defeated get help at\\xa0 '"
      ]
     },
     "execution_count": 270,
     "metadata": {},
     "output_type": "execute_result"
    }
   ],
   "source": [
    "test =  re.sub(pattern5,\"\", test)\n",
    "test"
   ]
  },
  {
   "cell_type": "code",
   "execution_count": 70,
   "id": "3f50aaff",
   "metadata": {},
   "outputs": [],
   "source": [
    "# test = test.lower()\n",
    "# test"
   ]
  },
  {
   "cell_type": "code",
   "execution_count": 71,
   "id": "ac3f96c0",
   "metadata": {},
   "outputs": [
    {
     "data": {
      "text/plain": [
       "['cnn',\n",
       " 'hugh',\n",
       " 'hefner',\n",
       " 'playboy',\n",
       " 'mansion',\n",
       " 'was',\n",
       " 'gilded',\n",
       " 'cage',\n",
       " 'for',\n",
       " 'former',\n",
       " 'hef',\n",
       " 'companion',\n",
       " 'holly',\n",
       " 'madison',\n",
       " 'in',\n",
       " 'her',\n",
       " 'new',\n",
       " 'memoir',\n",
       " 'down',\n",
       " 'the',\n",
       " 'rabbit',\n",
       " 'hole',\n",
       " 'madison',\n",
       " 'one',\n",
       " 'of',\n",
       " 'the',\n",
       " 'stars',\n",
       " 'of',\n",
       " 'the',\n",
       " 'reality',\n",
       " 'series',\n",
       " 'the',\n",
       " 'girls',\n",
       " 'next',\n",
       " 'door',\n",
       " 'says',\n",
       " 'that',\n",
       " 'living',\n",
       " 'in',\n",
       " 'the',\n",
       " 'mansion',\n",
       " 'wasn',\n",
       " 'all',\n",
       " 'sex',\n",
       " 'and',\n",
       " 'good',\n",
       " 'times',\n",
       " 'life',\n",
       " 'inside',\n",
       " 'the',\n",
       " 'notorious',\n",
       " 'mansion',\n",
       " 'wasn',\n",
       " 'dream',\n",
       " 'at',\n",
       " 'all',\n",
       " 'and',\n",
       " 'quickly',\n",
       " 'became',\n",
       " 'her',\n",
       " 'nightmare',\n",
       " 'the',\n",
       " 'promotional',\n",
       " 'material',\n",
       " 'states',\n",
       " 'according',\n",
       " 'to',\n",
       " 'us',\n",
       " 'weekly',\n",
       " 'after',\n",
       " 'losing',\n",
       " 'her',\n",
       " 'identity',\n",
       " 'her',\n",
       " 'sense',\n",
       " 'of',\n",
       " 'and',\n",
       " 'her',\n",
       " 'hope',\n",
       " 'for',\n",
       " 'the',\n",
       " 'future',\n",
       " 'holly',\n",
       " 'found',\n",
       " 'herself',\n",
       " 'sitting',\n",
       " 'alone',\n",
       " 'in',\n",
       " 'bathtub',\n",
       " 'contemplating',\n",
       " 'suicide',\n",
       " 'madison',\n",
       " 'also',\n",
       " 'details',\n",
       " 'stories',\n",
       " 'of',\n",
       " 'backstabbing',\n",
       " 'bunnies',\n",
       " 'and',\n",
       " 'very',\n",
       " 'strict',\n",
       " 'house',\n",
       " 'rules',\n",
       " 'some',\n",
       " 'of',\n",
       " 'madison',\n",
       " 'revelations',\n",
       " 'won',\n",
       " 'be',\n",
       " 'news',\n",
       " 'to',\n",
       " 'anyone',\n",
       " 'who',\n",
       " 'ever',\n",
       " 'read',\n",
       " 'about',\n",
       " 'the',\n",
       " 'recent',\n",
       " 'life',\n",
       " 'of',\n",
       " 'hefner',\n",
       " 'the',\n",
       " 'playboy',\n",
       " 'founder',\n",
       " 'whose',\n",
       " 'most',\n",
       " 'recent',\n",
       " 'marriage',\n",
       " 'was',\n",
       " 'to',\n",
       " 'crystal',\n",
       " 'harris',\n",
       " 'in',\n",
       " 'former',\n",
       " 'spouse',\n",
       " 'kimberley',\n",
       " 'conrad',\n",
       " 'described',\n",
       " 'hefner',\n",
       " 'as',\n",
       " 'very',\n",
       " 'controlling',\n",
       " 'and',\n",
       " 'he',\n",
       " 'man',\n",
       " 'of',\n",
       " 'routine',\n",
       " 'the',\n",
       " 'has',\n",
       " 'passion',\n",
       " 'for',\n",
       " 'old',\n",
       " 'movies',\n",
       " 'and',\n",
       " 'old',\n",
       " 'friends',\n",
       " 'and',\n",
       " 'he',\n",
       " 'keeps',\n",
       " 'more',\n",
       " 'than',\n",
       " 'scrapbooks',\n",
       " 'about',\n",
       " 'his',\n",
       " 'life',\n",
       " 'the',\n",
       " 'mansion',\n",
       " 'except',\n",
       " 'for',\n",
       " 'hefner',\n",
       " 'bedroom',\n",
       " 'is',\n",
       " 'kept',\n",
       " 'immaculate',\n",
       " 'and',\n",
       " 'the',\n",
       " 'sex',\n",
       " 'couple',\n",
       " 'times',\n",
       " 'week',\n",
       " 'hefner',\n",
       " 'told',\n",
       " 'the',\n",
       " 'new',\n",
       " 'york',\n",
       " 'times',\n",
       " 'in',\n",
       " 'madison',\n",
       " 'is',\n",
       " 'now',\n",
       " 'married',\n",
       " 'to',\n",
       " 'promoter',\n",
       " 'pasquale',\n",
       " 'rotella',\n",
       " 'and',\n",
       " 'has',\n",
       " 'young',\n",
       " 'daughter',\n",
       " 'her',\n",
       " 'memoir',\n",
       " 'is',\n",
       " 'due',\n",
       " 'out',\n",
       " 'in',\n",
       " 'june',\n",
       " 'excited',\n",
       " 'to',\n",
       " 'finally',\n",
       " 'share',\n",
       " 'my',\n",
       " 'story',\n",
       " 'and',\n",
       " 'what',\n",
       " 've',\n",
       " 'learned',\n",
       " 'from',\n",
       " 'my',\n",
       " 'personal',\n",
       " 'experiences',\n",
       " 'both',\n",
       " 'inside',\n",
       " 'and',\n",
       " 'outside',\n",
       " 'of',\n",
       " 'the',\n",
       " 'playboy',\n",
       " 'mansion',\n",
       " 'she',\n",
       " 'told',\n",
       " 'us',\n",
       " 'think',\n",
       " 'my',\n",
       " 'stories',\n",
       " 'will',\n",
       " 'surprise',\n",
       " 'people',\n",
       " 'and',\n",
       " 'looking',\n",
       " 'forward',\n",
       " 'to',\n",
       " 'lifting',\n",
       " 'the',\n",
       " 'veil',\n",
       " 'of',\n",
       " 'mystique',\n",
       " 'and',\n",
       " 'clearing',\n",
       " 'up',\n",
       " 'the',\n",
       " 'misconceptions',\n",
       " 'so',\n",
       " 'often',\n",
       " 'associated',\n",
       " 'with',\n",
       " 'my',\n",
       " 'life']"
      ]
     },
     "execution_count": 71,
     "metadata": {},
     "output_type": "execute_result"
    }
   ],
   "source": [
    "test = tokenizer.tokenize(test)\n",
    "test"
   ]
  },
  {
   "cell_type": "code",
   "execution_count": 72,
   "id": "b014e198",
   "metadata": {},
   "outputs": [],
   "source": [
    "stopwords_removed=[token for token in test if token not in stopwords_list]"
   ]
  },
  {
   "cell_type": "code",
   "execution_count": 73,
   "id": "3fd08e9f",
   "metadata": {},
   "outputs": [
    {
     "data": {
      "text/plain": [
       "['hugh',\n",
       " 'hefner',\n",
       " 'playboy',\n",
       " 'mansion',\n",
       " 'gilded',\n",
       " 'cage',\n",
       " 'former',\n",
       " 'hef',\n",
       " 'companion',\n",
       " 'holly',\n",
       " 'madison',\n",
       " 'new',\n",
       " 'memoir',\n",
       " 'rabbit',\n",
       " 'hole',\n",
       " 'madison',\n",
       " 'one',\n",
       " 'star',\n",
       " 'reality',\n",
       " 'series',\n",
       " 'girl',\n",
       " 'next',\n",
       " 'door',\n",
       " 'say',\n",
       " 'living',\n",
       " 'mansion',\n",
       " 'sex',\n",
       " 'good',\n",
       " 'time',\n",
       " 'life',\n",
       " 'inside',\n",
       " 'notorious',\n",
       " 'mansion',\n",
       " 'dream',\n",
       " 'quickly',\n",
       " 'became',\n",
       " 'nightmare',\n",
       " 'promotional',\n",
       " 'material',\n",
       " 'state',\n",
       " 'according',\n",
       " 'u',\n",
       " 'weekly',\n",
       " 'losing',\n",
       " 'identity',\n",
       " 'sense',\n",
       " 'hope',\n",
       " 'future',\n",
       " 'holly',\n",
       " 'found',\n",
       " 'sitting',\n",
       " 'alone',\n",
       " 'bathtub',\n",
       " 'contemplating',\n",
       " 'suicide',\n",
       " 'madison',\n",
       " 'also',\n",
       " 'detail',\n",
       " 'story',\n",
       " 'backstabbing',\n",
       " 'bunny',\n",
       " 'strict',\n",
       " 'house',\n",
       " 'rule',\n",
       " 'madison',\n",
       " 'revelation',\n",
       " 'news',\n",
       " 'anyone',\n",
       " 'ever',\n",
       " 'read',\n",
       " 'recent',\n",
       " 'life',\n",
       " 'hefner',\n",
       " 'playboy',\n",
       " 'founder',\n",
       " 'whose',\n",
       " 'recent',\n",
       " 'marriage',\n",
       " 'crystal',\n",
       " 'harris',\n",
       " 'former',\n",
       " 'spouse',\n",
       " 'kimberley',\n",
       " 'conrad',\n",
       " 'described',\n",
       " 'hefner',\n",
       " 'controlling',\n",
       " 'man',\n",
       " 'routine',\n",
       " 'passion',\n",
       " 'old',\n",
       " 'movie',\n",
       " 'old',\n",
       " 'friend',\n",
       " 'keep',\n",
       " 'scrapbook',\n",
       " 'life',\n",
       " 'mansion',\n",
       " 'except',\n",
       " 'hefner',\n",
       " 'bedroom',\n",
       " 'kept',\n",
       " 'immaculate',\n",
       " 'sex',\n",
       " 'couple',\n",
       " 'time',\n",
       " 'week',\n",
       " 'hefner',\n",
       " 'told',\n",
       " 'new',\n",
       " 'york',\n",
       " 'time',\n",
       " 'madison',\n",
       " 'married',\n",
       " 'promoter',\n",
       " 'pasquale',\n",
       " 'rotella',\n",
       " 'young',\n",
       " 'daughter',\n",
       " 'memoir',\n",
       " 'due',\n",
       " 'june',\n",
       " 'excited',\n",
       " 'finally',\n",
       " 'share',\n",
       " 'story',\n",
       " 'learned',\n",
       " 'personal',\n",
       " 'experience',\n",
       " 'inside',\n",
       " 'outside',\n",
       " 'playboy',\n",
       " 'mansion',\n",
       " 'told',\n",
       " 'u',\n",
       " 'think',\n",
       " 'story',\n",
       " 'surprise',\n",
       " 'people',\n",
       " 'looking',\n",
       " 'forward',\n",
       " 'lifting',\n",
       " 'veil',\n",
       " 'mystique',\n",
       " 'clearing',\n",
       " 'misconception',\n",
       " 'often',\n",
       " 'associated',\n",
       " 'life']"
      ]
     },
     "execution_count": 73,
     "metadata": {},
     "output_type": "execute_result"
    }
   ],
   "source": [
    "lemma_list = [lemma.lemmatize(token) for token in stopwords_removed]\n",
    "lemma_list"
   ]
  },
  {
   "cell_type": "code",
   "execution_count": 74,
   "id": "970c5d6d",
   "metadata": {},
   "outputs": [
    {
     "data": {
      "text/plain": [
       "FreqDist({'hefner': 5, 'mansion': 5, 'madison': 5, 'life': 4, 'playboy': 3, 'time': 3, 'story': 3, 'former': 2, 'holly': 2, 'new': 2, ...})"
      ]
     },
     "execution_count": 74,
     "metadata": {},
     "output_type": "execute_result"
    }
   ],
   "source": [
    "freq_dist = FreqDist(lemma_list)\n",
    "freq_dist"
   ]
  },
  {
   "cell_type": "code",
   "execution_count": 75,
   "id": "194c1242",
   "metadata": {
    "scrolled": true
   },
   "outputs": [
    {
     "data": {
      "image/png": "[encoded data removed]",
      "text/plain": [
       "<Figure size 432x288 with 1 Axes>"
      ]
     },
     "metadata": {
      "needs_background": "light"
     },
     "output_type": "display_data"
    }
   ],
   "source": [
    "def visualize_top_10(freq_dist, title):\n",
    "\n",
    "    # Extract data for plotting\n",
    "    top_10 = list(zip(*freq_dist.most_common(10)))\n",
    "    tokens = top_10[0]\n",
    "    counts = top_10[1]\n",
    "\n",
    "    # Set up plot and plot data\n",
    "    fig, ax = plt.subplots()\n",
    "    ax.bar(tokens, counts)\n",
    "\n",
    "    # Customize plot appearance\n",
    "    ax.set_title(title)\n",
    "    ax.set_ylabel(\"Count\")\n",
    "    ax.tick_params(axis=\"x\", rotation=90)\n",
    "    \n",
    "visualize_top_10(freq_dist, \"Top 10 Word Frequency for Example Tokens\")"
   ]
  },
  {
   "cell_type": "code",
   "execution_count": 76,
   "id": "949a2959",
   "metadata": {},
   "outputs": [
    {
     "data": {
      "text/html": [
       "<div>\n",
       "<style scoped>\n",
       "    .dataframe tbody tr th:only-of-type {\n",
       "        vertical-align: middle;\n",
       "    }\n",
       "\n",
       "    .dataframe tbody tr th {\n",
       "        vertical-align: top;\n",
       "    }\n",
       "\n",
       "    .dataframe thead th {\n",
       "        text-align: right;\n",
       "    }\n",
       "</style>\n",
       "<table border=\"1\" class=\"dataframe\">\n",
       "  <thead>\n",
       "    <tr style=\"text-align: right;\">\n",
       "      <th></th>\n",
       "      <th>Publication</th>\n",
       "      <th>Content</th>\n",
       "      <th>Bias</th>\n",
       "      <th>num_bias</th>\n",
       "    </tr>\n",
       "  </thead>\n",
       "  <tbody>\n",
       "    <tr>\n",
       "      <th>0</th>\n",
       "      <td>CNN</td>\n",
       "      <td>Istanbul (CNN) At least 39 people were killed ...</td>\n",
       "      <td>Left</td>\n",
       "      <td>-1</td>\n",
       "    </tr>\n",
       "    <tr>\n",
       "      <th>1</th>\n",
       "      <td>CNN</td>\n",
       "      <td>Atlanta (CNN) This season’s College Football P...</td>\n",
       "      <td>Left</td>\n",
       "      <td>-1</td>\n",
       "    </tr>\n",
       "    <tr>\n",
       "      <th>2</th>\n",
       "      <td>CNN</td>\n",
       "      <td>(CNN) Revelers on the United States’ west coa...</td>\n",
       "      <td>Left</td>\n",
       "      <td>-1</td>\n",
       "    </tr>\n",
       "    <tr>\n",
       "      <th>3</th>\n",
       "      <td>CNN</td>\n",
       "      <td>West Palm Beach, Florida (CNN)  Donald Trump s...</td>\n",
       "      <td>Left</td>\n",
       "      <td>-1</td>\n",
       "    </tr>\n",
       "    <tr>\n",
       "      <th>4</th>\n",
       "      <td>CNN</td>\n",
       "      <td>(CNN) Two small planes collided in Texas on S...</td>\n",
       "      <td>Left</td>\n",
       "      <td>-1</td>\n",
       "    </tr>\n",
       "    <tr>\n",
       "      <th>...</th>\n",
       "      <td>...</td>\n",
       "      <td>...</td>\n",
       "      <td>...</td>\n",
       "      <td>...</td>\n",
       "    </tr>\n",
       "    <tr>\n",
       "      <th>85360</th>\n",
       "      <td>National Review</td>\n",
       "      <td>I first read Thomas Sowell in college  —   no ...</td>\n",
       "      <td>Right</td>\n",
       "      <td>1</td>\n",
       "    </tr>\n",
       "    <tr>\n",
       "      <th>85361</th>\n",
       "      <td>National Review</td>\n",
       "      <td>Whether it’s celebrated according to the Grego...</td>\n",
       "      <td>Right</td>\n",
       "      <td>1</td>\n",
       "    </tr>\n",
       "    <tr>\n",
       "      <th>85362</th>\n",
       "      <td>National Review</td>\n",
       "      <td>Editor’s Note: This piece first appeared in th...</td>\n",
       "      <td>Right</td>\n",
       "      <td>1</td>\n",
       "    </tr>\n",
       "    <tr>\n",
       "      <th>85363</th>\n",
       "      <td>National Review</td>\n",
       "      <td>Israel would seem to be in a disastrous positi...</td>\n",
       "      <td>Right</td>\n",
       "      <td>1</td>\n",
       "    </tr>\n",
       "    <tr>\n",
       "      <th>85364</th>\n",
       "      <td>National Review</td>\n",
       "      <td>The year 2016 was a good one for books by men ...</td>\n",
       "      <td>Right</td>\n",
       "      <td>1</td>\n",
       "    </tr>\n",
       "  </tbody>\n",
       "</table>\n",
       "<p>85364 rows × 4 columns</p>\n",
       "</div>"
      ],
      "text/plain": [
       "           Publication                                            Content  \\\n",
       "0                  CNN  Istanbul (CNN) At least 39 people were killed ...   \n",
       "1                  CNN  Atlanta (CNN) This season’s College Football P...   \n",
       "2                  CNN   (CNN) Revelers on the United States’ west coa...   \n",
       "3                  CNN  West Palm Beach, Florida (CNN)  Donald Trump s...   \n",
       "4                  CNN   (CNN) Two small planes collided in Texas on S...   \n",
       "...                ...                                                ...   \n",
       "85360  National Review  I first read Thomas Sowell in college  —   no ...   \n",
       "85361  National Review  Whether it’s celebrated according to the Grego...   \n",
       "85362  National Review  Editor’s Note: This piece first appeared in th...   \n",
       "85363  National Review  Israel would seem to be in a disastrous positi...   \n",
       "85364  National Review  The year 2016 was a good one for books by men ...   \n",
       "\n",
       "        Bias  num_bias  \n",
       "0       Left        -1  \n",
       "1       Left        -1  \n",
       "2       Left        -1  \n",
       "3       Left        -1  \n",
       "4       Left        -1  \n",
       "...      ...       ...  \n",
       "85360  Right         1  \n",
       "85361  Right         1  \n",
       "85362  Right         1  \n",
       "85363  Right         1  \n",
       "85364  Right         1  \n",
       "\n",
       "[85364 rows x 4 columns]"
      ]
     },
     "execution_count": 76,
     "metadata": {},
     "output_type": "execute_result"
    }
   ],
   "source": [
    "df"
   ]
  },
  {
   "cell_type": "code",
   "execution_count": 77,
   "id": "72cfb934",
   "metadata": {},
   "outputs": [],
   "source": [
    "#Instaiate needed objects\n",
    "tokenizer = RegexpTokenizer(r\"(?u)\\w{3,}\")\n",
    "stopwords_list = stopwords_list\n",
    "lemma = WordNetLemmatizer()"
   ]
  },
  {
   "cell_type": "code",
   "execution_count": 78,
   "id": "781ce66c",
   "metadata": {
    "scrolled": true
   },
   "outputs": [
    {
     "data": {
      "text/plain": [
       "['i',\n",
       " 'me',\n",
       " 'my',\n",
       " 'myself',\n",
       " 'we',\n",
       " 'our',\n",
       " 'ours',\n",
       " 'ourselves',\n",
       " 'you',\n",
       " \"you're\",\n",
       " \"you've\",\n",
       " \"you'll\",\n",
       " \"you'd\",\n",
       " 'your',\n",
       " 'yours',\n",
       " 'yourself',\n",
       " 'yourselves',\n",
       " 'he',\n",
       " 'him',\n",
       " 'his',\n",
       " 'himself',\n",
       " 'she',\n",
       " \"she's\",\n",
       " 'her',\n",
       " 'hers',\n",
       " 'herself',\n",
       " 'it',\n",
       " \"it's\",\n",
       " 'its',\n",
       " 'itself',\n",
       " 'they',\n",
       " 'them',\n",
       " 'their',\n",
       " 'theirs',\n",
       " 'themselves',\n",
       " 'what',\n",
       " 'which',\n",
       " 'who',\n",
       " 'whom',\n",
       " 'this',\n",
       " 'that',\n",
       " \"that'll\",\n",
       " 'these',\n",
       " 'those',\n",
       " 'am',\n",
       " 'is',\n",
       " 'are',\n",
       " 'was',\n",
       " 'were',\n",
       " 'be',\n",
       " 'been',\n",
       " 'being',\n",
       " 'have',\n",
       " 'has',\n",
       " 'had',\n",
       " 'having',\n",
       " 'do',\n",
       " 'does',\n",
       " 'did',\n",
       " 'doing',\n",
       " 'a',\n",
       " 'an',\n",
       " 'the',\n",
       " 'and',\n",
       " 'but',\n",
       " 'if',\n",
       " 'or',\n",
       " 'because',\n",
       " 'as',\n",
       " 'until',\n",
       " 'while',\n",
       " 'of',\n",
       " 'at',\n",
       " 'by',\n",
       " 'for',\n",
       " 'with',\n",
       " 'about',\n",
       " 'against',\n",
       " 'between',\n",
       " 'into',\n",
       " 'through',\n",
       " 'during',\n",
       " 'before',\n",
       " 'after',\n",
       " 'above',\n",
       " 'below',\n",
       " 'to',\n",
       " 'from',\n",
       " 'up',\n",
       " 'down',\n",
       " 'in',\n",
       " 'out',\n",
       " 'on',\n",
       " 'off',\n",
       " 'over',\n",
       " 'under',\n",
       " 'again',\n",
       " 'further',\n",
       " 'then',\n",
       " 'once',\n",
       " 'here',\n",
       " 'there',\n",
       " 'when',\n",
       " 'where',\n",
       " 'why',\n",
       " 'how',\n",
       " 'all',\n",
       " 'any',\n",
       " 'both',\n",
       " 'each',\n",
       " 'few',\n",
       " 'more',\n",
       " 'most',\n",
       " 'other',\n",
       " 'some',\n",
       " 'such',\n",
       " 'no',\n",
       " 'nor',\n",
       " 'not',\n",
       " 'only',\n",
       " 'own',\n",
       " 'same',\n",
       " 'so',\n",
       " 'than',\n",
       " 'too',\n",
       " 'very',\n",
       " 's',\n",
       " 't',\n",
       " 'can',\n",
       " 'will',\n",
       " 'just',\n",
       " 'don',\n",
       " \"don't\",\n",
       " 'should',\n",
       " \"should've\",\n",
       " 'now',\n",
       " 'd',\n",
       " 'll',\n",
       " 'm',\n",
       " 'o',\n",
       " 're',\n",
       " 've',\n",
       " 'y',\n",
       " 'ain',\n",
       " 'aren',\n",
       " \"aren't\",\n",
       " 'couldn',\n",
       " \"couldn't\",\n",
       " 'didn',\n",
       " \"didn't\",\n",
       " 'doesn',\n",
       " \"doesn't\",\n",
       " 'hadn',\n",
       " \"hadn't\",\n",
       " 'hasn',\n",
       " \"hasn't\",\n",
       " 'haven',\n",
       " \"haven't\",\n",
       " 'isn',\n",
       " \"isn't\",\n",
       " 'ma',\n",
       " 'mightn',\n",
       " \"mightn't\",\n",
       " 'mustn',\n",
       " \"mustn't\",\n",
       " 'needn',\n",
       " \"needn't\",\n",
       " 'shan',\n",
       " \"shan't\",\n",
       " 'shouldn',\n",
       " \"shouldn't\",\n",
       " 'wasn',\n",
       " \"wasn't\",\n",
       " 'weren',\n",
       " \"weren't\",\n",
       " 'won',\n",
       " \"won't\",\n",
       " 'wouldn',\n",
       " \"wouldn't\",\n",
       " '!',\n",
       " '\"',\n",
       " '#',\n",
       " '$',\n",
       " '%',\n",
       " '&',\n",
       " \"'\",\n",
       " '(',\n",
       " ')',\n",
       " '*',\n",
       " '+',\n",
       " ',',\n",
       " '-',\n",
       " '.',\n",
       " '/',\n",
       " ':',\n",
       " ';',\n",
       " '<',\n",
       " '=',\n",
       " '>',\n",
       " '?',\n",
       " '@',\n",
       " '[',\n",
       " '\\\\',\n",
       " ']',\n",
       " '^',\n",
       " '_',\n",
       " '`',\n",
       " '{',\n",
       " '|',\n",
       " '}',\n",
       " '~',\n",
       " 'cnn',\n",
       " 'vox',\n",
       " 'reuters',\n",
       " 'the hill',\n",
       " 'breitbart',\n",
       " 'national review']"
      ]
     },
     "execution_count": 78,
     "metadata": {},
     "output_type": "execute_result"
    }
   ],
   "source": [
    "stopwords_list"
   ]
  },
  {
   "cell_type": "code",
   "execution_count": 288,
   "id": "68ee9e52",
   "metadata": {},
   "outputs": [],
   "source": [
    "pattern = \"((@[a-zA-Z0-9_-]+)((?=\\s+)|$|[!?.,-]))\"\n",
    "pattern1 =  \"((the views expressed by)([\\s\\S]*)$)\"\n",
    "pattern2 = \"((view the discussion thread.)([\\s\\S]*)$)\"\n",
    "pattern3 = \"((pic.)?twitter\\.com\\/[A-Za-z0-9_]{5,1000}(\\?(\\w+=\\w+&?)*)?)\"\n",
    "pattern4 = \"([\\d.])\"\n",
    "pattern5 = \"(http\\S+)\""
   ]
  },
  {
   "cell_type": "code",
   "execution_count": 289,
   "id": "4590ef4d",
   "metadata": {},
   "outputs": [],
   "source": [
    "def preprocess(content):\n",
    "    #Turn all the tokens lowercase\n",
    "    content = content.lower()\n",
    "    #rmove necessary item from content (see above)\n",
    "    content = re.sub(pattern, \" \", str(content))\n",
    "    content = re.sub(pattern1, \" \", str(content))\n",
    "    content = re.sub(pattern2, \" \", str(content))\n",
    "    content = re.sub(pattern3, \" \", str(content))\n",
    "    content = re.sub(pattern4, \" \", str(content))\n",
    "    content = re.sub(pattern5, \" \", str(content))\n",
    "    #Only include words with 3 or more characters\n",
    "    token_list = tokenizer.tokenize(content)\n",
    "    #Remove stopwords\n",
    "    stopwords_removed=[token for token in token_list if token not in stopwords_list]\n",
    "    #Lemmatize the remaining word tokens\n",
    "    lemma_list = [lemma.lemmatize(token) for token in stopwords_removed]\n",
    "    #Turn the lemma list into a string for the Vectorizer\n",
    "    cleaned_string = \" \".join(lemma_list) \n",
    "    return str(cleaned_string)"
   ]
  },
  {
   "cell_type": "code",
   "execution_count": 284,
   "id": "349670d0",
   "metadata": {},
   "outputs": [
    {
     "data": {
      "text/plain": [
       "'Office of Management and Budget Director Mick Mulvaney on Wednesday defended President Trump’s budget proposal to a House panel, arguing its steep cuts were necessary to reduce the country’s deficits. “Great countries are not destroyed from without. They rot from within,” he said to the House Budget Committee. Trump’s plan would balance the budget by 2027 and reduce the national debt to 60 percent of gross domestic product, but Democrats and Republicans alike noted that it relies on optimistic economic growth figures and other budgetary tricks to reach those figures. Democrats homed in on the aggressive cuts to Medicaid, food stamps and Social Security Disability Insurance, among other programs. Rep. John YarmuthJohn Allen YarmuthTrump signs two-year budget deal Lawmakers point to entitlements when asked about deficits House Problem Solvers are bringing real change to Congress MORE (D-Ky.), the House Budget Committee’s ranking member, called it “shockingly extreme, the antithesis of what the American people say they want from their government.” Mulvaney pushed back, insisting that the cuts came solely from ironing out inefficiencies in the programs and ensuring able-bodied people work. “We are not going to kick any deserving person off of any meaningful program,” he vowed. One wasteful welfare program, he added, had been paid out to 11,000 deceased recipients. Yarmuth also asked why the same level of scrutiny wasn’t applied to defense, which would get a boost from the Trump budget. Mulvaney said he was just as interested at rooting out waste from the Pentagon and expected an audit from the Defense Department this September. While Republicans emphasized their support for debt reduction, several bore down on program cuts that they said were unjustified. Rep. Bill Johnson (R-Ohio) called Mulvaney out for cuts to the Appalachian Regional Commission, a program that has supported distressed counties. Johnson argued it was an effective program and that the Government Accountability Office report saying it was wasteful was more than 20 years old. “I think that 1996 study is probably outdated,” he said. Committee Vice Chairman Rep. Todd Rokita (R-Ind.) asked similarly tough questions on the administration’s plans for the Federal Aviation Authority. At one point, a lively discussion broke out over Big Bird and the merits of funding the Corporation for Public Broadcasting, which for many years funded Sesame Street. Mulvaney said that Big Bird was likely wealthier than anyone in the room, and his success showed that the show, which was recently acquired by HBO, didn’t need public funding to thrive. Rep. Brendan Boyle (D-Pa.) said that as a billionaire, Big Bird would be happy for the major tax break the Trump budget would deliver. “Big Bird does get a fairly large tax cut, and we want him to,” Mulvaney shot back. Cuts for corporations, he said, helped unleash the kind of creativity that led to the creation of Big Bird in the first place. Following the exchange, the term “Big Bird” trended on Twitter.\\xa0 View the discussion thread. The Hill 1625 K Street, NW Suite 900 Washington DC 20006 | 202-628-8500 tel | 202-628-8503 fax The contents of this site are ©2019 Capitol Hill Publishing Corp., a subsidiary of News Communications, Inc.'"
      ]
     },
     "execution_count": 284,
     "metadata": {},
     "output_type": "execute_result"
    }
   ],
   "source": [
    "df[\"Content\"].iloc[50600]"
   ]
  },
  {
   "cell_type": "code",
   "execution_count": 285,
   "id": "9b884d8e",
   "metadata": {},
   "outputs": [
    {
     "data": {
      "text/plain": [
       "'maybe time life screamed television set flip channel get life ah unless current president united state probably watch way tv see something like flip stew call friend complains tweet act according source knowledge trump told friend increasingly concerned fbi director james comey grown control pursuing agenda comey testimony last week source say pushed edge acted decided fire comey childish impetuous dangerous manner looked rationale found memo written rod rosenstein deputy attorney general white house used cover story vice president trump blown explanation telling nbc would fired comey matter justice official recommended trump lie penny like mike flynn asking credibility lost apparently one able tell newbie behave firing current fbi director middle russia investigation matter tarnished reputation bad idea one tell matter furious investigation growing requiring resource trying kill striking fbi director bad idea might interpreted obstruction justice none matter trump never louise sunshine former trump organization employee told month ago trump always lobbed grenade walked away nobody ever knew walked meeting going say said donald always managed walk meeting say something nobody else expected ever say upend entire meeting leave everybody agog control every situation way time leaf room store owns store trump store anymore trump clearly learned little office still throw tantrum staff sent clean mess pattern set first full day office trump fumed picture crowd size inauguration sent press secretary sean spicer rationalize obsession came president ridiculous assertion million illegal vote cast election lost popular vote spicer came try explain unexplainable solution set presidential commission examine fiction white house finally announced thursday came president impulsive early saturday morning march accused predecessor wiretapped never mind accusing barack obama felony true anyway came shovel brigade balk even bit would seen disloyal trump allowed ever time really hard figure explain unexplainable plan hatched call congressional investigation stop talking russia hack potential russian collusion campaign focus instead investigating leak cast negative light trump people get idea president tweet nonsense staff scramble make sensible even emperor clothes tell firing james comey president decides want fire comey staff tasked come rationale hard time absurd face praised comey late october campaign trail last week spokesman declared confidence fbi director suddenly believe president really thought comey unfair hillary really one source close president tell real concern comey treated clinton badly would donald trump oh told nbc comey showboat grandstander telling insult trump galaxy star brighter trump one requirement presidency believe job something greater country first believe something greater'"
      ]
     },
     "execution_count": 285,
     "metadata": {},
     "output_type": "execute_result"
    }
   ],
   "source": [
    "#Sanity check on data\n",
    "preprocess(df[\"Content\"].iloc[50600])"
   ]
  },
  {
   "cell_type": "code",
   "execution_count": 286,
   "id": "54196a04",
   "metadata": {},
   "outputs": [],
   "source": [
    "df[\"processed_content\"] =  df[\"Content\"].apply(lambda x: preprocess(x))"
   ]
  },
  {
   "cell_type": "code",
   "execution_count": 397,
   "id": "df24e608",
   "metadata": {},
   "outputs": [
    {
     "data": {
      "text/html": [
       "<div>\n",
       "<style scoped>\n",
       "    .dataframe tbody tr th:only-of-type {\n",
       "        vertical-align: middle;\n",
       "    }\n",
       "\n",
       "    .dataframe tbody tr th {\n",
       "        vertical-align: top;\n",
       "    }\n",
       "\n",
       "    .dataframe thead th {\n",
       "        text-align: right;\n",
       "    }\n",
       "</style>\n",
       "<table border=\"1\" class=\"dataframe\">\n",
       "  <thead>\n",
       "    <tr style=\"text-align: right;\">\n",
       "      <th></th>\n",
       "      <th>Publication</th>\n",
       "      <th>Content</th>\n",
       "      <th>Bias</th>\n",
       "      <th>num_bias</th>\n",
       "      <th>processed_content</th>\n",
       "    </tr>\n",
       "  </thead>\n",
       "  <tbody>\n",
       "    <tr>\n",
       "      <th>0</th>\n",
       "      <td>CNN</td>\n",
       "      <td>Istanbul (CNN) At least 39 people were killed ...</td>\n",
       "      <td>Left</td>\n",
       "      <td>0</td>\n",
       "      <td>istanbul least people killed least wounded att...</td>\n",
       "    </tr>\n",
       "    <tr>\n",
       "      <th>1</th>\n",
       "      <td>CNN</td>\n",
       "      <td>Atlanta (CNN) This season’s College Football P...</td>\n",
       "      <td>Left</td>\n",
       "      <td>0</td>\n",
       "      <td>atlanta season college football playoff center...</td>\n",
       "    </tr>\n",
       "    <tr>\n",
       "      <th>2</th>\n",
       "      <td>CNN</td>\n",
       "      <td>(CNN) Revelers on the United States’ west coa...</td>\n",
       "      <td>Left</td>\n",
       "      <td>0</td>\n",
       "      <td>reveler united state west coast cheered advent...</td>\n",
       "    </tr>\n",
       "    <tr>\n",
       "      <th>3</th>\n",
       "      <td>CNN</td>\n",
       "      <td>West Palm Beach, Florida (CNN)  Donald Trump s...</td>\n",
       "      <td>Left</td>\n",
       "      <td>0</td>\n",
       "      <td>west palm beach florida donald trump said satu...</td>\n",
       "    </tr>\n",
       "    <tr>\n",
       "      <th>4</th>\n",
       "      <td>CNN</td>\n",
       "      <td>(CNN) Two small planes collided in Texas on S...</td>\n",
       "      <td>Left</td>\n",
       "      <td>0</td>\n",
       "      <td>two small plane collided texas saturday killin...</td>\n",
       "    </tr>\n",
       "    <tr>\n",
       "      <th>...</th>\n",
       "      <td>...</td>\n",
       "      <td>...</td>\n",
       "      <td>...</td>\n",
       "      <td>...</td>\n",
       "      <td>...</td>\n",
       "    </tr>\n",
       "    <tr>\n",
       "      <th>85360</th>\n",
       "      <td>National Review</td>\n",
       "      <td>I first read Thomas Sowell in college  —   no ...</td>\n",
       "      <td>Right</td>\n",
       "      <td>2</td>\n",
       "      <td>first read thomas sowell college thanks colleg...</td>\n",
       "    </tr>\n",
       "    <tr>\n",
       "      <th>85361</th>\n",
       "      <td>National Review</td>\n",
       "      <td>Whether it’s celebrated according to the Grego...</td>\n",
       "      <td>Right</td>\n",
       "      <td>2</td>\n",
       "      <td>whether celebrated according gregorian julian ...</td>\n",
       "    </tr>\n",
       "    <tr>\n",
       "      <th>85362</th>\n",
       "      <td>National Review</td>\n",
       "      <td>Editor’s Note: This piece first appeared in th...</td>\n",
       "      <td>Right</td>\n",
       "      <td>2</td>\n",
       "      <td>editor note piece first appeared april issue n...</td>\n",
       "    </tr>\n",
       "    <tr>\n",
       "      <th>85363</th>\n",
       "      <td>National Review</td>\n",
       "      <td>Israel would seem to be in a disastrous positi...</td>\n",
       "      <td>Right</td>\n",
       "      <td>2</td>\n",
       "      <td>israel would seem disastrous position given in...</td>\n",
       "    </tr>\n",
       "    <tr>\n",
       "      <th>85364</th>\n",
       "      <td>National Review</td>\n",
       "      <td>The year 2016 was a good one for books by men ...</td>\n",
       "      <td>Right</td>\n",
       "      <td>2</td>\n",
       "      <td>year good one book men named yuval past year r...</td>\n",
       "    </tr>\n",
       "  </tbody>\n",
       "</table>\n",
       "<p>85364 rows × 5 columns</p>\n",
       "</div>"
      ],
      "text/plain": [
       "           Publication                                            Content  \\\n",
       "0                  CNN  Istanbul (CNN) At least 39 people were killed ...   \n",
       "1                  CNN  Atlanta (CNN) This season’s College Football P...   \n",
       "2                  CNN   (CNN) Revelers on the United States’ west coa...   \n",
       "3                  CNN  West Palm Beach, Florida (CNN)  Donald Trump s...   \n",
       "4                  CNN   (CNN) Two small planes collided in Texas on S...   \n",
       "...                ...                                                ...   \n",
       "85360  National Review  I first read Thomas Sowell in college  —   no ...   \n",
       "85361  National Review  Whether it’s celebrated according to the Grego...   \n",
       "85362  National Review  Editor’s Note: This piece first appeared in th...   \n",
       "85363  National Review  Israel would seem to be in a disastrous positi...   \n",
       "85364  National Review  The year 2016 was a good one for books by men ...   \n",
       "\n",
       "        Bias  num_bias                                  processed_content  \n",
       "0       Left         0  istanbul least people killed least wounded att...  \n",
       "1       Left         0  atlanta season college football playoff center...  \n",
       "2       Left         0  reveler united state west coast cheered advent...  \n",
       "3       Left         0  west palm beach florida donald trump said satu...  \n",
       "4       Left         0  two small plane collided texas saturday killin...  \n",
       "...      ...       ...                                                ...  \n",
       "85360  Right         2  first read thomas sowell college thanks colleg...  \n",
       "85361  Right         2  whether celebrated according gregorian julian ...  \n",
       "85362  Right         2  editor note piece first appeared april issue n...  \n",
       "85363  Right         2  israel would seem disastrous position given in...  \n",
       "85364  Right         2  year good one book men named yuval past year r...  \n",
       "\n",
       "[85364 rows x 5 columns]"
      ]
     },
     "execution_count": 397,
     "metadata": {},
     "output_type": "execute_result"
    }
   ],
   "source": [
    "df"
   ]
  },
  {
   "cell_type": "code",
   "execution_count": 398,
   "id": "857f5a57",
   "metadata": {},
   "outputs": [],
   "source": [
    "df.to_pickle(\"../data/processed.pkl\")"
   ]
  }
 ],
 "metadata": {
  "kernelspec": {
   "display_name": "Python (learn-env)",
   "language": "python",
   "name": "learn-env"
  },
  "language_info": {
   "codemirror_mode": {
    "name": "ipython",
    "version": 3
   },
   "file_extension": ".py",
   "mimetype": "text/x-python",
   "name": "python",
   "nbconvert_exporter": "python",
   "pygments_lexer": "ipython3",
   "version": "3.8.11"
  }
 },
 "nbformat": 4,
 "nbformat_minor": 5
}
