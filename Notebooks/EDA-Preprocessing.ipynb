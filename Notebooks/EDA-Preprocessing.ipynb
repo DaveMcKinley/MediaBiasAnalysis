{
 "cells": [
  {
   "cell_type": "markdown",
   "id": "4b2d71e0",
   "metadata": {},
   "source": [
    "# EDA"
   ]
  },
  {
   "cell_type": "code",
   "execution_count": 1,
   "id": "95ff3095",
   "metadata": {},
   "outputs": [],
   "source": [
    "import pandas as pd\n",
    "import numpy as np\n",
    "import seaborn as sns\n",
    "import matplotlib.pyplot as plt\n",
    "import random\n",
    "\n",
    "import nltk\n",
    "from nltk.tokenize import RegexpTokenizer\n",
    "from nltk.corpus import stopwords\n",
    "from nltk.stem import WordNetLemmatizer\n",
    "from  nltk import FreqDist\n",
    "\n",
    "from sklearn.pipeline import Pipeline\n",
    "from sklearn.compose import ColumnTransformer\n",
    "from sklearn.impute import SimpleImputer\n",
    "from mlxtend.feature_selection import ColumnSelector\n",
    "from sklearn.feature_selection import chi2\n",
    "\n",
    "from sklearn.feature_extraction.text import CountVectorizer, TfidfVectorizer\n",
    "from sklearn.naive_bayes import MultinomialNB\n",
    "from sklearn.model_selection import cross_val_score\n",
    "from sklearn.linear_model import LogisticRegression, SGDClassifier\n",
    "from sklearn.preprocessing import StandardScaler\n",
    "from sklearn.decomposition import PCA\n",
    "from sklearn.tree import DecisionTreeClassifier\n",
    "from sklearn.ensemble import RandomForestClassifier\n",
    "\n",
    "from sklearn.model_selection import train_test_split, GridSearchCV, cross_validate\n",
    "from sklearn import metrics\n",
    "from sklearn.metrics import accuracy_score, precision_score, recall_score, f1_score, roc_auc_score, plot_confusion_matrix\n",
    "from sklearn.metrics import classification_report, confusion_matrix, precision_recall_curve\n",
    "\n",
    "from sklearn.model_selection import train_test_split\n",
    "import re\n",
    "import string"
   ]
  },
  {
   "cell_type": "code",
   "execution_count": 2,
   "id": "1601af57",
   "metadata": {},
   "outputs": [
    {
     "data": {
      "text/html": [
       "<div>\n",
       "<style scoped>\n",
       "    .dataframe tbody tr th:only-of-type {\n",
       "        vertical-align: middle;\n",
       "    }\n",
       "\n",
       "    .dataframe tbody tr th {\n",
       "        vertical-align: top;\n",
       "    }\n",
       "\n",
       "    .dataframe thead th {\n",
       "        text-align: right;\n",
       "    }\n",
       "</style>\n",
       "<table border=\"1\" class=\"dataframe\">\n",
       "  <thead>\n",
       "    <tr style=\"text-align: right;\">\n",
       "      <th></th>\n",
       "      <th>Publication</th>\n",
       "      <th>Content</th>\n",
       "      <th>Bias</th>\n",
       "    </tr>\n",
       "  </thead>\n",
       "  <tbody>\n",
       "    <tr>\n",
       "      <th>0</th>\n",
       "      <td>CNN</td>\n",
       "      <td>Istanbul (CNN) At least 39 people were killed ...</td>\n",
       "      <td>Left</td>\n",
       "    </tr>\n",
       "    <tr>\n",
       "      <th>1</th>\n",
       "      <td>CNN</td>\n",
       "      <td>Atlanta (CNN) This season’s College Football P...</td>\n",
       "      <td>Left</td>\n",
       "    </tr>\n",
       "    <tr>\n",
       "      <th>2</th>\n",
       "      <td>CNN</td>\n",
       "      <td>(CNN) Revelers on the United States’ west coa...</td>\n",
       "      <td>Left</td>\n",
       "    </tr>\n",
       "    <tr>\n",
       "      <th>3</th>\n",
       "      <td>CNN</td>\n",
       "      <td>West Palm Beach, Florida (CNN)  Donald Trump s...</td>\n",
       "      <td>Left</td>\n",
       "    </tr>\n",
       "    <tr>\n",
       "      <th>4</th>\n",
       "      <td>CNN</td>\n",
       "      <td>(CNN) Two small planes collided in Texas on S...</td>\n",
       "      <td>Left</td>\n",
       "    </tr>\n",
       "  </tbody>\n",
       "</table>\n",
       "</div>"
      ],
      "text/plain": [
       "  Publication                                            Content  Bias\n",
       "0         CNN  Istanbul (CNN) At least 39 people were killed ...  Left\n",
       "1         CNN  Atlanta (CNN) This season’s College Football P...  Left\n",
       "2         CNN   (CNN) Revelers on the United States’ west coa...  Left\n",
       "3         CNN  West Palm Beach, Florida (CNN)  Donald Trump s...  Left\n",
       "4         CNN   (CNN) Two small planes collided in Texas on S...  Left"
      ]
     },
     "execution_count": 2,
     "metadata": {},
     "output_type": "execute_result"
    }
   ],
   "source": [
    "df = pd.read_pickle(\"../data/df.pkl\")\n",
    "df.head()"
   ]
  },
  {
   "cell_type": "code",
   "execution_count": 3,
   "id": "61536b4b",
   "metadata": {},
   "outputs": [
    {
     "data": {
      "text/plain": [
       "(85365, 3)"
      ]
     },
     "execution_count": 3,
     "metadata": {},
     "output_type": "execute_result"
    }
   ],
   "source": [
    "df.shape"
   ]
  },
  {
   "cell_type": "code",
   "execution_count": 4,
   "id": "b6997683",
   "metadata": {},
   "outputs": [
    {
     "data": {
      "text/plain": [
       "<bound method DataFrame.info of            Publication                                            Content  \\\n",
       "0                  CNN  Istanbul (CNN) At least 39 people were killed ...   \n",
       "1                  CNN  Atlanta (CNN) This season’s College Football P...   \n",
       "2                  CNN   (CNN) Revelers on the United States’ west coa...   \n",
       "3                  CNN  West Palm Beach, Florida (CNN)  Donald Trump s...   \n",
       "4                  CNN   (CNN) Two small planes collided in Texas on S...   \n",
       "...                ...                                                ...   \n",
       "85360  National Review  I first read Thomas Sowell in college  —   no ...   \n",
       "85361  National Review  Whether it’s celebrated according to the Grego...   \n",
       "85362  National Review  Editor’s Note: This piece first appeared in th...   \n",
       "85363  National Review  Israel would seem to be in a disastrous positi...   \n",
       "85364  National Review  The year 2016 was a good one for books by men ...   \n",
       "\n",
       "        Bias  \n",
       "0       Left  \n",
       "1       Left  \n",
       "2       Left  \n",
       "3       Left  \n",
       "4       Left  \n",
       "...      ...  \n",
       "85360  Right  \n",
       "85361  Right  \n",
       "85362  Right  \n",
       "85363  Right  \n",
       "85364  Right  \n",
       "\n",
       "[85365 rows x 3 columns]>"
      ]
     },
     "execution_count": 4,
     "metadata": {},
     "output_type": "execute_result"
    }
   ],
   "source": [
    "df.info"
   ]
  },
  {
   "cell_type": "code",
   "execution_count": 5,
   "id": "7c4b8666",
   "metadata": {},
   "outputs": [
    {
     "data": {
      "text/plain": [
       "Breitbart          23781\n",
       "The Hill           16811\n",
       "Vox                16372\n",
       "CNN                11488\n",
       "Reuters            10710\n",
       "National Review     6203\n",
       "Name: Publication, dtype: int64"
      ]
     },
     "execution_count": 5,
     "metadata": {},
     "output_type": "execute_result"
    }
   ],
   "source": [
    "df[\"Publication\"].value_counts()"
   ]
  },
  {
   "cell_type": "code",
   "execution_count": 6,
   "id": "ab871004",
   "metadata": {},
   "outputs": [
    {
     "data": {
      "text/plain": [
       "Right     29984\n",
       "Left      27860\n",
       "Center    27521\n",
       "Name: Bias, dtype: int64"
      ]
     },
     "execution_count": 6,
     "metadata": {},
     "output_type": "execute_result"
    }
   ],
   "source": [
    "df[\"Bias\"].value_counts()"
   ]
  },
  {
   "cell_type": "code",
   "execution_count": 7,
   "id": "a49518ac",
   "metadata": {},
   "outputs": [
    {
     "name": "stdout",
     "output_type": "stream",
     "text": [
      "Percentage of Articles per Bias in Dataset:\n"
     ]
    },
    {
     "data": {
      "text/plain": [
       "Right     35.124466\n",
       "Left      32.636326\n",
       "Center    32.239208\n",
       "Name: Bias, dtype: float64"
      ]
     },
     "execution_count": 7,
     "metadata": {},
     "output_type": "execute_result"
    }
   ],
   "source": [
    "print(\"Percentage of Articles per Bias in Dataset:\")\n",
    "df[\"Bias\"].value_counts(normalize=True)*100"
   ]
  },
  {
   "cell_type": "code",
   "execution_count": 8,
   "id": "5105f8c2",
   "metadata": {},
   "outputs": [],
   "source": [
    "def countplot(df, col, hue=None, rotation=None, order=None):\n",
    "    \"\"\"\n",
    "    This function builds a Seaborn countplot and allows the user to set certain parameters to customize the graph.\n",
    "    \n",
    "    df - dataframe being used\n",
    "    col- column in dataframe being used\n",
    "    hue - second column being used(if any)\n",
    "    rotation - sets the rotation of the x-ticks for readability\n",
    "    \"\"\"\n",
    "    fig, ax = plt.subplots(figsize=(12,8))\n",
    "    sns.countplot(data = df, x = col, hue = hue, order = order)\n",
    "    ax.set_xticklabels(labels = ax.get_xticklabels(), rotation= rotation, fontsize = 15)\n",
    "    ax.set_xlabel(xlabel = col, fontsize = 20)\n",
    "    ax.tick_params(axis='y', which='major', labelsize=15)\n",
    "    ax.set_ylabel(ylabel = \"Number of articles\", fontsize = 20)\n",
    "    ax.set_title(f\"Number of articles per {col}\", fontsize = 30)\n",
    "    plt.show()"
   ]
  },
  {
   "cell_type": "code",
   "execution_count": 9,
   "id": "e524d92b",
   "metadata": {},
   "outputs": [
    {
     "data": {
      "image/png": "[encoded data removed]",
      "text/plain": [
       "<Figure size 864x576 with 1 Axes>"
      ]
     },
     "metadata": {
      "needs_background": "light"
     },
     "output_type": "display_data"
    }
   ],
   "source": [
    "countplot(df, \"Publication\", order = df[\"Publication\"].value_counts().index)"
   ]
  },
  {
   "cell_type": "code",
   "execution_count": 10,
   "id": "b44b23a9",
   "metadata": {},
   "outputs": [
    {
     "data": {
      "image/png": "[encoded data removed]",
      "text/plain": [
       "<Figure size 864x576 with 1 Axes>"
      ]
     },
     "metadata": {
      "needs_background": "light"
     },
     "output_type": "display_data"
    }
   ],
   "source": [
    "countplot(df, \"Bias\", order = [\"Left\", \"Center\", \"Right\"])"
   ]
  },
  {
   "cell_type": "code",
   "execution_count": 11,
   "id": "145b1067",
   "metadata": {},
   "outputs": [],
   "source": [
    "df_plot = df.groupby(['Publication', 'Bias']).size().reset_index().pivot(columns='Publication', index='Bias', values=0)"
   ]
  },
  {
   "cell_type": "code",
   "execution_count": 12,
   "id": "e9af39ac",
   "metadata": {},
   "outputs": [],
   "source": [
    "df_plot = df_plot.reindex([\"Left\", \"Center\", \"Right\"])"
   ]
  },
  {
   "cell_type": "code",
   "execution_count": 13,
   "id": "742d05b7",
   "metadata": {},
   "outputs": [
    {
     "data": {
      "image/png": "[encoded data removed]",
      "text/plain": [
       "<Figure size 1440x720 with 1 Axes>"
      ]
     },
     "metadata": {
      "needs_background": "light"
     },
     "output_type": "display_data"
    }
   ],
   "source": [
    "df_plot.plot(kind='bar', stacked=True, figsize=(20,10))\n",
    "plt.xticks(rotation=\"horizontal\", fontsize = 30)\n",
    "plt.xlabel(xlabel = \"Bias\", fontsize = 40)\n",
    "plt.yticks(rotation=\"horizontal\", fontsize = 30)\n",
    "plt.ylabel(ylabel = \"Number of Articles\", fontsize = 40)\n",
    "plt.title(label= \"Number of Articles per Publication per Bias\", fontsize = 40)\n",
    "plt.legend(bbox_to_anchor=(1.3, 1), loc=\"upper right\", ncol=1, fontsize= 25, title = \"Publication\", title_fontsize= 35)\n",
    "plt.show()"
   ]
  },
  {
   "cell_type": "markdown",
   "id": "4669ba9f",
   "metadata": {},
   "source": [
    "# Preprocessing Data"
   ]
  },
  {
   "cell_type": "code",
   "execution_count": 14,
   "id": "da5622a9",
   "metadata": {},
   "outputs": [
    {
     "data": {
      "text/html": [
       "<div>\n",
       "<style scoped>\n",
       "    .dataframe tbody tr th:only-of-type {\n",
       "        vertical-align: middle;\n",
       "    }\n",
       "\n",
       "    .dataframe tbody tr th {\n",
       "        vertical-align: top;\n",
       "    }\n",
       "\n",
       "    .dataframe thead th {\n",
       "        text-align: right;\n",
       "    }\n",
       "</style>\n",
       "<table border=\"1\" class=\"dataframe\">\n",
       "  <thead>\n",
       "    <tr style=\"text-align: right;\">\n",
       "      <th></th>\n",
       "      <th>Publication</th>\n",
       "      <th>Content</th>\n",
       "      <th>Bias</th>\n",
       "    </tr>\n",
       "  </thead>\n",
       "  <tbody>\n",
       "    <tr>\n",
       "      <th>0</th>\n",
       "      <td>CNN</td>\n",
       "      <td>Istanbul (CNN) At least 39 people were killed ...</td>\n",
       "      <td>Left</td>\n",
       "    </tr>\n",
       "    <tr>\n",
       "      <th>1</th>\n",
       "      <td>CNN</td>\n",
       "      <td>Atlanta (CNN) This season’s College Football P...</td>\n",
       "      <td>Left</td>\n",
       "    </tr>\n",
       "    <tr>\n",
       "      <th>2</th>\n",
       "      <td>CNN</td>\n",
       "      <td>(CNN) Revelers on the United States’ west coa...</td>\n",
       "      <td>Left</td>\n",
       "    </tr>\n",
       "    <tr>\n",
       "      <th>3</th>\n",
       "      <td>CNN</td>\n",
       "      <td>West Palm Beach, Florida (CNN)  Donald Trump s...</td>\n",
       "      <td>Left</td>\n",
       "    </tr>\n",
       "    <tr>\n",
       "      <th>4</th>\n",
       "      <td>CNN</td>\n",
       "      <td>(CNN) Two small planes collided in Texas on S...</td>\n",
       "      <td>Left</td>\n",
       "    </tr>\n",
       "    <tr>\n",
       "      <th>...</th>\n",
       "      <td>...</td>\n",
       "      <td>...</td>\n",
       "      <td>...</td>\n",
       "    </tr>\n",
       "    <tr>\n",
       "      <th>85360</th>\n",
       "      <td>National Review</td>\n",
       "      <td>I first read Thomas Sowell in college  —   no ...</td>\n",
       "      <td>Right</td>\n",
       "    </tr>\n",
       "    <tr>\n",
       "      <th>85361</th>\n",
       "      <td>National Review</td>\n",
       "      <td>Whether it’s celebrated according to the Grego...</td>\n",
       "      <td>Right</td>\n",
       "    </tr>\n",
       "    <tr>\n",
       "      <th>85362</th>\n",
       "      <td>National Review</td>\n",
       "      <td>Editor’s Note: This piece first appeared in th...</td>\n",
       "      <td>Right</td>\n",
       "    </tr>\n",
       "    <tr>\n",
       "      <th>85363</th>\n",
       "      <td>National Review</td>\n",
       "      <td>Israel would seem to be in a disastrous positi...</td>\n",
       "      <td>Right</td>\n",
       "    </tr>\n",
       "    <tr>\n",
       "      <th>85364</th>\n",
       "      <td>National Review</td>\n",
       "      <td>The year 2016 was a good one for books by men ...</td>\n",
       "      <td>Right</td>\n",
       "    </tr>\n",
       "  </tbody>\n",
       "</table>\n",
       "<p>85365 rows × 3 columns</p>\n",
       "</div>"
      ],
      "text/plain": [
       "           Publication                                            Content  \\\n",
       "0                  CNN  Istanbul (CNN) At least 39 people were killed ...   \n",
       "1                  CNN  Atlanta (CNN) This season’s College Football P...   \n",
       "2                  CNN   (CNN) Revelers on the United States’ west coa...   \n",
       "3                  CNN  West Palm Beach, Florida (CNN)  Donald Trump s...   \n",
       "4                  CNN   (CNN) Two small planes collided in Texas on S...   \n",
       "...                ...                                                ...   \n",
       "85360  National Review  I first read Thomas Sowell in college  —   no ...   \n",
       "85361  National Review  Whether it’s celebrated according to the Grego...   \n",
       "85362  National Review  Editor’s Note: This piece first appeared in th...   \n",
       "85363  National Review  Israel would seem to be in a disastrous positi...   \n",
       "85364  National Review  The year 2016 was a good one for books by men ...   \n",
       "\n",
       "        Bias  \n",
       "0       Left  \n",
       "1       Left  \n",
       "2       Left  \n",
       "3       Left  \n",
       "4       Left  \n",
       "...      ...  \n",
       "85360  Right  \n",
       "85361  Right  \n",
       "85362  Right  \n",
       "85363  Right  \n",
       "85364  Right  \n",
       "\n",
       "[85365 rows x 3 columns]"
      ]
     },
     "execution_count": 14,
     "metadata": {},
     "output_type": "execute_result"
    }
   ],
   "source": [
    "df"
   ]
  },
  {
   "cell_type": "code",
   "execution_count": 15,
   "id": "6844c998",
   "metadata": {},
   "outputs": [],
   "source": [
    "#If we did a multi class\n",
    "dict_sent = {'Left':-1, \n",
    "             'Center':0,\n",
    "             'Right':1}\n",
    "df[\"num_bias\"] = df[\"Bias\"].map(dict_sent)"
   ]
  },
  {
   "cell_type": "code",
   "execution_count": 16,
   "id": "fb68259a",
   "metadata": {},
   "outputs": [
    {
     "data": {
      "text/html": [
       "<div>\n",
       "<style scoped>\n",
       "    .dataframe tbody tr th:only-of-type {\n",
       "        vertical-align: middle;\n",
       "    }\n",
       "\n",
       "    .dataframe tbody tr th {\n",
       "        vertical-align: top;\n",
       "    }\n",
       "\n",
       "    .dataframe thead th {\n",
       "        text-align: right;\n",
       "    }\n",
       "</style>\n",
       "<table border=\"1\" class=\"dataframe\">\n",
       "  <thead>\n",
       "    <tr style=\"text-align: right;\">\n",
       "      <th></th>\n",
       "      <th>Publication</th>\n",
       "      <th>Content</th>\n",
       "      <th>Bias</th>\n",
       "      <th>num_bias</th>\n",
       "    </tr>\n",
       "  </thead>\n",
       "  <tbody>\n",
       "    <tr>\n",
       "      <th>0</th>\n",
       "      <td>CNN</td>\n",
       "      <td>Istanbul (CNN) At least 39 people were killed ...</td>\n",
       "      <td>Left</td>\n",
       "      <td>-1</td>\n",
       "    </tr>\n",
       "    <tr>\n",
       "      <th>1</th>\n",
       "      <td>CNN</td>\n",
       "      <td>Atlanta (CNN) This season’s College Football P...</td>\n",
       "      <td>Left</td>\n",
       "      <td>-1</td>\n",
       "    </tr>\n",
       "    <tr>\n",
       "      <th>2</th>\n",
       "      <td>CNN</td>\n",
       "      <td>(CNN) Revelers on the United States’ west coa...</td>\n",
       "      <td>Left</td>\n",
       "      <td>-1</td>\n",
       "    </tr>\n",
       "    <tr>\n",
       "      <th>3</th>\n",
       "      <td>CNN</td>\n",
       "      <td>West Palm Beach, Florida (CNN)  Donald Trump s...</td>\n",
       "      <td>Left</td>\n",
       "      <td>-1</td>\n",
       "    </tr>\n",
       "    <tr>\n",
       "      <th>4</th>\n",
       "      <td>CNN</td>\n",
       "      <td>(CNN) Two small planes collided in Texas on S...</td>\n",
       "      <td>Left</td>\n",
       "      <td>-1</td>\n",
       "    </tr>\n",
       "  </tbody>\n",
       "</table>\n",
       "</div>"
      ],
      "text/plain": [
       "  Publication                                            Content  Bias  \\\n",
       "0         CNN  Istanbul (CNN) At least 39 people were killed ...  Left   \n",
       "1         CNN  Atlanta (CNN) This season’s College Football P...  Left   \n",
       "2         CNN   (CNN) Revelers on the United States’ west coa...  Left   \n",
       "3         CNN  West Palm Beach, Florida (CNN)  Donald Trump s...  Left   \n",
       "4         CNN   (CNN) Two small planes collided in Texas on S...  Left   \n",
       "\n",
       "   num_bias  \n",
       "0        -1  \n",
       "1        -1  \n",
       "2        -1  \n",
       "3        -1  \n",
       "4        -1  "
      ]
     },
     "execution_count": 16,
     "metadata": {},
     "output_type": "execute_result"
    }
   ],
   "source": [
    "df.head()"
   ]
  },
  {
   "cell_type": "code",
   "execution_count": 17,
   "id": "f3467dc0",
   "metadata": {},
   "outputs": [
    {
     "data": {
      "text/html": [
       "<div>\n",
       "<style scoped>\n",
       "    .dataframe tbody tr th:only-of-type {\n",
       "        vertical-align: middle;\n",
       "    }\n",
       "\n",
       "    .dataframe tbody tr th {\n",
       "        vertical-align: top;\n",
       "    }\n",
       "\n",
       "    .dataframe thead th {\n",
       "        text-align: right;\n",
       "    }\n",
       "</style>\n",
       "<table border=\"1\" class=\"dataframe\">\n",
       "  <thead>\n",
       "    <tr style=\"text-align: right;\">\n",
       "      <th></th>\n",
       "      <th>Publication</th>\n",
       "      <th>Content</th>\n",
       "      <th>Bias</th>\n",
       "      <th>num_bias</th>\n",
       "    </tr>\n",
       "  </thead>\n",
       "  <tbody>\n",
       "    <tr>\n",
       "      <th>45000</th>\n",
       "      <td>The Hill</td>\n",
       "      <td>The Obama administration’s won’t pursue passag...</td>\n",
       "      <td>Center</td>\n",
       "      <td>0</td>\n",
       "    </tr>\n",
       "    <tr>\n",
       "      <th>45001</th>\n",
       "      <td>The Hill</td>\n",
       "      <td>Rep. Al GreenAlexander (Al) N. GreenWe need a ...</td>\n",
       "      <td>Center</td>\n",
       "      <td>0</td>\n",
       "    </tr>\n",
       "    <tr>\n",
       "      <th>45002</th>\n",
       "      <td>The Hill</td>\n",
       "      <td>View the discussion thread. The Hill 1625 K St...</td>\n",
       "      <td>Center</td>\n",
       "      <td>0</td>\n",
       "    </tr>\n",
       "    <tr>\n",
       "      <th>45003</th>\n",
       "      <td>The Hill</td>\n",
       "      <td>Rep. Al GreenAlexander (Al) N. GreenWe need a ...</td>\n",
       "      <td>Center</td>\n",
       "      <td>0</td>\n",
       "    </tr>\n",
       "    <tr>\n",
       "      <th>45004</th>\n",
       "      <td>The Hill</td>\n",
       "      <td>The public health community has been closely w...</td>\n",
       "      <td>Center</td>\n",
       "      <td>0</td>\n",
       "    </tr>\n",
       "  </tbody>\n",
       "</table>\n",
       "</div>"
      ],
      "text/plain": [
       "      Publication                                            Content    Bias  \\\n",
       "45000    The Hill  The Obama administration’s won’t pursue passag...  Center   \n",
       "45001    The Hill  Rep. Al GreenAlexander (Al) N. GreenWe need a ...  Center   \n",
       "45002    The Hill  View the discussion thread. The Hill 1625 K St...  Center   \n",
       "45003    The Hill  Rep. Al GreenAlexander (Al) N. GreenWe need a ...  Center   \n",
       "45004    The Hill  The public health community has been closely w...  Center   \n",
       "\n",
       "       num_bias  \n",
       "45000         0  \n",
       "45001         0  \n",
       "45002         0  \n",
       "45003         0  \n",
       "45004         0  "
      ]
     },
     "execution_count": 17,
     "metadata": {},
     "output_type": "execute_result"
    }
   ],
   "source": [
    "df.iloc[45000:45005]"
   ]
  },
  {
   "cell_type": "code",
   "execution_count": 18,
   "id": "273592a5",
   "metadata": {},
   "outputs": [
    {
     "data": {
      "text/html": [
       "<div>\n",
       "<style scoped>\n",
       "    .dataframe tbody tr th:only-of-type {\n",
       "        vertical-align: middle;\n",
       "    }\n",
       "\n",
       "    .dataframe tbody tr th {\n",
       "        vertical-align: top;\n",
       "    }\n",
       "\n",
       "    .dataframe thead th {\n",
       "        text-align: right;\n",
       "    }\n",
       "</style>\n",
       "<table border=\"1\" class=\"dataframe\">\n",
       "  <thead>\n",
       "    <tr style=\"text-align: right;\">\n",
       "      <th></th>\n",
       "      <th>Publication</th>\n",
       "      <th>Content</th>\n",
       "      <th>Bias</th>\n",
       "      <th>num_bias</th>\n",
       "    </tr>\n",
       "  </thead>\n",
       "  <tbody>\n",
       "    <tr>\n",
       "      <th>85360</th>\n",
       "      <td>National Review</td>\n",
       "      <td>I first read Thomas Sowell in college  —   no ...</td>\n",
       "      <td>Right</td>\n",
       "      <td>1</td>\n",
       "    </tr>\n",
       "    <tr>\n",
       "      <th>85361</th>\n",
       "      <td>National Review</td>\n",
       "      <td>Whether it’s celebrated according to the Grego...</td>\n",
       "      <td>Right</td>\n",
       "      <td>1</td>\n",
       "    </tr>\n",
       "    <tr>\n",
       "      <th>85362</th>\n",
       "      <td>National Review</td>\n",
       "      <td>Editor’s Note: This piece first appeared in th...</td>\n",
       "      <td>Right</td>\n",
       "      <td>1</td>\n",
       "    </tr>\n",
       "    <tr>\n",
       "      <th>85363</th>\n",
       "      <td>National Review</td>\n",
       "      <td>Israel would seem to be in a disastrous positi...</td>\n",
       "      <td>Right</td>\n",
       "      <td>1</td>\n",
       "    </tr>\n",
       "    <tr>\n",
       "      <th>85364</th>\n",
       "      <td>National Review</td>\n",
       "      <td>The year 2016 was a good one for books by men ...</td>\n",
       "      <td>Right</td>\n",
       "      <td>1</td>\n",
       "    </tr>\n",
       "  </tbody>\n",
       "</table>\n",
       "</div>"
      ],
      "text/plain": [
       "           Publication                                            Content  \\\n",
       "85360  National Review  I first read Thomas Sowell in college  —   no ...   \n",
       "85361  National Review  Whether it’s celebrated according to the Grego...   \n",
       "85362  National Review  Editor’s Note: This piece first appeared in th...   \n",
       "85363  National Review  Israel would seem to be in a disastrous positi...   \n",
       "85364  National Review  The year 2016 was a good one for books by men ...   \n",
       "\n",
       "        Bias  num_bias  \n",
       "85360  Right         1  \n",
       "85361  Right         1  \n",
       "85362  Right         1  \n",
       "85363  Right         1  \n",
       "85364  Right         1  "
      ]
     },
     "execution_count": 18,
     "metadata": {},
     "output_type": "execute_result"
    }
   ],
   "source": [
    "df.tail()"
   ]
  },
  {
   "cell_type": "code",
   "execution_count": 19,
   "id": "2eee3748",
   "metadata": {},
   "outputs": [],
   "source": [
    "tokenizer = RegexpTokenizer(r\"(?u)\\b\\w\\w+\\b\")\n",
    "lemma = WordNetLemmatizer()"
   ]
  },
  {
   "cell_type": "code",
   "execution_count": 20,
   "id": "e4c88c18",
   "metadata": {},
   "outputs": [
    {
     "data": {
      "text/plain": [
       "['cnn', 'vox', 'reuters', 'the hill', 'breitbart', 'national review']"
      ]
     },
     "execution_count": 20,
     "metadata": {},
     "output_type": "execute_result"
    }
   ],
   "source": [
    "source = list(df[\"Publication\"].unique())\n",
    "source = (map(lambda x: x.lower(), source))\n",
    "source = list(source)\n",
    "source"
   ]
  },
  {
   "cell_type": "code",
   "execution_count": 21,
   "id": "3d69a56c",
   "metadata": {},
   "outputs": [
    {
     "name": "stdout",
     "output_type": "stream",
     "text": [
      "['i', 'me', 'my', 'myself', 'we', 'our', 'ours', 'ourselves', 'you', \"you're\", \"you've\", \"you'll\", \"you'd\", 'your', 'yours', 'yourself', 'yourselves', 'he', 'him', 'his', 'himself', 'she', \"she's\", 'her', 'hers', 'herself', 'it', \"it's\", 'its', 'itself', 'they', 'them', 'their', 'theirs', 'themselves', 'what', 'which', 'who', 'whom', 'this', 'that', \"that'll\", 'these', 'those', 'am', 'is', 'are', 'was', 'were', 'be', 'been', 'being', 'have', 'has', 'had', 'having', 'do', 'does', 'did', 'doing', 'a', 'an', 'the', 'and', 'but', 'if', 'or', 'because', 'as', 'until', 'while', 'of', 'at', 'by', 'for', 'with', 'about', 'against', 'between', 'into', 'through', 'during', 'before', 'after', 'above', 'below', 'to', 'from', 'up', 'down', 'in', 'out', 'on', 'off', 'over', 'under', 'again', 'further', 'then', 'once', 'here', 'there', 'when', 'where', 'why', 'how', 'all', 'any', 'both', 'each', 'few', 'more', 'most', 'other', 'some', 'such', 'no', 'nor', 'not', 'only', 'own', 'same', 'so', 'than', 'too', 'very', 's', 't', 'can', 'will', 'just', 'don', \"don't\", 'should', \"should've\", 'now', 'd', 'll', 'm', 'o', 're', 've', 'y', 'ain', 'aren', \"aren't\", 'couldn', \"couldn't\", 'didn', \"didn't\", 'doesn', \"doesn't\", 'hadn', \"hadn't\", 'hasn', \"hasn't\", 'haven', \"haven't\", 'isn', \"isn't\", 'ma', 'mightn', \"mightn't\", 'mustn', \"mustn't\", 'needn', \"needn't\", 'shan', \"shan't\", 'shouldn', \"shouldn't\", 'wasn', \"wasn't\", 'weren', \"weren't\", 'won', \"won't\", 'wouldn', \"wouldn't\", '!', '\"', '#', '$', '%', '&', \"'\", '(', ')', '*', '+', ',', '-', '.', '/', ':', ';', '<', '=', '>', '?', '@', '[', '\\\\', ']', '^', '_', '`', '{', '|', '}', '~', 'cnn', 'vox', 'reuters', 'the hill', 'breitbart', 'national review']\n"
     ]
    }
   ],
   "source": [
    "stopwords_list = stopwords.words(\"english\")\n",
    "stopwords_list += string.punctuation\n",
    "stopwords_list += source\n",
    "print(stopwords_list)"
   ]
  },
  {
   "cell_type": "code",
   "execution_count": 22,
   "id": "74c50154",
   "metadata": {},
   "outputs": [
    {
     "data": {
      "text/plain": [
       "' (CNN) The Iraqi Air Force dropped millions of leaflets over western Mosul late Saturday warning residents of an offensive by ground forces on the   part of the city, which has so far been targeted only by airstrikes. Iraqi forces have had control of the eastern part of the city, which is divided by the Tigris River, since January. The leaflets say Iraqi forces are making advancements to the western side and ”provide guidance and recommendations” for citizens ahead of the offensive, according to a statement from the Iraqi Joint Operations Command (JOC). The leaflets also warn ISIS members to ”lay down their weapons and surrender before they face their inevitable fate at the hands of our heroic forces,” the statement said. As many as 800, 000 civilians live in western Mosul, according to the United Nations. It said UN humanitarian agencies in Iraq are preparing to assist civilians caught in the fighting. ”The situation is distressing,” said Lise Grande, the UN humanitarian coordinator for Iraq. ”People, right now, are in trouble. We are hearing reports of parents struggling to feed their children and to heat their homes.” Iraqi   fighter jets carried out airstrikes Friday and Saturday in western Mosul targeting ISIS headquarters and  communications positions, according to the Iraqi military. The airstrikes ”destroyed a number of ISIS’    centers, inflicting heavy losses to them and their equipment,” the army said. The offensive to retake Mosul from ISIS’s brutal rule began in October 2016 with a push by the Iraqi army,   forces, federal police and Kurdish Peshmerga fighters. ISIS seized Mosul, Iraq’s second largest city, in 2014 and it is the militant group’s last major stronghold in the country.'"
      ]
     },
     "execution_count": 22,
     "metadata": {},
     "output_type": "execute_result"
    }
   ],
   "source": [
    "test = df[\"Content\"].iloc[random.randint(0,df.shape[0])]\n",
    "test"
   ]
  },
  {
   "cell_type": "code",
   "execution_count": 23,
   "id": "e123f26c",
   "metadata": {},
   "outputs": [],
   "source": [
    "test = test.lower()"
   ]
  },
  {
   "cell_type": "code",
   "execution_count": 24,
   "id": "43a7d0ed",
   "metadata": {},
   "outputs": [],
   "source": [
    "pattern = \"((@[a-zA-Z0-9_-]+)((?=\\s+)|$|[!?.,-]))|([@][A-z]+)|([#][A-z]+)| \\\n",
    "                ((pic.)?twitter\\.com\\/[A-Za-z0-9_]{5,1000}(\\?(\\w+=\\w+&?)*)?) | \\\n",
    "                ([^\\x00-\\x7F]+\\ *(?:[^\\x00-\\x7F]| )*)|((view the discussion thread.)([\\s\\S]*)$)|\\\n",
    "                ((the views expressed by contributors are their own and not the views of the hill.)([\\s\\S]*)$)|(http\\S+)|(\\\\d)\""
   ]
  },
  {
   "cell_type": "code",
   "execution_count": 25,
   "id": "8aab45e8",
   "metadata": {},
   "outputs": [
    {
     "data": {
      "text/plain": [
       "' (cnn) the iraqi air force dropped millions of leaflets over western mosul late saturday warning residents of an offensive by ground forces on the   part of the city, which has so far been targeted only by airstrikes. iraqi forces have had control of the eastern part of the city, which is divided by the tigris river, since january. the leaflets say iraqi forces are making advancements to the western side and ”provide guidance and recommendations” for citizens ahead of the offensive, according to a statement from the iraqi joint operations command (joc). the leaflets also warn isis members to ”lay down their weapons and surrender before they face their inevitable fate at the hands of our heroic forces,” the statement said. as many as ,  civilians live in western mosul, according to the united nations. it said un humanitarian agencies in iraq are preparing to assist civilians caught in the fighting. ”the situation is distressing,” said lise grande, the un humanitarian coordinator for iraq. ”people, right now, are in trouble. we are hearing reports of parents struggling to feed their children and to heat their homes.” iraqi   fighter jets carried out airstrikes friday and saturday in western mosul targeting isis headquarters and  communications positions, according to the iraqi military. the airstrikes ”destroyed a number of isis’    centers, inflicting heavy losses to them and their equipment,” the army said. the offensive to retake mosul from isis’s brutal rule began in october  with a push by the iraqi army,   forces, federal police and kurdish peshmerga fighters. isis seized mosul, iraq’s second largest city, in  and it is the militant group’s last major stronghold in the country.'"
      ]
     },
     "execution_count": 25,
     "metadata": {},
     "output_type": "execute_result"
    }
   ],
   "source": [
    "test = re.sub(pattern,\"\", test)\n",
    "test"
   ]
  },
  {
   "cell_type": "code",
   "execution_count": 26,
   "id": "3f50aaff",
   "metadata": {},
   "outputs": [],
   "source": [
    "# test = test.lower()\n",
    "# test"
   ]
  },
  {
   "cell_type": "code",
   "execution_count": 27,
   "id": "ac3f96c0",
   "metadata": {},
   "outputs": [
    {
     "data": {
      "text/plain": [
       "['cnn',\n",
       " 'the',\n",
       " 'iraqi',\n",
       " 'air',\n",
       " 'force',\n",
       " 'dropped',\n",
       " 'millions',\n",
       " 'of',\n",
       " 'leaflets',\n",
       " 'over',\n",
       " 'western',\n",
       " 'mosul',\n",
       " 'late',\n",
       " 'saturday',\n",
       " 'warning',\n",
       " 'residents',\n",
       " 'of',\n",
       " 'an',\n",
       " 'offensive',\n",
       " 'by',\n",
       " 'ground',\n",
       " 'forces',\n",
       " 'on',\n",
       " 'the',\n",
       " 'part',\n",
       " 'of',\n",
       " 'the',\n",
       " 'city',\n",
       " 'which',\n",
       " 'has',\n",
       " 'so',\n",
       " 'far',\n",
       " 'been',\n",
       " 'targeted',\n",
       " 'only',\n",
       " 'by',\n",
       " 'airstrikes',\n",
       " 'iraqi',\n",
       " 'forces',\n",
       " 'have',\n",
       " 'had',\n",
       " 'control',\n",
       " 'of',\n",
       " 'the',\n",
       " 'eastern',\n",
       " 'part',\n",
       " 'of',\n",
       " 'the',\n",
       " 'city',\n",
       " 'which',\n",
       " 'is',\n",
       " 'divided',\n",
       " 'by',\n",
       " 'the',\n",
       " 'tigris',\n",
       " 'river',\n",
       " 'since',\n",
       " 'january',\n",
       " 'the',\n",
       " 'leaflets',\n",
       " 'say',\n",
       " 'iraqi',\n",
       " 'forces',\n",
       " 'are',\n",
       " 'making',\n",
       " 'advancements',\n",
       " 'to',\n",
       " 'the',\n",
       " 'western',\n",
       " 'side',\n",
       " 'and',\n",
       " 'provide',\n",
       " 'guidance',\n",
       " 'and',\n",
       " 'recommendations',\n",
       " 'for',\n",
       " 'citizens',\n",
       " 'ahead',\n",
       " 'of',\n",
       " 'the',\n",
       " 'offensive',\n",
       " 'according',\n",
       " 'to',\n",
       " 'statement',\n",
       " 'from',\n",
       " 'the',\n",
       " 'iraqi',\n",
       " 'joint',\n",
       " 'operations',\n",
       " 'command',\n",
       " 'joc',\n",
       " 'the',\n",
       " 'leaflets',\n",
       " 'also',\n",
       " 'warn',\n",
       " 'isis',\n",
       " 'members',\n",
       " 'to',\n",
       " 'lay',\n",
       " 'down',\n",
       " 'their',\n",
       " 'weapons',\n",
       " 'and',\n",
       " 'surrender',\n",
       " 'before',\n",
       " 'they',\n",
       " 'face',\n",
       " 'their',\n",
       " 'inevitable',\n",
       " 'fate',\n",
       " 'at',\n",
       " 'the',\n",
       " 'hands',\n",
       " 'of',\n",
       " 'our',\n",
       " 'heroic',\n",
       " 'forces',\n",
       " 'the',\n",
       " 'statement',\n",
       " 'said',\n",
       " 'as',\n",
       " 'many',\n",
       " 'as',\n",
       " 'civilians',\n",
       " 'live',\n",
       " 'in',\n",
       " 'western',\n",
       " 'mosul',\n",
       " 'according',\n",
       " 'to',\n",
       " 'the',\n",
       " 'united',\n",
       " 'nations',\n",
       " 'it',\n",
       " 'said',\n",
       " 'un',\n",
       " 'humanitarian',\n",
       " 'agencies',\n",
       " 'in',\n",
       " 'iraq',\n",
       " 'are',\n",
       " 'preparing',\n",
       " 'to',\n",
       " 'assist',\n",
       " 'civilians',\n",
       " 'caught',\n",
       " 'in',\n",
       " 'the',\n",
       " 'fighting',\n",
       " 'the',\n",
       " 'situation',\n",
       " 'is',\n",
       " 'distressing',\n",
       " 'said',\n",
       " 'lise',\n",
       " 'grande',\n",
       " 'the',\n",
       " 'un',\n",
       " 'humanitarian',\n",
       " 'coordinator',\n",
       " 'for',\n",
       " 'iraq',\n",
       " 'people',\n",
       " 'right',\n",
       " 'now',\n",
       " 'are',\n",
       " 'in',\n",
       " 'trouble',\n",
       " 'we',\n",
       " 'are',\n",
       " 'hearing',\n",
       " 'reports',\n",
       " 'of',\n",
       " 'parents',\n",
       " 'struggling',\n",
       " 'to',\n",
       " 'feed',\n",
       " 'their',\n",
       " 'children',\n",
       " 'and',\n",
       " 'to',\n",
       " 'heat',\n",
       " 'their',\n",
       " 'homes',\n",
       " 'iraqi',\n",
       " 'fighter',\n",
       " 'jets',\n",
       " 'carried',\n",
       " 'out',\n",
       " 'airstrikes',\n",
       " 'friday',\n",
       " 'and',\n",
       " 'saturday',\n",
       " 'in',\n",
       " 'western',\n",
       " 'mosul',\n",
       " 'targeting',\n",
       " 'isis',\n",
       " 'headquarters',\n",
       " 'and',\n",
       " 'communications',\n",
       " 'positions',\n",
       " 'according',\n",
       " 'to',\n",
       " 'the',\n",
       " 'iraqi',\n",
       " 'military',\n",
       " 'the',\n",
       " 'airstrikes',\n",
       " 'destroyed',\n",
       " 'number',\n",
       " 'of',\n",
       " 'isis',\n",
       " 'centers',\n",
       " 'inflicting',\n",
       " 'heavy',\n",
       " 'losses',\n",
       " 'to',\n",
       " 'them',\n",
       " 'and',\n",
       " 'their',\n",
       " 'equipment',\n",
       " 'the',\n",
       " 'army',\n",
       " 'said',\n",
       " 'the',\n",
       " 'offensive',\n",
       " 'to',\n",
       " 'retake',\n",
       " 'mosul',\n",
       " 'from',\n",
       " 'isis',\n",
       " 'brutal',\n",
       " 'rule',\n",
       " 'began',\n",
       " 'in',\n",
       " 'october',\n",
       " 'with',\n",
       " 'push',\n",
       " 'by',\n",
       " 'the',\n",
       " 'iraqi',\n",
       " 'army',\n",
       " 'forces',\n",
       " 'federal',\n",
       " 'police',\n",
       " 'and',\n",
       " 'kurdish',\n",
       " 'peshmerga',\n",
       " 'fighters',\n",
       " 'isis',\n",
       " 'seized',\n",
       " 'mosul',\n",
       " 'iraq',\n",
       " 'second',\n",
       " 'largest',\n",
       " 'city',\n",
       " 'in',\n",
       " 'and',\n",
       " 'it',\n",
       " 'is',\n",
       " 'the',\n",
       " 'militant',\n",
       " 'group',\n",
       " 'last',\n",
       " 'major',\n",
       " 'stronghold',\n",
       " 'in',\n",
       " 'the',\n",
       " 'country']"
      ]
     },
     "execution_count": 27,
     "metadata": {},
     "output_type": "execute_result"
    }
   ],
   "source": [
    "test = tokenizer.tokenize(test)\n",
    "test"
   ]
  },
  {
   "cell_type": "code",
   "execution_count": 28,
   "id": "b014e198",
   "metadata": {},
   "outputs": [],
   "source": [
    "stopwords_removed=[token for token in test if token not in stopwords_list]"
   ]
  },
  {
   "cell_type": "code",
   "execution_count": 29,
   "id": "3fd08e9f",
   "metadata": {},
   "outputs": [
    {
     "data": {
      "text/plain": [
       "['iraqi',\n",
       " 'air',\n",
       " 'force',\n",
       " 'dropped',\n",
       " 'million',\n",
       " 'leaflet',\n",
       " 'western',\n",
       " 'mosul',\n",
       " 'late',\n",
       " 'saturday',\n",
       " 'warning',\n",
       " 'resident',\n",
       " 'offensive',\n",
       " 'ground',\n",
       " 'force',\n",
       " 'part',\n",
       " 'city',\n",
       " 'far',\n",
       " 'targeted',\n",
       " 'airstrikes',\n",
       " 'iraqi',\n",
       " 'force',\n",
       " 'control',\n",
       " 'eastern',\n",
       " 'part',\n",
       " 'city',\n",
       " 'divided',\n",
       " 'tigris',\n",
       " 'river',\n",
       " 'since',\n",
       " 'january',\n",
       " 'leaflet',\n",
       " 'say',\n",
       " 'iraqi',\n",
       " 'force',\n",
       " 'making',\n",
       " 'advancement',\n",
       " 'western',\n",
       " 'side',\n",
       " 'provide',\n",
       " 'guidance',\n",
       " 'recommendation',\n",
       " 'citizen',\n",
       " 'ahead',\n",
       " 'offensive',\n",
       " 'according',\n",
       " 'statement',\n",
       " 'iraqi',\n",
       " 'joint',\n",
       " 'operation',\n",
       " 'command',\n",
       " 'joc',\n",
       " 'leaflet',\n",
       " 'also',\n",
       " 'warn',\n",
       " 'isi',\n",
       " 'member',\n",
       " 'lay',\n",
       " 'weapon',\n",
       " 'surrender',\n",
       " 'face',\n",
       " 'inevitable',\n",
       " 'fate',\n",
       " 'hand',\n",
       " 'heroic',\n",
       " 'force',\n",
       " 'statement',\n",
       " 'said',\n",
       " 'many',\n",
       " 'civilian',\n",
       " 'live',\n",
       " 'western',\n",
       " 'mosul',\n",
       " 'according',\n",
       " 'united',\n",
       " 'nation',\n",
       " 'said',\n",
       " 'un',\n",
       " 'humanitarian',\n",
       " 'agency',\n",
       " 'iraq',\n",
       " 'preparing',\n",
       " 'assist',\n",
       " 'civilian',\n",
       " 'caught',\n",
       " 'fighting',\n",
       " 'situation',\n",
       " 'distressing',\n",
       " 'said',\n",
       " 'lise',\n",
       " 'grande',\n",
       " 'un',\n",
       " 'humanitarian',\n",
       " 'coordinator',\n",
       " 'iraq',\n",
       " 'people',\n",
       " 'right',\n",
       " 'trouble',\n",
       " 'hearing',\n",
       " 'report',\n",
       " 'parent',\n",
       " 'struggling',\n",
       " 'feed',\n",
       " 'child',\n",
       " 'heat',\n",
       " 'home',\n",
       " 'iraqi',\n",
       " 'fighter',\n",
       " 'jet',\n",
       " 'carried',\n",
       " 'airstrikes',\n",
       " 'friday',\n",
       " 'saturday',\n",
       " 'western',\n",
       " 'mosul',\n",
       " 'targeting',\n",
       " 'isi',\n",
       " 'headquarters',\n",
       " 'communication',\n",
       " 'position',\n",
       " 'according',\n",
       " 'iraqi',\n",
       " 'military',\n",
       " 'airstrikes',\n",
       " 'destroyed',\n",
       " 'number',\n",
       " 'isi',\n",
       " 'center',\n",
       " 'inflicting',\n",
       " 'heavy',\n",
       " 'loss',\n",
       " 'equipment',\n",
       " 'army',\n",
       " 'said',\n",
       " 'offensive',\n",
       " 'retake',\n",
       " 'mosul',\n",
       " 'isi',\n",
       " 'brutal',\n",
       " 'rule',\n",
       " 'began',\n",
       " 'october',\n",
       " 'push',\n",
       " 'iraqi',\n",
       " 'army',\n",
       " 'force',\n",
       " 'federal',\n",
       " 'police',\n",
       " 'kurdish',\n",
       " 'peshmerga',\n",
       " 'fighter',\n",
       " 'isi',\n",
       " 'seized',\n",
       " 'mosul',\n",
       " 'iraq',\n",
       " 'second',\n",
       " 'largest',\n",
       " 'city',\n",
       " 'militant',\n",
       " 'group',\n",
       " 'last',\n",
       " 'major',\n",
       " 'stronghold',\n",
       " 'country']"
      ]
     },
     "execution_count": 29,
     "metadata": {},
     "output_type": "execute_result"
    }
   ],
   "source": [
    "lemma_list = [lemma.lemmatize(token) for token in stopwords_removed]\n",
    "lemma_list"
   ]
  },
  {
   "cell_type": "code",
   "execution_count": 30,
   "id": "970c5d6d",
   "metadata": {},
   "outputs": [
    {
     "data": {
      "text/plain": [
       "FreqDist({'iraqi': 7, 'force': 6, 'mosul': 5, 'isi': 5, 'western': 4, 'said': 4, 'leaflet': 3, 'offensive': 3, 'city': 3, 'airstrikes': 3, ...})"
      ]
     },
     "execution_count": 30,
     "metadata": {},
     "output_type": "execute_result"
    }
   ],
   "source": [
    "freq_dist = FreqDist(lemma_list)\n",
    "freq_dist"
   ]
  },
  {
   "cell_type": "code",
   "execution_count": 31,
   "id": "194c1242",
   "metadata": {
    "scrolled": true
   },
   "outputs": [
    {
     "data": {
      "image/png": "[encoded data removed]",
      "text/plain": [
       "<Figure size 432x288 with 1 Axes>"
      ]
     },
     "metadata": {
      "needs_background": "light"
     },
     "output_type": "display_data"
    }
   ],
   "source": [
    "def visualize_top_10(freq_dist, title):\n",
    "\n",
    "    # Extract data for plotting\n",
    "    top_10 = list(zip(*freq_dist.most_common(10)))\n",
    "    tokens = top_10[0]\n",
    "    counts = top_10[1]\n",
    "\n",
    "    # Set up plot and plot data\n",
    "    fig, ax = plt.subplots()\n",
    "    ax.bar(tokens, counts)\n",
    "\n",
    "    # Customize plot appearance\n",
    "    ax.set_title(title)\n",
    "    ax.set_ylabel(\"Count\")\n",
    "    ax.tick_params(axis=\"x\", rotation=90)\n",
    "    \n",
    "visualize_top_10(freq_dist, \"Top 10 Word Frequency for Example Tokens\")"
   ]
  },
  {
   "cell_type": "code",
   "execution_count": null,
   "id": "949a2959",
   "metadata": {},
   "outputs": [],
   "source": [
    "df"
   ]
  },
  {
   "cell_type": "code",
   "execution_count": 33,
   "id": "72cfb934",
   "metadata": {},
   "outputs": [],
   "source": [
    "#Instaiate needed objects\n",
    "tokenizer = RegexpTokenizer(r\"(?u)\\w{3,}\")\n",
    "stopwords_list = stopwords_list\n",
    "lemma = WordNetLemmatizer()"
   ]
  },
  {
   "cell_type": "code",
   "execution_count": 34,
   "id": "781ce66c",
   "metadata": {
    "scrolled": true
   },
   "outputs": [
    {
     "data": {
      "text/plain": [
       "['i',\n",
       " 'me',\n",
       " 'my',\n",
       " 'myself',\n",
       " 'we',\n",
       " 'our',\n",
       " 'ours',\n",
       " 'ourselves',\n",
       " 'you',\n",
       " \"you're\",\n",
       " \"you've\",\n",
       " \"you'll\",\n",
       " \"you'd\",\n",
       " 'your',\n",
       " 'yours',\n",
       " 'yourself',\n",
       " 'yourselves',\n",
       " 'he',\n",
       " 'him',\n",
       " 'his',\n",
       " 'himself',\n",
       " 'she',\n",
       " \"she's\",\n",
       " 'her',\n",
       " 'hers',\n",
       " 'herself',\n",
       " 'it',\n",
       " \"it's\",\n",
       " 'its',\n",
       " 'itself',\n",
       " 'they',\n",
       " 'them',\n",
       " 'their',\n",
       " 'theirs',\n",
       " 'themselves',\n",
       " 'what',\n",
       " 'which',\n",
       " 'who',\n",
       " 'whom',\n",
       " 'this',\n",
       " 'that',\n",
       " \"that'll\",\n",
       " 'these',\n",
       " 'those',\n",
       " 'am',\n",
       " 'is',\n",
       " 'are',\n",
       " 'was',\n",
       " 'were',\n",
       " 'be',\n",
       " 'been',\n",
       " 'being',\n",
       " 'have',\n",
       " 'has',\n",
       " 'had',\n",
       " 'having',\n",
       " 'do',\n",
       " 'does',\n",
       " 'did',\n",
       " 'doing',\n",
       " 'a',\n",
       " 'an',\n",
       " 'the',\n",
       " 'and',\n",
       " 'but',\n",
       " 'if',\n",
       " 'or',\n",
       " 'because',\n",
       " 'as',\n",
       " 'until',\n",
       " 'while',\n",
       " 'of',\n",
       " 'at',\n",
       " 'by',\n",
       " 'for',\n",
       " 'with',\n",
       " 'about',\n",
       " 'against',\n",
       " 'between',\n",
       " 'into',\n",
       " 'through',\n",
       " 'during',\n",
       " 'before',\n",
       " 'after',\n",
       " 'above',\n",
       " 'below',\n",
       " 'to',\n",
       " 'from',\n",
       " 'up',\n",
       " 'down',\n",
       " 'in',\n",
       " 'out',\n",
       " 'on',\n",
       " 'off',\n",
       " 'over',\n",
       " 'under',\n",
       " 'again',\n",
       " 'further',\n",
       " 'then',\n",
       " 'once',\n",
       " 'here',\n",
       " 'there',\n",
       " 'when',\n",
       " 'where',\n",
       " 'why',\n",
       " 'how',\n",
       " 'all',\n",
       " 'any',\n",
       " 'both',\n",
       " 'each',\n",
       " 'few',\n",
       " 'more',\n",
       " 'most',\n",
       " 'other',\n",
       " 'some',\n",
       " 'such',\n",
       " 'no',\n",
       " 'nor',\n",
       " 'not',\n",
       " 'only',\n",
       " 'own',\n",
       " 'same',\n",
       " 'so',\n",
       " 'than',\n",
       " 'too',\n",
       " 'very',\n",
       " 's',\n",
       " 't',\n",
       " 'can',\n",
       " 'will',\n",
       " 'just',\n",
       " 'don',\n",
       " \"don't\",\n",
       " 'should',\n",
       " \"should've\",\n",
       " 'now',\n",
       " 'd',\n",
       " 'll',\n",
       " 'm',\n",
       " 'o',\n",
       " 're',\n",
       " 've',\n",
       " 'y',\n",
       " 'ain',\n",
       " 'aren',\n",
       " \"aren't\",\n",
       " 'couldn',\n",
       " \"couldn't\",\n",
       " 'didn',\n",
       " \"didn't\",\n",
       " 'doesn',\n",
       " \"doesn't\",\n",
       " 'hadn',\n",
       " \"hadn't\",\n",
       " 'hasn',\n",
       " \"hasn't\",\n",
       " 'haven',\n",
       " \"haven't\",\n",
       " 'isn',\n",
       " \"isn't\",\n",
       " 'ma',\n",
       " 'mightn',\n",
       " \"mightn't\",\n",
       " 'mustn',\n",
       " \"mustn't\",\n",
       " 'needn',\n",
       " \"needn't\",\n",
       " 'shan',\n",
       " \"shan't\",\n",
       " 'shouldn',\n",
       " \"shouldn't\",\n",
       " 'wasn',\n",
       " \"wasn't\",\n",
       " 'weren',\n",
       " \"weren't\",\n",
       " 'won',\n",
       " \"won't\",\n",
       " 'wouldn',\n",
       " \"wouldn't\",\n",
       " '!',\n",
       " '\"',\n",
       " '#',\n",
       " '$',\n",
       " '%',\n",
       " '&',\n",
       " \"'\",\n",
       " '(',\n",
       " ')',\n",
       " '*',\n",
       " '+',\n",
       " ',',\n",
       " '-',\n",
       " '.',\n",
       " '/',\n",
       " ':',\n",
       " ';',\n",
       " '<',\n",
       " '=',\n",
       " '>',\n",
       " '?',\n",
       " '@',\n",
       " '[',\n",
       " '\\\\',\n",
       " ']',\n",
       " '^',\n",
       " '_',\n",
       " '`',\n",
       " '{',\n",
       " '|',\n",
       " '}',\n",
       " '~',\n",
       " 'cnn',\n",
       " 'vox',\n",
       " 'reuters',\n",
       " 'the hill',\n",
       " 'breitbart',\n",
       " 'national review']"
      ]
     },
     "execution_count": 34,
     "metadata": {},
     "output_type": "execute_result"
    }
   ],
   "source": [
    "stopwords_list"
   ]
  },
  {
   "cell_type": "code",
   "execution_count": 35,
   "id": "68ee9e52",
   "metadata": {},
   "outputs": [],
   "source": [
    "pattern = \"((@[a-zA-Z0-9_-]+)((?=\\s+)|$|[!?.,-]))|([@][A-z]+)|([#][A-z]+)| \\\n",
    "                ((pic.)?twitter\\.com\\/[A-Za-z0-9_]{5,1000}(\\?(\\w+=\\w+&?)*)?) | \\\n",
    "                ([^\\x00-\\x7F]+\\ *(?:[^\\x00-\\x7F]| )*)|((view the discussion thread.)([\\s\\S]*)$)|\\\n",
    "                ((the views expressed by contributors are their own and not the views of the hill.)([\\s\\S]*)$)|(http\\S+)|(\\\\d)\""
   ]
  },
  {
   "cell_type": "code",
   "execution_count": 169,
   "id": "4590ef4d",
   "metadata": {},
   "outputs": [],
   "source": [
    "def preprocess(content):\n",
    "    #rmove necessary item from content (see above)\n",
    "    pre = re.sub(pattern, \" \", str(content))\n",
    "    #Turn all the tokens lowercase\n",
    "    lower = pre.lower()\n",
    "    #Only include words with 3 or more characters\n",
    "    token_list = tokenizer.tokenize(lower)\n",
    "    #Remove stopwords\n",
    "    stopwords_removed=[token for token in token_list if token not in stopwords_list]\n",
    "    #Lemmatize the remaining word tokens\n",
    "    lemma_list = [lemma.lemmatize(token) for token in stopwords_removed]\n",
    "    #Turn the lemma list into a string for the Vectorizer\n",
    "    cleaned_string = \" \".join(lemma_list) \n",
    "    return str(cleaned_string)"
   ]
  },
  {
   "cell_type": "code",
   "execution_count": 170,
   "id": "9b884d8e",
   "metadata": {},
   "outputs": [
    {
     "data": {
      "text/plain": [
       "'maybe time life screamed television set flip channel get life unless current president united state probably watch way see something like flip stew call friend complains tweet act according source knowledge trump told friend increasingly concerned fbi director james comey grown control pursuing agenda comey testimony last week source say pushed edge acted decided fire comey childish impetuous dangerous manner looked rationale found memo written rod rosenstein deputy attorney general white house used cover story vice president trump blown explanation telling nbc would fired comey matter justice official recommended trump lie penny like mike flynn asking credibility lost apparently one able tell newbie behave firing current fbi director middle russia investigation matter tarnished reputation bad idea one tell matter furious investigation growing requiring resource trying kill striking fbi director bad idea might interpreted obstruction justice none matter trump never louise sunshine former trump organization employee told month ago trump always lobbed grenade walked away nobody ever knew walked meeting going say said donald always managed walk meeting say something nobody else expected ever say upend entire meeting leave everybody agog control every situation way time leaf room store owns store trump store anymore trump clearly learned little office still throw tantrum staff sent clean mess pattern set first full day office trump fumed picture crowd size inauguration sent press secretary sean spicer rationalize obsession came president ridiculous assertion million illegal vote cast election lost popular vote spicer came try explain unexplainable solution set presidential commission examine fiction white house finally announced thursday came president impulsive early saturday morning march accused predecessor wiretapped never mind accusing barack obama felony true anyway came shovel brigade balk even bit would seen disloyal trump allowed ever time really hard figure explain unexplainable plan hatched call congressional investigation stop talking russia hack potential russian collusion campaign focus instead investigating leak cast negative light trump people get idea president tweet nonsense staff scramble make sensible even emperor clothes tell firing james comey president decides want fire comey staff tasked come rationale hard time absurd face praised comey late october campaign trail last week spokesman declared confidence fbi director suddenly believe president really thought comey unfair hillary really one source close president tell real concern comey treated clinton badly would donald trump told nbc comey showboat grandstander telling insult trump galaxy star brighter trump one requirement presidency believe job something greater country first believe something greater'"
      ]
     },
     "execution_count": 170,
     "metadata": {},
     "output_type": "execute_result"
    }
   ],
   "source": [
    "#Sanity check on data\n",
    "preprocess(df[\"Content\"].iloc[3009])"
   ]
  },
  {
   "cell_type": "code",
   "execution_count": 171,
   "id": "54196a04",
   "metadata": {},
   "outputs": [],
   "source": [
    "df[\"processed_content\"] =  df[\"Content\"].apply(lambda x: preprocess(x))"
   ]
  },
  {
   "cell_type": "code",
   "execution_count": 172,
   "id": "d922c1e5",
   "metadata": {},
   "outputs": [
    {
     "data": {
      "text/html": [
       "<div>\n",
       "<style scoped>\n",
       "    .dataframe tbody tr th:only-of-type {\n",
       "        vertical-align: middle;\n",
       "    }\n",
       "\n",
       "    .dataframe tbody tr th {\n",
       "        vertical-align: top;\n",
       "    }\n",
       "\n",
       "    .dataframe thead th {\n",
       "        text-align: right;\n",
       "    }\n",
       "</style>\n",
       "<table border=\"1\" class=\"dataframe\">\n",
       "  <thead>\n",
       "    <tr style=\"text-align: right;\">\n",
       "      <th></th>\n",
       "      <th>Publication</th>\n",
       "      <th>Content</th>\n",
       "      <th>Bias</th>\n",
       "      <th>num_bias</th>\n",
       "      <th>processed_content</th>\n",
       "    </tr>\n",
       "  </thead>\n",
       "  <tbody>\n",
       "    <tr>\n",
       "      <th>0</th>\n",
       "      <td>CNN</td>\n",
       "      <td>Istanbul (CNN) At least 39 people were killed ...</td>\n",
       "      <td>Left</td>\n",
       "      <td>-1</td>\n",
       "      <td>istanbul least people killed least wounded att...</td>\n",
       "    </tr>\n",
       "    <tr>\n",
       "      <th>1</th>\n",
       "      <td>CNN</td>\n",
       "      <td>Atlanta (CNN) This season’s College Football P...</td>\n",
       "      <td>Left</td>\n",
       "      <td>-1</td>\n",
       "      <td>atlanta season college football playoff center...</td>\n",
       "    </tr>\n",
       "    <tr>\n",
       "      <th>2</th>\n",
       "      <td>CNN</td>\n",
       "      <td>(CNN) Revelers on the United States’ west coa...</td>\n",
       "      <td>Left</td>\n",
       "      <td>-1</td>\n",
       "      <td>reveler united state west coast cheered advent...</td>\n",
       "    </tr>\n",
       "    <tr>\n",
       "      <th>3</th>\n",
       "      <td>CNN</td>\n",
       "      <td>West Palm Beach, Florida (CNN)  Donald Trump s...</td>\n",
       "      <td>Left</td>\n",
       "      <td>-1</td>\n",
       "      <td>west palm beach florida donald trump said satu...</td>\n",
       "    </tr>\n",
       "    <tr>\n",
       "      <th>4</th>\n",
       "      <td>CNN</td>\n",
       "      <td>(CNN) Two small planes collided in Texas on S...</td>\n",
       "      <td>Left</td>\n",
       "      <td>-1</td>\n",
       "      <td>two small plane collided texas saturday killin...</td>\n",
       "    </tr>\n",
       "    <tr>\n",
       "      <th>...</th>\n",
       "      <td>...</td>\n",
       "      <td>...</td>\n",
       "      <td>...</td>\n",
       "      <td>...</td>\n",
       "      <td>...</td>\n",
       "    </tr>\n",
       "    <tr>\n",
       "      <th>85360</th>\n",
       "      <td>National Review</td>\n",
       "      <td>I first read Thomas Sowell in college  —   no ...</td>\n",
       "      <td>Right</td>\n",
       "      <td>1</td>\n",
       "      <td>first read thomas sowell college thanks colleg...</td>\n",
       "    </tr>\n",
       "    <tr>\n",
       "      <th>85361</th>\n",
       "      <td>National Review</td>\n",
       "      <td>Whether it’s celebrated according to the Grego...</td>\n",
       "      <td>Right</td>\n",
       "      <td>1</td>\n",
       "      <td>whether celebrated according gregorian julian ...</td>\n",
       "    </tr>\n",
       "    <tr>\n",
       "      <th>85362</th>\n",
       "      <td>National Review</td>\n",
       "      <td>Editor’s Note: This piece first appeared in th...</td>\n",
       "      <td>Right</td>\n",
       "      <td>1</td>\n",
       "      <td>editor note piece first appeared april issue n...</td>\n",
       "    </tr>\n",
       "    <tr>\n",
       "      <th>85363</th>\n",
       "      <td>National Review</td>\n",
       "      <td>Israel would seem to be in a disastrous positi...</td>\n",
       "      <td>Right</td>\n",
       "      <td>1</td>\n",
       "      <td>israel would seem disastrous position given in...</td>\n",
       "    </tr>\n",
       "    <tr>\n",
       "      <th>85364</th>\n",
       "      <td>National Review</td>\n",
       "      <td>The year 2016 was a good one for books by men ...</td>\n",
       "      <td>Right</td>\n",
       "      <td>1</td>\n",
       "      <td>year good one book men named yuval past year r...</td>\n",
       "    </tr>\n",
       "  </tbody>\n",
       "</table>\n",
       "<p>85365 rows × 5 columns</p>\n",
       "</div>"
      ],
      "text/plain": [
       "           Publication                                            Content  \\\n",
       "0                  CNN  Istanbul (CNN) At least 39 people were killed ...   \n",
       "1                  CNN  Atlanta (CNN) This season’s College Football P...   \n",
       "2                  CNN   (CNN) Revelers on the United States’ west coa...   \n",
       "3                  CNN  West Palm Beach, Florida (CNN)  Donald Trump s...   \n",
       "4                  CNN   (CNN) Two small planes collided in Texas on S...   \n",
       "...                ...                                                ...   \n",
       "85360  National Review  I first read Thomas Sowell in college  —   no ...   \n",
       "85361  National Review  Whether it’s celebrated according to the Grego...   \n",
       "85362  National Review  Editor’s Note: This piece first appeared in th...   \n",
       "85363  National Review  Israel would seem to be in a disastrous positi...   \n",
       "85364  National Review  The year 2016 was a good one for books by men ...   \n",
       "\n",
       "        Bias  num_bias                                  processed_content  \n",
       "0       Left        -1  istanbul least people killed least wounded att...  \n",
       "1       Left        -1  atlanta season college football playoff center...  \n",
       "2       Left        -1  reveler united state west coast cheered advent...  \n",
       "3       Left        -1  west palm beach florida donald trump said satu...  \n",
       "4       Left        -1  two small plane collided texas saturday killin...  \n",
       "...      ...       ...                                                ...  \n",
       "85360  Right         1  first read thomas sowell college thanks colleg...  \n",
       "85361  Right         1  whether celebrated according gregorian julian ...  \n",
       "85362  Right         1  editor note piece first appeared april issue n...  \n",
       "85363  Right         1  israel would seem disastrous position given in...  \n",
       "85364  Right         1  year good one book men named yuval past year r...  \n",
       "\n",
       "[85365 rows x 5 columns]"
      ]
     },
     "execution_count": 172,
     "metadata": {},
     "output_type": "execute_result"
    }
   ],
   "source": [
    "df"
   ]
  },
  {
   "cell_type": "code",
   "execution_count": 195,
   "id": "857f5a57",
   "metadata": {},
   "outputs": [],
   "source": [
    "df.to_pickle(\"../data/processed.pkl\")"
   ]
  },
  {
   "cell_type": "markdown",
   "id": "4585c9b1",
   "metadata": {},
   "source": [
    "splitting the data"
   ]
  },
  {
   "cell_type": "code",
   "execution_count": 196,
   "id": "060a6901",
   "metadata": {},
   "outputs": [
    {
     "data": {
      "text/html": [
       "<div>\n",
       "<style scoped>\n",
       "    .dataframe tbody tr th:only-of-type {\n",
       "        vertical-align: middle;\n",
       "    }\n",
       "\n",
       "    .dataframe tbody tr th {\n",
       "        vertical-align: top;\n",
       "    }\n",
       "\n",
       "    .dataframe thead th {\n",
       "        text-align: right;\n",
       "    }\n",
       "</style>\n",
       "<table border=\"1\" class=\"dataframe\">\n",
       "  <thead>\n",
       "    <tr style=\"text-align: right;\">\n",
       "      <th></th>\n",
       "      <th>Publication</th>\n",
       "      <th>Content</th>\n",
       "      <th>Bias</th>\n",
       "      <th>num_bias</th>\n",
       "      <th>processed_content</th>\n",
       "    </tr>\n",
       "  </thead>\n",
       "  <tbody>\n",
       "    <tr>\n",
       "      <th>0</th>\n",
       "      <td>CNN</td>\n",
       "      <td>Istanbul (CNN) At least 39 people were killed ...</td>\n",
       "      <td>Left</td>\n",
       "      <td>-1</td>\n",
       "      <td>istanbul least people killed least wounded att...</td>\n",
       "    </tr>\n",
       "    <tr>\n",
       "      <th>1</th>\n",
       "      <td>CNN</td>\n",
       "      <td>Atlanta (CNN) This season’s College Football P...</td>\n",
       "      <td>Left</td>\n",
       "      <td>-1</td>\n",
       "      <td>atlanta season college football playoff center...</td>\n",
       "    </tr>\n",
       "    <tr>\n",
       "      <th>2</th>\n",
       "      <td>CNN</td>\n",
       "      <td>(CNN) Revelers on the United States’ west coa...</td>\n",
       "      <td>Left</td>\n",
       "      <td>-1</td>\n",
       "      <td>reveler united state west coast cheered advent...</td>\n",
       "    </tr>\n",
       "    <tr>\n",
       "      <th>3</th>\n",
       "      <td>CNN</td>\n",
       "      <td>West Palm Beach, Florida (CNN)  Donald Trump s...</td>\n",
       "      <td>Left</td>\n",
       "      <td>-1</td>\n",
       "      <td>west palm beach florida donald trump said satu...</td>\n",
       "    </tr>\n",
       "    <tr>\n",
       "      <th>4</th>\n",
       "      <td>CNN</td>\n",
       "      <td>(CNN) Two small planes collided in Texas on S...</td>\n",
       "      <td>Left</td>\n",
       "      <td>-1</td>\n",
       "      <td>two small plane collided texas saturday killin...</td>\n",
       "    </tr>\n",
       "    <tr>\n",
       "      <th>...</th>\n",
       "      <td>...</td>\n",
       "      <td>...</td>\n",
       "      <td>...</td>\n",
       "      <td>...</td>\n",
       "      <td>...</td>\n",
       "    </tr>\n",
       "    <tr>\n",
       "      <th>85360</th>\n",
       "      <td>National Review</td>\n",
       "      <td>I first read Thomas Sowell in college  —   no ...</td>\n",
       "      <td>Right</td>\n",
       "      <td>1</td>\n",
       "      <td>first read thomas sowell college thanks colleg...</td>\n",
       "    </tr>\n",
       "    <tr>\n",
       "      <th>85361</th>\n",
       "      <td>National Review</td>\n",
       "      <td>Whether it’s celebrated according to the Grego...</td>\n",
       "      <td>Right</td>\n",
       "      <td>1</td>\n",
       "      <td>whether celebrated according gregorian julian ...</td>\n",
       "    </tr>\n",
       "    <tr>\n",
       "      <th>85362</th>\n",
       "      <td>National Review</td>\n",
       "      <td>Editor’s Note: This piece first appeared in th...</td>\n",
       "      <td>Right</td>\n",
       "      <td>1</td>\n",
       "      <td>editor note piece first appeared april issue n...</td>\n",
       "    </tr>\n",
       "    <tr>\n",
       "      <th>85363</th>\n",
       "      <td>National Review</td>\n",
       "      <td>Israel would seem to be in a disastrous positi...</td>\n",
       "      <td>Right</td>\n",
       "      <td>1</td>\n",
       "      <td>israel would seem disastrous position given in...</td>\n",
       "    </tr>\n",
       "    <tr>\n",
       "      <th>85364</th>\n",
       "      <td>National Review</td>\n",
       "      <td>The year 2016 was a good one for books by men ...</td>\n",
       "      <td>Right</td>\n",
       "      <td>1</td>\n",
       "      <td>year good one book men named yuval past year r...</td>\n",
       "    </tr>\n",
       "  </tbody>\n",
       "</table>\n",
       "<p>85365 rows × 5 columns</p>\n",
       "</div>"
      ],
      "text/plain": [
       "           Publication                                            Content  \\\n",
       "0                  CNN  Istanbul (CNN) At least 39 people were killed ...   \n",
       "1                  CNN  Atlanta (CNN) This season’s College Football P...   \n",
       "2                  CNN   (CNN) Revelers on the United States’ west coa...   \n",
       "3                  CNN  West Palm Beach, Florida (CNN)  Donald Trump s...   \n",
       "4                  CNN   (CNN) Two small planes collided in Texas on S...   \n",
       "...                ...                                                ...   \n",
       "85360  National Review  I first read Thomas Sowell in college  —   no ...   \n",
       "85361  National Review  Whether it’s celebrated according to the Grego...   \n",
       "85362  National Review  Editor’s Note: This piece first appeared in th...   \n",
       "85363  National Review  Israel would seem to be in a disastrous positi...   \n",
       "85364  National Review  The year 2016 was a good one for books by men ...   \n",
       "\n",
       "        Bias  num_bias                                  processed_content  \n",
       "0       Left        -1  istanbul least people killed least wounded att...  \n",
       "1       Left        -1  atlanta season college football playoff center...  \n",
       "2       Left        -1  reveler united state west coast cheered advent...  \n",
       "3       Left        -1  west palm beach florida donald trump said satu...  \n",
       "4       Left        -1  two small plane collided texas saturday killin...  \n",
       "...      ...       ...                                                ...  \n",
       "85360  Right         1  first read thomas sowell college thanks colleg...  \n",
       "85361  Right         1  whether celebrated according gregorian julian ...  \n",
       "85362  Right         1  editor note piece first appeared april issue n...  \n",
       "85363  Right         1  israel would seem disastrous position given in...  \n",
       "85364  Right         1  year good one book men named yuval past year r...  \n",
       "\n",
       "[85365 rows x 5 columns]"
      ]
     },
     "execution_count": 196,
     "metadata": {},
     "output_type": "execute_result"
    }
   ],
   "source": [
    "df = pd.read_pickle(\"../data/processed.pkl\")\n",
    "df"
   ]
  },
  {
   "cell_type": "code",
   "execution_count": 197,
   "id": "efe11c32",
   "metadata": {},
   "outputs": [],
   "source": [
    "# Content of each article\n",
    "X = df[['processed_content']]\n",
    "# Target of biases\n",
    "y= df[\"num_bias\"]\n",
    "#set random seed\n",
    "seed = 42\n",
    "#holdout set\n",
    "X_hold, X_test, y_hold, y_test = train_test_split(X, y, test_size=0.10, random_state=seed)\n",
    "#training set\n",
    "X_train, X_val, y_train, y_val = train_test_split(X_hold, y_hold, test_size=0.25, random_state=seed)"
   ]
  },
  {
   "cell_type": "code",
   "execution_count": 198,
   "id": "25482fc2",
   "metadata": {},
   "outputs": [
    {
     "data": {
      "text/html": [
       "<div>\n",
       "<style scoped>\n",
       "    .dataframe tbody tr th:only-of-type {\n",
       "        vertical-align: middle;\n",
       "    }\n",
       "\n",
       "    .dataframe tbody tr th {\n",
       "        vertical-align: top;\n",
       "    }\n",
       "\n",
       "    .dataframe thead th {\n",
       "        text-align: right;\n",
       "    }\n",
       "</style>\n",
       "<table border=\"1\" class=\"dataframe\">\n",
       "  <thead>\n",
       "    <tr style=\"text-align: right;\">\n",
       "      <th></th>\n",
       "      <th>processed_content</th>\n",
       "    </tr>\n",
       "  </thead>\n",
       "  <tbody>\n",
       "    <tr>\n",
       "      <th>0</th>\n",
       "      <td>istanbul least people killed least wounded att...</td>\n",
       "    </tr>\n",
       "    <tr>\n",
       "      <th>1</th>\n",
       "      <td>atlanta season college football playoff center...</td>\n",
       "    </tr>\n",
       "    <tr>\n",
       "      <th>2</th>\n",
       "      <td>reveler united state west coast cheered advent...</td>\n",
       "    </tr>\n",
       "    <tr>\n",
       "      <th>3</th>\n",
       "      <td>west palm beach florida donald trump said satu...</td>\n",
       "    </tr>\n",
       "    <tr>\n",
       "      <th>4</th>\n",
       "      <td>two small plane collided texas saturday killin...</td>\n",
       "    </tr>\n",
       "  </tbody>\n",
       "</table>\n",
       "</div>"
      ],
      "text/plain": [
       "                                   processed_content\n",
       "0  istanbul least people killed least wounded att...\n",
       "1  atlanta season college football playoff center...\n",
       "2  reveler united state west coast cheered advent...\n",
       "3  west palm beach florida donald trump said satu...\n",
       "4  two small plane collided texas saturday killin..."
      ]
     },
     "execution_count": 198,
     "metadata": {},
     "output_type": "execute_result"
    }
   ],
   "source": [
    "X.head()"
   ]
  },
  {
   "cell_type": "code",
   "execution_count": 199,
   "id": "37539e33",
   "metadata": {},
   "outputs": [
    {
     "data": {
      "text/html": [
       "<div>\n",
       "<style scoped>\n",
       "    .dataframe tbody tr th:only-of-type {\n",
       "        vertical-align: middle;\n",
       "    }\n",
       "\n",
       "    .dataframe tbody tr th {\n",
       "        vertical-align: top;\n",
       "    }\n",
       "\n",
       "    .dataframe thead th {\n",
       "        text-align: right;\n",
       "    }\n",
       "</style>\n",
       "<table border=\"1\" class=\"dataframe\">\n",
       "  <thead>\n",
       "    <tr style=\"text-align: right;\">\n",
       "      <th></th>\n",
       "      <th>processed_content</th>\n",
       "    </tr>\n",
       "  </thead>\n",
       "  <tbody>\n",
       "    <tr>\n",
       "      <th>53181</th>\n",
       "      <td>moving truck spotted parked outside white hous...</td>\n",
       "    </tr>\n",
       "    <tr>\n",
       "      <th>68991</th>\n",
       "      <td>saturday msnbc nbc host chuck todd reacted lew...</td>\n",
       "    </tr>\n",
       "    <tr>\n",
       "      <th>60555</th>\n",
       "      <td>tuesday broadcast situation room senator rober...</td>\n",
       "    </tr>\n",
       "    <tr>\n",
       "      <th>13536</th>\n",
       "      <td>since sexual assault allegation supreme court ...</td>\n",
       "    </tr>\n",
       "    <tr>\n",
       "      <th>66435</th>\n",
       "      <td>jason brian dalton arrested early sunday morni...</td>\n",
       "    </tr>\n",
       "  </tbody>\n",
       "</table>\n",
       "</div>"
      ],
      "text/plain": [
       "                                       processed_content\n",
       "53181  moving truck spotted parked outside white hous...\n",
       "68991  saturday msnbc nbc host chuck todd reacted lew...\n",
       "60555  tuesday broadcast situation room senator rober...\n",
       "13536  since sexual assault allegation supreme court ...\n",
       "66435  jason brian dalton arrested early sunday morni..."
      ]
     },
     "execution_count": 199,
     "metadata": {},
     "output_type": "execute_result"
    }
   ],
   "source": [
    "X_train.head()"
   ]
  },
  {
   "cell_type": "code",
   "execution_count": 200,
   "id": "20d921c1",
   "metadata": {},
   "outputs": [
    {
     "data": {
      "text/plain": [
       "(57621, 1)"
      ]
     },
     "execution_count": 200,
     "metadata": {},
     "output_type": "execute_result"
    }
   ],
   "source": [
    "X_train.shape"
   ]
  },
  {
   "cell_type": "code",
   "execution_count": 201,
   "id": "69f8ce2c",
   "metadata": {},
   "outputs": [
    {
     "data": {
      "text/plain": [
       "(57621,)"
      ]
     },
     "execution_count": 201,
     "metadata": {},
     "output_type": "execute_result"
    }
   ],
   "source": [
    "y_train.shape"
   ]
  },
  {
   "cell_type": "code",
   "execution_count": 202,
   "id": "0f13e32b",
   "metadata": {},
   "outputs": [
    {
     "data": {
      "text/plain": [
       "53181    0\n",
       "68991    1\n",
       "60555    1\n",
       "13536   -1\n",
       "66435    1\n",
       "        ..\n",
       "49146    0\n",
       "66414    1\n",
       "44131    0\n",
       "58058    1\n",
       "32480    0\n",
       "Name: num_bias, Length: 57621, dtype: int64"
      ]
     },
     "execution_count": 202,
     "metadata": {},
     "output_type": "execute_result"
    }
   ],
   "source": [
    "y_train"
   ]
  },
  {
   "cell_type": "code",
   "execution_count": 203,
   "id": "05c7c78c",
   "metadata": {},
   "outputs": [
    {
     "data": {
      "text/html": [
       "<div>\n",
       "<style scoped>\n",
       "    .dataframe tbody tr th:only-of-type {\n",
       "        vertical-align: middle;\n",
       "    }\n",
       "\n",
       "    .dataframe tbody tr th {\n",
       "        vertical-align: top;\n",
       "    }\n",
       "\n",
       "    .dataframe thead th {\n",
       "        text-align: right;\n",
       "    }\n",
       "</style>\n",
       "<table border=\"1\" class=\"dataframe\">\n",
       "  <thead>\n",
       "    <tr style=\"text-align: right;\">\n",
       "      <th></th>\n",
       "      <th>processed_content</th>\n",
       "    </tr>\n",
       "  </thead>\n",
       "  <tbody>\n",
       "    <tr>\n",
       "      <th>53181</th>\n",
       "      <td>moving truck spotted parked outside white hous...</td>\n",
       "    </tr>\n",
       "    <tr>\n",
       "      <th>68991</th>\n",
       "      <td>saturday msnbc nbc host chuck todd reacted lew...</td>\n",
       "    </tr>\n",
       "    <tr>\n",
       "      <th>60555</th>\n",
       "      <td>tuesday broadcast situation room senator rober...</td>\n",
       "    </tr>\n",
       "    <tr>\n",
       "      <th>13536</th>\n",
       "      <td>since sexual assault allegation supreme court ...</td>\n",
       "    </tr>\n",
       "    <tr>\n",
       "      <th>66435</th>\n",
       "      <td>jason brian dalton arrested early sunday morni...</td>\n",
       "    </tr>\n",
       "  </tbody>\n",
       "</table>\n",
       "</div>"
      ],
      "text/plain": [
       "                                       processed_content\n",
       "53181  moving truck spotted parked outside white hous...\n",
       "68991  saturday msnbc nbc host chuck todd reacted lew...\n",
       "60555  tuesday broadcast situation room senator rober...\n",
       "13536  since sexual assault allegation supreme court ...\n",
       "66435  jason brian dalton arrested early sunday morni..."
      ]
     },
     "execution_count": 203,
     "metadata": {},
     "output_type": "execute_result"
    }
   ],
   "source": [
    "X_train.head()"
   ]
  },
  {
   "cell_type": "code",
   "execution_count": 204,
   "id": "56bfe339",
   "metadata": {},
   "outputs": [
    {
     "data": {
      "text/plain": [
       "(19207, 1)"
      ]
     },
     "execution_count": 204,
     "metadata": {},
     "output_type": "execute_result"
    }
   ],
   "source": [
    "X_val.shape"
   ]
  },
  {
   "cell_type": "code",
   "execution_count": 205,
   "id": "3c2a1864",
   "metadata": {},
   "outputs": [
    {
     "data": {
      "text/plain": [
       "(19207,)"
      ]
     },
     "execution_count": 205,
     "metadata": {},
     "output_type": "execute_result"
    }
   ],
   "source": [
    "y_val.shape"
   ]
  },
  {
   "cell_type": "code",
   "execution_count": 206,
   "id": "a402da7a",
   "metadata": {},
   "outputs": [
    {
     "data": {
      "text/plain": [
       "53181    0\n",
       "68991    1\n",
       "60555    1\n",
       "13536   -1\n",
       "66435    1\n",
       "Name: num_bias, dtype: int64"
      ]
     },
     "execution_count": 206,
     "metadata": {},
     "output_type": "execute_result"
    }
   ],
   "source": [
    "y_train.head()"
   ]
  },
  {
   "cell_type": "code",
   "execution_count": 207,
   "id": "e2217516",
   "metadata": {},
   "outputs": [
    {
     "name": "stdout",
     "output_type": "stream",
     "text": [
      "<class 'pandas.core.frame.DataFrame'>\n",
      "Int64Index: 57621 entries, 53181 to 32480\n",
      "Data columns (total 1 columns):\n",
      " #   Column             Non-Null Count  Dtype \n",
      "---  ------             --------------  ----- \n",
      " 0   processed_content  57621 non-null  object\n",
      "dtypes: object(1)\n",
      "memory usage: 900.3+ KB\n"
     ]
    }
   ],
   "source": [
    "X_train.info()"
   ]
  },
  {
   "cell_type": "code",
   "execution_count": 208,
   "id": "76566413",
   "metadata": {},
   "outputs": [
    {
     "name": "stdout",
     "output_type": "stream",
     "text": [
      "<class 'pandas.core.frame.DataFrame'>\n",
      "Int64Index: 19207 entries, 16585 to 35905\n",
      "Data columns (total 1 columns):\n",
      " #   Column             Non-Null Count  Dtype \n",
      "---  ------             --------------  ----- \n",
      " 0   processed_content  19207 non-null  object\n",
      "dtypes: object(1)\n",
      "memory usage: 300.1+ KB\n"
     ]
    }
   ],
   "source": [
    "X_val.info()"
   ]
  },
  {
   "cell_type": "code",
   "execution_count": 209,
   "id": "0d9ceab2",
   "metadata": {},
   "outputs": [],
   "source": [
    "# X_train.loc[X_train.Content == X_train[\"Content\"], X_train[\"Content\"]] = X_train[\"Content\"].astype(str)"
   ]
  },
  {
   "cell_type": "code",
   "execution_count": 210,
   "id": "97e3d8be",
   "metadata": {},
   "outputs": [],
   "source": [
    "# X_train.to_pickle(\"data/X_train.pkl\")"
   ]
  },
  {
   "cell_type": "code",
   "execution_count": 997,
   "id": "6facbcc4",
   "metadata": {},
   "outputs": [],
   "source": [
    "# X_val.to_pickle(\"data/X_val.pkl\")"
   ]
  },
  {
   "cell_type": "code",
   "execution_count": 998,
   "id": "cad8d984",
   "metadata": {},
   "outputs": [],
   "source": [
    "# y_train.to_pickle(\"data/y_train.pkl\")"
   ]
  },
  {
   "cell_type": "code",
   "execution_count": 999,
   "id": "4f39e5bb",
   "metadata": {},
   "outputs": [],
   "source": [
    "# y_val.to_pickle(\"data/y_val.pkl\")"
   ]
  },
  {
   "cell_type": "code",
   "execution_count": 211,
   "id": "1835b5cc",
   "metadata": {},
   "outputs": [
    {
     "data": {
      "text/plain": [
       "53181    moving truck spotted parked outside white hous...\n",
       "68991    saturday msnbc nbc host chuck todd reacted lew...\n",
       "60555    tuesday broadcast situation room senator rober...\n",
       "13536    since sexual assault allegation supreme court ...\n",
       "66435    jason brian dalton arrested early sunday morni...\n",
       "                               ...                        \n",
       "49146    commercial flight cuba resumed first time year...\n",
       "66414    despite france huge muslim population around f...\n",
       "44131    trump administration defense budget ushered ne...\n",
       "58058    center security policy president frank gaffney...\n",
       "32480    pearson hospitalization disclosed dec latest c...\n",
       "Name: processed_content, Length: 57621, dtype: object"
      ]
     },
     "execution_count": 211,
     "metadata": {},
     "output_type": "execute_result"
    }
   ],
   "source": [
    "X_train[\"processed_content\"]"
   ]
  },
  {
   "cell_type": "code",
   "execution_count": 220,
   "id": "1a8124d4",
   "metadata": {},
   "outputs": [
    {
     "data": {
      "text/plain": [
       "CountVectorizer(max_features=2000, ngram_range=(1, 2), stop_words='english')"
      ]
     },
     "execution_count": 220,
     "metadata": {},
     "output_type": "execute_result"
    }
   ],
   "source": [
    "cvec = CountVectorizer(stop_words='english', ngram_range=(1,2), max_features=2000)\n",
    "cvec"
   ]
  },
  {
   "cell_type": "code",
   "execution_count": 223,
   "id": "93b5c905",
   "metadata": {},
   "outputs": [
    {
     "data": {
      "text/plain": [
       "[('moving', 1133),\n",
       " ('truck', 1841),\n",
       " ('outside', 1223),\n",
       " ('white', 1955),\n",
       " ('house', 843),\n",
       " ('wednesday', 1948),\n",
       " ('sign', 1628),\n",
       " ('president', 1330),\n",
       " ('obama', 1182),\n",
       " ('week', 1949),\n",
       " ('elect', 565),\n",
       " ('donald', 528),\n",
       " ('trumpdonald', 1852),\n",
       " ('john', 936),\n",
       " ('trumppossible', 1854),\n",
       " ('gop', 762),\n",
       " ('challenger', 279),\n",
       " ('say', 1557),\n",
       " ('trump', 1844),\n",
       " ('deserve', 489)]"
      ]
     },
     "execution_count": 223,
     "metadata": {},
     "output_type": "execute_result"
    }
   ],
   "source": [
    "from itertools import islice\n",
    "cvec.fit(X_train[\"processed_content\"])\n",
    "list(islice(cvec.vocabulary_.items(), 20))"
   ]
  },
  {
   "cell_type": "code",
   "execution_count": 226,
   "id": "c6d2f29d",
   "metadata": {},
   "outputs": [
    {
     "name": "stdout",
     "output_type": "stream",
     "text": [
      "sparse matrix shape: (57621, 2000)\n"
     ]
    }
   ],
   "source": [
    "cvec_counts = cvec.transform(X_train[\"processed_content\"])\n",
    "print ('sparse matrix shape:', cvec_counts.shape)"
   ]
  },
  {
   "cell_type": "code",
   "execution_count": 216,
   "id": "248c15e1",
   "metadata": {},
   "outputs": [
    {
     "data": {
      "text/plain": [
       "(57621, 2000)"
      ]
     },
     "execution_count": 216,
     "metadata": {},
     "output_type": "execute_result"
    }
   ],
   "source": [
    "tfidf_vectorizer = TfidfVectorizer(max_features=2000, ngram_range=(1,2))\n",
    "\n",
    "tfidf_vectorizer.fit(X_train[\"processed_content\"])\n",
    "X_train_tfidf_vec = tfidf_vectorizer.transform(X_train[\"processed_content\"])\n",
    "X_val_tfidf_vec = tfidf_vectorizer.transform(X_val[\"processed_content\"])\n",
    "\n",
    "X_train_tfidf_vec_df = pd.DataFrame(X_train_tfidf_vec.toarray())\n",
    "X_val_tfidf_vec_df = pd.DataFrame(X_val_tfidf_vec.toarray())\n",
    "\n",
    "X_train_tfidf_vec_df.shape"
   ]
  },
  {
   "cell_type": "code",
   "execution_count": 217,
   "id": "d86df5c3",
   "metadata": {},
   "outputs": [
    {
     "data": {
      "text/html": [
       "<div>\n",
       "<style scoped>\n",
       "    .dataframe tbody tr th:only-of-type {\n",
       "        vertical-align: middle;\n",
       "    }\n",
       "\n",
       "    .dataframe tbody tr th {\n",
       "        vertical-align: top;\n",
       "    }\n",
       "\n",
       "    .dataframe thead th {\n",
       "        text-align: right;\n",
       "    }\n",
       "</style>\n",
       "<table border=\"1\" class=\"dataframe\">\n",
       "  <thead>\n",
       "    <tr style=\"text-align: right;\">\n",
       "      <th></th>\n",
       "      <th>0</th>\n",
       "      <th>1</th>\n",
       "      <th>2</th>\n",
       "      <th>3</th>\n",
       "      <th>4</th>\n",
       "      <th>5</th>\n",
       "      <th>6</th>\n",
       "      <th>7</th>\n",
       "      <th>8</th>\n",
       "      <th>9</th>\n",
       "      <th>...</th>\n",
       "      <th>1990</th>\n",
       "      <th>1991</th>\n",
       "      <th>1992</th>\n",
       "      <th>1993</th>\n",
       "      <th>1994</th>\n",
       "      <th>1995</th>\n",
       "      <th>1996</th>\n",
       "      <th>1997</th>\n",
       "      <th>1998</th>\n",
       "      <th>1999</th>\n",
       "    </tr>\n",
       "  </thead>\n",
       "  <tbody>\n",
       "    <tr>\n",
       "      <th>0</th>\n",
       "      <td>0.0</td>\n",
       "      <td>0.000000</td>\n",
       "      <td>0.000000</td>\n",
       "      <td>0.0</td>\n",
       "      <td>0.000000</td>\n",
       "      <td>0.000000</td>\n",
       "      <td>0.0</td>\n",
       "      <td>0.0</td>\n",
       "      <td>0.045429</td>\n",
       "      <td>0.000000</td>\n",
       "      <td>...</td>\n",
       "      <td>0.0</td>\n",
       "      <td>0.0</td>\n",
       "      <td>0.000000</td>\n",
       "      <td>0.000000</td>\n",
       "      <td>0.055202</td>\n",
       "      <td>0.09346</td>\n",
       "      <td>0.000000</td>\n",
       "      <td>0.000000</td>\n",
       "      <td>0.0</td>\n",
       "      <td>0.0</td>\n",
       "    </tr>\n",
       "    <tr>\n",
       "      <th>1</th>\n",
       "      <td>0.0</td>\n",
       "      <td>0.000000</td>\n",
       "      <td>0.000000</td>\n",
       "      <td>0.0</td>\n",
       "      <td>0.000000</td>\n",
       "      <td>0.000000</td>\n",
       "      <td>0.0</td>\n",
       "      <td>0.0</td>\n",
       "      <td>0.099426</td>\n",
       "      <td>0.000000</td>\n",
       "      <td>...</td>\n",
       "      <td>0.0</td>\n",
       "      <td>0.0</td>\n",
       "      <td>0.000000</td>\n",
       "      <td>0.000000</td>\n",
       "      <td>0.000000</td>\n",
       "      <td>0.00000</td>\n",
       "      <td>0.000000</td>\n",
       "      <td>0.000000</td>\n",
       "      <td>0.0</td>\n",
       "      <td>0.0</td>\n",
       "    </tr>\n",
       "    <tr>\n",
       "      <th>2</th>\n",
       "      <td>0.0</td>\n",
       "      <td>0.000000</td>\n",
       "      <td>0.000000</td>\n",
       "      <td>0.0</td>\n",
       "      <td>0.000000</td>\n",
       "      <td>0.000000</td>\n",
       "      <td>0.0</td>\n",
       "      <td>0.0</td>\n",
       "      <td>0.000000</td>\n",
       "      <td>0.000000</td>\n",
       "      <td>...</td>\n",
       "      <td>0.0</td>\n",
       "      <td>0.0</td>\n",
       "      <td>0.000000</td>\n",
       "      <td>0.000000</td>\n",
       "      <td>0.000000</td>\n",
       "      <td>0.00000</td>\n",
       "      <td>0.000000</td>\n",
       "      <td>0.000000</td>\n",
       "      <td>0.0</td>\n",
       "      <td>0.0</td>\n",
       "    </tr>\n",
       "    <tr>\n",
       "      <th>3</th>\n",
       "      <td>0.0</td>\n",
       "      <td>0.030286</td>\n",
       "      <td>0.025078</td>\n",
       "      <td>0.0</td>\n",
       "      <td>0.000000</td>\n",
       "      <td>0.000000</td>\n",
       "      <td>0.0</td>\n",
       "      <td>0.0</td>\n",
       "      <td>0.017814</td>\n",
       "      <td>0.000000</td>\n",
       "      <td>...</td>\n",
       "      <td>0.0</td>\n",
       "      <td>0.0</td>\n",
       "      <td>0.000000</td>\n",
       "      <td>0.022722</td>\n",
       "      <td>0.021646</td>\n",
       "      <td>0.00000</td>\n",
       "      <td>0.030447</td>\n",
       "      <td>0.055231</td>\n",
       "      <td>0.0</td>\n",
       "      <td>0.0</td>\n",
       "    </tr>\n",
       "    <tr>\n",
       "      <th>4</th>\n",
       "      <td>0.0</td>\n",
       "      <td>0.000000</td>\n",
       "      <td>0.075890</td>\n",
       "      <td>0.0</td>\n",
       "      <td>0.000000</td>\n",
       "      <td>0.000000</td>\n",
       "      <td>0.0</td>\n",
       "      <td>0.0</td>\n",
       "      <td>0.107814</td>\n",
       "      <td>0.000000</td>\n",
       "      <td>...</td>\n",
       "      <td>0.0</td>\n",
       "      <td>0.0</td>\n",
       "      <td>0.000000</td>\n",
       "      <td>0.000000</td>\n",
       "      <td>0.000000</td>\n",
       "      <td>0.00000</td>\n",
       "      <td>0.000000</td>\n",
       "      <td>0.000000</td>\n",
       "      <td>0.0</td>\n",
       "      <td>0.0</td>\n",
       "    </tr>\n",
       "    <tr>\n",
       "      <th>...</th>\n",
       "      <td>...</td>\n",
       "      <td>...</td>\n",
       "      <td>...</td>\n",
       "      <td>...</td>\n",
       "      <td>...</td>\n",
       "      <td>...</td>\n",
       "      <td>...</td>\n",
       "      <td>...</td>\n",
       "      <td>...</td>\n",
       "      <td>...</td>\n",
       "      <td>...</td>\n",
       "      <td>...</td>\n",
       "      <td>...</td>\n",
       "      <td>...</td>\n",
       "      <td>...</td>\n",
       "      <td>...</td>\n",
       "      <td>...</td>\n",
       "      <td>...</td>\n",
       "      <td>...</td>\n",
       "      <td>...</td>\n",
       "      <td>...</td>\n",
       "    </tr>\n",
       "    <tr>\n",
       "      <th>57616</th>\n",
       "      <td>0.0</td>\n",
       "      <td>0.018829</td>\n",
       "      <td>0.000000</td>\n",
       "      <td>0.0</td>\n",
       "      <td>0.000000</td>\n",
       "      <td>0.043648</td>\n",
       "      <td>0.0</td>\n",
       "      <td>0.0</td>\n",
       "      <td>0.000000</td>\n",
       "      <td>0.000000</td>\n",
       "      <td>...</td>\n",
       "      <td>0.0</td>\n",
       "      <td>0.0</td>\n",
       "      <td>0.019431</td>\n",
       "      <td>0.000000</td>\n",
       "      <td>0.000000</td>\n",
       "      <td>0.00000</td>\n",
       "      <td>0.000000</td>\n",
       "      <td>0.000000</td>\n",
       "      <td>0.0</td>\n",
       "      <td>0.0</td>\n",
       "    </tr>\n",
       "    <tr>\n",
       "      <th>57617</th>\n",
       "      <td>0.0</td>\n",
       "      <td>0.000000</td>\n",
       "      <td>0.000000</td>\n",
       "      <td>0.0</td>\n",
       "      <td>0.000000</td>\n",
       "      <td>0.000000</td>\n",
       "      <td>0.0</td>\n",
       "      <td>0.0</td>\n",
       "      <td>0.019503</td>\n",
       "      <td>0.000000</td>\n",
       "      <td>...</td>\n",
       "      <td>0.0</td>\n",
       "      <td>0.0</td>\n",
       "      <td>0.000000</td>\n",
       "      <td>0.000000</td>\n",
       "      <td>0.000000</td>\n",
       "      <td>0.00000</td>\n",
       "      <td>0.000000</td>\n",
       "      <td>0.000000</td>\n",
       "      <td>0.0</td>\n",
       "      <td>0.0</td>\n",
       "    </tr>\n",
       "    <tr>\n",
       "      <th>57618</th>\n",
       "      <td>0.0</td>\n",
       "      <td>0.000000</td>\n",
       "      <td>0.000000</td>\n",
       "      <td>0.0</td>\n",
       "      <td>0.000000</td>\n",
       "      <td>0.096902</td>\n",
       "      <td>0.0</td>\n",
       "      <td>0.0</td>\n",
       "      <td>0.000000</td>\n",
       "      <td>0.039451</td>\n",
       "      <td>...</td>\n",
       "      <td>0.0</td>\n",
       "      <td>0.0</td>\n",
       "      <td>0.000000</td>\n",
       "      <td>0.000000</td>\n",
       "      <td>0.000000</td>\n",
       "      <td>0.00000</td>\n",
       "      <td>0.000000</td>\n",
       "      <td>0.000000</td>\n",
       "      <td>0.0</td>\n",
       "      <td>0.0</td>\n",
       "    </tr>\n",
       "    <tr>\n",
       "      <th>57619</th>\n",
       "      <td>0.0</td>\n",
       "      <td>0.000000</td>\n",
       "      <td>0.053245</td>\n",
       "      <td>0.0</td>\n",
       "      <td>0.072837</td>\n",
       "      <td>0.000000</td>\n",
       "      <td>0.0</td>\n",
       "      <td>0.0</td>\n",
       "      <td>0.000000</td>\n",
       "      <td>0.000000</td>\n",
       "      <td>...</td>\n",
       "      <td>0.0</td>\n",
       "      <td>0.0</td>\n",
       "      <td>0.000000</td>\n",
       "      <td>0.000000</td>\n",
       "      <td>0.000000</td>\n",
       "      <td>0.00000</td>\n",
       "      <td>0.000000</td>\n",
       "      <td>0.000000</td>\n",
       "      <td>0.0</td>\n",
       "      <td>0.0</td>\n",
       "    </tr>\n",
       "    <tr>\n",
       "      <th>57620</th>\n",
       "      <td>0.0</td>\n",
       "      <td>0.000000</td>\n",
       "      <td>0.000000</td>\n",
       "      <td>0.0</td>\n",
       "      <td>0.000000</td>\n",
       "      <td>0.000000</td>\n",
       "      <td>0.0</td>\n",
       "      <td>0.0</td>\n",
       "      <td>0.000000</td>\n",
       "      <td>0.000000</td>\n",
       "      <td>...</td>\n",
       "      <td>0.0</td>\n",
       "      <td>0.0</td>\n",
       "      <td>0.000000</td>\n",
       "      <td>0.000000</td>\n",
       "      <td>0.099537</td>\n",
       "      <td>0.00000</td>\n",
       "      <td>0.000000</td>\n",
       "      <td>0.000000</td>\n",
       "      <td>0.0</td>\n",
       "      <td>0.0</td>\n",
       "    </tr>\n",
       "  </tbody>\n",
       "</table>\n",
       "<p>57621 rows × 2000 columns</p>\n",
       "</div>"
      ],
      "text/plain": [
       "       0         1         2     3         4         5     6     7     \\\n",
       "0       0.0  0.000000  0.000000   0.0  0.000000  0.000000   0.0   0.0   \n",
       "1       0.0  0.000000  0.000000   0.0  0.000000  0.000000   0.0   0.0   \n",
       "2       0.0  0.000000  0.000000   0.0  0.000000  0.000000   0.0   0.0   \n",
       "3       0.0  0.030286  0.025078   0.0  0.000000  0.000000   0.0   0.0   \n",
       "4       0.0  0.000000  0.075890   0.0  0.000000  0.000000   0.0   0.0   \n",
       "...     ...       ...       ...   ...       ...       ...   ...   ...   \n",
       "57616   0.0  0.018829  0.000000   0.0  0.000000  0.043648   0.0   0.0   \n",
       "57617   0.0  0.000000  0.000000   0.0  0.000000  0.000000   0.0   0.0   \n",
       "57618   0.0  0.000000  0.000000   0.0  0.000000  0.096902   0.0   0.0   \n",
       "57619   0.0  0.000000  0.053245   0.0  0.072837  0.000000   0.0   0.0   \n",
       "57620   0.0  0.000000  0.000000   0.0  0.000000  0.000000   0.0   0.0   \n",
       "\n",
       "           8         9     ...  1990  1991      1992      1993      1994  \\\n",
       "0      0.045429  0.000000  ...   0.0   0.0  0.000000  0.000000  0.055202   \n",
       "1      0.099426  0.000000  ...   0.0   0.0  0.000000  0.000000  0.000000   \n",
       "2      0.000000  0.000000  ...   0.0   0.0  0.000000  0.000000  0.000000   \n",
       "3      0.017814  0.000000  ...   0.0   0.0  0.000000  0.022722  0.021646   \n",
       "4      0.107814  0.000000  ...   0.0   0.0  0.000000  0.000000  0.000000   \n",
       "...         ...       ...  ...   ...   ...       ...       ...       ...   \n",
       "57616  0.000000  0.000000  ...   0.0   0.0  0.019431  0.000000  0.000000   \n",
       "57617  0.019503  0.000000  ...   0.0   0.0  0.000000  0.000000  0.000000   \n",
       "57618  0.000000  0.039451  ...   0.0   0.0  0.000000  0.000000  0.000000   \n",
       "57619  0.000000  0.000000  ...   0.0   0.0  0.000000  0.000000  0.000000   \n",
       "57620  0.000000  0.000000  ...   0.0   0.0  0.000000  0.000000  0.099537   \n",
       "\n",
       "          1995      1996      1997  1998  1999  \n",
       "0      0.09346  0.000000  0.000000   0.0   0.0  \n",
       "1      0.00000  0.000000  0.000000   0.0   0.0  \n",
       "2      0.00000  0.000000  0.000000   0.0   0.0  \n",
       "3      0.00000  0.030447  0.055231   0.0   0.0  \n",
       "4      0.00000  0.000000  0.000000   0.0   0.0  \n",
       "...        ...       ...       ...   ...   ...  \n",
       "57616  0.00000  0.000000  0.000000   0.0   0.0  \n",
       "57617  0.00000  0.000000  0.000000   0.0   0.0  \n",
       "57618  0.00000  0.000000  0.000000   0.0   0.0  \n",
       "57619  0.00000  0.000000  0.000000   0.0   0.0  \n",
       "57620  0.00000  0.000000  0.000000   0.0   0.0  \n",
       "\n",
       "[57621 rows x 2000 columns]"
      ]
     },
     "execution_count": 217,
     "metadata": {},
     "output_type": "execute_result"
    }
   ],
   "source": [
    "X_train_tfidf_vec_df"
   ]
  },
  {
   "cell_type": "code",
   "execution_count": 228,
   "id": "033d59fb",
   "metadata": {},
   "outputs": [
    {
     "data": {
      "text/html": [
       "<div>\n",
       "<style scoped>\n",
       "    .dataframe tbody tr th:only-of-type {\n",
       "        vertical-align: middle;\n",
       "    }\n",
       "\n",
       "    .dataframe tbody tr th {\n",
       "        vertical-align: top;\n",
       "    }\n",
       "\n",
       "    .dataframe thead th {\n",
       "        text-align: right;\n",
       "    }\n",
       "</style>\n",
       "<table border=\"1\" class=\"dataframe\">\n",
       "  <thead>\n",
       "    <tr style=\"text-align: right;\">\n",
       "      <th></th>\n",
       "      <th>term</th>\n",
       "      <th>weight</th>\n",
       "    </tr>\n",
       "  </thead>\n",
       "  <tbody>\n",
       "    <tr>\n",
       "      <th>1837</th>\n",
       "      <td>trillion</td>\n",
       "      <td>0.067761</td>\n",
       "    </tr>\n",
       "    <tr>\n",
       "      <th>1538</th>\n",
       "      <td>russia</td>\n",
       "      <td>0.053440</td>\n",
       "    </tr>\n",
       "    <tr>\n",
       "      <th>1691</th>\n",
       "      <td>state</td>\n",
       "      <td>0.028717</td>\n",
       "    </tr>\n",
       "    <tr>\n",
       "      <th>1330</th>\n",
       "      <td>president</td>\n",
       "      <td>0.028514</td>\n",
       "    </tr>\n",
       "    <tr>\n",
       "      <th>1265</th>\n",
       "      <td>perfect</td>\n",
       "      <td>0.028388</td>\n",
       "    </tr>\n",
       "    <tr>\n",
       "      <th>1979</th>\n",
       "      <td>worse</td>\n",
       "      <td>0.028047</td>\n",
       "    </tr>\n",
       "    <tr>\n",
       "      <th>325</th>\n",
       "      <td>close</td>\n",
       "      <td>0.027454</td>\n",
       "    </tr>\n",
       "    <tr>\n",
       "      <th>1210</th>\n",
       "      <td>opportunity</td>\n",
       "      <td>0.025335</td>\n",
       "    </tr>\n",
       "    <tr>\n",
       "      <th>1164</th>\n",
       "      <td>news</td>\n",
       "      <td>0.025066</td>\n",
       "    </tr>\n",
       "    <tr>\n",
       "      <th>1989</th>\n",
       "      <td>yeah</td>\n",
       "      <td>0.024789</td>\n",
       "    </tr>\n",
       "    <tr>\n",
       "      <th>820</th>\n",
       "      <td>highly</td>\n",
       "      <td>0.023540</td>\n",
       "    </tr>\n",
       "    <tr>\n",
       "      <th>1482</th>\n",
       "      <td>reporting</td>\n",
       "      <td>0.023225</td>\n",
       "    </tr>\n",
       "    <tr>\n",
       "      <th>1267</th>\n",
       "      <td>period</td>\n",
       "      <td>0.022208</td>\n",
       "    </tr>\n",
       "    <tr>\n",
       "      <th>1805</th>\n",
       "      <td>tim</td>\n",
       "      <td>0.021095</td>\n",
       "    </tr>\n",
       "    <tr>\n",
       "      <th>1168</th>\n",
       "      <td>night</td>\n",
       "      <td>0.020557</td>\n",
       "    </tr>\n",
       "    <tr>\n",
       "      <th>1010</th>\n",
       "      <td>life</td>\n",
       "      <td>0.020504</td>\n",
       "    </tr>\n",
       "    <tr>\n",
       "      <th>70</th>\n",
       "      <td>ally</td>\n",
       "      <td>0.020333</td>\n",
       "    </tr>\n",
       "    <tr>\n",
       "      <th>1553</th>\n",
       "      <td>saudi</td>\n",
       "      <td>0.020108</td>\n",
       "    </tr>\n",
       "    <tr>\n",
       "      <th>353</th>\n",
       "      <td>compared</td>\n",
       "      <td>0.020015</td>\n",
       "    </tr>\n",
       "    <tr>\n",
       "      <th>839</th>\n",
       "      <td>hospital</td>\n",
       "      <td>0.019157</td>\n",
       "    </tr>\n",
       "  </tbody>\n",
       "</table>\n",
       "</div>"
      ],
      "text/plain": [
       "             term    weight\n",
       "1837     trillion  0.067761\n",
       "1538       russia  0.053440\n",
       "1691        state  0.028717\n",
       "1330    president  0.028514\n",
       "1265      perfect  0.028388\n",
       "1979        worse  0.028047\n",
       "325         close  0.027454\n",
       "1210  opportunity  0.025335\n",
       "1164         news  0.025066\n",
       "1989         yeah  0.024789\n",
       "820        highly  0.023540\n",
       "1482    reporting  0.023225\n",
       "1267       period  0.022208\n",
       "1805          tim  0.021095\n",
       "1168        night  0.020557\n",
       "1010         life  0.020504\n",
       "70           ally  0.020333\n",
       "1553        saudi  0.020108\n",
       "353      compared  0.020015\n",
       "839      hospital  0.019157"
      ]
     },
     "execution_count": 228,
     "metadata": {},
     "output_type": "execute_result"
    }
   ],
   "source": [
    "weights = np.asarray(X_train_tfidf_vec_df.mean(axis=0)).ravel().tolist()\n",
    "weights_df = pd.DataFrame({'term': cvec.get_feature_names(), 'weight': weights})\n",
    "weights_df.sort_values(by='weight', ascending=False).head(20)"
   ]
  },
  {
   "cell_type": "code",
   "execution_count": 60,
   "id": "f5c0a691",
   "metadata": {},
   "outputs": [],
   "source": [
    "nb= MultinomialNB()"
   ]
  },
  {
   "cell_type": "code",
   "execution_count": 69,
   "id": "b818ab15",
   "metadata": {},
   "outputs": [
    {
     "name": "stdout",
     "output_type": "stream",
     "text": [
      "0.7907013068152237\n",
      "0.7888790545113761\n"
     ]
    }
   ],
   "source": [
    "nb.fit(X_train_tfidf_vec_df, y_train)\n",
    "X_val =X_val_tfidf_vec_df.values\n",
    "predicted = nb.predict(X_val)\n",
    "predicted_prob = nb.predict_proba(X_val)\n",
    "\n",
    "print(nb.score(X_train_tfidf_vec_df, y_train))\n",
    "print(nb.score(X_val_tfidf_vec_df, y_val))"
   ]
  },
  {
   "cell_type": "code",
   "execution_count": 88,
   "id": "0a4cb31c",
   "metadata": {},
   "outputs": [],
   "source": [
    "def evaluate_multi_classif(y_test, predicted, predicted_prob, figsize=(15,5)):\n",
    "    classes = np.unique(y_test)\n",
    "    y_test_array = pd.get_dummies(y_test, drop_first=False).values\n",
    "    \n",
    "    ## Accuracy, Precision, Recall\n",
    "    accuracy = metrics.accuracy_score(y_test, predicted)\n",
    "    auc = metrics.roc_auc_score(y_test, predicted_prob, multi_class=\"ovr\")\n",
    "    print(\"Accuracy:\",  round(accuracy,2))\n",
    "    print(\"Auc:\", round(auc,2))\n",
    "    print(\"Detail:\")\n",
    "    print(metrics.classification_report(y_test, predicted))\n",
    "    \n",
    "    ## Plot confusion matrix\n",
    "    cm = metrics.confusion_matrix(y_test, predicted)\n",
    "    fig, ax = plt.subplots()\n",
    "    sns.heatmap(cm, annot=True, fmt='d', ax=ax, cmap=plt.cm.Blues, cbar=False)\n",
    "    ax.set(xlabel=\"Pred\", ylabel=\"True\", xticklabels=classes, yticklabels=classes, title=\"Confusion matrix\")\n",
    "    plt.yticks(rotation=0)\n",
    "\n",
    "    fig, ax = plt.subplots(nrows=1, ncols=2, figsize=figsize)\n",
    "    ## Plot roc\n",
    "    for i in range(len(classes)):\n",
    "        fpr, tpr, thresholds = metrics.roc_curve(y_test_array[:,i], predicted_prob[:,i])\n",
    "        ax[0].plot(fpr, tpr, lw=3, label='{0} (area={1:0.2f})'.format(classes[i], metrics.auc(fpr, tpr)))\n",
    "    ax[0].plot([0,1], [0,1], color='navy', lw=3, linestyle='--')\n",
    "    ax[0].set(xlim=[-0.05,1.0], ylim=[0.0,1.05], xlabel='False Positive Rate', \n",
    "              ylabel=\"True Positive Rate (Recall)\", title=\"Receiver operating characteristic\")\n",
    "    ax[0].legend(loc=\"lower right\")\n",
    "    ax[0].grid(True)\n",
    "    \n",
    "    ## Plot precision-recall curve\n",
    "    for i in range(len(classes)):\n",
    "        precision, recall, thresholds = metrics.precision_recall_curve(y_test_array[:,i], predicted_prob[:,i])\n",
    "        ax[1].plot(recall, precision, lw=3, label='{0} (area={1:0.2f})'.format(classes[i], metrics.auc(recall, precision)))\n",
    "    ax[1].set(xlim=[0.0,1.05], ylim=[0.0,1.05], xlabel='Recall', ylabel=\"Precision\", title=\"Precision-Recall curve\")\n",
    "    ax[1].legend(loc=\"best\")\n",
    "    ax[1].grid(True)\n",
    "    plt.show()"
   ]
  },
  {
   "cell_type": "code",
   "execution_count": 89,
   "id": "0e58a626",
   "metadata": {
    "scrolled": false
   },
   "outputs": [
    {
     "name": "stdout",
     "output_type": "stream",
     "text": [
      "Accuracy: 0.79\n",
      "Auc: 0.92\n",
      "Detail:\n",
      "              precision    recall  f1-score   support\n",
      "\n",
      "          -1       0.73      0.70      0.72      6234\n",
      "           0       0.93      0.86      0.90      6158\n",
      "           1       0.72      0.80      0.76      6815\n",
      "\n",
      "    accuracy                           0.79     19207\n",
      "   macro avg       0.80      0.79      0.79     19207\n",
      "weighted avg       0.79      0.79      0.79     19207\n",
      "\n"
     ]
    },
    {
     "data": {
      "image/png": "[encoded data removed]",
      "text/plain": [
       "<Figure size 432x288 with 1 Axes>"
      ]
     },
     "metadata": {
      "needs_background": "light"
     },
     "output_type": "display_data"
    },
    {
     "data": {
      "image/png": "[encoded data removed]",
      "text/plain": [
       "<Figure size 1080x360 with 2 Axes>"
      ]
     },
     "metadata": {
      "needs_background": "light"
     },
     "output_type": "display_data"
    }
   ],
   "source": [
    "evaluate_multi_classif(y_val, predicted, predicted_prob)"
   ]
  },
  {
   "cell_type": "code",
   "execution_count": 230,
   "id": "6111107e",
   "metadata": {},
   "outputs": [],
   "source": [
    "#Create a pipeline to use an Untuned TfidfVectorizer() and MultinomialNB()\n",
    "pipe_nb = Pipeline(steps=[\n",
    "    ('tfidf', TfidfVectorizer()),\n",
    "    ('nb', MultinomialNB())\n",
    "])\n",
    "#Cross validate\n",
    "# cv_nb = cross_validate(pipe_nb, X_train['processed_content'], y_train, return_train_score=True, \\\n",
    "#                     scoring=['accuracy', 'recall_micro'])\n",
    "#See the results\n",
    "# cv_nb"
   ]
  },
  {
   "cell_type": "code",
   "execution_count": 240,
   "id": "02b10dac",
   "metadata": {},
   "outputs": [],
   "source": [
    "def evaluate(estimator, X_tr, X_te, y_tr, y_te, roc_auc='skip'):\n",
    "    '''\n",
    "    orginial function at : \n",
    "    (https://github.com/lindseyberlin/Cat-in-the-Dat-Project/blob/main/notebooks/Lindsey/EDA-Initial-Models.ipynb)\n",
    "    Evaluation function to show a few scores for both the train and test set\n",
    "    Also shows a confusion matrix for the test set\n",
    "    \n",
    "    roc_auc allows you to set how to calculate the roc_auc score: \n",
    "    'dec' for decision_function or 'proba' for predict_proba \n",
    "    If roc_auc == 'skip', then it ignores calculating the roc_auc_score\n",
    "    \n",
    "    Inputs:\n",
    "        estimator: a fit sklearn-style model or pipeline\n",
    "        X_tr: array or pandas dataframe\n",
    "            training input variables\n",
    "        X_te: array or pandas dataframe\n",
    "            testing input variables\n",
    "        y_tr: array or pandas series\n",
    "            training output variable\n",
    "        y_te: array or pandas series\n",
    "            testing output variable\n",
    "        roc_auc: str\n",
    "            'skip': default, skips calculating roc_auc\n",
    "            'dec': use decision_function to calculate roc_auc\n",
    "            'proba': use predict_proba to calculate roc_auc\n",
    "            \n",
    "    '''\n",
    "    # Grab predictions\n",
    "    tr_preds = estimator.predict(X_tr)\n",
    "    te_preds = estimator.predict(X_te)\n",
    "    \n",
    "    # output needed for roc_auc_score\n",
    "    if roc_auc == 'skip': # skips calculating the roc_auc_score\n",
    "        train_out = False\n",
    "        test_out = False\n",
    "    elif roc_auc == 'dec': \n",
    "        train_out = estimator.decision_function(X_train)\n",
    "        test_out = estimator.decision_function(X_test)\n",
    "    elif roc_auc == 'proba': \n",
    "        train_out = estimator.predict_proba(X_train)[:, 1] # proba for the 1 class\n",
    "        test_out = estimator.predict_proba(X_test)[:, 1]\n",
    "    else:\n",
    "        raise Exception(\"The value for roc_auc should be 'skip', 'dec' or 'proba'\")    \n",
    "    \n",
    "    print(\"Training Scores:\")\n",
    "    print(f\"Train Accuracy: {accuracy_score(y_tr, tr_preds)}\")\n",
    "    print(f\"Train Precision: {precision_score(y_tr, tr_preds)}\")\n",
    "    print(f\"Train Recall: {recall_score(y_tr, tr_preds)}\")\n",
    "    print(f\"Train F1-Score: {f1_score(y_tr, tr_preds)}\")\n",
    "    if type(train_out) == np.ndarray: # checking for roc_auc\n",
    "        print(f\"ROC-AUC: {roc_auc_score(y_train, train_out)}\")\n",
    "        \n",
    "    print(\"*\" * 10)\n",
    "    print(\"Testing Scores:\")\n",
    "    print(f\"Test Accuracy: {accuracy_score(y_te, te_preds)}\")\n",
    "    print(f\"Test Precision: {precision_score(y_te, te_preds)}\")\n",
    "    print(f\"Test Recall: {recall_score(y_te, te_preds)}\")\n",
    "    print(f\"Test F1-Score: {f1_score(y_te, te_preds)}\")\n",
    "    if type(test_out) == np.ndarray: # checking for roc_auc\n",
    "        print(f\"ROC-AUC: {roc_auc_score(y_test, test_out)}\")    \n",
    "    \n",
    "    # Plot confusion matrix for test set\n",
    "    plot_confusion_matrix(estimator, X_te, y_te, values_format='.5g', cmap=plt.cm.Oranges)"
   ]
  },
  {
   "cell_type": "code",
   "execution_count": 263,
   "id": "4cb81bd6",
   "metadata": {},
   "outputs": [],
   "source": [
    "param_grid = {\n",
    "    \"tfidf__max_features\" : [10000],\n",
    "    'nb__alpha': [1e-3]\n",
    "}"
   ]
  },
  {
   "cell_type": "code",
   "execution_count": 264,
   "id": "62f33222",
   "metadata": {},
   "outputs": [],
   "source": [
    "grid = GridSearchCV(pipe_nb, param_grid, cv=3, return_train_score=True)"
   ]
  },
  {
   "cell_type": "code",
   "execution_count": 265,
   "id": "216eed10",
   "metadata": {},
   "outputs": [],
   "source": [
    "output = grid.fit(X_train[\"processed_content\"], y_train)"
   ]
  },
  {
   "cell_type": "code",
   "execution_count": 266,
   "id": "8e1e3f2f",
   "metadata": {},
   "outputs": [
    {
     "data": {
      "text/plain": [
       "{'nb__alpha': 0.001, 'tfidf__max_features': 10000}"
      ]
     },
     "execution_count": 266,
     "metadata": {},
     "output_type": "execute_result"
    }
   ],
   "source": [
    "output.best_params_"
   ]
  },
  {
   "cell_type": "code",
   "execution_count": 267,
   "id": "e3a75344",
   "metadata": {},
   "outputs": [
    {
     "data": {
      "text/plain": [
       "Pipeline(steps=[('tfidf', TfidfVectorizer(max_features=10000)),\n",
       "                ('nb', MultinomialNB(alpha=0.001))])"
      ]
     },
     "execution_count": 267,
     "metadata": {},
     "output_type": "execute_result"
    }
   ],
   "source": [
    "output.best_estimator_"
   ]
  },
  {
   "cell_type": "code",
   "execution_count": 283,
   "id": "a0abc7a8",
   "metadata": {},
   "outputs": [
    {
     "ename": "IndexError",
     "evalue": "only integers, slices (`:`), ellipsis (`...`), numpy.newaxis (`None`) and integer or boolean arrays are valid indices",
     "output_type": "error",
     "traceback": [
      "\u001b[1;31m---------------------------------------------------------------------------\u001b[0m",
      "\u001b[1;31mIndexError\u001b[0m                                Traceback (most recent call last)",
      "\u001b[1;32m~\\AppData\\Local\\Temp/ipykernel_24628/2408987063.py\u001b[0m in \u001b[0;36m<module>\u001b[1;34m\u001b[0m\n\u001b[0;32m      1\u001b[0m \u001b[0moutput\u001b[0m\u001b[1;33m.\u001b[0m\u001b[0mbest_estimator_\u001b[0m\u001b[1;33m.\u001b[0m\u001b[0mfit\u001b[0m\u001b[1;33m(\u001b[0m\u001b[0mX_train\u001b[0m\u001b[1;33m[\u001b[0m\u001b[1;34m\"processed_content\"\u001b[0m\u001b[1;33m]\u001b[0m\u001b[1;33m,\u001b[0m \u001b[0my_train\u001b[0m\u001b[1;33m)\u001b[0m\u001b[1;33m\u001b[0m\u001b[1;33m\u001b[0m\u001b[0m\n\u001b[1;32m----> 2\u001b[1;33m \u001b[0mX_val\u001b[0m \u001b[1;33m=\u001b[0m\u001b[0mX_val\u001b[0m\u001b[1;33m[\u001b[0m\u001b[1;34m\"processed_content\"\u001b[0m\u001b[1;33m]\u001b[0m\u001b[1;33m.\u001b[0m\u001b[0mvalues\u001b[0m\u001b[1;33m\u001b[0m\u001b[1;33m\u001b[0m\u001b[0m\n\u001b[0m\u001b[0;32m      3\u001b[0m \u001b[1;33m\u001b[0m\u001b[0m\n\u001b[0;32m      4\u001b[0m \u001b[0mprint\u001b[0m\u001b[1;33m(\u001b[0m\u001b[0mnb\u001b[0m\u001b[1;33m.\u001b[0m\u001b[0mscore\u001b[0m\u001b[1;33m(\u001b[0m\u001b[0mX_train\u001b[0m\u001b[1;33m,\u001b[0m \u001b[0my_train\u001b[0m\u001b[1;33m)\u001b[0m\u001b[1;33m)\u001b[0m\u001b[1;33m\u001b[0m\u001b[1;33m\u001b[0m\u001b[0m\n\u001b[0;32m      5\u001b[0m \u001b[0mprint\u001b[0m\u001b[1;33m(\u001b[0m\u001b[0mnb\u001b[0m\u001b[1;33m.\u001b[0m\u001b[0mscore\u001b[0m\u001b[1;33m(\u001b[0m\u001b[0mX_val\u001b[0m\u001b[1;33m,\u001b[0m \u001b[0my_val\u001b[0m\u001b[1;33m)\u001b[0m\u001b[1;33m)\u001b[0m\u001b[1;33m\u001b[0m\u001b[1;33m\u001b[0m\u001b[0m\n",
      "\u001b[1;31mIndexError\u001b[0m: only integers, slices (`:`), ellipsis (`...`), numpy.newaxis (`None`) and integer or boolean arrays are valid indices"
     ]
    }
   ],
   "source": [
    "output.best_estimator_.fit(X_train[\"processed_content\"], y_train)\n",
    "X_val =X_val[\"processed_content\"].values\n",
    "\n",
    "print(nb.score(X_train, y_train))\n",
    "print(nb.score(X_val, y_val))"
   ]
  },
  {
   "cell_type": "code",
   "execution_count": 282,
   "id": "7b9029ed",
   "metadata": {},
   "outputs": [
    {
     "ename": "AttributeError",
     "evalue": "'numpy.ndarray' object has no attribute 'lower'",
     "output_type": "error",
     "traceback": [
      "\u001b[1;31m---------------------------------------------------------------------------\u001b[0m",
      "\u001b[1;31mAttributeError\u001b[0m                            Traceback (most recent call last)",
      "\u001b[1;32m~\\AppData\\Local\\Temp/ipykernel_24628/3536350984.py\u001b[0m in \u001b[0;36m<module>\u001b[1;34m\u001b[0m\n\u001b[1;32m----> 1\u001b[1;33m \u001b[0mpredicted\u001b[0m \u001b[1;33m=\u001b[0m \u001b[0moutput\u001b[0m\u001b[1;33m.\u001b[0m\u001b[0mbest_estimator_\u001b[0m\u001b[1;33m.\u001b[0m\u001b[0mpredict\u001b[0m\u001b[1;33m(\u001b[0m\u001b[0mX_val\u001b[0m\u001b[1;33m)\u001b[0m\u001b[1;33m\u001b[0m\u001b[1;33m\u001b[0m\u001b[0m\n\u001b[0m\u001b[0;32m      2\u001b[0m \u001b[0mpredicted_prob\u001b[0m \u001b[1;33m=\u001b[0m \u001b[0moutput\u001b[0m\u001b[1;33m.\u001b[0m\u001b[0mbest_estimator_\u001b[0m\u001b[1;33m.\u001b[0m\u001b[0mpredict_proba\u001b[0m\u001b[1;33m(\u001b[0m\u001b[0mX_val\u001b[0m\u001b[1;33m)\u001b[0m\u001b[1;33m\u001b[0m\u001b[1;33m\u001b[0m\u001b[0m\n",
      "\u001b[1;32m~\\anaconda3\\envs\\learn-env\\lib\\site-packages\\sklearn\\utils\\metaestimators.py\u001b[0m in \u001b[0;36m<lambda>\u001b[1;34m(*args, **kwargs)\u001b[0m\n\u001b[0;32m    118\u001b[0m \u001b[1;33m\u001b[0m\u001b[0m\n\u001b[0;32m    119\u001b[0m         \u001b[1;31m# lambda, but not partial, allows help() to work with update_wrapper\u001b[0m\u001b[1;33m\u001b[0m\u001b[1;33m\u001b[0m\u001b[1;33m\u001b[0m\u001b[0m\n\u001b[1;32m--> 120\u001b[1;33m         \u001b[0mout\u001b[0m \u001b[1;33m=\u001b[0m \u001b[1;32mlambda\u001b[0m \u001b[1;33m*\u001b[0m\u001b[0margs\u001b[0m\u001b[1;33m,\u001b[0m \u001b[1;33m**\u001b[0m\u001b[0mkwargs\u001b[0m\u001b[1;33m:\u001b[0m \u001b[0mself\u001b[0m\u001b[1;33m.\u001b[0m\u001b[0mfn\u001b[0m\u001b[1;33m(\u001b[0m\u001b[0mobj\u001b[0m\u001b[1;33m,\u001b[0m \u001b[1;33m*\u001b[0m\u001b[0margs\u001b[0m\u001b[1;33m,\u001b[0m \u001b[1;33m**\u001b[0m\u001b[0mkwargs\u001b[0m\u001b[1;33m)\u001b[0m\u001b[1;33m\u001b[0m\u001b[1;33m\u001b[0m\u001b[0m\n\u001b[0m\u001b[0;32m    121\u001b[0m         \u001b[1;31m# update the docstring of the returned function\u001b[0m\u001b[1;33m\u001b[0m\u001b[1;33m\u001b[0m\u001b[1;33m\u001b[0m\u001b[0m\n\u001b[0;32m    122\u001b[0m         \u001b[0mupdate_wrapper\u001b[0m\u001b[1;33m(\u001b[0m\u001b[0mout\u001b[0m\u001b[1;33m,\u001b[0m \u001b[0mself\u001b[0m\u001b[1;33m.\u001b[0m\u001b[0mfn\u001b[0m\u001b[1;33m)\u001b[0m\u001b[1;33m\u001b[0m\u001b[1;33m\u001b[0m\u001b[0m\n",
      "\u001b[1;32m~\\anaconda3\\envs\\learn-env\\lib\\site-packages\\sklearn\\pipeline.py\u001b[0m in \u001b[0;36mpredict\u001b[1;34m(self, X, **predict_params)\u001b[0m\n\u001b[0;32m    416\u001b[0m         \u001b[0mXt\u001b[0m \u001b[1;33m=\u001b[0m \u001b[0mX\u001b[0m\u001b[1;33m\u001b[0m\u001b[1;33m\u001b[0m\u001b[0m\n\u001b[0;32m    417\u001b[0m         \u001b[1;32mfor\u001b[0m \u001b[0m_\u001b[0m\u001b[1;33m,\u001b[0m \u001b[0mname\u001b[0m\u001b[1;33m,\u001b[0m \u001b[0mtransform\u001b[0m \u001b[1;32min\u001b[0m \u001b[0mself\u001b[0m\u001b[1;33m.\u001b[0m\u001b[0m_iter\u001b[0m\u001b[1;33m(\u001b[0m\u001b[0mwith_final\u001b[0m\u001b[1;33m=\u001b[0m\u001b[1;32mFalse\u001b[0m\u001b[1;33m)\u001b[0m\u001b[1;33m:\u001b[0m\u001b[1;33m\u001b[0m\u001b[1;33m\u001b[0m\u001b[0m\n\u001b[1;32m--> 418\u001b[1;33m             \u001b[0mXt\u001b[0m \u001b[1;33m=\u001b[0m \u001b[0mtransform\u001b[0m\u001b[1;33m.\u001b[0m\u001b[0mtransform\u001b[0m\u001b[1;33m(\u001b[0m\u001b[0mXt\u001b[0m\u001b[1;33m)\u001b[0m\u001b[1;33m\u001b[0m\u001b[1;33m\u001b[0m\u001b[0m\n\u001b[0m\u001b[0;32m    419\u001b[0m         \u001b[1;32mreturn\u001b[0m \u001b[0mself\u001b[0m\u001b[1;33m.\u001b[0m\u001b[0msteps\u001b[0m\u001b[1;33m[\u001b[0m\u001b[1;33m-\u001b[0m\u001b[1;36m1\u001b[0m\u001b[1;33m]\u001b[0m\u001b[1;33m[\u001b[0m\u001b[1;33m-\u001b[0m\u001b[1;36m1\u001b[0m\u001b[1;33m]\u001b[0m\u001b[1;33m.\u001b[0m\u001b[0mpredict\u001b[0m\u001b[1;33m(\u001b[0m\u001b[0mXt\u001b[0m\u001b[1;33m,\u001b[0m \u001b[1;33m**\u001b[0m\u001b[0mpredict_params\u001b[0m\u001b[1;33m)\u001b[0m\u001b[1;33m\u001b[0m\u001b[1;33m\u001b[0m\u001b[0m\n\u001b[0;32m    420\u001b[0m \u001b[1;33m\u001b[0m\u001b[0m\n",
      "\u001b[1;32m~\\anaconda3\\envs\\learn-env\\lib\\site-packages\\sklearn\\feature_extraction\\text.py\u001b[0m in \u001b[0;36mtransform\u001b[1;34m(self, raw_documents)\u001b[0m\n\u001b[0;32m   1868\u001b[0m         \u001b[0mcheck_is_fitted\u001b[0m\u001b[1;33m(\u001b[0m\u001b[0mself\u001b[0m\u001b[1;33m,\u001b[0m \u001b[0mmsg\u001b[0m\u001b[1;33m=\u001b[0m\u001b[1;34m'The TF-IDF vectorizer is not fitted'\u001b[0m\u001b[1;33m)\u001b[0m\u001b[1;33m\u001b[0m\u001b[1;33m\u001b[0m\u001b[0m\n\u001b[0;32m   1869\u001b[0m \u001b[1;33m\u001b[0m\u001b[0m\n\u001b[1;32m-> 1870\u001b[1;33m         \u001b[0mX\u001b[0m \u001b[1;33m=\u001b[0m \u001b[0msuper\u001b[0m\u001b[1;33m(\u001b[0m\u001b[1;33m)\u001b[0m\u001b[1;33m.\u001b[0m\u001b[0mtransform\u001b[0m\u001b[1;33m(\u001b[0m\u001b[0mraw_documents\u001b[0m\u001b[1;33m)\u001b[0m\u001b[1;33m\u001b[0m\u001b[1;33m\u001b[0m\u001b[0m\n\u001b[0m\u001b[0;32m   1871\u001b[0m         \u001b[1;32mreturn\u001b[0m \u001b[0mself\u001b[0m\u001b[1;33m.\u001b[0m\u001b[0m_tfidf\u001b[0m\u001b[1;33m.\u001b[0m\u001b[0mtransform\u001b[0m\u001b[1;33m(\u001b[0m\u001b[0mX\u001b[0m\u001b[1;33m,\u001b[0m \u001b[0mcopy\u001b[0m\u001b[1;33m=\u001b[0m\u001b[1;32mFalse\u001b[0m\u001b[1;33m)\u001b[0m\u001b[1;33m\u001b[0m\u001b[1;33m\u001b[0m\u001b[0m\n\u001b[0;32m   1872\u001b[0m \u001b[1;33m\u001b[0m\u001b[0m\n",
      "\u001b[1;32m~\\anaconda3\\envs\\learn-env\\lib\\site-packages\\sklearn\\feature_extraction\\text.py\u001b[0m in \u001b[0;36mtransform\u001b[1;34m(self, raw_documents)\u001b[0m\n\u001b[0;32m   1252\u001b[0m \u001b[1;33m\u001b[0m\u001b[0m\n\u001b[0;32m   1253\u001b[0m         \u001b[1;31m# use the same matrix-building strategy as fit_transform\u001b[0m\u001b[1;33m\u001b[0m\u001b[1;33m\u001b[0m\u001b[1;33m\u001b[0m\u001b[0m\n\u001b[1;32m-> 1254\u001b[1;33m         \u001b[0m_\u001b[0m\u001b[1;33m,\u001b[0m \u001b[0mX\u001b[0m \u001b[1;33m=\u001b[0m \u001b[0mself\u001b[0m\u001b[1;33m.\u001b[0m\u001b[0m_count_vocab\u001b[0m\u001b[1;33m(\u001b[0m\u001b[0mraw_documents\u001b[0m\u001b[1;33m,\u001b[0m \u001b[0mfixed_vocab\u001b[0m\u001b[1;33m=\u001b[0m\u001b[1;32mTrue\u001b[0m\u001b[1;33m)\u001b[0m\u001b[1;33m\u001b[0m\u001b[1;33m\u001b[0m\u001b[0m\n\u001b[0m\u001b[0;32m   1255\u001b[0m         \u001b[1;32mif\u001b[0m \u001b[0mself\u001b[0m\u001b[1;33m.\u001b[0m\u001b[0mbinary\u001b[0m\u001b[1;33m:\u001b[0m\u001b[1;33m\u001b[0m\u001b[1;33m\u001b[0m\u001b[0m\n\u001b[0;32m   1256\u001b[0m             \u001b[0mX\u001b[0m\u001b[1;33m.\u001b[0m\u001b[0mdata\u001b[0m\u001b[1;33m.\u001b[0m\u001b[0mfill\u001b[0m\u001b[1;33m(\u001b[0m\u001b[1;36m1\u001b[0m\u001b[1;33m)\u001b[0m\u001b[1;33m\u001b[0m\u001b[1;33m\u001b[0m\u001b[0m\n",
      "\u001b[1;32m~\\anaconda3\\envs\\learn-env\\lib\\site-packages\\sklearn\\feature_extraction\\text.py\u001b[0m in \u001b[0;36m_count_vocab\u001b[1;34m(self, raw_documents, fixed_vocab)\u001b[0m\n\u001b[0;32m   1112\u001b[0m         \u001b[1;32mfor\u001b[0m \u001b[0mdoc\u001b[0m \u001b[1;32min\u001b[0m \u001b[0mraw_documents\u001b[0m\u001b[1;33m:\u001b[0m\u001b[1;33m\u001b[0m\u001b[1;33m\u001b[0m\u001b[0m\n\u001b[0;32m   1113\u001b[0m             \u001b[0mfeature_counter\u001b[0m \u001b[1;33m=\u001b[0m \u001b[1;33m{\u001b[0m\u001b[1;33m}\u001b[0m\u001b[1;33m\u001b[0m\u001b[1;33m\u001b[0m\u001b[0m\n\u001b[1;32m-> 1114\u001b[1;33m             \u001b[1;32mfor\u001b[0m \u001b[0mfeature\u001b[0m \u001b[1;32min\u001b[0m \u001b[0manalyze\u001b[0m\u001b[1;33m(\u001b[0m\u001b[0mdoc\u001b[0m\u001b[1;33m)\u001b[0m\u001b[1;33m:\u001b[0m\u001b[1;33m\u001b[0m\u001b[1;33m\u001b[0m\u001b[0m\n\u001b[0m\u001b[0;32m   1115\u001b[0m                 \u001b[1;32mtry\u001b[0m\u001b[1;33m:\u001b[0m\u001b[1;33m\u001b[0m\u001b[1;33m\u001b[0m\u001b[0m\n\u001b[0;32m   1116\u001b[0m                     \u001b[0mfeature_idx\u001b[0m \u001b[1;33m=\u001b[0m \u001b[0mvocabulary\u001b[0m\u001b[1;33m[\u001b[0m\u001b[0mfeature\u001b[0m\u001b[1;33m]\u001b[0m\u001b[1;33m\u001b[0m\u001b[1;33m\u001b[0m\u001b[0m\n",
      "\u001b[1;32m~\\anaconda3\\envs\\learn-env\\lib\\site-packages\\sklearn\\feature_extraction\\text.py\u001b[0m in \u001b[0;36m_analyze\u001b[1;34m(doc, analyzer, tokenizer, ngrams, preprocessor, decoder, stop_words)\u001b[0m\n\u001b[0;32m    102\u001b[0m     \u001b[1;32melse\u001b[0m\u001b[1;33m:\u001b[0m\u001b[1;33m\u001b[0m\u001b[1;33m\u001b[0m\u001b[0m\n\u001b[0;32m    103\u001b[0m         \u001b[1;32mif\u001b[0m \u001b[0mpreprocessor\u001b[0m \u001b[1;32mis\u001b[0m \u001b[1;32mnot\u001b[0m \u001b[1;32mNone\u001b[0m\u001b[1;33m:\u001b[0m\u001b[1;33m\u001b[0m\u001b[1;33m\u001b[0m\u001b[0m\n\u001b[1;32m--> 104\u001b[1;33m             \u001b[0mdoc\u001b[0m \u001b[1;33m=\u001b[0m \u001b[0mpreprocessor\u001b[0m\u001b[1;33m(\u001b[0m\u001b[0mdoc\u001b[0m\u001b[1;33m)\u001b[0m\u001b[1;33m\u001b[0m\u001b[1;33m\u001b[0m\u001b[0m\n\u001b[0m\u001b[0;32m    105\u001b[0m         \u001b[1;32mif\u001b[0m \u001b[0mtokenizer\u001b[0m \u001b[1;32mis\u001b[0m \u001b[1;32mnot\u001b[0m \u001b[1;32mNone\u001b[0m\u001b[1;33m:\u001b[0m\u001b[1;33m\u001b[0m\u001b[1;33m\u001b[0m\u001b[0m\n\u001b[0;32m    106\u001b[0m             \u001b[0mdoc\u001b[0m \u001b[1;33m=\u001b[0m \u001b[0mtokenizer\u001b[0m\u001b[1;33m(\u001b[0m\u001b[0mdoc\u001b[0m\u001b[1;33m)\u001b[0m\u001b[1;33m\u001b[0m\u001b[1;33m\u001b[0m\u001b[0m\n",
      "\u001b[1;32m~\\anaconda3\\envs\\learn-env\\lib\\site-packages\\sklearn\\feature_extraction\\text.py\u001b[0m in \u001b[0;36m_preprocess\u001b[1;34m(doc, accent_function, lower)\u001b[0m\n\u001b[0;32m     67\u001b[0m     \"\"\"\n\u001b[0;32m     68\u001b[0m     \u001b[1;32mif\u001b[0m \u001b[0mlower\u001b[0m\u001b[1;33m:\u001b[0m\u001b[1;33m\u001b[0m\u001b[1;33m\u001b[0m\u001b[0m\n\u001b[1;32m---> 69\u001b[1;33m         \u001b[0mdoc\u001b[0m \u001b[1;33m=\u001b[0m \u001b[0mdoc\u001b[0m\u001b[1;33m.\u001b[0m\u001b[0mlower\u001b[0m\u001b[1;33m(\u001b[0m\u001b[1;33m)\u001b[0m\u001b[1;33m\u001b[0m\u001b[1;33m\u001b[0m\u001b[0m\n\u001b[0m\u001b[0;32m     70\u001b[0m     \u001b[1;32mif\u001b[0m \u001b[0maccent_function\u001b[0m \u001b[1;32mis\u001b[0m \u001b[1;32mnot\u001b[0m \u001b[1;32mNone\u001b[0m\u001b[1;33m:\u001b[0m\u001b[1;33m\u001b[0m\u001b[1;33m\u001b[0m\u001b[0m\n\u001b[0;32m     71\u001b[0m         \u001b[0mdoc\u001b[0m \u001b[1;33m=\u001b[0m \u001b[0maccent_function\u001b[0m\u001b[1;33m(\u001b[0m\u001b[0mdoc\u001b[0m\u001b[1;33m)\u001b[0m\u001b[1;33m\u001b[0m\u001b[1;33m\u001b[0m\u001b[0m\n",
      "\u001b[1;31mAttributeError\u001b[0m: 'numpy.ndarray' object has no attribute 'lower'"
     ]
    }
   ],
   "source": [
    "predicted = output.best_estimator_.predict(X_val)\n",
    "predicted_prob = output.best_estimator_.predict_proba(X_val)"
   ]
  },
  {
   "cell_type": "markdown",
   "id": "c50fd02b",
   "metadata": {},
   "source": [
    "### Logistic Regression"
   ]
  },
  {
   "cell_type": "code",
   "execution_count": 272,
   "id": "e72914a9",
   "metadata": {},
   "outputs": [
    {
     "name": "stderr",
     "output_type": "stream",
     "text": [
      "C:\\Users\\david\\anaconda3\\envs\\learn-env\\lib\\site-packages\\sklearn\\linear_model\\_logistic.py:763: ConvergenceWarning: lbfgs failed to converge (status=1):\n",
      "STOP: TOTAL NO. of ITERATIONS REACHED LIMIT.\n",
      "\n",
      "Increase the number of iterations (max_iter) or scale the data as shown in:\n",
      "    https://scikit-learn.org/stable/modules/preprocessing.html\n",
      "Please also refer to the documentation for alternative solver options:\n",
      "    https://scikit-learn.org/stable/modules/linear_model.html#logistic-regression\n",
      "  n_iter_i = _check_optimize_result(\n",
      "C:\\Users\\david\\anaconda3\\envs\\learn-env\\lib\\site-packages\\sklearn\\linear_model\\_logistic.py:763: ConvergenceWarning: lbfgs failed to converge (status=1):\n",
      "STOP: TOTAL NO. of ITERATIONS REACHED LIMIT.\n",
      "\n",
      "Increase the number of iterations (max_iter) or scale the data as shown in:\n",
      "    https://scikit-learn.org/stable/modules/preprocessing.html\n",
      "Please also refer to the documentation for alternative solver options:\n",
      "    https://scikit-learn.org/stable/modules/linear_model.html#logistic-regression\n",
      "  n_iter_i = _check_optimize_result(\n"
     ]
    },
    {
     "name": "stdout",
     "output_type": "stream",
     "text": [
      "0.9300081567484076\n",
      "0.916332587077628\n"
     ]
    }
   ],
   "source": [
    "lr= LogisticRegression()\n",
    "lr.fit(X_train_tfidf_vec_df, y_train)\n",
    "\n",
    "lr.fit(X_train_tfidf_vec_df, y_train)\n",
    "\n",
    "X_val =X_val_tfidf_vec_df.values\n",
    "predicted = lr.predict(X_val)\n",
    "predicted_prob = lr.predict_proba(X_val)\n",
    "\n",
    "print(lr.score(X_train_tfidf_vec_df, y_train))\n",
    "print(lr.score(X_val_tfidf_vec_df, y_val))"
   ]
  },
  {
   "cell_type": "code",
   "execution_count": 273,
   "id": "a177ff98",
   "metadata": {},
   "outputs": [
    {
     "name": "stdout",
     "output_type": "stream",
     "text": [
      "Accuracy: 0.92\n",
      "Auc: 0.98\n",
      "Detail:\n",
      "              precision    recall  f1-score   support\n",
      "\n",
      "          -1       0.87      0.88      0.88      6234\n",
      "           0       0.99      0.98      0.99      6158\n",
      "           1       0.89      0.89      0.89      6815\n",
      "\n",
      "    accuracy                           0.92     19207\n",
      "   macro avg       0.92      0.92      0.92     19207\n",
      "weighted avg       0.92      0.92      0.92     19207\n",
      "\n"
     ]
    },
    {
     "data": {
      "image/png": "[encoded data removed]",
      "text/plain": [
       "<Figure size 432x288 with 1 Axes>"
      ]
     },
     "metadata": {
      "needs_background": "light"
     },
     "output_type": "display_data"
    },
    {
     "data": {
      "image/png": "[encoded data removed]",
      "text/plain": [
       "<Figure size 1080x360 with 2 Axes>"
      ]
     },
     "metadata": {
      "needs_background": "light"
     },
     "output_type": "display_data"
    }
   ],
   "source": [
    "evaluate_multi_classif(y_val, predicted, predicted_prob)"
   ]
  },
  {
   "cell_type": "markdown",
   "id": "d76b613b",
   "metadata": {},
   "source": [
    "### Logisitic Regression with PCA"
   ]
  },
  {
   "cell_type": "code",
   "execution_count": 274,
   "id": "bbbaeb90",
   "metadata": {},
   "outputs": [],
   "source": [
    "from sklearn.preprocessing import StandardScaler\n",
    "from sklearn.decomposition import PCA"
   ]
  },
  {
   "cell_type": "code",
   "execution_count": 276,
   "id": "977471e5",
   "metadata": {},
   "outputs": [],
   "source": [
    "scaler = StandardScaler()\n",
    "X_train_scaled = scaler.fit_transform(X_train_tfidf_vec_df) #Use default count vectorizer\n",
    "X_val_scaled = scaler.transform(X_val_tfidf_vec_df)"
   ]
  },
  {
   "cell_type": "code",
   "execution_count": 277,
   "id": "8886af46",
   "metadata": {},
   "outputs": [
    {
     "data": {
      "text/plain": [
       "1662"
      ]
     },
     "execution_count": 277,
     "metadata": {},
     "output_type": "execute_result"
    }
   ],
   "source": [
    "pca = PCA(n_components = .95, random_state=seed)\n",
    "pca.fit(X_train_scaled)\n",
    "pca.n_components_"
   ]
  },
  {
   "cell_type": "code",
   "execution_count": 278,
   "id": "777ed6bf",
   "metadata": {},
   "outputs": [
    {
     "data": {
      "text/plain": [
       "Pipeline(steps=[('pca', PCA(n_components=0.95, random_state=42)),\n",
       "                ('lr', LogisticRegression(max_iter=100000, random_state=42))])"
      ]
     },
     "execution_count": 278,
     "metadata": {},
     "output_type": "execute_result"
    }
   ],
   "source": [
    "pipe_lr = Pipeline([('pca', pca), \n",
    "                    ('lr', LogisticRegression(random_state=seed, max_iter=100000))])\n",
    "pipe_lr.fit(X_train_scaled, y_train)"
   ]
  },
  {
   "cell_type": "code",
   "execution_count": 279,
   "id": "539e8afa",
   "metadata": {},
   "outputs": [],
   "source": [
    "predicted = pipe_lr.predict(X_val_scaled)\n",
    "predicted_prob = pipe_lr.predict_proba(X_val_scaled)"
   ]
  },
  {
   "cell_type": "code",
   "execution_count": 280,
   "id": "62064464",
   "metadata": {},
   "outputs": [
    {
     "name": "stdout",
     "output_type": "stream",
     "text": [
      "Accuracy: 0.91\n",
      "Auc: 0.98\n",
      "Detail:\n",
      "              precision    recall  f1-score   support\n",
      "\n",
      "          -1       0.86      0.87      0.86      6234\n",
      "           0       0.98      0.98      0.98      6158\n",
      "           1       0.88      0.88      0.88      6815\n",
      "\n",
      "    accuracy                           0.91     19207\n",
      "   macro avg       0.91      0.91      0.91     19207\n",
      "weighted avg       0.91      0.91      0.91     19207\n",
      "\n"
     ]
    },
    {
     "data": {
      "image/png": "[encoded data removed]",
      "text/plain": [
       "<Figure size 432x288 with 1 Axes>"
      ]
     },
     "metadata": {
      "needs_background": "light"
     },
     "output_type": "display_data"
    },
    {
     "data": {
      "image/png": "[encoded data removed]",
      "text/plain": [
       "<Figure size 1080x360 with 2 Axes>"
      ]
     },
     "metadata": {
      "needs_background": "light"
     },
     "output_type": "display_data"
    }
   ],
   "source": [
    "evaluate_multi_classif(y_val, predicted, predicted_prob)"
   ]
  },
  {
   "cell_type": "code",
   "execution_count": 281,
   "id": "94b495b3",
   "metadata": {},
   "outputs": [
    {
     "name": "stdout",
     "output_type": "stream",
     "text": [
      "PCA with n_components=0.95, default count vectorizer, and logistic regression\n",
      "0.9337567900591798\n",
      "0.9064403602853126\n"
     ]
    }
   ],
   "source": [
    "print(\"PCA with n_components=0.95, default count vectorizer, and logistic regression\")\n",
    "print(pipe_lr.score(X_train_scaled, y_train))\n",
    "print(pipe_lr.score(X_val_scaled, y_val))"
   ]
  },
  {
   "cell_type": "code",
   "execution_count": null,
   "id": "bae0a6b8",
   "metadata": {},
   "outputs": [],
   "source": []
  },
  {
   "cell_type": "markdown",
   "id": "03f25501",
   "metadata": {},
   "source": [
    "### Decision Trees"
   ]
  },
  {
   "cell_type": "code",
   "execution_count": 285,
   "id": "622ed542",
   "metadata": {},
   "outputs": [],
   "source": [
    "dt= DecisionTreeClassifier()"
   ]
  },
  {
   "cell_type": "code",
   "execution_count": 294,
   "id": "6681cd95",
   "metadata": {},
   "outputs": [
    {
     "name": "stdout",
     "output_type": "stream",
     "text": [
      "              precision    recall  f1-score   support\n",
      "\n",
      "          -1       0.77      0.77      0.77      6234\n",
      "           0       0.99      0.98      0.99      6158\n",
      "           1       0.79      0.80      0.79      6815\n",
      "\n",
      "    accuracy                           0.85     19207\n",
      "   macro avg       0.85      0.85      0.85     19207\n",
      "weighted avg       0.85      0.85      0.85     19207\n",
      "\n"
     ]
    },
    {
     "data": {
      "text/plain": [
       "array([[4811,   41, 1382],\n",
       "       [  55, 6060,   43],\n",
       "       [1346,   37, 5432]], dtype=int64)"
      ]
     },
     "execution_count": 294,
     "metadata": {},
     "output_type": "execute_result"
    }
   ],
   "source": [
    "dt.fit(X_train_tfidf_vec_df, y_train)\n",
    "y_pred = dt.predict(X_val_tfidf_vec_df)\n",
    "print(classification_report(y_val, y_pred))\n",
    "confusion_matrix(y_val, y_pred)"
   ]
  },
  {
   "cell_type": "code",
   "execution_count": null,
   "id": "99aa88fb",
   "metadata": {},
   "outputs": [],
   "source": [
    "evaluate2(dt, X_train_tfidf_vec_df, y_train, X_val_tfidf_vec_df, y_val)"
   ]
  },
  {
   "cell_type": "code",
   "execution_count": 295,
   "id": "b6d7e1bb",
   "metadata": {},
   "outputs": [
    {
     "name": "stdout",
     "output_type": "stream",
     "text": [
      "[[4811   41 1382]\n",
      " [  55 6060   43]\n",
      " [1346   37 5432]]\n"
     ]
    }
   ],
   "source": [
    "print(confusion_matrix(y_val, y_pred))"
   ]
  },
  {
   "cell_type": "code",
   "execution_count": 300,
   "id": "003a8f5c",
   "metadata": {},
   "outputs": [],
   "source": [
    "def evaluate2(model, X_tr, y_tr, X_te, y_te):\n",
    "    print('Accuracy Score:')\n",
    "    print(f'Train - {accuracy_score(y_tr, model.predict(X_tr))}')\n",
    "    print(f'Test - {accuracy_score(y_te, model.predict(X_te))}')\n",
    "    print('  ')\n",
    "    print('Classification Report:')\n",
    "    print(classification_report(y_te, model.predict(X_te)))\n",
    "    print('Confusion matrix for test data')\n",
    "    return plot_confusion_matrix(model, X_te, y_te, include_values=True, cmap=plt.cm.Blues)"
   ]
  },
  {
   "cell_type": "code",
   "execution_count": 301,
   "id": "6c2e0b03",
   "metadata": {},
   "outputs": [
    {
     "ename": "KeyboardInterrupt",
     "evalue": "",
     "output_type": "error",
     "traceback": [
      "\u001b[1;31m---------------------------------------------------------------------------\u001b[0m",
      "\u001b[1;31mKeyboardInterrupt\u001b[0m                         Traceback (most recent call last)",
      "\u001b[1;32m~\\AppData\\Local\\Temp/ipykernel_24628/83623897.py\u001b[0m in \u001b[0;36m<module>\u001b[1;34m\u001b[0m\n\u001b[0;32m      2\u001b[0m \u001b[0mdt_grid\u001b[0m \u001b[1;33m=\u001b[0m \u001b[0mGridSearchCV\u001b[0m\u001b[1;33m(\u001b[0m\u001b[0mdt\u001b[0m\u001b[1;33m,\u001b[0m \u001b[0mdt_grid_params\u001b[0m\u001b[1;33m)\u001b[0m\u001b[1;33m\u001b[0m\u001b[1;33m\u001b[0m\u001b[0m\n\u001b[0;32m      3\u001b[0m \u001b[1;33m\u001b[0m\u001b[0m\n\u001b[1;32m----> 4\u001b[1;33m \u001b[0mdt_output\u001b[0m \u001b[1;33m=\u001b[0m \u001b[0mdt_grid\u001b[0m\u001b[1;33m.\u001b[0m\u001b[0mfit\u001b[0m\u001b[1;33m(\u001b[0m\u001b[0mX_train_tfidf_vec_df\u001b[0m\u001b[1;33m,\u001b[0m \u001b[0my_train\u001b[0m\u001b[1;33m)\u001b[0m\u001b[1;33m\u001b[0m\u001b[1;33m\u001b[0m\u001b[0m\n\u001b[0m\u001b[0;32m      5\u001b[0m \u001b[0mdt_output\u001b[0m\u001b[1;33m.\u001b[0m\u001b[0mbest_params_\u001b[0m\u001b[1;33m\u001b[0m\u001b[1;33m\u001b[0m\u001b[0m\n\u001b[0;32m      6\u001b[0m \u001b[1;33m\u001b[0m\u001b[0m\n",
      "\u001b[1;32m~\\anaconda3\\envs\\learn-env\\lib\\site-packages\\sklearn\\utils\\validation.py\u001b[0m in \u001b[0;36minner_f\u001b[1;34m(*args, **kwargs)\u001b[0m\n\u001b[0;32m     61\u001b[0m             \u001b[0mextra_args\u001b[0m \u001b[1;33m=\u001b[0m \u001b[0mlen\u001b[0m\u001b[1;33m(\u001b[0m\u001b[0margs\u001b[0m\u001b[1;33m)\u001b[0m \u001b[1;33m-\u001b[0m \u001b[0mlen\u001b[0m\u001b[1;33m(\u001b[0m\u001b[0mall_args\u001b[0m\u001b[1;33m)\u001b[0m\u001b[1;33m\u001b[0m\u001b[1;33m\u001b[0m\u001b[0m\n\u001b[0;32m     62\u001b[0m             \u001b[1;32mif\u001b[0m \u001b[0mextra_args\u001b[0m \u001b[1;33m<=\u001b[0m \u001b[1;36m0\u001b[0m\u001b[1;33m:\u001b[0m\u001b[1;33m\u001b[0m\u001b[1;33m\u001b[0m\u001b[0m\n\u001b[1;32m---> 63\u001b[1;33m                 \u001b[1;32mreturn\u001b[0m \u001b[0mf\u001b[0m\u001b[1;33m(\u001b[0m\u001b[1;33m*\u001b[0m\u001b[0margs\u001b[0m\u001b[1;33m,\u001b[0m \u001b[1;33m**\u001b[0m\u001b[0mkwargs\u001b[0m\u001b[1;33m)\u001b[0m\u001b[1;33m\u001b[0m\u001b[1;33m\u001b[0m\u001b[0m\n\u001b[0m\u001b[0;32m     64\u001b[0m \u001b[1;33m\u001b[0m\u001b[0m\n\u001b[0;32m     65\u001b[0m             \u001b[1;31m# extra_args > 0\u001b[0m\u001b[1;33m\u001b[0m\u001b[1;33m\u001b[0m\u001b[1;33m\u001b[0m\u001b[0m\n",
      "\u001b[1;32m~\\anaconda3\\envs\\learn-env\\lib\\site-packages\\sklearn\\model_selection\\_search.py\u001b[0m in \u001b[0;36mfit\u001b[1;34m(self, X, y, groups, **fit_params)\u001b[0m\n\u001b[0;32m    839\u001b[0m                 \u001b[1;32mreturn\u001b[0m \u001b[0mresults\u001b[0m\u001b[1;33m\u001b[0m\u001b[1;33m\u001b[0m\u001b[0m\n\u001b[0;32m    840\u001b[0m \u001b[1;33m\u001b[0m\u001b[0m\n\u001b[1;32m--> 841\u001b[1;33m             \u001b[0mself\u001b[0m\u001b[1;33m.\u001b[0m\u001b[0m_run_search\u001b[0m\u001b[1;33m(\u001b[0m\u001b[0mevaluate_candidates\u001b[0m\u001b[1;33m)\u001b[0m\u001b[1;33m\u001b[0m\u001b[1;33m\u001b[0m\u001b[0m\n\u001b[0m\u001b[0;32m    842\u001b[0m \u001b[1;33m\u001b[0m\u001b[0m\n\u001b[0;32m    843\u001b[0m             \u001b[1;31m# multimetric is determined here because in the case of a callable\u001b[0m\u001b[1;33m\u001b[0m\u001b[1;33m\u001b[0m\u001b[1;33m\u001b[0m\u001b[0m\n",
      "\u001b[1;32m~\\anaconda3\\envs\\learn-env\\lib\\site-packages\\sklearn\\model_selection\\_search.py\u001b[0m in \u001b[0;36m_run_search\u001b[1;34m(self, evaluate_candidates)\u001b[0m\n\u001b[0;32m   1294\u001b[0m     \u001b[1;32mdef\u001b[0m \u001b[0m_run_search\u001b[0m\u001b[1;33m(\u001b[0m\u001b[0mself\u001b[0m\u001b[1;33m,\u001b[0m \u001b[0mevaluate_candidates\u001b[0m\u001b[1;33m)\u001b[0m\u001b[1;33m:\u001b[0m\u001b[1;33m\u001b[0m\u001b[1;33m\u001b[0m\u001b[0m\n\u001b[0;32m   1295\u001b[0m         \u001b[1;34m\"\"\"Search all candidates in param_grid\"\"\"\u001b[0m\u001b[1;33m\u001b[0m\u001b[1;33m\u001b[0m\u001b[0m\n\u001b[1;32m-> 1296\u001b[1;33m         \u001b[0mevaluate_candidates\u001b[0m\u001b[1;33m(\u001b[0m\u001b[0mParameterGrid\u001b[0m\u001b[1;33m(\u001b[0m\u001b[0mself\u001b[0m\u001b[1;33m.\u001b[0m\u001b[0mparam_grid\u001b[0m\u001b[1;33m)\u001b[0m\u001b[1;33m)\u001b[0m\u001b[1;33m\u001b[0m\u001b[1;33m\u001b[0m\u001b[0m\n\u001b[0m\u001b[0;32m   1297\u001b[0m \u001b[1;33m\u001b[0m\u001b[0m\n\u001b[0;32m   1298\u001b[0m \u001b[1;33m\u001b[0m\u001b[0m\n",
      "\u001b[1;32m~\\anaconda3\\envs\\learn-env\\lib\\site-packages\\sklearn\\model_selection\\_search.py\u001b[0m in \u001b[0;36mevaluate_candidates\u001b[1;34m(candidate_params, cv, more_results)\u001b[0m\n\u001b[0;32m    793\u001b[0m                               n_splits, n_candidates, n_candidates * n_splits))\n\u001b[0;32m    794\u001b[0m \u001b[1;33m\u001b[0m\u001b[0m\n\u001b[1;32m--> 795\u001b[1;33m                 out = parallel(delayed(_fit_and_score)(clone(base_estimator),\n\u001b[0m\u001b[0;32m    796\u001b[0m                                                        \u001b[0mX\u001b[0m\u001b[1;33m,\u001b[0m \u001b[0my\u001b[0m\u001b[1;33m,\u001b[0m\u001b[1;33m\u001b[0m\u001b[1;33m\u001b[0m\u001b[0m\n\u001b[0;32m    797\u001b[0m                                                        \u001b[0mtrain\u001b[0m\u001b[1;33m=\u001b[0m\u001b[0mtrain\u001b[0m\u001b[1;33m,\u001b[0m \u001b[0mtest\u001b[0m\u001b[1;33m=\u001b[0m\u001b[0mtest\u001b[0m\u001b[1;33m,\u001b[0m\u001b[1;33m\u001b[0m\u001b[1;33m\u001b[0m\u001b[0m\n",
      "\u001b[1;32m~\\anaconda3\\envs\\learn-env\\lib\\site-packages\\joblib\\parallel.py\u001b[0m in \u001b[0;36m__call__\u001b[1;34m(self, iterable)\u001b[0m\n\u001b[0;32m   1039\u001b[0m             \u001b[1;31m# remaining jobs.\u001b[0m\u001b[1;33m\u001b[0m\u001b[1;33m\u001b[0m\u001b[1;33m\u001b[0m\u001b[0m\n\u001b[0;32m   1040\u001b[0m             \u001b[0mself\u001b[0m\u001b[1;33m.\u001b[0m\u001b[0m_iterating\u001b[0m \u001b[1;33m=\u001b[0m \u001b[1;32mFalse\u001b[0m\u001b[1;33m\u001b[0m\u001b[1;33m\u001b[0m\u001b[0m\n\u001b[1;32m-> 1041\u001b[1;33m             \u001b[1;32mif\u001b[0m \u001b[0mself\u001b[0m\u001b[1;33m.\u001b[0m\u001b[0mdispatch_one_batch\u001b[0m\u001b[1;33m(\u001b[0m\u001b[0miterator\u001b[0m\u001b[1;33m)\u001b[0m\u001b[1;33m:\u001b[0m\u001b[1;33m\u001b[0m\u001b[1;33m\u001b[0m\u001b[0m\n\u001b[0m\u001b[0;32m   1042\u001b[0m                 \u001b[0mself\u001b[0m\u001b[1;33m.\u001b[0m\u001b[0m_iterating\u001b[0m \u001b[1;33m=\u001b[0m \u001b[0mself\u001b[0m\u001b[1;33m.\u001b[0m\u001b[0m_original_iterator\u001b[0m \u001b[1;32mis\u001b[0m \u001b[1;32mnot\u001b[0m \u001b[1;32mNone\u001b[0m\u001b[1;33m\u001b[0m\u001b[1;33m\u001b[0m\u001b[0m\n\u001b[0;32m   1043\u001b[0m \u001b[1;33m\u001b[0m\u001b[0m\n",
      "\u001b[1;32m~\\anaconda3\\envs\\learn-env\\lib\\site-packages\\joblib\\parallel.py\u001b[0m in \u001b[0;36mdispatch_one_batch\u001b[1;34m(self, iterator)\u001b[0m\n\u001b[0;32m    857\u001b[0m                 \u001b[1;32mreturn\u001b[0m \u001b[1;32mFalse\u001b[0m\u001b[1;33m\u001b[0m\u001b[1;33m\u001b[0m\u001b[0m\n\u001b[0;32m    858\u001b[0m             \u001b[1;32melse\u001b[0m\u001b[1;33m:\u001b[0m\u001b[1;33m\u001b[0m\u001b[1;33m\u001b[0m\u001b[0m\n\u001b[1;32m--> 859\u001b[1;33m                 \u001b[0mself\u001b[0m\u001b[1;33m.\u001b[0m\u001b[0m_dispatch\u001b[0m\u001b[1;33m(\u001b[0m\u001b[0mtasks\u001b[0m\u001b[1;33m)\u001b[0m\u001b[1;33m\u001b[0m\u001b[1;33m\u001b[0m\u001b[0m\n\u001b[0m\u001b[0;32m    860\u001b[0m                 \u001b[1;32mreturn\u001b[0m \u001b[1;32mTrue\u001b[0m\u001b[1;33m\u001b[0m\u001b[1;33m\u001b[0m\u001b[0m\n\u001b[0;32m    861\u001b[0m \u001b[1;33m\u001b[0m\u001b[0m\n",
      "\u001b[1;32m~\\anaconda3\\envs\\learn-env\\lib\\site-packages\\joblib\\parallel.py\u001b[0m in \u001b[0;36m_dispatch\u001b[1;34m(self, batch)\u001b[0m\n\u001b[0;32m    775\u001b[0m         \u001b[1;32mwith\u001b[0m \u001b[0mself\u001b[0m\u001b[1;33m.\u001b[0m\u001b[0m_lock\u001b[0m\u001b[1;33m:\u001b[0m\u001b[1;33m\u001b[0m\u001b[1;33m\u001b[0m\u001b[0m\n\u001b[0;32m    776\u001b[0m             \u001b[0mjob_idx\u001b[0m \u001b[1;33m=\u001b[0m \u001b[0mlen\u001b[0m\u001b[1;33m(\u001b[0m\u001b[0mself\u001b[0m\u001b[1;33m.\u001b[0m\u001b[0m_jobs\u001b[0m\u001b[1;33m)\u001b[0m\u001b[1;33m\u001b[0m\u001b[1;33m\u001b[0m\u001b[0m\n\u001b[1;32m--> 777\u001b[1;33m             \u001b[0mjob\u001b[0m \u001b[1;33m=\u001b[0m \u001b[0mself\u001b[0m\u001b[1;33m.\u001b[0m\u001b[0m_backend\u001b[0m\u001b[1;33m.\u001b[0m\u001b[0mapply_async\u001b[0m\u001b[1;33m(\u001b[0m\u001b[0mbatch\u001b[0m\u001b[1;33m,\u001b[0m \u001b[0mcallback\u001b[0m\u001b[1;33m=\u001b[0m\u001b[0mcb\u001b[0m\u001b[1;33m)\u001b[0m\u001b[1;33m\u001b[0m\u001b[1;33m\u001b[0m\u001b[0m\n\u001b[0m\u001b[0;32m    778\u001b[0m             \u001b[1;31m# A job can complete so quickly than its callback is\u001b[0m\u001b[1;33m\u001b[0m\u001b[1;33m\u001b[0m\u001b[1;33m\u001b[0m\u001b[0m\n\u001b[0;32m    779\u001b[0m             \u001b[1;31m# called before we get here, causing self._jobs to\u001b[0m\u001b[1;33m\u001b[0m\u001b[1;33m\u001b[0m\u001b[1;33m\u001b[0m\u001b[0m\n",
      "\u001b[1;32m~\\anaconda3\\envs\\learn-env\\lib\\site-packages\\joblib\\_parallel_backends.py\u001b[0m in \u001b[0;36mapply_async\u001b[1;34m(self, func, callback)\u001b[0m\n\u001b[0;32m    206\u001b[0m     \u001b[1;32mdef\u001b[0m \u001b[0mapply_async\u001b[0m\u001b[1;33m(\u001b[0m\u001b[0mself\u001b[0m\u001b[1;33m,\u001b[0m \u001b[0mfunc\u001b[0m\u001b[1;33m,\u001b[0m \u001b[0mcallback\u001b[0m\u001b[1;33m=\u001b[0m\u001b[1;32mNone\u001b[0m\u001b[1;33m)\u001b[0m\u001b[1;33m:\u001b[0m\u001b[1;33m\u001b[0m\u001b[1;33m\u001b[0m\u001b[0m\n\u001b[0;32m    207\u001b[0m         \u001b[1;34m\"\"\"Schedule a func to be run\"\"\"\u001b[0m\u001b[1;33m\u001b[0m\u001b[1;33m\u001b[0m\u001b[0m\n\u001b[1;32m--> 208\u001b[1;33m         \u001b[0mresult\u001b[0m \u001b[1;33m=\u001b[0m \u001b[0mImmediateResult\u001b[0m\u001b[1;33m(\u001b[0m\u001b[0mfunc\u001b[0m\u001b[1;33m)\u001b[0m\u001b[1;33m\u001b[0m\u001b[1;33m\u001b[0m\u001b[0m\n\u001b[0m\u001b[0;32m    209\u001b[0m         \u001b[1;32mif\u001b[0m \u001b[0mcallback\u001b[0m\u001b[1;33m:\u001b[0m\u001b[1;33m\u001b[0m\u001b[1;33m\u001b[0m\u001b[0m\n\u001b[0;32m    210\u001b[0m             \u001b[0mcallback\u001b[0m\u001b[1;33m(\u001b[0m\u001b[0mresult\u001b[0m\u001b[1;33m)\u001b[0m\u001b[1;33m\u001b[0m\u001b[1;33m\u001b[0m\u001b[0m\n",
      "\u001b[1;32m~\\anaconda3\\envs\\learn-env\\lib\\site-packages\\joblib\\_parallel_backends.py\u001b[0m in \u001b[0;36m__init__\u001b[1;34m(self, batch)\u001b[0m\n\u001b[0;32m    570\u001b[0m         \u001b[1;31m# Don't delay the application, to avoid keeping the input\u001b[0m\u001b[1;33m\u001b[0m\u001b[1;33m\u001b[0m\u001b[1;33m\u001b[0m\u001b[0m\n\u001b[0;32m    571\u001b[0m         \u001b[1;31m# arguments in memory\u001b[0m\u001b[1;33m\u001b[0m\u001b[1;33m\u001b[0m\u001b[1;33m\u001b[0m\u001b[0m\n\u001b[1;32m--> 572\u001b[1;33m         \u001b[0mself\u001b[0m\u001b[1;33m.\u001b[0m\u001b[0mresults\u001b[0m \u001b[1;33m=\u001b[0m \u001b[0mbatch\u001b[0m\u001b[1;33m(\u001b[0m\u001b[1;33m)\u001b[0m\u001b[1;33m\u001b[0m\u001b[1;33m\u001b[0m\u001b[0m\n\u001b[0m\u001b[0;32m    573\u001b[0m \u001b[1;33m\u001b[0m\u001b[0m\n\u001b[0;32m    574\u001b[0m     \u001b[1;32mdef\u001b[0m \u001b[0mget\u001b[0m\u001b[1;33m(\u001b[0m\u001b[0mself\u001b[0m\u001b[1;33m)\u001b[0m\u001b[1;33m:\u001b[0m\u001b[1;33m\u001b[0m\u001b[1;33m\u001b[0m\u001b[0m\n",
      "\u001b[1;32m~\\anaconda3\\envs\\learn-env\\lib\\site-packages\\joblib\\parallel.py\u001b[0m in \u001b[0;36m__call__\u001b[1;34m(self)\u001b[0m\n\u001b[0;32m    260\u001b[0m         \u001b[1;31m# change the default number of processes to -1\u001b[0m\u001b[1;33m\u001b[0m\u001b[1;33m\u001b[0m\u001b[1;33m\u001b[0m\u001b[0m\n\u001b[0;32m    261\u001b[0m         \u001b[1;32mwith\u001b[0m \u001b[0mparallel_backend\u001b[0m\u001b[1;33m(\u001b[0m\u001b[0mself\u001b[0m\u001b[1;33m.\u001b[0m\u001b[0m_backend\u001b[0m\u001b[1;33m,\u001b[0m \u001b[0mn_jobs\u001b[0m\u001b[1;33m=\u001b[0m\u001b[0mself\u001b[0m\u001b[1;33m.\u001b[0m\u001b[0m_n_jobs\u001b[0m\u001b[1;33m)\u001b[0m\u001b[1;33m:\u001b[0m\u001b[1;33m\u001b[0m\u001b[1;33m\u001b[0m\u001b[0m\n\u001b[1;32m--> 262\u001b[1;33m             return [func(*args, **kwargs)\n\u001b[0m\u001b[0;32m    263\u001b[0m                     for func, args, kwargs in self.items]\n\u001b[0;32m    264\u001b[0m \u001b[1;33m\u001b[0m\u001b[0m\n",
      "\u001b[1;32m~\\anaconda3\\envs\\learn-env\\lib\\site-packages\\joblib\\parallel.py\u001b[0m in \u001b[0;36m<listcomp>\u001b[1;34m(.0)\u001b[0m\n\u001b[0;32m    260\u001b[0m         \u001b[1;31m# change the default number of processes to -1\u001b[0m\u001b[1;33m\u001b[0m\u001b[1;33m\u001b[0m\u001b[1;33m\u001b[0m\u001b[0m\n\u001b[0;32m    261\u001b[0m         \u001b[1;32mwith\u001b[0m \u001b[0mparallel_backend\u001b[0m\u001b[1;33m(\u001b[0m\u001b[0mself\u001b[0m\u001b[1;33m.\u001b[0m\u001b[0m_backend\u001b[0m\u001b[1;33m,\u001b[0m \u001b[0mn_jobs\u001b[0m\u001b[1;33m=\u001b[0m\u001b[0mself\u001b[0m\u001b[1;33m.\u001b[0m\u001b[0m_n_jobs\u001b[0m\u001b[1;33m)\u001b[0m\u001b[1;33m:\u001b[0m\u001b[1;33m\u001b[0m\u001b[1;33m\u001b[0m\u001b[0m\n\u001b[1;32m--> 262\u001b[1;33m             return [func(*args, **kwargs)\n\u001b[0m\u001b[0;32m    263\u001b[0m                     for func, args, kwargs in self.items]\n\u001b[0;32m    264\u001b[0m \u001b[1;33m\u001b[0m\u001b[0m\n",
      "\u001b[1;32m~\\anaconda3\\envs\\learn-env\\lib\\site-packages\\sklearn\\utils\\fixes.py\u001b[0m in \u001b[0;36m__call__\u001b[1;34m(self, *args, **kwargs)\u001b[0m\n\u001b[0;32m    220\u001b[0m     \u001b[1;32mdef\u001b[0m \u001b[0m__call__\u001b[0m\u001b[1;33m(\u001b[0m\u001b[0mself\u001b[0m\u001b[1;33m,\u001b[0m \u001b[1;33m*\u001b[0m\u001b[0margs\u001b[0m\u001b[1;33m,\u001b[0m \u001b[1;33m**\u001b[0m\u001b[0mkwargs\u001b[0m\u001b[1;33m)\u001b[0m\u001b[1;33m:\u001b[0m\u001b[1;33m\u001b[0m\u001b[1;33m\u001b[0m\u001b[0m\n\u001b[0;32m    221\u001b[0m         \u001b[1;32mwith\u001b[0m \u001b[0mconfig_context\u001b[0m\u001b[1;33m(\u001b[0m\u001b[1;33m**\u001b[0m\u001b[0mself\u001b[0m\u001b[1;33m.\u001b[0m\u001b[0mconfig\u001b[0m\u001b[1;33m)\u001b[0m\u001b[1;33m:\u001b[0m\u001b[1;33m\u001b[0m\u001b[1;33m\u001b[0m\u001b[0m\n\u001b[1;32m--> 222\u001b[1;33m             \u001b[1;32mreturn\u001b[0m \u001b[0mself\u001b[0m\u001b[1;33m.\u001b[0m\u001b[0mfunction\u001b[0m\u001b[1;33m(\u001b[0m\u001b[1;33m*\u001b[0m\u001b[0margs\u001b[0m\u001b[1;33m,\u001b[0m \u001b[1;33m**\u001b[0m\u001b[0mkwargs\u001b[0m\u001b[1;33m)\u001b[0m\u001b[1;33m\u001b[0m\u001b[1;33m\u001b[0m\u001b[0m\n\u001b[0m",
      "\u001b[1;32m~\\anaconda3\\envs\\learn-env\\lib\\site-packages\\sklearn\\model_selection\\_validation.py\u001b[0m in \u001b[0;36m_fit_and_score\u001b[1;34m(estimator, X, y, scorer, train, test, verbose, parameters, fit_params, return_train_score, return_parameters, return_n_test_samples, return_times, return_estimator, split_progress, candidate_progress, error_score)\u001b[0m\n\u001b[0;32m    596\u001b[0m             \u001b[0mestimator\u001b[0m\u001b[1;33m.\u001b[0m\u001b[0mfit\u001b[0m\u001b[1;33m(\u001b[0m\u001b[0mX_train\u001b[0m\u001b[1;33m,\u001b[0m \u001b[1;33m**\u001b[0m\u001b[0mfit_params\u001b[0m\u001b[1;33m)\u001b[0m\u001b[1;33m\u001b[0m\u001b[1;33m\u001b[0m\u001b[0m\n\u001b[0;32m    597\u001b[0m         \u001b[1;32melse\u001b[0m\u001b[1;33m:\u001b[0m\u001b[1;33m\u001b[0m\u001b[1;33m\u001b[0m\u001b[0m\n\u001b[1;32m--> 598\u001b[1;33m             \u001b[0mestimator\u001b[0m\u001b[1;33m.\u001b[0m\u001b[0mfit\u001b[0m\u001b[1;33m(\u001b[0m\u001b[0mX_train\u001b[0m\u001b[1;33m,\u001b[0m \u001b[0my_train\u001b[0m\u001b[1;33m,\u001b[0m \u001b[1;33m**\u001b[0m\u001b[0mfit_params\u001b[0m\u001b[1;33m)\u001b[0m\u001b[1;33m\u001b[0m\u001b[1;33m\u001b[0m\u001b[0m\n\u001b[0m\u001b[0;32m    599\u001b[0m \u001b[1;33m\u001b[0m\u001b[0m\n\u001b[0;32m    600\u001b[0m     \u001b[1;32mexcept\u001b[0m \u001b[0mException\u001b[0m \u001b[1;32mas\u001b[0m \u001b[0me\u001b[0m\u001b[1;33m:\u001b[0m\u001b[1;33m\u001b[0m\u001b[1;33m\u001b[0m\u001b[0m\n",
      "\u001b[1;32m~\\anaconda3\\envs\\learn-env\\lib\\site-packages\\sklearn\\tree\\_classes.py\u001b[0m in \u001b[0;36mfit\u001b[1;34m(self, X, y, sample_weight, check_input, X_idx_sorted)\u001b[0m\n\u001b[0;32m    901\u001b[0m         \"\"\"\n\u001b[0;32m    902\u001b[0m \u001b[1;33m\u001b[0m\u001b[0m\n\u001b[1;32m--> 903\u001b[1;33m         super().fit(\n\u001b[0m\u001b[0;32m    904\u001b[0m             \u001b[0mX\u001b[0m\u001b[1;33m,\u001b[0m \u001b[0my\u001b[0m\u001b[1;33m,\u001b[0m\u001b[1;33m\u001b[0m\u001b[1;33m\u001b[0m\u001b[0m\n\u001b[0;32m    905\u001b[0m             \u001b[0msample_weight\u001b[0m\u001b[1;33m=\u001b[0m\u001b[0msample_weight\u001b[0m\u001b[1;33m,\u001b[0m\u001b[1;33m\u001b[0m\u001b[1;33m\u001b[0m\u001b[0m\n",
      "\u001b[1;32m~\\anaconda3\\envs\\learn-env\\lib\\site-packages\\sklearn\\tree\\_classes.py\u001b[0m in \u001b[0;36mfit\u001b[1;34m(self, X, y, sample_weight, check_input, X_idx_sorted)\u001b[0m\n\u001b[0;32m    392\u001b[0m                                            min_impurity_split)\n\u001b[0;32m    393\u001b[0m \u001b[1;33m\u001b[0m\u001b[0m\n\u001b[1;32m--> 394\u001b[1;33m         \u001b[0mbuilder\u001b[0m\u001b[1;33m.\u001b[0m\u001b[0mbuild\u001b[0m\u001b[1;33m(\u001b[0m\u001b[0mself\u001b[0m\u001b[1;33m.\u001b[0m\u001b[0mtree_\u001b[0m\u001b[1;33m,\u001b[0m \u001b[0mX\u001b[0m\u001b[1;33m,\u001b[0m \u001b[0my\u001b[0m\u001b[1;33m,\u001b[0m \u001b[0msample_weight\u001b[0m\u001b[1;33m)\u001b[0m\u001b[1;33m\u001b[0m\u001b[1;33m\u001b[0m\u001b[0m\n\u001b[0m\u001b[0;32m    395\u001b[0m \u001b[1;33m\u001b[0m\u001b[0m\n\u001b[0;32m    396\u001b[0m         \u001b[1;32mif\u001b[0m \u001b[0mself\u001b[0m\u001b[1;33m.\u001b[0m\u001b[0mn_outputs_\u001b[0m \u001b[1;33m==\u001b[0m \u001b[1;36m1\u001b[0m \u001b[1;32mand\u001b[0m \u001b[0mis_classifier\u001b[0m\u001b[1;33m(\u001b[0m\u001b[0mself\u001b[0m\u001b[1;33m)\u001b[0m\u001b[1;33m:\u001b[0m\u001b[1;33m\u001b[0m\u001b[1;33m\u001b[0m\u001b[0m\n",
      "\u001b[1;31mKeyboardInterrupt\u001b[0m: "
     ]
    }
   ],
   "source": [
    "dt_grid_params = {'max_depth':[1,5], 'min_samples_split':[2,10,100]}\n",
    "dt_grid = GridSearchCV(dt, dt_grid_params)\n",
    "\n",
    "dt_output = dt_grid.fit(X_train_tfidf_vec_df, y_train)\n",
    "dt_output.best_params_\n",
    "\n",
    "dt_best_model = dt_output.best_estimator_\n",
    "cross_validate(dt_best_model, X_train_tfidf_vec_df, y_train, return_train_score=True)\n"
   ]
  },
  {
   "cell_type": "code",
   "execution_count": 302,
   "id": "fb1487f8",
   "metadata": {},
   "outputs": [
    {
     "name": "stdout",
     "output_type": "stream",
     "text": [
      "Accuracy Score:\n",
      "Train - 0.8894153173322227\n",
      "Test - 0.850210860623731\n",
      "  \n",
      "Classification Report:\n",
      "              precision    recall  f1-score   support\n",
      "\n",
      "          -1       0.74      0.85      0.79      6234\n",
      "           0       0.99      0.98      0.99      6158\n",
      "           1       0.85      0.73      0.78      6815\n",
      "\n",
      "    accuracy                           0.85     19207\n",
      "   macro avg       0.86      0.85      0.85     19207\n",
      "weighted avg       0.86      0.85      0.85     19207\n",
      "\n",
      "Confusion matrix for test data\n"
     ]
    },
    {
     "data": {
      "text/plain": [
       "<sklearn.metrics._plot.confusion_matrix.ConfusionMatrixDisplay at 0x28f7e0f7250>"
      ]
     },
     "execution_count": 302,
     "metadata": {},
     "output_type": "execute_result"
    },
    {
     "data": {
      "image/png": "[encoded data removed]",
      "text/plain": [
       "<Figure size 432x288 with 2 Axes>"
      ]
     },
     "metadata": {
      "needs_background": "light"
     },
     "output_type": "display_data"
    }
   ],
   "source": [
    "evaluate2(dt_best_model, X_train_tfidf_vec_df, y_train, X_val_tfidf_vec_df, y_val)"
   ]
  },
  {
   "cell_type": "code",
   "execution_count": null,
   "id": "68b1c814",
   "metadata": {},
   "outputs": [],
   "source": []
  },
  {
   "cell_type": "markdown",
   "id": "89f25b97",
   "metadata": {},
   "source": [
    "### Random Forests"
   ]
  },
  {
   "cell_type": "code",
   "execution_count": 308,
   "id": "e023d721",
   "metadata": {},
   "outputs": [],
   "source": [
    "rfc = RandomForestClassifier(random_state=42)"
   ]
  },
  {
   "cell_type": "code",
   "execution_count": 309,
   "id": "b24ab89d",
   "metadata": {},
   "outputs": [
    {
     "data": {
      "text/plain": [
       "RandomForestClassifier(random_state=42)"
      ]
     },
     "execution_count": 309,
     "metadata": {},
     "output_type": "execute_result"
    }
   ],
   "source": [
    "rfc.fit(X_train_tfidf_vec_df, y_train)"
   ]
  },
  {
   "cell_type": "code",
   "execution_count": 311,
   "id": "a2c64202",
   "metadata": {},
   "outputs": [
    {
     "name": "stdout",
     "output_type": "stream",
     "text": [
      "Accuracy Score:\n",
      "Train - 0.9999305808646153\n",
      "Test - 0.8488051231321914\n",
      "  \n",
      "Classification Report:\n",
      "              precision    recall  f1-score   support\n",
      "\n",
      "          -1       0.77      0.77      0.77      6234\n",
      "           0       0.99      0.98      0.99      6158\n",
      "           1       0.79      0.80      0.79      6815\n",
      "\n",
      "    accuracy                           0.85     19207\n",
      "   macro avg       0.85      0.85      0.85     19207\n",
      "weighted avg       0.85      0.85      0.85     19207\n",
      "\n",
      "Confusion matrix for test data\n"
     ]
    },
    {
     "data": {
      "text/plain": [
       "<sklearn.metrics._plot.confusion_matrix.ConfusionMatrixDisplay at 0x28f92126190>"
      ]
     },
     "execution_count": 311,
     "metadata": {},
     "output_type": "execute_result"
    },
    {
     "data": {
      "image/png": "[encoded data removed]",
      "text/plain": [
       "<Figure size 432x288 with 2 Axes>"
      ]
     },
     "metadata": {
      "needs_background": "light"
     },
     "output_type": "display_data"
    }
   ],
   "source": [
    "y_pred = rfc.predict(X_val_tfidf_vec_df)\n",
    "evaluate2(dt, X_train_tfidf_vec_df, y_train, X_val_tfidf_vec_df, y_val)"
   ]
  },
  {
   "cell_type": "code",
   "execution_count": 313,
   "id": "937f59b6",
   "metadata": {},
   "outputs": [],
   "source": [
    "rfc_grid_params = {'max_depth':[5,10,15], 'min_samples_split':[2,100,500]}\n",
    "rfc_grid = GridSearchCV(rfc, rfc_grid_params)\n",
    "\n",
    "rfc_output = rfc_grid.fit(X_train_tfidf_vec_df, y_train)\n",
    "rfc_output.best_params_\n",
    "rfc_best_model = rfc_output.best_estimator_"
   ]
  },
  {
   "cell_type": "code",
   "execution_count": 315,
   "id": "b47eecd9",
   "metadata": {},
   "outputs": [
    {
     "name": "stdout",
     "output_type": "stream",
     "text": [
      "Accuracy Score:\n",
      "Train - 0.9220423109630169\n",
      "Test - 0.8720258239183631\n",
      "  \n",
      "Classification Report:\n",
      "              precision    recall  f1-score   support\n",
      "\n",
      "          -1       0.85      0.75      0.79      6234\n",
      "           0       1.00      0.99      0.99      6158\n",
      "           1       0.79      0.88      0.83      6815\n",
      "\n",
      "    accuracy                           0.87     19207\n",
      "   macro avg       0.88      0.87      0.87     19207\n",
      "weighted avg       0.88      0.87      0.87     19207\n",
      "\n",
      "Confusion matrix for test data\n"
     ]
    },
    {
     "data": {
      "text/plain": [
       "<sklearn.metrics._plot.confusion_matrix.ConfusionMatrixDisplay at 0x28f9d018b50>"
      ]
     },
     "execution_count": 315,
     "metadata": {},
     "output_type": "execute_result"
    },
    {
     "data": {
      "image/png": "[encoded data removed]",
      "text/plain": [
       "<Figure size 432x288 with 2 Axes>"
      ]
     },
     "metadata": {
      "needs_background": "light"
     },
     "output_type": "display_data"
    }
   ],
   "source": [
    "cross_validate(rfc_best_model, X_train_tfidf_vec_df, y_train, return_train_score=True)\n",
    "evaluate2(rfc_best_model, X_train_tfidf_vec_df, y_train, X_val_tfidf_vec_df, y_val)"
   ]
  },
  {
   "cell_type": "markdown",
   "id": "fdaf1708",
   "metadata": {},
   "source": [
    "### Support Vector Machines"
   ]
  },
  {
   "cell_type": "code",
   "execution_count": null,
   "id": "1dc7feba",
   "metadata": {},
   "outputs": [],
   "source": []
  },
  {
   "cell_type": "code",
   "execution_count": null,
   "id": "483666fb",
   "metadata": {},
   "outputs": [],
   "source": []
  },
  {
   "cell_type": "code",
   "execution_count": null,
   "id": "00db2d11",
   "metadata": {},
   "outputs": [],
   "source": []
  },
  {
   "cell_type": "code",
   "execution_count": null,
   "id": "a642f1fb",
   "metadata": {},
   "outputs": [],
   "source": []
  },
  {
   "cell_type": "code",
   "execution_count": null,
   "id": "0afbbc63",
   "metadata": {},
   "outputs": [],
   "source": []
  },
  {
   "cell_type": "markdown",
   "id": "34490810",
   "metadata": {},
   "source": [
    "### Word2Vec"
   ]
  },
  {
   "cell_type": "code",
   "execution_count": null,
   "id": "27abf02d",
   "metadata": {},
   "outputs": [],
   "source": []
  },
  {
   "cell_type": "code",
   "execution_count": null,
   "id": "fe47fb20",
   "metadata": {},
   "outputs": [],
   "source": []
  },
  {
   "cell_type": "code",
   "execution_count": null,
   "id": "b59027ef",
   "metadata": {},
   "outputs": [],
   "source": []
  },
  {
   "cell_type": "code",
   "execution_count": null,
   "id": "9c145c99",
   "metadata": {},
   "outputs": [],
   "source": []
  },
  {
   "cell_type": "code",
   "execution_count": null,
   "id": "eb85085e",
   "metadata": {},
   "outputs": [],
   "source": []
  },
  {
   "cell_type": "code",
   "execution_count": null,
   "id": "12ff1f5c",
   "metadata": {},
   "outputs": [],
   "source": []
  },
  {
   "cell_type": "markdown",
   "id": "cccf1437",
   "metadata": {},
   "source": [
    "### Nueral Network"
   ]
  },
  {
   "cell_type": "code",
   "execution_count": null,
   "id": "1bfc4a0c",
   "metadata": {},
   "outputs": [],
   "source": []
  },
  {
   "cell_type": "code",
   "execution_count": null,
   "id": "58b88bb7",
   "metadata": {},
   "outputs": [],
   "source": []
  },
  {
   "cell_type": "code",
   "execution_count": null,
   "id": "a56fb5c2",
   "metadata": {},
   "outputs": [],
   "source": []
  },
  {
   "cell_type": "code",
   "execution_count": null,
   "id": "9e9edaef",
   "metadata": {},
   "outputs": [],
   "source": []
  },
  {
   "cell_type": "code",
   "execution_count": null,
   "id": "650e8546",
   "metadata": {},
   "outputs": [],
   "source": []
  },
  {
   "cell_type": "code",
   "execution_count": null,
   "id": "7e3c9dce",
   "metadata": {},
   "outputs": [],
   "source": []
  },
  {
   "cell_type": "code",
   "execution_count": null,
   "id": "0784719c",
   "metadata": {},
   "outputs": [],
   "source": []
  },
  {
   "cell_type": "code",
   "execution_count": null,
   "id": "fbf185fe",
   "metadata": {},
   "outputs": [],
   "source": []
  },
  {
   "cell_type": "code",
   "execution_count": null,
   "id": "47fe24da",
   "metadata": {},
   "outputs": [],
   "source": []
  },
  {
   "cell_type": "code",
   "execution_count": null,
   "id": "b20a8250",
   "metadata": {},
   "outputs": [],
   "source": []
  },
  {
   "cell_type": "markdown",
   "id": "ce0d625e",
   "metadata": {},
   "source": [
    "### BERT"
   ]
  },
  {
   "cell_type": "code",
   "execution_count": null,
   "id": "e3ae2b91",
   "metadata": {},
   "outputs": [],
   "source": []
  },
  {
   "cell_type": "code",
   "execution_count": null,
   "id": "9cc2e9c1",
   "metadata": {},
   "outputs": [],
   "source": []
  },
  {
   "cell_type": "code",
   "execution_count": null,
   "id": "6eb7285e",
   "metadata": {},
   "outputs": [],
   "source": []
  },
  {
   "cell_type": "code",
   "execution_count": null,
   "id": "477870df",
   "metadata": {},
   "outputs": [],
   "source": []
  },
  {
   "cell_type": "code",
   "execution_count": null,
   "id": "addbdc1f",
   "metadata": {},
   "outputs": [],
   "source": []
  },
  {
   "cell_type": "code",
   "execution_count": null,
   "id": "aafb06b2",
   "metadata": {},
   "outputs": [],
   "source": []
  },
  {
   "cell_type": "code",
   "execution_count": null,
   "id": "98ba9efa",
   "metadata": {},
   "outputs": [],
   "source": []
  },
  {
   "cell_type": "code",
   "execution_count": null,
   "id": "e6052595",
   "metadata": {},
   "outputs": [],
   "source": []
  }
 ],
 "metadata": {
  "kernelspec": {
   "display_name": "Python (learn-env)",
   "language": "python",
   "name": "learn-env"
  },
  "language_info": {
   "codemirror_mode": {
    "name": "ipython",
    "version": 3
   },
   "file_extension": ".py",
   "mimetype": "text/x-python",
   "name": "python",
   "nbconvert_exporter": "python",
   "pygments_lexer": "ipython3",
   "version": "3.8.11"
  }
 },
 "nbformat": 4,
 "nbformat_minor": 5
}
