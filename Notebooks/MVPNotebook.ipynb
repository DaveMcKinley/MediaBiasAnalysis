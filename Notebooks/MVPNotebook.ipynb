{
 "cells": [
  {
   "cell_type": "markdown",
   "id": "d666e0f1",
   "metadata": {},
   "source": [
    "## Business Overview"
   ]
  },
  {
   "cell_type": "markdown",
   "id": "847b84a0",
   "metadata": {},
   "source": [
    "The holidays can be a little awkard with Uncle Joe quoting Tucker Carlson and Aunt Georgina replying with a Rachel Madow quote. Or equally awkward conversations starting off \"Well I heard on CNN..\" or \"On Brietbart they said..\" These aren't just conversation around the dinner table, these discussionss are going on around the country. While it is easy to identify those media sources bias due to the size. There are smaller and more indepedent newsources where a reader may not know the news source's bias. These news sources can appear in news feeds based on whatever social media site's algrothim decides. \n",
    "<br><br>\n",
    "The good people at allsides.com try to help people \"easily identify different perspectives so you can get the full picture and think for yourself.\" Today's media is very biased. And a lot of media sources are very acessible.  People's newsfeeds are often an echo chamber based on thier history of related articles and newsites. By nature, echo chambers remove media sources outside of someone's chamber, making it difficult to understand different view points regarding news events. \n",
    "<br><br>\n",
    "By knowing a media source's bias, the reader can critically think about what the article is presenting. Know what words and terms determine bias creates trasparency about topics in the article. For example, the reader can know certain words and phrases are used in different biased articles and go deeper into the article to think about why the author used the words they did, or what message are they sending by using that word. Helping people become aware of what words and phrases drive bias in news media content can help the people understand the both sides of an argument. \n",
    "<br><br>People who do want to explore both side of an argument may visit a site like AllSides.com to guage a news site's bias. Allsides uses many methods to rate bias, including third party data with the requirement of transparency in the system. I have developed a model to determine bias in a corpus of news articles. To add transparency and explainability to my model I have utilized LIME to show what words and phrases leading to a better understanding of media bias and more informed readers"
   ]
  },
  {
   "cell_type": "markdown",
   "id": "d77b157f",
   "metadata": {},
   "source": [
    "## Data Understanding"
   ]
  },
  {
   "cell_type": "markdown",
   "id": "a4abc2de",
   "metadata": {},
   "source": [
    "Source:\n",
    "I would have liked to use one dataset, however, the computational cost was too high which lead me to shrinking the size of the dataset. This dataset was gathered by from https://components.one/datasets/all-the-news-2-news-articles-dataset/ and https://www.kaggle.com/snapcrack/all-the-news. The Kaggle dataset was created from the original source site but different for a different database. The dataframes contained the same content and allowed me to use information from both to develop the working DataFrame.<br><br>\n",
    "I began by looking at the data and understanding I would only be able to predict left, center or right. I did not have enough data to make a 5 class predictor. From there I decided to select two left foused, two center focused and two right focused media outlets. The news sources were determined by looking at MediaBias/Fact Check and Allsides.com Media Bias lists and selecting sources that each independent side agreed on. After selecting my sources, I began to gather the articles in one DataFrame.<br><br>\n",
    "I decided to go with sources for each category of bias. The sources do not have an equal number of articles. And each bias is not an equal split. The Kaggle Dataset had all of the information I needed for the right leaning articles. I had to use the other dataset to pull stories from Vox and The Hill. To maintain class balance, I randomly select between 16,000 and 17,000 texts pulished on The Hill's website. In total, I gathers 85,000 articles from from the two datasets. Each row contains an article, publisher and bias label. For modeling I will use the article and bias.\n",
    "<br><br>\n",
    "This data set could be used to its full potential with better computing power. The article corous also has a limited amount of right leaning news sources. There is an abundance of left leaning sources. With a greater variety of sources, I would like to expand this classifer."
   ]
  },
  {
   "cell_type": "code",
   "execution_count": 57,
   "id": "5fb3db00",
   "metadata": {},
   "outputs": [],
   "source": [
    "#import the necessary libraries\n",
    "import pandas as pd\n",
    "import numpy as np\n",
    "import seaborn as sns\n",
    "import matplotlib.pyplot as plt\n",
    "import random\n",
    "from itertools import islice\n",
    "\n",
    "import nltk\n",
    "from nltk.tokenize import RegexpTokenizer\n",
    "from nltk.corpus import stopwords\n",
    "from nltk.stem import WordNetLemmatizer\n",
    "from  nltk import FreqDist\n",
    "import re\n",
    "import string\n",
    "\n",
    "from sklearn.pipeline import Pipeline\n",
    "from sklearn.feature_extraction.text import CountVectorizer, TfidfVectorizer\n",
    "from sklearn.naive_bayes import MultinomialNB\n",
    "from sklearn.linear_model import LogisticRegression, SGDClassifier\n",
    "from sklearn.preprocessing import StandardScaler\n",
    "from sklearn.decomposition import PCA\n",
    "from sklearn.tree import DecisionTreeClassifier\n",
    "from sklearn.ensemble import RandomForestClassifier\n",
    "from sklearn.svm import LinearSVC\n",
    "\n",
    "from sklearn.model_selection import train_test_split, GridSearchCV, cross_validate, cross_val_score\n",
    "from sklearn import metrics\n",
    "from sklearn.metrics import accuracy_score, precision_score, recall_score, f1_score, roc_auc_score, plot_confusion_matrix\n",
    "from sklearn.metrics import classification_report, confusion_matrix, precision_recall_curve\n",
    "\n",
    "from tensorflow import keras\n",
    "from tensorflow.keras import layers\n",
    "from keras.utils import to_categorical\n"
   ]
  },
  {
   "cell_type": "code",
   "execution_count": 2,
   "id": "366fc9d4",
   "metadata": {},
   "outputs": [
    {
     "data": {
      "text/html": [
       "<div>\n",
       "<style scoped>\n",
       "    .dataframe tbody tr th:only-of-type {\n",
       "        vertical-align: middle;\n",
       "    }\n",
       "\n",
       "    .dataframe tbody tr th {\n",
       "        vertical-align: top;\n",
       "    }\n",
       "\n",
       "    .dataframe thead th {\n",
       "        text-align: right;\n",
       "    }\n",
       "</style>\n",
       "<table border=\"1\" class=\"dataframe\">\n",
       "  <thead>\n",
       "    <tr style=\"text-align: right;\">\n",
       "      <th></th>\n",
       "      <th>Publication</th>\n",
       "      <th>Content</th>\n",
       "      <th>Bias</th>\n",
       "    </tr>\n",
       "  </thead>\n",
       "  <tbody>\n",
       "    <tr>\n",
       "      <th>0</th>\n",
       "      <td>CNN</td>\n",
       "      <td>Istanbul (CNN) At least 39 people were killed ...</td>\n",
       "      <td>Left</td>\n",
       "    </tr>\n",
       "    <tr>\n",
       "      <th>1</th>\n",
       "      <td>CNN</td>\n",
       "      <td>Atlanta (CNN) This season’s College Football P...</td>\n",
       "      <td>Left</td>\n",
       "    </tr>\n",
       "    <tr>\n",
       "      <th>2</th>\n",
       "      <td>CNN</td>\n",
       "      <td>(CNN) Revelers on the United States’ west coa...</td>\n",
       "      <td>Left</td>\n",
       "    </tr>\n",
       "    <tr>\n",
       "      <th>3</th>\n",
       "      <td>CNN</td>\n",
       "      <td>West Palm Beach, Florida (CNN)  Donald Trump s...</td>\n",
       "      <td>Left</td>\n",
       "    </tr>\n",
       "    <tr>\n",
       "      <th>4</th>\n",
       "      <td>CNN</td>\n",
       "      <td>(CNN) Two small planes collided in Texas on S...</td>\n",
       "      <td>Left</td>\n",
       "    </tr>\n",
       "  </tbody>\n",
       "</table>\n",
       "</div>"
      ],
      "text/plain": [
       "  Publication                                            Content  Bias\n",
       "0         CNN  Istanbul (CNN) At least 39 people were killed ...  Left\n",
       "1         CNN  Atlanta (CNN) This season’s College Football P...  Left\n",
       "2         CNN   (CNN) Revelers on the United States’ west coa...  Left\n",
       "3         CNN  West Palm Beach, Florida (CNN)  Donald Trump s...  Left\n",
       "4         CNN   (CNN) Two small planes collided in Texas on S...  Left"
      ]
     },
     "execution_count": 2,
     "metadata": {},
     "output_type": "execute_result"
    }
   ],
   "source": [
    "#take engineered dataframe from pickle \n",
    "df = pd.read_pickle(\"../data/df.pkl\")\n",
    "df.head()"
   ]
  },
  {
   "cell_type": "code",
   "execution_count": 3,
   "id": "872df9d5",
   "metadata": {},
   "outputs": [
    {
     "data": {
      "text/plain": [
       "(85365, 3)"
      ]
     },
     "execution_count": 3,
     "metadata": {},
     "output_type": "execute_result"
    }
   ],
   "source": [
    "#check the shape of the data\n",
    "df.shape"
   ]
  },
  {
   "cell_type": "code",
   "execution_count": 4,
   "id": "aa6ac1f0",
   "metadata": {},
   "outputs": [
    {
     "data": {
      "text/plain": [
       "Publication    0\n",
       "Content        1\n",
       "Bias           0\n",
       "dtype: int64"
      ]
     },
     "execution_count": 4,
     "metadata": {},
     "output_type": "execute_result"
    }
   ],
   "source": [
    "#is anything null?\n",
    "df.isna().sum()"
   ]
  },
  {
   "cell_type": "code",
   "execution_count": 5,
   "id": "f3c13d2b",
   "metadata": {},
   "outputs": [],
   "source": [
    "#deop null rolls\n",
    "df.dropna(inplace=True)"
   ]
  },
  {
   "cell_type": "code",
   "execution_count": 6,
   "id": "5a7f10fa",
   "metadata": {},
   "outputs": [
    {
     "data": {
      "text/plain": [
       "Publication    0\n",
       "Content        0\n",
       "Bias           0\n",
       "dtype: int64"
      ]
     },
     "execution_count": 6,
     "metadata": {},
     "output_type": "execute_result"
    }
   ],
   "source": [
    "#Sanity check\n",
    "df.isna().sum()"
   ]
  },
  {
   "cell_type": "code",
   "execution_count": 7,
   "id": "1d22dc92",
   "metadata": {},
   "outputs": [
    {
     "data": {
      "text/plain": [
       "Breitbart          23781\n",
       "The Hill           16811\n",
       "Vox                16371\n",
       "CNN                11488\n",
       "Reuters            10710\n",
       "National Review     6203\n",
       "Name: Publication, dtype: int64"
      ]
     },
     "execution_count": 7,
     "metadata": {},
     "output_type": "execute_result"
    }
   ],
   "source": [
    "#How many atcles per publication?\n",
    "df[\"Publication\"].value_counts()"
   ]
  },
  {
   "cell_type": "code",
   "execution_count": 8,
   "id": "abeed3dd",
   "metadata": {},
   "outputs": [
    {
     "data": {
      "text/plain": [
       "Right     29984\n",
       "Left      27859\n",
       "Center    27521\n",
       "Name: Bias, dtype: int64"
      ]
     },
     "execution_count": 8,
     "metadata": {},
     "output_type": "execute_result"
    }
   ],
   "source": [
    "#How many atcles per Bias?\n",
    "df[\"Bias\"].value_counts()"
   ]
  },
  {
   "cell_type": "code",
   "execution_count": 9,
   "id": "6516e211",
   "metadata": {},
   "outputs": [
    {
     "name": "stdout",
     "output_type": "stream",
     "text": [
      "Percentage of Articles per Bias in Dataset:\n"
     ]
    },
    {
     "data": {
      "text/plain": [
       "Right     35.124877\n",
       "Left      32.635537\n",
       "Center    32.239586\n",
       "Name: Bias, dtype: float64"
      ]
     },
     "execution_count": 9,
     "metadata": {},
     "output_type": "execute_result"
    }
   ],
   "source": [
    "print(\"Percentage of Articles per Bias in Dataset:\")\n",
    "df[\"Bias\"].value_counts(normalize=True)*100"
   ]
  },
  {
   "cell_type": "markdown",
   "id": "bf4f21d4",
   "metadata": {},
   "source": [
    "### Visualize the data"
   ]
  },
  {
   "cell_type": "code",
   "execution_count": 10,
   "id": "9cb35459",
   "metadata": {},
   "outputs": [],
   "source": [
    "def countplot(df, col, hue=None, rotation=None, order=None):\n",
    "    \"\"\"\n",
    "    This function builds a Seaborn countplot and allows the user to set certain parameters to customize the graph.\n",
    "    \n",
    "    df - dataframe being used\n",
    "    col- column in dataframe being used\n",
    "    hue - second column being used(if any)\n",
    "    rotation - sets the rotation of the x-ticks for readability\n",
    "    \"\"\"\n",
    "    fig, ax = plt.subplots(figsize=(12,8))\n",
    "    sns.countplot(data = df, x = col, hue = hue, order = order)\n",
    "    ax.set_xticklabels(labels = ax.get_xticklabels(), rotation= rotation, fontsize = 15)\n",
    "    ax.set_xlabel(xlabel = col, fontsize = 20)\n",
    "    ax.tick_params(axis='y', which='major', labelsize=15)\n",
    "    ax.set_ylabel(ylabel = \"Number of articles\", fontsize = 20)\n",
    "    ax.set_title(f\"Number of articles per {col}\", fontsize = 30)\n",
    "    plt.show()"
   ]
  },
  {
   "cell_type": "code",
   "execution_count": 11,
   "id": "f19aa5de",
   "metadata": {},
   "outputs": [
    {
     "data": {
      "image/png": "[encoded data removed]",
      "text/plain": [
       "<Figure size 864x576 with 1 Axes>"
      ]
     },
     "metadata": {
      "needs_background": "light"
     },
     "output_type": "display_data"
    }
   ],
   "source": [
    "#number of articles per publication\n",
    "countplot(df, \"Publication\", order = df[\"Publication\"].value_counts().index)"
   ]
  },
  {
   "cell_type": "code",
   "execution_count": 12,
   "id": "5b0d8673",
   "metadata": {},
   "outputs": [
    {
     "data": {
      "image/png": "[encoded data removed]",
      "text/plain": [
       "<Figure size 864x576 with 1 Axes>"
      ]
     },
     "metadata": {
      "needs_background": "light"
     },
     "output_type": "display_data"
    }
   ],
   "source": [
    "#number of articles per publication\n",
    "countplot(df, \"Bias\", order = [\"Left\", \"Center\", \"Right\"])"
   ]
  },
  {
   "cell_type": "code",
   "execution_count": 13,
   "id": "8f9d041f",
   "metadata": {},
   "outputs": [],
   "source": [
    "#group \n",
    "df_plot = df.groupby(['Publication', 'Bias']).size().reset_index().pivot(columns='Publication', index='Bias', values=0)"
   ]
  },
  {
   "cell_type": "code",
   "execution_count": 14,
   "id": "79f8f2b5",
   "metadata": {},
   "outputs": [],
   "source": [
    "df_plot = df_plot.reindex([\"Left\", \"Center\", \"Right\"])"
   ]
  },
  {
   "cell_type": "code",
   "execution_count": 15,
   "id": "2e33a7ad",
   "metadata": {},
   "outputs": [
    {
     "data": {
      "image/png": "[encoded data removed]",
      "text/plain": [
       "<Figure size 1440x720 with 1 Axes>"
      ]
     },
     "metadata": {
      "needs_background": "light"
     },
     "output_type": "display_data"
    }
   ],
   "source": [
    "df_plot.plot(kind='bar', stacked=True, figsize=(20,10))\n",
    "plt.xticks(rotation=\"horizontal\", fontsize = 30)\n",
    "plt.xlabel(xlabel = \"Bias\", fontsize = 40)\n",
    "plt.yticks(rotation=\"horizontal\", fontsize = 30)\n",
    "plt.ylabel(ylabel = \"Number of Articles\", fontsize = 40)\n",
    "plt.title(label= \"Number of Articles per Publication per Bias\", fontsize = 40)\n",
    "plt.legend(bbox_to_anchor=(1.3, 1), loc=\"upper right\", ncol=1, fontsize= 25, title = \"Publication\", title_fontsize= 35)\n",
    "plt.show()"
   ]
  },
  {
   "cell_type": "code",
   "execution_count": null,
   "id": "18e29790",
   "metadata": {},
   "outputs": [],
   "source": [
    "df['word_count'] = df[\"Content\"].apply(lambda x: len(nltk.word_tokenize(str(x))) )\n",
    "df['char_count'] = df[\"Content\"].apply(lambda x: sum(len(word) for word in nltk.word_tokenize(str(x))) )\n",
    "df['sentence_count'] = df[\"Content\"].apply(lambda x: len(nltk.sent_tokenize(str(x))) )"
   ]
  },
  {
   "cell_type": "code",
   "execution_count": null,
   "id": "ac1ba98b",
   "metadata": {},
   "outputs": [],
   "source": [
    "df"
   ]
  },
  {
   "cell_type": "code",
   "execution_count": null,
   "id": "6c11b883",
   "metadata": {},
   "outputs": [],
   "source": []
  },
  {
   "cell_type": "code",
   "execution_count": null,
   "id": "06e7d461",
   "metadata": {},
   "outputs": [],
   "source": []
  },
  {
   "cell_type": "code",
   "execution_count": null,
   "id": "045385b0",
   "metadata": {},
   "outputs": [],
   "source": []
  },
  {
   "cell_type": "markdown",
   "id": "81c384a3",
   "metadata": {},
   "source": [
    "## Data Prep"
   ]
  },
  {
   "cell_type": "markdown",
   "id": "d354264e",
   "metadata": {},
   "source": [
    "I went through a series of operations to preprocess the data for Machine Learning. The first step was to encode the bias with a 0 for left, 1 for center and 2 for right. <br>\n",
    "<br>\n",
    "Each article will run through a function that will:\n",
    "1. Lower case each word\n",
    "2. Remove unwanted noise from the article(such as Twitter mentions, web adresses and other content)\n",
    "3. Remove all numbers\n",
    "4. Tokenize the list\n",
    "5. Remove common stop words and punctuation\n",
    "6. Lemmatizes each word \n",
    "7. Returns a string of the remaining lemmatized words."
   ]
  },
  {
   "cell_type": "markdown",
   "id": "904ca8ae",
   "metadata": {},
   "source": [
    "### Preprocessing Data"
   ]
  },
  {
   "cell_type": "code",
   "execution_count": 16,
   "id": "1e7753a7",
   "metadata": {},
   "outputs": [
    {
     "data": {
      "text/html": [
       "<div>\n",
       "<style scoped>\n",
       "    .dataframe tbody tr th:only-of-type {\n",
       "        vertical-align: middle;\n",
       "    }\n",
       "\n",
       "    .dataframe tbody tr th {\n",
       "        vertical-align: top;\n",
       "    }\n",
       "\n",
       "    .dataframe thead th {\n",
       "        text-align: right;\n",
       "    }\n",
       "</style>\n",
       "<table border=\"1\" class=\"dataframe\">\n",
       "  <thead>\n",
       "    <tr style=\"text-align: right;\">\n",
       "      <th></th>\n",
       "      <th>Publication</th>\n",
       "      <th>Content</th>\n",
       "      <th>Bias</th>\n",
       "    </tr>\n",
       "  </thead>\n",
       "  <tbody>\n",
       "    <tr>\n",
       "      <th>0</th>\n",
       "      <td>CNN</td>\n",
       "      <td>Istanbul (CNN) At least 39 people were killed ...</td>\n",
       "      <td>Left</td>\n",
       "    </tr>\n",
       "    <tr>\n",
       "      <th>1</th>\n",
       "      <td>CNN</td>\n",
       "      <td>Atlanta (CNN) This season’s College Football P...</td>\n",
       "      <td>Left</td>\n",
       "    </tr>\n",
       "    <tr>\n",
       "      <th>2</th>\n",
       "      <td>CNN</td>\n",
       "      <td>(CNN) Revelers on the United States’ west coa...</td>\n",
       "      <td>Left</td>\n",
       "    </tr>\n",
       "    <tr>\n",
       "      <th>3</th>\n",
       "      <td>CNN</td>\n",
       "      <td>West Palm Beach, Florida (CNN)  Donald Trump s...</td>\n",
       "      <td>Left</td>\n",
       "    </tr>\n",
       "    <tr>\n",
       "      <th>4</th>\n",
       "      <td>CNN</td>\n",
       "      <td>(CNN) Two small planes collided in Texas on S...</td>\n",
       "      <td>Left</td>\n",
       "    </tr>\n",
       "    <tr>\n",
       "      <th>...</th>\n",
       "      <td>...</td>\n",
       "      <td>...</td>\n",
       "      <td>...</td>\n",
       "    </tr>\n",
       "    <tr>\n",
       "      <th>85360</th>\n",
       "      <td>National Review</td>\n",
       "      <td>I first read Thomas Sowell in college  —   no ...</td>\n",
       "      <td>Right</td>\n",
       "    </tr>\n",
       "    <tr>\n",
       "      <th>85361</th>\n",
       "      <td>National Review</td>\n",
       "      <td>Whether it’s celebrated according to the Grego...</td>\n",
       "      <td>Right</td>\n",
       "    </tr>\n",
       "    <tr>\n",
       "      <th>85362</th>\n",
       "      <td>National Review</td>\n",
       "      <td>Editor’s Note: This piece first appeared in th...</td>\n",
       "      <td>Right</td>\n",
       "    </tr>\n",
       "    <tr>\n",
       "      <th>85363</th>\n",
       "      <td>National Review</td>\n",
       "      <td>Israel would seem to be in a disastrous positi...</td>\n",
       "      <td>Right</td>\n",
       "    </tr>\n",
       "    <tr>\n",
       "      <th>85364</th>\n",
       "      <td>National Review</td>\n",
       "      <td>The year 2016 was a good one for books by men ...</td>\n",
       "      <td>Right</td>\n",
       "    </tr>\n",
       "  </tbody>\n",
       "</table>\n",
       "<p>85364 rows × 3 columns</p>\n",
       "</div>"
      ],
      "text/plain": [
       "           Publication                                            Content  \\\n",
       "0                  CNN  Istanbul (CNN) At least 39 people were killed ...   \n",
       "1                  CNN  Atlanta (CNN) This season’s College Football P...   \n",
       "2                  CNN   (CNN) Revelers on the United States’ west coa...   \n",
       "3                  CNN  West Palm Beach, Florida (CNN)  Donald Trump s...   \n",
       "4                  CNN   (CNN) Two small planes collided in Texas on S...   \n",
       "...                ...                                                ...   \n",
       "85360  National Review  I first read Thomas Sowell in college  —   no ...   \n",
       "85361  National Review  Whether it’s celebrated according to the Grego...   \n",
       "85362  National Review  Editor’s Note: This piece first appeared in th...   \n",
       "85363  National Review  Israel would seem to be in a disastrous positi...   \n",
       "85364  National Review  The year 2016 was a good one for books by men ...   \n",
       "\n",
       "        Bias  \n",
       "0       Left  \n",
       "1       Left  \n",
       "2       Left  \n",
       "3       Left  \n",
       "4       Left  \n",
       "...      ...  \n",
       "85360  Right  \n",
       "85361  Right  \n",
       "85362  Right  \n",
       "85363  Right  \n",
       "85364  Right  \n",
       "\n",
       "[85364 rows x 3 columns]"
      ]
     },
     "execution_count": 16,
     "metadata": {},
     "output_type": "execute_result"
    }
   ],
   "source": [
    "#check the data set\n",
    "df"
   ]
  },
  {
   "cell_type": "code",
   "execution_count": 17,
   "id": "e257bf38",
   "metadata": {},
   "outputs": [],
   "source": [
    "# Multiclass the bias column\n",
    "dict_sent = {'Left':0, \n",
    "             'Center':1,\n",
    "             'Right':2}\n",
    "df[\"num_bias\"] = df[\"Bias\"].map(dict_sent)"
   ]
  },
  {
   "cell_type": "markdown",
   "id": "ba1b23e7",
   "metadata": {},
   "source": [
    "Check all three labels"
   ]
  },
  {
   "cell_type": "code",
   "execution_count": 18,
   "id": "c139f82a",
   "metadata": {},
   "outputs": [
    {
     "data": {
      "text/html": [
       "<div>\n",
       "<style scoped>\n",
       "    .dataframe tbody tr th:only-of-type {\n",
       "        vertical-align: middle;\n",
       "    }\n",
       "\n",
       "    .dataframe tbody tr th {\n",
       "        vertical-align: top;\n",
       "    }\n",
       "\n",
       "    .dataframe thead th {\n",
       "        text-align: right;\n",
       "    }\n",
       "</style>\n",
       "<table border=\"1\" class=\"dataframe\">\n",
       "  <thead>\n",
       "    <tr style=\"text-align: right;\">\n",
       "      <th></th>\n",
       "      <th>Publication</th>\n",
       "      <th>Content</th>\n",
       "      <th>Bias</th>\n",
       "      <th>num_bias</th>\n",
       "    </tr>\n",
       "  </thead>\n",
       "  <tbody>\n",
       "    <tr>\n",
       "      <th>0</th>\n",
       "      <td>CNN</td>\n",
       "      <td>Istanbul (CNN) At least 39 people were killed ...</td>\n",
       "      <td>Left</td>\n",
       "      <td>0</td>\n",
       "    </tr>\n",
       "    <tr>\n",
       "      <th>1</th>\n",
       "      <td>CNN</td>\n",
       "      <td>Atlanta (CNN) This season’s College Football P...</td>\n",
       "      <td>Left</td>\n",
       "      <td>0</td>\n",
       "    </tr>\n",
       "    <tr>\n",
       "      <th>2</th>\n",
       "      <td>CNN</td>\n",
       "      <td>(CNN) Revelers on the United States’ west coa...</td>\n",
       "      <td>Left</td>\n",
       "      <td>0</td>\n",
       "    </tr>\n",
       "    <tr>\n",
       "      <th>3</th>\n",
       "      <td>CNN</td>\n",
       "      <td>West Palm Beach, Florida (CNN)  Donald Trump s...</td>\n",
       "      <td>Left</td>\n",
       "      <td>0</td>\n",
       "    </tr>\n",
       "    <tr>\n",
       "      <th>4</th>\n",
       "      <td>CNN</td>\n",
       "      <td>(CNN) Two small planes collided in Texas on S...</td>\n",
       "      <td>Left</td>\n",
       "      <td>0</td>\n",
       "    </tr>\n",
       "  </tbody>\n",
       "</table>\n",
       "</div>"
      ],
      "text/plain": [
       "  Publication                                            Content  Bias  \\\n",
       "0         CNN  Istanbul (CNN) At least 39 people were killed ...  Left   \n",
       "1         CNN  Atlanta (CNN) This season’s College Football P...  Left   \n",
       "2         CNN   (CNN) Revelers on the United States’ west coa...  Left   \n",
       "3         CNN  West Palm Beach, Florida (CNN)  Donald Trump s...  Left   \n",
       "4         CNN   (CNN) Two small planes collided in Texas on S...  Left   \n",
       "\n",
       "   num_bias  \n",
       "0         0  \n",
       "1         0  \n",
       "2         0  \n",
       "3         0  \n",
       "4         0  "
      ]
     },
     "execution_count": 18,
     "metadata": {},
     "output_type": "execute_result"
    }
   ],
   "source": [
    "df.head()"
   ]
  },
  {
   "cell_type": "code",
   "execution_count": 19,
   "id": "733221dc",
   "metadata": {},
   "outputs": [
    {
     "data": {
      "text/html": [
       "<div>\n",
       "<style scoped>\n",
       "    .dataframe tbody tr th:only-of-type {\n",
       "        vertical-align: middle;\n",
       "    }\n",
       "\n",
       "    .dataframe tbody tr th {\n",
       "        vertical-align: top;\n",
       "    }\n",
       "\n",
       "    .dataframe thead th {\n",
       "        text-align: right;\n",
       "    }\n",
       "</style>\n",
       "<table border=\"1\" class=\"dataframe\">\n",
       "  <thead>\n",
       "    <tr style=\"text-align: right;\">\n",
       "      <th></th>\n",
       "      <th>Publication</th>\n",
       "      <th>Content</th>\n",
       "      <th>Bias</th>\n",
       "      <th>num_bias</th>\n",
       "    </tr>\n",
       "  </thead>\n",
       "  <tbody>\n",
       "    <tr>\n",
       "      <th>45001</th>\n",
       "      <td>The Hill</td>\n",
       "      <td>Rep. Al GreenAlexander (Al) N. GreenWe need a ...</td>\n",
       "      <td>Center</td>\n",
       "      <td>1</td>\n",
       "    </tr>\n",
       "    <tr>\n",
       "      <th>45002</th>\n",
       "      <td>The Hill</td>\n",
       "      <td>View the discussion thread. The Hill 1625 K St...</td>\n",
       "      <td>Center</td>\n",
       "      <td>1</td>\n",
       "    </tr>\n",
       "    <tr>\n",
       "      <th>45003</th>\n",
       "      <td>The Hill</td>\n",
       "      <td>Rep. Al GreenAlexander (Al) N. GreenWe need a ...</td>\n",
       "      <td>Center</td>\n",
       "      <td>1</td>\n",
       "    </tr>\n",
       "    <tr>\n",
       "      <th>45004</th>\n",
       "      <td>The Hill</td>\n",
       "      <td>The public health community has been closely w...</td>\n",
       "      <td>Center</td>\n",
       "      <td>1</td>\n",
       "    </tr>\n",
       "    <tr>\n",
       "      <th>45005</th>\n",
       "      <td>The Hill</td>\n",
       "      <td>One of the contributing factors that led to Do...</td>\n",
       "      <td>Center</td>\n",
       "      <td>1</td>\n",
       "    </tr>\n",
       "  </tbody>\n",
       "</table>\n",
       "</div>"
      ],
      "text/plain": [
       "      Publication                                            Content    Bias  \\\n",
       "45001    The Hill  Rep. Al GreenAlexander (Al) N. GreenWe need a ...  Center   \n",
       "45002    The Hill  View the discussion thread. The Hill 1625 K St...  Center   \n",
       "45003    The Hill  Rep. Al GreenAlexander (Al) N. GreenWe need a ...  Center   \n",
       "45004    The Hill  The public health community has been closely w...  Center   \n",
       "45005    The Hill  One of the contributing factors that led to Do...  Center   \n",
       "\n",
       "       num_bias  \n",
       "45001         1  \n",
       "45002         1  \n",
       "45003         1  \n",
       "45004         1  \n",
       "45005         1  "
      ]
     },
     "execution_count": 19,
     "metadata": {},
     "output_type": "execute_result"
    }
   ],
   "source": [
    "df.iloc[45000:45005]"
   ]
  },
  {
   "cell_type": "code",
   "execution_count": 20,
   "id": "8a8a3973",
   "metadata": {},
   "outputs": [
    {
     "data": {
      "text/html": [
       "<div>\n",
       "<style scoped>\n",
       "    .dataframe tbody tr th:only-of-type {\n",
       "        vertical-align: middle;\n",
       "    }\n",
       "\n",
       "    .dataframe tbody tr th {\n",
       "        vertical-align: top;\n",
       "    }\n",
       "\n",
       "    .dataframe thead th {\n",
       "        text-align: right;\n",
       "    }\n",
       "</style>\n",
       "<table border=\"1\" class=\"dataframe\">\n",
       "  <thead>\n",
       "    <tr style=\"text-align: right;\">\n",
       "      <th></th>\n",
       "      <th>Publication</th>\n",
       "      <th>Content</th>\n",
       "      <th>Bias</th>\n",
       "      <th>num_bias</th>\n",
       "    </tr>\n",
       "  </thead>\n",
       "  <tbody>\n",
       "    <tr>\n",
       "      <th>85360</th>\n",
       "      <td>National Review</td>\n",
       "      <td>I first read Thomas Sowell in college  —   no ...</td>\n",
       "      <td>Right</td>\n",
       "      <td>2</td>\n",
       "    </tr>\n",
       "    <tr>\n",
       "      <th>85361</th>\n",
       "      <td>National Review</td>\n",
       "      <td>Whether it’s celebrated according to the Grego...</td>\n",
       "      <td>Right</td>\n",
       "      <td>2</td>\n",
       "    </tr>\n",
       "    <tr>\n",
       "      <th>85362</th>\n",
       "      <td>National Review</td>\n",
       "      <td>Editor’s Note: This piece first appeared in th...</td>\n",
       "      <td>Right</td>\n",
       "      <td>2</td>\n",
       "    </tr>\n",
       "    <tr>\n",
       "      <th>85363</th>\n",
       "      <td>National Review</td>\n",
       "      <td>Israel would seem to be in a disastrous positi...</td>\n",
       "      <td>Right</td>\n",
       "      <td>2</td>\n",
       "    </tr>\n",
       "    <tr>\n",
       "      <th>85364</th>\n",
       "      <td>National Review</td>\n",
       "      <td>The year 2016 was a good one for books by men ...</td>\n",
       "      <td>Right</td>\n",
       "      <td>2</td>\n",
       "    </tr>\n",
       "  </tbody>\n",
       "</table>\n",
       "</div>"
      ],
      "text/plain": [
       "           Publication                                            Content  \\\n",
       "85360  National Review  I first read Thomas Sowell in college  —   no ...   \n",
       "85361  National Review  Whether it’s celebrated according to the Grego...   \n",
       "85362  National Review  Editor’s Note: This piece first appeared in th...   \n",
       "85363  National Review  Israel would seem to be in a disastrous positi...   \n",
       "85364  National Review  The year 2016 was a good one for books by men ...   \n",
       "\n",
       "        Bias  num_bias  \n",
       "85360  Right         2  \n",
       "85361  Right         2  \n",
       "85362  Right         2  \n",
       "85363  Right         2  \n",
       "85364  Right         2  "
      ]
     },
     "execution_count": 20,
     "metadata": {},
     "output_type": "execute_result"
    }
   ],
   "source": [
    "df.tail()"
   ]
  },
  {
   "cell_type": "code",
   "execution_count": 21,
   "id": "26904fbc",
   "metadata": {},
   "outputs": [],
   "source": [
    "#initialize the Tokenizer and Lemmatizer\n",
    "tokenizer = RegexpTokenizer(r\"(?u)\\b\\w\\w+\\b\")\n",
    "lemma = WordNetLemmatizer()"
   ]
  },
  {
   "cell_type": "markdown",
   "id": "78ba04bd",
   "metadata": {},
   "source": [
    "I decided to remove the news source to prevent a directe correlation between the name and bias. I want the models to focus on words and context not tied to the news source."
   ]
  },
  {
   "cell_type": "code",
   "execution_count": 22,
   "id": "f2baeeb3",
   "metadata": {},
   "outputs": [
    {
     "data": {
      "text/plain": [
       "['cnn', 'vox', 'reuters', 'the hill', 'breitbart', 'national review']"
      ]
     },
     "execution_count": 22,
     "metadata": {},
     "output_type": "execute_result"
    }
   ],
   "source": [
    "# Create a list of new sources to add to stopwords list\n",
    "source = list(df[\"Publication\"].unique())\n",
    "source = (map(lambda x: x.lower(), source))\n",
    "source = list(source)\n",
    "source"
   ]
  },
  {
   "cell_type": "code",
   "execution_count": 23,
   "id": "008e19b7",
   "metadata": {},
   "outputs": [
    {
     "name": "stdout",
     "output_type": "stream",
     "text": [
      "['i', 'me', 'my', 'myself', 'we', 'our', 'ours', 'ourselves', 'you', \"you're\", \"you've\", \"you'll\", \"you'd\", 'your', 'yours', 'yourself', 'yourselves', 'he', 'him', 'his', 'himself', 'she', \"she's\", 'her', 'hers', 'herself', 'it', \"it's\", 'its', 'itself', 'they', 'them', 'their', 'theirs', 'themselves', 'what', 'which', 'who', 'whom', 'this', 'that', \"that'll\", 'these', 'those', 'am', 'is', 'are', 'was', 'were', 'be', 'been', 'being', 'have', 'has', 'had', 'having', 'do', 'does', 'did', 'doing', 'a', 'an', 'the', 'and', 'but', 'if', 'or', 'because', 'as', 'until', 'while', 'of', 'at', 'by', 'for', 'with', 'about', 'against', 'between', 'into', 'through', 'during', 'before', 'after', 'above', 'below', 'to', 'from', 'up', 'down', 'in', 'out', 'on', 'off', 'over', 'under', 'again', 'further', 'then', 'once', 'here', 'there', 'when', 'where', 'why', 'how', 'all', 'any', 'both', 'each', 'few', 'more', 'most', 'other', 'some', 'such', 'no', 'nor', 'not', 'only', 'own', 'same', 'so', 'than', 'too', 'very', 's', 't', 'can', 'will', 'just', 'don', \"don't\", 'should', \"should've\", 'now', 'd', 'll', 'm', 'o', 're', 've', 'y', 'ain', 'aren', \"aren't\", 'couldn', \"couldn't\", 'didn', \"didn't\", 'doesn', \"doesn't\", 'hadn', \"hadn't\", 'hasn', \"hasn't\", 'haven', \"haven't\", 'isn', \"isn't\", 'ma', 'mightn', \"mightn't\", 'mustn', \"mustn't\", 'needn', \"needn't\", 'shan', \"shan't\", 'shouldn', \"shouldn't\", 'wasn', \"wasn't\", 'weren', \"weren't\", 'won', \"won't\", 'wouldn', \"wouldn't\", '!', '\"', '#', '$', '%', '&', \"'\", '(', ')', '*', '+', ',', '-', '.', '/', ':', ';', '<', '=', '>', '?', '@', '[', '\\\\', ']', '^', '_', '`', '{', '|', '}', '~', 'cnn', 'vox', 'reuters', 'the hill', 'breitbart', 'national review']\n"
     ]
    }
   ],
   "source": [
    "#create stopwords_list, adds punctuation and the news sources to list\n",
    "stopwords_list = stopwords.words(\"english\")\n",
    "stopwords_list += string.punctuation\n",
    "stopwords_list += source\n",
    "print(stopwords_list)"
   ]
  },
  {
   "cell_type": "code",
   "execution_count": 24,
   "id": "affe2beb",
   "metadata": {},
   "outputs": [
    {
     "data": {
      "text/plain": [
       "' (CNN) The man who authorities say shot two people, killing one, on a bus in Las Vegas surrendered without incident Saturday after a standoff that lasted more than four hours, police spokesman Larry Hadfield told reporters.  Hadfield said the second person shot had minor injuries and was hospitalized. Rolando Cardenas, 55, was charged with open murder with use of a firearm, attempted murder with use of a firearm, burglary while in possession of a firearm and discharging a gun within a vehicle, police said in a news release issued Sunday. The release said the victims and Cardenas were sitting in rear of the bus. When the bus stopped and passengers began to disembark, Cardenas stood up and fired several rounds with a handgun ”for no apparent reason,” the statement said. Cardenas remained on the coach bus for hours while tactical teams and negotiators came to the scene on Las Vegas Boulevard, which was closed between Flamingo Road and Tropicana Boulevard during the crisis, police said. Around 3:20 p. m. (6:20 p. m. ET) the suspect surrendered. Police said he had a handgun. No one else was on the bus, a white   with advertising wrapping on the windows that makes it difficult to see inside. The incident is not related to terrorism, Hadfield said. There also is no evidence that the incident is connected to a robbery earlier Saturday at the Bellagio.  Police have not released information about the victims. This was the 35th homicide investigated by Las Vegas police this year. Las Vegas Boulevard had traffic flowing north and south by Saturday evening.'"
      ]
     },
     "execution_count": 24,
     "metadata": {},
     "output_type": "execute_result"
    }
   ],
   "source": [
    "#random article in the corpus will use to check the preprocessing step\n",
    "test = df[\"Content\"].iloc[random.randint(0,df.shape[0])]\n",
    "test"
   ]
  },
  {
   "cell_type": "code",
   "execution_count": 25,
   "id": "012244f5",
   "metadata": {},
   "outputs": [
    {
     "data": {
      "text/plain": [
       "' (cnn) the man who authorities say shot two people, killing one, on a bus in las vegas surrendered without incident saturday after a standoff that lasted more than four hours, police spokesman larry hadfield told reporters.  hadfield said the second person shot had minor injuries and was hospitalized. rolando cardenas, 55, was charged with open murder with use of a firearm, attempted murder with use of a firearm, burglary while in possession of a firearm and discharging a gun within a vehicle, police said in a news release issued sunday. the release said the victims and cardenas were sitting in rear of the bus. when the bus stopped and passengers began to disembark, cardenas stood up and fired several rounds with a handgun ”for no apparent reason,” the statement said. cardenas remained on the coach bus for hours while tactical teams and negotiators came to the scene on las vegas boulevard, which was closed between flamingo road and tropicana boulevard during the crisis, police said. around 3:20 p. m. (6:20 p. m. et) the suspect surrendered. police said he had a handgun. no one else was on the bus, a white   with advertising wrapping on the windows that makes it difficult to see inside. the incident is not related to terrorism, hadfield said. there also is no evidence that the incident is connected to a robbery earlier saturday at the bellagio.  police have not released information about the victims. this was the 35th homicide investigated by las vegas police this year. las vegas boulevard had traffic flowing north and south by saturday evening.'"
      ]
     },
     "execution_count": 25,
     "metadata": {},
     "output_type": "execute_result"
    }
   ],
   "source": [
    "#lowercase text\n",
    "test = test.lower()\n",
    "test"
   ]
  },
  {
   "cell_type": "code",
   "execution_count": 26,
   "id": "f6e5effa",
   "metadata": {},
   "outputs": [],
   "source": [
    "#Regex expressions to remove unwanted noise\n",
    "pattern_mentions = \"((@[a-zA-Z0-9_-]+)((?=\\s+)|$|[!?.,-]))\"\n",
    "pattern_views =  \"((the views expressed by)([\\s\\S]*)$)\"\n",
    "pattern_thread = \"((view the discussion thread.)([\\s\\S]*)$)\"\n",
    "pattern_url = \"(http\\S+)\"\n",
    "pattern_num = \"([\\d.])\"\n",
    "pattern_pic = \"((pic.)?twitter\\.com\\/[A-Za-z0-9_]{5,1000}(\\?(\\w+=\\w+&?)*)?)\""
   ]
  },
  {
   "cell_type": "code",
   "execution_count": 27,
   "id": "73cd18ad",
   "metadata": {},
   "outputs": [
    {
     "data": {
      "text/plain": [
       "' (cnn) the man who authorities say shot two people, killing one, on a bus in las vegas surrendered without incident saturday after a standoff that lasted more than four hours, police spokesman larry hadfield told reporters.  hadfield said the second person shot had minor injuries and was hospitalized. rolando cardenas, 55, was charged with open murder with use of a firearm, attempted murder with use of a firearm, burglary while in possession of a firearm and discharging a gun within a vehicle, police said in a news release issued sunday. the release said the victims and cardenas were sitting in rear of the bus. when the bus stopped and passengers began to disembark, cardenas stood up and fired several rounds with a handgun ”for no apparent reason,” the statement said. cardenas remained on the coach bus for hours while tactical teams and negotiators came to the scene on las vegas boulevard, which was closed between flamingo road and tropicana boulevard during the crisis, police said. around 3:20 p. m. (6:20 p. m. et) the suspect surrendered. police said he had a handgun. no one else was on the bus, a white   with advertising wrapping on the windows that makes it difficult to see inside. the incident is not related to terrorism, hadfield said. there also is no evidence that the incident is connected to a robbery earlier saturday at the bellagio.  police have not released information about the victims. this was the 35th homicide investigated by las vegas police this year. las vegas boulevard had traffic flowing north and south by saturday evening.'"
      ]
     },
     "execution_count": 27,
     "metadata": {},
     "output_type": "execute_result"
    }
   ],
   "source": [
    "# Removes Twitter mentions\n",
    "test = re.sub(pattern_mentions,\"\", test)\n",
    "test"
   ]
  },
  {
   "cell_type": "markdown",
   "id": "50edbc6d",
   "metadata": {},
   "source": [
    "The Hill articles end with \"the views expressed by\" or \"view the discussion thread\" both are followed by some contact information. I decided to remove these elements to prevent mis weighing words later in the Vectorizing stage of the project."
   ]
  },
  {
   "cell_type": "code",
   "execution_count": 28,
   "id": "6249901f",
   "metadata": {},
   "outputs": [
    {
     "data": {
      "text/plain": [
       "' (cnn) the man who authorities say shot two people, killing one, on a bus in las vegas surrendered without incident saturday after a standoff that lasted more than four hours, police spokesman larry hadfield told reporters.  hadfield said the second person shot had minor injuries and was hospitalized. rolando cardenas, 55, was charged with open murder with use of a firearm, attempted murder with use of a firearm, burglary while in possession of a firearm and discharging a gun within a vehicle, police said in a news release issued sunday. the release said the victims and cardenas were sitting in rear of the bus. when the bus stopped and passengers began to disembark, cardenas stood up and fired several rounds with a handgun ”for no apparent reason,” the statement said. cardenas remained on the coach bus for hours while tactical teams and negotiators came to the scene on las vegas boulevard, which was closed between flamingo road and tropicana boulevard during the crisis, police said. around 3:20 p. m. (6:20 p. m. et) the suspect surrendered. police said he had a handgun. no one else was on the bus, a white   with advertising wrapping on the windows that makes it difficult to see inside. the incident is not related to terrorism, hadfield said. there also is no evidence that the incident is connected to a robbery earlier saturday at the bellagio.  police have not released information about the victims. this was the 35th homicide investigated by las vegas police this year. las vegas boulevard had traffic flowing north and south by saturday evening.'"
      ]
     },
     "execution_count": 28,
     "metadata": {},
     "output_type": "execute_result"
    }
   ],
   "source": [
    "# remove the end of The Hill articles starting at the phrase \"the views expressed by\"\n",
    "test =  re.sub(pattern_views,\"\", test)\n",
    "test"
   ]
  },
  {
   "cell_type": "code",
   "execution_count": 29,
   "id": "bbc53f0d",
   "metadata": {},
   "outputs": [
    {
     "data": {
      "text/plain": [
       "' (cnn) the man who authorities say shot two people, killing one, on a bus in las vegas surrendered without incident saturday after a standoff that lasted more than four hours, police spokesman larry hadfield told reporters.  hadfield said the second person shot had minor injuries and was hospitalized. rolando cardenas, 55, was charged with open murder with use of a firearm, attempted murder with use of a firearm, burglary while in possession of a firearm and discharging a gun within a vehicle, police said in a news release issued sunday. the release said the victims and cardenas were sitting in rear of the bus. when the bus stopped and passengers began to disembark, cardenas stood up and fired several rounds with a handgun ”for no apparent reason,” the statement said. cardenas remained on the coach bus for hours while tactical teams and negotiators came to the scene on las vegas boulevard, which was closed between flamingo road and tropicana boulevard during the crisis, police said. around 3:20 p. m. (6:20 p. m. et) the suspect surrendered. police said he had a handgun. no one else was on the bus, a white   with advertising wrapping on the windows that makes it difficult to see inside. the incident is not related to terrorism, hadfield said. there also is no evidence that the incident is connected to a robbery earlier saturday at the bellagio.  police have not released information about the victims. this was the 35th homicide investigated by las vegas police this year. las vegas boulevard had traffic flowing north and south by saturday evening.'"
      ]
     },
     "execution_count": 29,
     "metadata": {},
     "output_type": "execute_result"
    }
   ],
   "source": [
    "# remove the end of The Hill articles starting at the phrase \"view the discussion thread\"\n",
    "test =  re.sub(pattern_thread,\"\", test)\n",
    "test"
   ]
  },
  {
   "cell_type": "code",
   "execution_count": 30,
   "id": "373af53f",
   "metadata": {},
   "outputs": [
    {
     "data": {
      "text/plain": [
       "' (cnn) the man who authorities say shot two people, killing one, on a bus in las vegas surrendered without incident saturday after a standoff that lasted more than four hours, police spokesman larry hadfield told reporters.  hadfield said the second person shot had minor injuries and was hospitalized. rolando cardenas, 55, was charged with open murder with use of a firearm, attempted murder with use of a firearm, burglary while in possession of a firearm and discharging a gun within a vehicle, police said in a news release issued sunday. the release said the victims and cardenas were sitting in rear of the bus. when the bus stopped and passengers began to disembark, cardenas stood up and fired several rounds with a handgun ”for no apparent reason,” the statement said. cardenas remained on the coach bus for hours while tactical teams and negotiators came to the scene on las vegas boulevard, which was closed between flamingo road and tropicana boulevard during the crisis, police said. around 3:20 p. m. (6:20 p. m. et) the suspect surrendered. police said he had a handgun. no one else was on the bus, a white   with advertising wrapping on the windows that makes it difficult to see inside. the incident is not related to terrorism, hadfield said. there also is no evidence that the incident is connected to a robbery earlier saturday at the bellagio.  police have not released information about the victims. this was the 35th homicide investigated by las vegas police this year. las vegas boulevard had traffic flowing north and south by saturday evening.'"
      ]
     },
     "execution_count": 30,
     "metadata": {},
     "output_type": "execute_result"
    }
   ],
   "source": [
    "#removes hyperlinks starting with http\n",
    "test =  re.sub(pattern_url,\"\", test)\n",
    "test"
   ]
  },
  {
   "cell_type": "markdown",
   "id": "e2108b33",
   "metadata": {},
   "source": [
    "Numbers with no context can effect model performance. So I removed all numbers"
   ]
  },
  {
   "cell_type": "code",
   "execution_count": 31,
   "id": "aa4d017f",
   "metadata": {},
   "outputs": [
    {
     "data": {
      "text/plain": [
       "' (cnn) the man who authorities say shot two people, killing one, on a bus in las vegas surrendered without incident saturday after a standoff that lasted more than four hours, police spokesman larry hadfield told reporters  hadfield said the second person shot had minor injuries and was hospitalized rolando cardenas, , was charged with open murder with use of a firearm, attempted murder with use of a firearm, burglary while in possession of a firearm and discharging a gun within a vehicle, police said in a news release issued sunday the release said the victims and cardenas were sitting in rear of the bus when the bus stopped and passengers began to disembark, cardenas stood up and fired several rounds with a handgun ”for no apparent reason,” the statement said cardenas remained on the coach bus for hours while tactical teams and negotiators came to the scene on las vegas boulevard, which was closed between flamingo road and tropicana boulevard during the crisis, police said around : p m (: p m et) the suspect surrendered police said he had a handgun no one else was on the bus, a white   with advertising wrapping on the windows that makes it difficult to see inside the incident is not related to terrorism, hadfield said there also is no evidence that the incident is connected to a robbery earlier saturday at the bellagio  police have not released information about the victims this was the th homicide investigated by las vegas police this year las vegas boulevard had traffic flowing north and south by saturday evening'"
      ]
     },
     "execution_count": 31,
     "metadata": {},
     "output_type": "execute_result"
    }
   ],
   "source": [
    "#removes numbers from the text.\n",
    "test =  re.sub(pattern_num,\"\", test)\n",
    "test"
   ]
  },
  {
   "cell_type": "code",
   "execution_count": 32,
   "id": "0bde6146",
   "metadata": {},
   "outputs": [
    {
     "data": {
      "text/plain": [
       "' (cnn) the man who authorities say shot two people, killing one, on a bus in las vegas surrendered without incident saturday after a standoff that lasted more than four hours, police spokesman larry hadfield told reporters  hadfield said the second person shot had minor injuries and was hospitalized rolando cardenas, , was charged with open murder with use of a firearm, attempted murder with use of a firearm, burglary while in possession of a firearm and discharging a gun within a vehicle, police said in a news release issued sunday the release said the victims and cardenas were sitting in rear of the bus when the bus stopped and passengers began to disembark, cardenas stood up and fired several rounds with a handgun ”for no apparent reason,” the statement said cardenas remained on the coach bus for hours while tactical teams and negotiators came to the scene on las vegas boulevard, which was closed between flamingo road and tropicana boulevard during the crisis, police said around : p m (: p m et) the suspect surrendered police said he had a handgun no one else was on the bus, a white   with advertising wrapping on the windows that makes it difficult to see inside the incident is not related to terrorism, hadfield said there also is no evidence that the incident is connected to a robbery earlier saturday at the bellagio  police have not released information about the victims this was the th homicide investigated by las vegas police this year las vegas boulevard had traffic flowing north and south by saturday evening'"
      ]
     },
     "execution_count": 32,
     "metadata": {},
     "output_type": "execute_result"
    }
   ],
   "source": [
    "#removes pic.twitter urls\n",
    "test =  re.sub(pattern_pic,\"\", test)\n",
    "test"
   ]
  },
  {
   "cell_type": "code",
   "execution_count": 33,
   "id": "6ba5c7eb",
   "metadata": {},
   "outputs": [
    {
     "data": {
      "text/plain": [
       "['cnn',\n",
       " 'the',\n",
       " 'man',\n",
       " 'who',\n",
       " 'authorities',\n",
       " 'say',\n",
       " 'shot',\n",
       " 'two',\n",
       " 'people',\n",
       " 'killing',\n",
       " 'one',\n",
       " 'on',\n",
       " 'bus',\n",
       " 'in',\n",
       " 'las',\n",
       " 'vegas',\n",
       " 'surrendered',\n",
       " 'without',\n",
       " 'incident',\n",
       " 'saturday',\n",
       " 'after',\n",
       " 'standoff',\n",
       " 'that',\n",
       " 'lasted',\n",
       " 'more',\n",
       " 'than',\n",
       " 'four',\n",
       " 'hours',\n",
       " 'police',\n",
       " 'spokesman',\n",
       " 'larry',\n",
       " 'hadfield',\n",
       " 'told',\n",
       " 'reporters',\n",
       " 'hadfield',\n",
       " 'said',\n",
       " 'the',\n",
       " 'second',\n",
       " 'person',\n",
       " 'shot',\n",
       " 'had',\n",
       " 'minor',\n",
       " 'injuries',\n",
       " 'and',\n",
       " 'was',\n",
       " 'hospitalized',\n",
       " 'rolando',\n",
       " 'cardenas',\n",
       " 'was',\n",
       " 'charged',\n",
       " 'with',\n",
       " 'open',\n",
       " 'murder',\n",
       " 'with',\n",
       " 'use',\n",
       " 'of',\n",
       " 'firearm',\n",
       " 'attempted',\n",
       " 'murder',\n",
       " 'with',\n",
       " 'use',\n",
       " 'of',\n",
       " 'firearm',\n",
       " 'burglary',\n",
       " 'while',\n",
       " 'in',\n",
       " 'possession',\n",
       " 'of',\n",
       " 'firearm',\n",
       " 'and',\n",
       " 'discharging',\n",
       " 'gun',\n",
       " 'within',\n",
       " 'vehicle',\n",
       " 'police',\n",
       " 'said',\n",
       " 'in',\n",
       " 'news',\n",
       " 'release',\n",
       " 'issued',\n",
       " 'sunday',\n",
       " 'the',\n",
       " 'release',\n",
       " 'said',\n",
       " 'the',\n",
       " 'victims',\n",
       " 'and',\n",
       " 'cardenas',\n",
       " 'were',\n",
       " 'sitting',\n",
       " 'in',\n",
       " 'rear',\n",
       " 'of',\n",
       " 'the',\n",
       " 'bus',\n",
       " 'when',\n",
       " 'the',\n",
       " 'bus',\n",
       " 'stopped',\n",
       " 'and',\n",
       " 'passengers',\n",
       " 'began',\n",
       " 'to',\n",
       " 'disembark',\n",
       " 'cardenas',\n",
       " 'stood',\n",
       " 'up',\n",
       " 'and',\n",
       " 'fired',\n",
       " 'several',\n",
       " 'rounds',\n",
       " 'with',\n",
       " 'handgun',\n",
       " 'for',\n",
       " 'no',\n",
       " 'apparent',\n",
       " 'reason',\n",
       " 'the',\n",
       " 'statement',\n",
       " 'said',\n",
       " 'cardenas',\n",
       " 'remained',\n",
       " 'on',\n",
       " 'the',\n",
       " 'coach',\n",
       " 'bus',\n",
       " 'for',\n",
       " 'hours',\n",
       " 'while',\n",
       " 'tactical',\n",
       " 'teams',\n",
       " 'and',\n",
       " 'negotiators',\n",
       " 'came',\n",
       " 'to',\n",
       " 'the',\n",
       " 'scene',\n",
       " 'on',\n",
       " 'las',\n",
       " 'vegas',\n",
       " 'boulevard',\n",
       " 'which',\n",
       " 'was',\n",
       " 'closed',\n",
       " 'between',\n",
       " 'flamingo',\n",
       " 'road',\n",
       " 'and',\n",
       " 'tropicana',\n",
       " 'boulevard',\n",
       " 'during',\n",
       " 'the',\n",
       " 'crisis',\n",
       " 'police',\n",
       " 'said',\n",
       " 'around',\n",
       " 'et',\n",
       " 'the',\n",
       " 'suspect',\n",
       " 'surrendered',\n",
       " 'police',\n",
       " 'said',\n",
       " 'he',\n",
       " 'had',\n",
       " 'handgun',\n",
       " 'no',\n",
       " 'one',\n",
       " 'else',\n",
       " 'was',\n",
       " 'on',\n",
       " 'the',\n",
       " 'bus',\n",
       " 'white',\n",
       " 'with',\n",
       " 'advertising',\n",
       " 'wrapping',\n",
       " 'on',\n",
       " 'the',\n",
       " 'windows',\n",
       " 'that',\n",
       " 'makes',\n",
       " 'it',\n",
       " 'difficult',\n",
       " 'to',\n",
       " 'see',\n",
       " 'inside',\n",
       " 'the',\n",
       " 'incident',\n",
       " 'is',\n",
       " 'not',\n",
       " 'related',\n",
       " 'to',\n",
       " 'terrorism',\n",
       " 'hadfield',\n",
       " 'said',\n",
       " 'there',\n",
       " 'also',\n",
       " 'is',\n",
       " 'no',\n",
       " 'evidence',\n",
       " 'that',\n",
       " 'the',\n",
       " 'incident',\n",
       " 'is',\n",
       " 'connected',\n",
       " 'to',\n",
       " 'robbery',\n",
       " 'earlier',\n",
       " 'saturday',\n",
       " 'at',\n",
       " 'the',\n",
       " 'bellagio',\n",
       " 'police',\n",
       " 'have',\n",
       " 'not',\n",
       " 'released',\n",
       " 'information',\n",
       " 'about',\n",
       " 'the',\n",
       " 'victims',\n",
       " 'this',\n",
       " 'was',\n",
       " 'the',\n",
       " 'th',\n",
       " 'homicide',\n",
       " 'investigated',\n",
       " 'by',\n",
       " 'las',\n",
       " 'vegas',\n",
       " 'police',\n",
       " 'this',\n",
       " 'year',\n",
       " 'las',\n",
       " 'vegas',\n",
       " 'boulevard',\n",
       " 'had',\n",
       " 'traffic',\n",
       " 'flowing',\n",
       " 'north',\n",
       " 'and',\n",
       " 'south',\n",
       " 'by',\n",
       " 'saturday',\n",
       " 'evening']"
      ]
     },
     "execution_count": 33,
     "metadata": {},
     "output_type": "execute_result"
    }
   ],
   "source": [
    "#tokenize text\n",
    "test = tokenizer.tokenize(test)\n",
    "test"
   ]
  },
  {
   "cell_type": "code",
   "execution_count": 34,
   "id": "d91b4f60",
   "metadata": {},
   "outputs": [
    {
     "data": {
      "text/plain": [
       "['man',\n",
       " 'authorities',\n",
       " 'say',\n",
       " 'shot',\n",
       " 'two',\n",
       " 'people',\n",
       " 'killing',\n",
       " 'one',\n",
       " 'bus',\n",
       " 'las',\n",
       " 'vegas',\n",
       " 'surrendered',\n",
       " 'without',\n",
       " 'incident',\n",
       " 'saturday',\n",
       " 'standoff',\n",
       " 'lasted',\n",
       " 'four',\n",
       " 'hours',\n",
       " 'police',\n",
       " 'spokesman',\n",
       " 'larry',\n",
       " 'hadfield',\n",
       " 'told',\n",
       " 'reporters',\n",
       " 'hadfield',\n",
       " 'said',\n",
       " 'second',\n",
       " 'person',\n",
       " 'shot',\n",
       " 'minor',\n",
       " 'injuries',\n",
       " 'hospitalized',\n",
       " 'rolando',\n",
       " 'cardenas',\n",
       " 'charged',\n",
       " 'open',\n",
       " 'murder',\n",
       " 'use',\n",
       " 'firearm',\n",
       " 'attempted',\n",
       " 'murder',\n",
       " 'use',\n",
       " 'firearm',\n",
       " 'burglary',\n",
       " 'possession',\n",
       " 'firearm',\n",
       " 'discharging',\n",
       " 'gun',\n",
       " 'within',\n",
       " 'vehicle',\n",
       " 'police',\n",
       " 'said',\n",
       " 'news',\n",
       " 'release',\n",
       " 'issued',\n",
       " 'sunday',\n",
       " 'release',\n",
       " 'said',\n",
       " 'victims',\n",
       " 'cardenas',\n",
       " 'sitting',\n",
       " 'rear',\n",
       " 'bus',\n",
       " 'bus',\n",
       " 'stopped',\n",
       " 'passengers',\n",
       " 'began',\n",
       " 'disembark',\n",
       " 'cardenas',\n",
       " 'stood',\n",
       " 'fired',\n",
       " 'several',\n",
       " 'rounds',\n",
       " 'handgun',\n",
       " 'apparent',\n",
       " 'reason',\n",
       " 'statement',\n",
       " 'said',\n",
       " 'cardenas',\n",
       " 'remained',\n",
       " 'coach',\n",
       " 'bus',\n",
       " 'hours',\n",
       " 'tactical',\n",
       " 'teams',\n",
       " 'negotiators',\n",
       " 'came',\n",
       " 'scene',\n",
       " 'las',\n",
       " 'vegas',\n",
       " 'boulevard',\n",
       " 'closed',\n",
       " 'flamingo',\n",
       " 'road',\n",
       " 'tropicana',\n",
       " 'boulevard',\n",
       " 'crisis',\n",
       " 'police',\n",
       " 'said',\n",
       " 'around',\n",
       " 'et',\n",
       " 'suspect',\n",
       " 'surrendered',\n",
       " 'police',\n",
       " 'said',\n",
       " 'handgun',\n",
       " 'one',\n",
       " 'else',\n",
       " 'bus',\n",
       " 'white',\n",
       " 'advertising',\n",
       " 'wrapping',\n",
       " 'windows',\n",
       " 'makes',\n",
       " 'difficult',\n",
       " 'see',\n",
       " 'inside',\n",
       " 'incident',\n",
       " 'related',\n",
       " 'terrorism',\n",
       " 'hadfield',\n",
       " 'said',\n",
       " 'also',\n",
       " 'evidence',\n",
       " 'incident',\n",
       " 'connected',\n",
       " 'robbery',\n",
       " 'earlier',\n",
       " 'saturday',\n",
       " 'bellagio',\n",
       " 'police',\n",
       " 'released',\n",
       " 'information',\n",
       " 'victims',\n",
       " 'th',\n",
       " 'homicide',\n",
       " 'investigated',\n",
       " 'las',\n",
       " 'vegas',\n",
       " 'police',\n",
       " 'year',\n",
       " 'las',\n",
       " 'vegas',\n",
       " 'boulevard',\n",
       " 'traffic',\n",
       " 'flowing',\n",
       " 'north',\n",
       " 'south',\n",
       " 'saturday',\n",
       " 'evening']"
      ]
     },
     "execution_count": 34,
     "metadata": {},
     "output_type": "execute_result"
    }
   ],
   "source": [
    "#remove stopwords\n",
    "stopwords_removed=[token for token in test if token not in stopwords_list]\n",
    "stopwords_removed"
   ]
  },
  {
   "cell_type": "code",
   "execution_count": 35,
   "id": "da1daf57",
   "metadata": {},
   "outputs": [
    {
     "data": {
      "text/plain": [
       "['man',\n",
       " 'authority',\n",
       " 'say',\n",
       " 'shot',\n",
       " 'two',\n",
       " 'people',\n",
       " 'killing',\n",
       " 'one',\n",
       " 'bus',\n",
       " 'la',\n",
       " 'vega',\n",
       " 'surrendered',\n",
       " 'without',\n",
       " 'incident',\n",
       " 'saturday',\n",
       " 'standoff',\n",
       " 'lasted',\n",
       " 'four',\n",
       " 'hour',\n",
       " 'police',\n",
       " 'spokesman',\n",
       " 'larry',\n",
       " 'hadfield',\n",
       " 'told',\n",
       " 'reporter',\n",
       " 'hadfield',\n",
       " 'said',\n",
       " 'second',\n",
       " 'person',\n",
       " 'shot',\n",
       " 'minor',\n",
       " 'injury',\n",
       " 'hospitalized',\n",
       " 'rolando',\n",
       " 'cardenas',\n",
       " 'charged',\n",
       " 'open',\n",
       " 'murder',\n",
       " 'use',\n",
       " 'firearm',\n",
       " 'attempted',\n",
       " 'murder',\n",
       " 'use',\n",
       " 'firearm',\n",
       " 'burglary',\n",
       " 'possession',\n",
       " 'firearm',\n",
       " 'discharging',\n",
       " 'gun',\n",
       " 'within',\n",
       " 'vehicle',\n",
       " 'police',\n",
       " 'said',\n",
       " 'news',\n",
       " 'release',\n",
       " 'issued',\n",
       " 'sunday',\n",
       " 'release',\n",
       " 'said',\n",
       " 'victim',\n",
       " 'cardenas',\n",
       " 'sitting',\n",
       " 'rear',\n",
       " 'bus',\n",
       " 'bus',\n",
       " 'stopped',\n",
       " 'passenger',\n",
       " 'began',\n",
       " 'disembark',\n",
       " 'cardenas',\n",
       " 'stood',\n",
       " 'fired',\n",
       " 'several',\n",
       " 'round',\n",
       " 'handgun',\n",
       " 'apparent',\n",
       " 'reason',\n",
       " 'statement',\n",
       " 'said',\n",
       " 'cardenas',\n",
       " 'remained',\n",
       " 'coach',\n",
       " 'bus',\n",
       " 'hour',\n",
       " 'tactical',\n",
       " 'team',\n",
       " 'negotiator',\n",
       " 'came',\n",
       " 'scene',\n",
       " 'la',\n",
       " 'vega',\n",
       " 'boulevard',\n",
       " 'closed',\n",
       " 'flamingo',\n",
       " 'road',\n",
       " 'tropicana',\n",
       " 'boulevard',\n",
       " 'crisis',\n",
       " 'police',\n",
       " 'said',\n",
       " 'around',\n",
       " 'et',\n",
       " 'suspect',\n",
       " 'surrendered',\n",
       " 'police',\n",
       " 'said',\n",
       " 'handgun',\n",
       " 'one',\n",
       " 'else',\n",
       " 'bus',\n",
       " 'white',\n",
       " 'advertising',\n",
       " 'wrapping',\n",
       " 'window',\n",
       " 'make',\n",
       " 'difficult',\n",
       " 'see',\n",
       " 'inside',\n",
       " 'incident',\n",
       " 'related',\n",
       " 'terrorism',\n",
       " 'hadfield',\n",
       " 'said',\n",
       " 'also',\n",
       " 'evidence',\n",
       " 'incident',\n",
       " 'connected',\n",
       " 'robbery',\n",
       " 'earlier',\n",
       " 'saturday',\n",
       " 'bellagio',\n",
       " 'police',\n",
       " 'released',\n",
       " 'information',\n",
       " 'victim',\n",
       " 'th',\n",
       " 'homicide',\n",
       " 'investigated',\n",
       " 'la',\n",
       " 'vega',\n",
       " 'police',\n",
       " 'year',\n",
       " 'la',\n",
       " 'vega',\n",
       " 'boulevard',\n",
       " 'traffic',\n",
       " 'flowing',\n",
       " 'north',\n",
       " 'south',\n",
       " 'saturday',\n",
       " 'evening']"
      ]
     },
     "execution_count": 35,
     "metadata": {},
     "output_type": "execute_result"
    }
   ],
   "source": [
    "#lemmatize the remaing words\n",
    "lemma_list = [lemma.lemmatize(token) for token in stopwords_removed]\n",
    "lemma_list"
   ]
  },
  {
   "cell_type": "code",
   "execution_count": 36,
   "id": "874f9f5d",
   "metadata": {},
   "outputs": [
    {
     "data": {
      "text/plain": [
       "FreqDist({'said': 7, 'police': 6, 'bus': 5, 'la': 4, 'vega': 4, 'cardenas': 4, 'incident': 3, 'saturday': 3, 'hadfield': 3, 'firearm': 3, ...})"
      ]
     },
     "execution_count": 36,
     "metadata": {},
     "output_type": "execute_result"
    }
   ],
   "source": [
    "#look at distribution of our text content\n",
    "freq_dist = FreqDist(lemma_list)\n",
    "freq_dist"
   ]
  },
  {
   "cell_type": "code",
   "execution_count": 37,
   "id": "2edd47f4",
   "metadata": {},
   "outputs": [
    {
     "data": {
      "image/png": "[encoded data removed]",
      "text/plain": [
       "<Figure size 432x288 with 1 Axes>"
      ]
     },
     "metadata": {
      "needs_background": "light"
     },
     "output_type": "display_data"
    }
   ],
   "source": [
    "def visualize_top_10(freq_dist, title):\n",
    "\n",
    "    # Extract data for plotting\n",
    "    top_10 = list(zip(*freq_dist.most_common(10)))\n",
    "    tokens = top_10[0]\n",
    "    counts = top_10[1]\n",
    "\n",
    "    # Set up plot and plot data\n",
    "    fig, ax = plt.subplots()\n",
    "    ax.bar(tokens, counts)\n",
    "\n",
    "    # Customize plot appearance\n",
    "    ax.set_title(title)\n",
    "    ax.set_ylabel(\"Count\")\n",
    "    ax.tick_params(axis=\"x\", rotation=90)\n",
    "    \n",
    "visualize_top_10(freq_dist, \"Top 10 Word Frequency for test article\")"
   ]
  },
  {
   "cell_type": "code",
   "execution_count": 38,
   "id": "a172dd50",
   "metadata": {},
   "outputs": [],
   "source": [
    "def preprocess(content):\n",
    "    \"\"\"\n",
    "    This function preprocesses textual data for modeling.\n",
    "    Steps:\n",
    "    Lower case each word\n",
    "    Remove unwanted noise from the article(such as Twitter mentions, web adresses and other content)\n",
    "    Remove all numbers\n",
    "    Tokenize the list\n",
    "    Remove common stop words and punctuation\n",
    "    Lemmatizes each word\n",
    "    Returns a string of the remaining lemmatized words.\n",
    "    \n",
    "    Content - piece of text to process\n",
    "    \"\"\"\n",
    "    #Turn all the tokens lowercase\n",
    "    content = content.lower()\n",
    "    #rmove necessary item from content (see above)\n",
    "    content = re.sub(pattern_mentions, \" \", str(content))\n",
    "    content = re.sub(pattern_views, \" \", str(content))\n",
    "    content = re.sub(pattern_thread, \" \", str(content))\n",
    "    content = re.sub(pattern_url, \" \", str(content))\n",
    "    content = re.sub(pattern_num, \" \", str(content))\n",
    "    content = re.sub(pattern_pic, \" \", str(content))\n",
    "    #Only include words with 3 or more characters\n",
    "    token_list = tokenizer.tokenize(content)\n",
    "    #Remove stopwords\n",
    "    stopwords_removed=[token for token in token_list if token not in stopwords_list]\n",
    "    #Lemmatize the remaining word tokens\n",
    "    lemma_list = [lemma.lemmatize(token) for token in stopwords_removed]\n",
    "    #Turn the lemma list into a string for the Vectorizer\n",
    "    cleaned_string = \" \".join(lemma_list) \n",
    "    return str(cleaned_string)"
   ]
  },
  {
   "cell_type": "code",
   "execution_count": 39,
   "id": "326ad0c1",
   "metadata": {},
   "outputs": [
    {
     "data": {
      "text/plain": [
       "'Office of Management and Budget Director Mick Mulvaney on Wednesday defended President Trump’s budget proposal to a House panel, arguing its steep cuts were necessary to reduce the country’s deficits. “Great countries are not destroyed from without. They rot from within,” he said to the House Budget Committee. Trump’s plan would balance the budget by 2027 and reduce the national debt to 60 percent of gross domestic product, but Democrats and Republicans alike noted that it relies on optimistic economic growth figures and other budgetary tricks to reach those figures. Democrats homed in on the aggressive cuts to Medicaid, food stamps and Social Security Disability Insurance, among other programs. Rep. John YarmuthJohn Allen YarmuthTrump signs two-year budget deal Lawmakers point to entitlements when asked about deficits House Problem Solvers are bringing real change to Congress MORE (D-Ky.), the House Budget Committee’s ranking member, called it “shockingly extreme, the antithesis of what the American people say they want from their government.” Mulvaney pushed back, insisting that the cuts came solely from ironing out inefficiencies in the programs and ensuring able-bodied people work. “We are not going to kick any deserving person off of any meaningful program,” he vowed. One wasteful welfare program, he added, had been paid out to 11,000 deceased recipients. Yarmuth also asked why the same level of scrutiny wasn’t applied to defense, which would get a boost from the Trump budget. Mulvaney said he was just as interested at rooting out waste from the Pentagon and expected an audit from the Defense Department this September. While Republicans emphasized their support for debt reduction, several bore down on program cuts that they said were unjustified. Rep. Bill Johnson (R-Ohio) called Mulvaney out for cuts to the Appalachian Regional Commission, a program that has supported distressed counties. Johnson argued it was an effective program and that the Government Accountability Office report saying it was wasteful was more than 20 years old. “I think that 1996 study is probably outdated,” he said. Committee Vice Chairman Rep. Todd Rokita (R-Ind.) asked similarly tough questions on the administration’s plans for the Federal Aviation Authority. At one point, a lively discussion broke out over Big Bird and the merits of funding the Corporation for Public Broadcasting, which for many years funded Sesame Street. Mulvaney said that Big Bird was likely wealthier than anyone in the room, and his success showed that the show, which was recently acquired by HBO, didn’t need public funding to thrive. Rep. Brendan Boyle (D-Pa.) said that as a billionaire, Big Bird would be happy for the major tax break the Trump budget would deliver. “Big Bird does get a fairly large tax cut, and we want him to,” Mulvaney shot back. Cuts for corporations, he said, helped unleash the kind of creativity that led to the creation of Big Bird in the first place. Following the exchange, the term “Big Bird” trended on Twitter.\\xa0 View the discussion thread. The Hill 1625 K Street, NW Suite 900 Washington DC 20006 | 202-628-8500 tel | 202-628-8503 fax The contents of this site are ©2019 Capitol Hill Publishing Corp., a subsidiary of News Communications, Inc.'"
      ]
     },
     "execution_count": 39,
     "metadata": {},
     "output_type": "execute_result"
    }
   ],
   "source": [
    "df[\"Content\"].iloc[50600]"
   ]
  },
  {
   "cell_type": "code",
   "execution_count": 40,
   "id": "d6f9ceb7",
   "metadata": {},
   "outputs": [
    {
     "data": {
      "text/plain": [
       "'office management budget director mick mulvaney wednesday defended president trump budget proposal house panel arguing steep cut necessary reduce country deficit great country destroyed without rot within said house budget committee trump plan would balance budget reduce national debt percent gross domestic product democrat republican alike noted relies optimistic economic growth figure budgetary trick reach figure democrat homed aggressive cut medicaid food stamp social security disability insurance among program rep john yarmuthjohn allen yarmuthtrump sign two year budget deal lawmaker point entitlement asked deficit house problem solver bringing real change congress ky house budget committee ranking member called shockingly extreme antithesis american people say want government mulvaney pushed back insisting cut came solely ironing inefficiency program ensuring able bodied people work going kick deserving person meaningful program vowed one wasteful welfare program added paid deceased recipient yarmuth also asked level scrutiny applied defense would get boost trump budget mulvaney said interested rooting waste pentagon expected audit defense department september republican emphasized support debt reduction several bore program cut said unjustified rep bill johnson ohio called mulvaney cut appalachian regional commission program supported distressed county johnson argued effective program government accountability office report saying wasteful year old think study probably outdated said committee vice chairman rep todd rokita ind asked similarly tough question administration plan federal aviation authority one point lively discussion broke big bird merit funding corporation public broadcasting many year funded sesame street mulvaney said big bird likely wealthier anyone room success showed show recently acquired hbo need public funding thrive rep brendan boyle pa said billionaire big bird would happy major tax break trump budget would deliver big bird get fairly large tax cut want mulvaney shot back cut corporation said helped unleash kind creativity led creation big bird first place following exchange term big bird trended twitter'"
      ]
     },
     "execution_count": 40,
     "metadata": {},
     "output_type": "execute_result"
    }
   ],
   "source": [
    "#Sanity check on data\n",
    "preprocess(df[\"Content\"].iloc[50600])"
   ]
  },
  {
   "cell_type": "code",
   "execution_count": 43,
   "id": "582acac0",
   "metadata": {},
   "outputs": [
    {
     "ename": "KeyboardInterrupt",
     "evalue": "",
     "output_type": "error",
     "traceback": [
      "\u001b[1;31m---------------------------------------------------------------------------\u001b[0m",
      "\u001b[1;31mKeyboardInterrupt\u001b[0m                         Traceback (most recent call last)",
      "\u001b[1;32m~\\AppData\\Local\\Temp/ipykernel_59472/1114571262.py\u001b[0m in \u001b[0;36m<module>\u001b[1;34m\u001b[0m\n\u001b[0;32m      1\u001b[0m \u001b[1;31m#Makes new column of processed content\u001b[0m\u001b[1;33m\u001b[0m\u001b[1;33m\u001b[0m\u001b[1;33m\u001b[0m\u001b[0m\n\u001b[1;32m----> 2\u001b[1;33m \u001b[0mdf\u001b[0m\u001b[1;33m[\u001b[0m\u001b[1;34m\"processed_content\"\u001b[0m\u001b[1;33m]\u001b[0m \u001b[1;33m=\u001b[0m  \u001b[0mdf\u001b[0m\u001b[1;33m[\u001b[0m\u001b[1;34m\"Content\"\u001b[0m\u001b[1;33m]\u001b[0m\u001b[1;33m.\u001b[0m\u001b[0mapply\u001b[0m\u001b[1;33m(\u001b[0m\u001b[1;32mlambda\u001b[0m \u001b[0mx\u001b[0m\u001b[1;33m:\u001b[0m \u001b[0mpreprocess\u001b[0m\u001b[1;33m(\u001b[0m\u001b[0mx\u001b[0m\u001b[1;33m)\u001b[0m\u001b[1;33m)\u001b[0m\u001b[1;33m\u001b[0m\u001b[1;33m\u001b[0m\u001b[0m\n\u001b[0m",
      "\u001b[1;32m~\\anaconda3\\envs\\learn-env\\lib\\site-packages\\pandas\\core\\series.py\u001b[0m in \u001b[0;36mapply\u001b[1;34m(self, func, convert_dtype, args, **kwargs)\u001b[0m\n\u001b[0;32m   4355\u001b[0m         \u001b[0mdtype\u001b[0m\u001b[1;33m:\u001b[0m \u001b[0mfloat64\u001b[0m\u001b[1;33m\u001b[0m\u001b[1;33m\u001b[0m\u001b[0m\n\u001b[0;32m   4356\u001b[0m         \"\"\"\n\u001b[1;32m-> 4357\u001b[1;33m         \u001b[1;32mreturn\u001b[0m \u001b[0mSeriesApply\u001b[0m\u001b[1;33m(\u001b[0m\u001b[0mself\u001b[0m\u001b[1;33m,\u001b[0m \u001b[0mfunc\u001b[0m\u001b[1;33m,\u001b[0m \u001b[0mconvert_dtype\u001b[0m\u001b[1;33m,\u001b[0m \u001b[0margs\u001b[0m\u001b[1;33m,\u001b[0m \u001b[0mkwargs\u001b[0m\u001b[1;33m)\u001b[0m\u001b[1;33m.\u001b[0m\u001b[0mapply\u001b[0m\u001b[1;33m(\u001b[0m\u001b[1;33m)\u001b[0m\u001b[1;33m\u001b[0m\u001b[1;33m\u001b[0m\u001b[0m\n\u001b[0m\u001b[0;32m   4358\u001b[0m \u001b[1;33m\u001b[0m\u001b[0m\n\u001b[0;32m   4359\u001b[0m     def _reduce(\n",
      "\u001b[1;32m~\\anaconda3\\envs\\learn-env\\lib\\site-packages\\pandas\\core\\apply.py\u001b[0m in \u001b[0;36mapply\u001b[1;34m(self)\u001b[0m\n\u001b[0;32m   1041\u001b[0m             \u001b[1;32mreturn\u001b[0m \u001b[0mself\u001b[0m\u001b[1;33m.\u001b[0m\u001b[0mapply_str\u001b[0m\u001b[1;33m(\u001b[0m\u001b[1;33m)\u001b[0m\u001b[1;33m\u001b[0m\u001b[1;33m\u001b[0m\u001b[0m\n\u001b[0;32m   1042\u001b[0m \u001b[1;33m\u001b[0m\u001b[0m\n\u001b[1;32m-> 1043\u001b[1;33m         \u001b[1;32mreturn\u001b[0m \u001b[0mself\u001b[0m\u001b[1;33m.\u001b[0m\u001b[0mapply_standard\u001b[0m\u001b[1;33m(\u001b[0m\u001b[1;33m)\u001b[0m\u001b[1;33m\u001b[0m\u001b[1;33m\u001b[0m\u001b[0m\n\u001b[0m\u001b[0;32m   1044\u001b[0m \u001b[1;33m\u001b[0m\u001b[0m\n\u001b[0;32m   1045\u001b[0m     \u001b[1;32mdef\u001b[0m \u001b[0magg\u001b[0m\u001b[1;33m(\u001b[0m\u001b[0mself\u001b[0m\u001b[1;33m)\u001b[0m\u001b[1;33m:\u001b[0m\u001b[1;33m\u001b[0m\u001b[1;33m\u001b[0m\u001b[0m\n",
      "\u001b[1;32m~\\anaconda3\\envs\\learn-env\\lib\\site-packages\\pandas\\core\\apply.py\u001b[0m in \u001b[0;36mapply_standard\u001b[1;34m(self)\u001b[0m\n\u001b[0;32m   1097\u001b[0m                 \u001b[1;31m# List[Union[Callable[..., Any], str]]]]]\"; expected\u001b[0m\u001b[1;33m\u001b[0m\u001b[1;33m\u001b[0m\u001b[1;33m\u001b[0m\u001b[0m\n\u001b[0;32m   1098\u001b[0m                 \u001b[1;31m# \"Callable[[Any], Any]\"\u001b[0m\u001b[1;33m\u001b[0m\u001b[1;33m\u001b[0m\u001b[1;33m\u001b[0m\u001b[0m\n\u001b[1;32m-> 1099\u001b[1;33m                 mapped = lib.map_infer(\n\u001b[0m\u001b[0;32m   1100\u001b[0m                     \u001b[0mvalues\u001b[0m\u001b[1;33m,\u001b[0m\u001b[1;33m\u001b[0m\u001b[1;33m\u001b[0m\u001b[0m\n\u001b[0;32m   1101\u001b[0m                     \u001b[0mf\u001b[0m\u001b[1;33m,\u001b[0m  \u001b[1;31m# type: ignore[arg-type]\u001b[0m\u001b[1;33m\u001b[0m\u001b[1;33m\u001b[0m\u001b[0m\n",
      "\u001b[1;32m~\\anaconda3\\envs\\learn-env\\lib\\site-packages\\pandas\\_libs\\lib.pyx\u001b[0m in \u001b[0;36mpandas._libs.lib.map_infer\u001b[1;34m()\u001b[0m\n",
      "\u001b[1;32m~\\AppData\\Local\\Temp/ipykernel_59472/1114571262.py\u001b[0m in \u001b[0;36m<lambda>\u001b[1;34m(x)\u001b[0m\n\u001b[0;32m      1\u001b[0m \u001b[1;31m#Makes new column of processed content\u001b[0m\u001b[1;33m\u001b[0m\u001b[1;33m\u001b[0m\u001b[1;33m\u001b[0m\u001b[0m\n\u001b[1;32m----> 2\u001b[1;33m \u001b[0mdf\u001b[0m\u001b[1;33m[\u001b[0m\u001b[1;34m\"processed_content\"\u001b[0m\u001b[1;33m]\u001b[0m \u001b[1;33m=\u001b[0m  \u001b[0mdf\u001b[0m\u001b[1;33m[\u001b[0m\u001b[1;34m\"Content\"\u001b[0m\u001b[1;33m]\u001b[0m\u001b[1;33m.\u001b[0m\u001b[0mapply\u001b[0m\u001b[1;33m(\u001b[0m\u001b[1;32mlambda\u001b[0m \u001b[0mx\u001b[0m\u001b[1;33m:\u001b[0m \u001b[0mpreprocess\u001b[0m\u001b[1;33m(\u001b[0m\u001b[0mx\u001b[0m\u001b[1;33m)\u001b[0m\u001b[1;33m)\u001b[0m\u001b[1;33m\u001b[0m\u001b[1;33m\u001b[0m\u001b[0m\n\u001b[0m",
      "\u001b[1;32m~\\AppData\\Local\\Temp/ipykernel_59472/2614878588.py\u001b[0m in \u001b[0;36mpreprocess\u001b[1;34m(content)\u001b[0m\n\u001b[0;32m     27\u001b[0m     \u001b[0mstopwords_removed\u001b[0m\u001b[1;33m=\u001b[0m\u001b[1;33m[\u001b[0m\u001b[0mtoken\u001b[0m \u001b[1;32mfor\u001b[0m \u001b[0mtoken\u001b[0m \u001b[1;32min\u001b[0m \u001b[0mtoken_list\u001b[0m \u001b[1;32mif\u001b[0m \u001b[0mtoken\u001b[0m \u001b[1;32mnot\u001b[0m \u001b[1;32min\u001b[0m \u001b[0mstopwords_list\u001b[0m\u001b[1;33m]\u001b[0m\u001b[1;33m\u001b[0m\u001b[1;33m\u001b[0m\u001b[0m\n\u001b[0;32m     28\u001b[0m     \u001b[1;31m#Lemmatize the remaining word tokens\u001b[0m\u001b[1;33m\u001b[0m\u001b[1;33m\u001b[0m\u001b[1;33m\u001b[0m\u001b[0m\n\u001b[1;32m---> 29\u001b[1;33m     \u001b[0mlemma_list\u001b[0m \u001b[1;33m=\u001b[0m \u001b[1;33m[\u001b[0m\u001b[0mlemma\u001b[0m\u001b[1;33m.\u001b[0m\u001b[0mlemmatize\u001b[0m\u001b[1;33m(\u001b[0m\u001b[0mtoken\u001b[0m\u001b[1;33m)\u001b[0m \u001b[1;32mfor\u001b[0m \u001b[0mtoken\u001b[0m \u001b[1;32min\u001b[0m \u001b[0mstopwords_removed\u001b[0m\u001b[1;33m]\u001b[0m\u001b[1;33m\u001b[0m\u001b[1;33m\u001b[0m\u001b[0m\n\u001b[0m\u001b[0;32m     30\u001b[0m     \u001b[1;31m#Turn the lemma list into a string for the Vectorizer\u001b[0m\u001b[1;33m\u001b[0m\u001b[1;33m\u001b[0m\u001b[1;33m\u001b[0m\u001b[0m\n\u001b[0;32m     31\u001b[0m     \u001b[0mcleaned_string\u001b[0m \u001b[1;33m=\u001b[0m \u001b[1;34m\" \"\u001b[0m\u001b[1;33m.\u001b[0m\u001b[0mjoin\u001b[0m\u001b[1;33m(\u001b[0m\u001b[0mlemma_list\u001b[0m\u001b[1;33m)\u001b[0m\u001b[1;33m\u001b[0m\u001b[1;33m\u001b[0m\u001b[0m\n",
      "\u001b[1;32m~\\AppData\\Local\\Temp/ipykernel_59472/2614878588.py\u001b[0m in \u001b[0;36m<listcomp>\u001b[1;34m(.0)\u001b[0m\n\u001b[0;32m     27\u001b[0m     \u001b[0mstopwords_removed\u001b[0m\u001b[1;33m=\u001b[0m\u001b[1;33m[\u001b[0m\u001b[0mtoken\u001b[0m \u001b[1;32mfor\u001b[0m \u001b[0mtoken\u001b[0m \u001b[1;32min\u001b[0m \u001b[0mtoken_list\u001b[0m \u001b[1;32mif\u001b[0m \u001b[0mtoken\u001b[0m \u001b[1;32mnot\u001b[0m \u001b[1;32min\u001b[0m \u001b[0mstopwords_list\u001b[0m\u001b[1;33m]\u001b[0m\u001b[1;33m\u001b[0m\u001b[1;33m\u001b[0m\u001b[0m\n\u001b[0;32m     28\u001b[0m     \u001b[1;31m#Lemmatize the remaining word tokens\u001b[0m\u001b[1;33m\u001b[0m\u001b[1;33m\u001b[0m\u001b[1;33m\u001b[0m\u001b[0m\n\u001b[1;32m---> 29\u001b[1;33m     \u001b[0mlemma_list\u001b[0m \u001b[1;33m=\u001b[0m \u001b[1;33m[\u001b[0m\u001b[0mlemma\u001b[0m\u001b[1;33m.\u001b[0m\u001b[0mlemmatize\u001b[0m\u001b[1;33m(\u001b[0m\u001b[0mtoken\u001b[0m\u001b[1;33m)\u001b[0m \u001b[1;32mfor\u001b[0m \u001b[0mtoken\u001b[0m \u001b[1;32min\u001b[0m \u001b[0mstopwords_removed\u001b[0m\u001b[1;33m]\u001b[0m\u001b[1;33m\u001b[0m\u001b[1;33m\u001b[0m\u001b[0m\n\u001b[0m\u001b[0;32m     30\u001b[0m     \u001b[1;31m#Turn the lemma list into a string for the Vectorizer\u001b[0m\u001b[1;33m\u001b[0m\u001b[1;33m\u001b[0m\u001b[1;33m\u001b[0m\u001b[0m\n\u001b[0;32m     31\u001b[0m     \u001b[0mcleaned_string\u001b[0m \u001b[1;33m=\u001b[0m \u001b[1;34m\" \"\u001b[0m\u001b[1;33m.\u001b[0m\u001b[0mjoin\u001b[0m\u001b[1;33m(\u001b[0m\u001b[0mlemma_list\u001b[0m\u001b[1;33m)\u001b[0m\u001b[1;33m\u001b[0m\u001b[1;33m\u001b[0m\u001b[0m\n",
      "\u001b[1;32m~\\anaconda3\\envs\\learn-env\\lib\\site-packages\\nltk\\stem\\wordnet.py\u001b[0m in \u001b[0;36mlemmatize\u001b[1;34m(self, word, pos)\u001b[0m\n\u001b[0;32m     37\u001b[0m     \u001b[1;32mdef\u001b[0m \u001b[0mlemmatize\u001b[0m\u001b[1;33m(\u001b[0m\u001b[0mself\u001b[0m\u001b[1;33m,\u001b[0m \u001b[0mword\u001b[0m\u001b[1;33m,\u001b[0m \u001b[0mpos\u001b[0m\u001b[1;33m=\u001b[0m\u001b[0mNOUN\u001b[0m\u001b[1;33m)\u001b[0m\u001b[1;33m:\u001b[0m\u001b[1;33m\u001b[0m\u001b[1;33m\u001b[0m\u001b[0m\n\u001b[0;32m     38\u001b[0m         \u001b[0mlemmas\u001b[0m \u001b[1;33m=\u001b[0m \u001b[0mwordnet\u001b[0m\u001b[1;33m.\u001b[0m\u001b[0m_morphy\u001b[0m\u001b[1;33m(\u001b[0m\u001b[0mword\u001b[0m\u001b[1;33m,\u001b[0m \u001b[0mpos\u001b[0m\u001b[1;33m)\u001b[0m\u001b[1;33m\u001b[0m\u001b[1;33m\u001b[0m\u001b[0m\n\u001b[1;32m---> 39\u001b[1;33m         \u001b[1;32mreturn\u001b[0m \u001b[0mmin\u001b[0m\u001b[1;33m(\u001b[0m\u001b[0mlemmas\u001b[0m\u001b[1;33m,\u001b[0m \u001b[0mkey\u001b[0m\u001b[1;33m=\u001b[0m\u001b[0mlen\u001b[0m\u001b[1;33m)\u001b[0m \u001b[1;32mif\u001b[0m \u001b[0mlemmas\u001b[0m \u001b[1;32melse\u001b[0m \u001b[0mword\u001b[0m\u001b[1;33m\u001b[0m\u001b[1;33m\u001b[0m\u001b[0m\n\u001b[0m\u001b[0;32m     40\u001b[0m \u001b[1;33m\u001b[0m\u001b[0m\n\u001b[0;32m     41\u001b[0m     \u001b[1;32mdef\u001b[0m \u001b[0m__repr__\u001b[0m\u001b[1;33m(\u001b[0m\u001b[0mself\u001b[0m\u001b[1;33m)\u001b[0m\u001b[1;33m:\u001b[0m\u001b[1;33m\u001b[0m\u001b[1;33m\u001b[0m\u001b[0m\n",
      "\u001b[1;31mKeyboardInterrupt\u001b[0m: "
     ]
    }
   ],
   "source": [
    "#will take a while\n",
    "\n",
    "#Makes new column of processed content\n",
    "df[\"processed_content\"] =  df[\"Content\"].apply(lambda x: preprocess(x))"
   ]
  },
  {
   "cell_type": "code",
   "execution_count": 44,
   "id": "37f3161e",
   "metadata": {},
   "outputs": [
    {
     "data": {
      "text/html": [
       "<div>\n",
       "<style scoped>\n",
       "    .dataframe tbody tr th:only-of-type {\n",
       "        vertical-align: middle;\n",
       "    }\n",
       "\n",
       "    .dataframe tbody tr th {\n",
       "        vertical-align: top;\n",
       "    }\n",
       "\n",
       "    .dataframe thead th {\n",
       "        text-align: right;\n",
       "    }\n",
       "</style>\n",
       "<table border=\"1\" class=\"dataframe\">\n",
       "  <thead>\n",
       "    <tr style=\"text-align: right;\">\n",
       "      <th></th>\n",
       "      <th>Publication</th>\n",
       "      <th>Content</th>\n",
       "      <th>Bias</th>\n",
       "      <th>num_bias</th>\n",
       "      <th>processed_content</th>\n",
       "    </tr>\n",
       "  </thead>\n",
       "  <tbody>\n",
       "    <tr>\n",
       "      <th>0</th>\n",
       "      <td>CNN</td>\n",
       "      <td>Istanbul (CNN) At least 39 people were killed ...</td>\n",
       "      <td>Left</td>\n",
       "      <td>0</td>\n",
       "      <td>istanbul least people killed least wounded att...</td>\n",
       "    </tr>\n",
       "    <tr>\n",
       "      <th>1</th>\n",
       "      <td>CNN</td>\n",
       "      <td>Atlanta (CNN) This season’s College Football P...</td>\n",
       "      <td>Left</td>\n",
       "      <td>0</td>\n",
       "      <td>atlanta season college football playoff center...</td>\n",
       "    </tr>\n",
       "    <tr>\n",
       "      <th>2</th>\n",
       "      <td>CNN</td>\n",
       "      <td>(CNN) Revelers on the United States’ west coa...</td>\n",
       "      <td>Left</td>\n",
       "      <td>0</td>\n",
       "      <td>reveler united state west coast cheered advent...</td>\n",
       "    </tr>\n",
       "    <tr>\n",
       "      <th>3</th>\n",
       "      <td>CNN</td>\n",
       "      <td>West Palm Beach, Florida (CNN)  Donald Trump s...</td>\n",
       "      <td>Left</td>\n",
       "      <td>0</td>\n",
       "      <td>west palm beach florida donald trump said satu...</td>\n",
       "    </tr>\n",
       "    <tr>\n",
       "      <th>4</th>\n",
       "      <td>CNN</td>\n",
       "      <td>(CNN) Two small planes collided in Texas on S...</td>\n",
       "      <td>Left</td>\n",
       "      <td>0</td>\n",
       "      <td>two small plane collided texas saturday killin...</td>\n",
       "    </tr>\n",
       "    <tr>\n",
       "      <th>...</th>\n",
       "      <td>...</td>\n",
       "      <td>...</td>\n",
       "      <td>...</td>\n",
       "      <td>...</td>\n",
       "      <td>...</td>\n",
       "    </tr>\n",
       "    <tr>\n",
       "      <th>85360</th>\n",
       "      <td>National Review</td>\n",
       "      <td>I first read Thomas Sowell in college  —   no ...</td>\n",
       "      <td>Right</td>\n",
       "      <td>2</td>\n",
       "      <td>first read thomas sowell college thanks colleg...</td>\n",
       "    </tr>\n",
       "    <tr>\n",
       "      <th>85361</th>\n",
       "      <td>National Review</td>\n",
       "      <td>Whether it’s celebrated according to the Grego...</td>\n",
       "      <td>Right</td>\n",
       "      <td>2</td>\n",
       "      <td>whether celebrated according gregorian julian ...</td>\n",
       "    </tr>\n",
       "    <tr>\n",
       "      <th>85362</th>\n",
       "      <td>National Review</td>\n",
       "      <td>Editor’s Note: This piece first appeared in th...</td>\n",
       "      <td>Right</td>\n",
       "      <td>2</td>\n",
       "      <td>editor note piece first appeared april issue n...</td>\n",
       "    </tr>\n",
       "    <tr>\n",
       "      <th>85363</th>\n",
       "      <td>National Review</td>\n",
       "      <td>Israel would seem to be in a disastrous positi...</td>\n",
       "      <td>Right</td>\n",
       "      <td>2</td>\n",
       "      <td>israel would seem disastrous position given in...</td>\n",
       "    </tr>\n",
       "    <tr>\n",
       "      <th>85364</th>\n",
       "      <td>National Review</td>\n",
       "      <td>The year 2016 was a good one for books by men ...</td>\n",
       "      <td>Right</td>\n",
       "      <td>2</td>\n",
       "      <td>year good one book men named yuval past year r...</td>\n",
       "    </tr>\n",
       "  </tbody>\n",
       "</table>\n",
       "<p>85364 rows × 5 columns</p>\n",
       "</div>"
      ],
      "text/plain": [
       "           Publication                                            Content  \\\n",
       "0                  CNN  Istanbul (CNN) At least 39 people were killed ...   \n",
       "1                  CNN  Atlanta (CNN) This season’s College Football P...   \n",
       "2                  CNN   (CNN) Revelers on the United States’ west coa...   \n",
       "3                  CNN  West Palm Beach, Florida (CNN)  Donald Trump s...   \n",
       "4                  CNN   (CNN) Two small planes collided in Texas on S...   \n",
       "...                ...                                                ...   \n",
       "85360  National Review  I first read Thomas Sowell in college  —   no ...   \n",
       "85361  National Review  Whether it’s celebrated according to the Grego...   \n",
       "85362  National Review  Editor’s Note: This piece first appeared in th...   \n",
       "85363  National Review  Israel would seem to be in a disastrous positi...   \n",
       "85364  National Review  The year 2016 was a good one for books by men ...   \n",
       "\n",
       "        Bias  num_bias                                  processed_content  \n",
       "0       Left         0  istanbul least people killed least wounded att...  \n",
       "1       Left         0  atlanta season college football playoff center...  \n",
       "2       Left         0  reveler united state west coast cheered advent...  \n",
       "3       Left         0  west palm beach florida donald trump said satu...  \n",
       "4       Left         0  two small plane collided texas saturday killin...  \n",
       "...      ...       ...                                                ...  \n",
       "85360  Right         2  first read thomas sowell college thanks colleg...  \n",
       "85361  Right         2  whether celebrated according gregorian julian ...  \n",
       "85362  Right         2  editor note piece first appeared april issue n...  \n",
       "85363  Right         2  israel would seem disastrous position given in...  \n",
       "85364  Right         2  year good one book men named yuval past year r...  \n",
       "\n",
       "[85364 rows x 5 columns]"
      ]
     },
     "execution_count": 44,
     "metadata": {},
     "output_type": "execute_result"
    }
   ],
   "source": [
    "#check work\n",
    "df"
   ]
  },
  {
   "cell_type": "markdown",
   "id": "cc8270b3",
   "metadata": {},
   "source": [
    "## Modeling "
   ]
  },
  {
   "cell_type": "code",
   "execution_count": 2,
   "id": "996b4213",
   "metadata": {},
   "outputs": [
    {
     "data": {
      "text/html": [
       "<div>\n",
       "<style scoped>\n",
       "    .dataframe tbody tr th:only-of-type {\n",
       "        vertical-align: middle;\n",
       "    }\n",
       "\n",
       "    .dataframe tbody tr th {\n",
       "        vertical-align: top;\n",
       "    }\n",
       "\n",
       "    .dataframe thead th {\n",
       "        text-align: right;\n",
       "    }\n",
       "</style>\n",
       "<table border=\"1\" class=\"dataframe\">\n",
       "  <thead>\n",
       "    <tr style=\"text-align: right;\">\n",
       "      <th></th>\n",
       "      <th>Publication</th>\n",
       "      <th>Content</th>\n",
       "      <th>Bias</th>\n",
       "      <th>num_bias</th>\n",
       "      <th>processed_content</th>\n",
       "    </tr>\n",
       "  </thead>\n",
       "  <tbody>\n",
       "    <tr>\n",
       "      <th>0</th>\n",
       "      <td>CNN</td>\n",
       "      <td>Istanbul (CNN) At least 39 people were killed ...</td>\n",
       "      <td>Left</td>\n",
       "      <td>0</td>\n",
       "      <td>istanbul least people killed least wounded att...</td>\n",
       "    </tr>\n",
       "    <tr>\n",
       "      <th>1</th>\n",
       "      <td>CNN</td>\n",
       "      <td>Atlanta (CNN) This season’s College Football P...</td>\n",
       "      <td>Left</td>\n",
       "      <td>0</td>\n",
       "      <td>atlanta season college football playoff center...</td>\n",
       "    </tr>\n",
       "    <tr>\n",
       "      <th>2</th>\n",
       "      <td>CNN</td>\n",
       "      <td>(CNN) Revelers on the United States’ west coa...</td>\n",
       "      <td>Left</td>\n",
       "      <td>0</td>\n",
       "      <td>reveler united state west coast cheered advent...</td>\n",
       "    </tr>\n",
       "    <tr>\n",
       "      <th>3</th>\n",
       "      <td>CNN</td>\n",
       "      <td>West Palm Beach, Florida (CNN)  Donald Trump s...</td>\n",
       "      <td>Left</td>\n",
       "      <td>0</td>\n",
       "      <td>west palm beach florida donald trump said satu...</td>\n",
       "    </tr>\n",
       "    <tr>\n",
       "      <th>4</th>\n",
       "      <td>CNN</td>\n",
       "      <td>(CNN) Two small planes collided in Texas on S...</td>\n",
       "      <td>Left</td>\n",
       "      <td>0</td>\n",
       "      <td>two small plane collided texas saturday killin...</td>\n",
       "    </tr>\n",
       "    <tr>\n",
       "      <th>...</th>\n",
       "      <td>...</td>\n",
       "      <td>...</td>\n",
       "      <td>...</td>\n",
       "      <td>...</td>\n",
       "      <td>...</td>\n",
       "    </tr>\n",
       "    <tr>\n",
       "      <th>85360</th>\n",
       "      <td>National Review</td>\n",
       "      <td>I first read Thomas Sowell in college  —   no ...</td>\n",
       "      <td>Right</td>\n",
       "      <td>2</td>\n",
       "      <td>first read thomas sowell college thanks colleg...</td>\n",
       "    </tr>\n",
       "    <tr>\n",
       "      <th>85361</th>\n",
       "      <td>National Review</td>\n",
       "      <td>Whether it’s celebrated according to the Grego...</td>\n",
       "      <td>Right</td>\n",
       "      <td>2</td>\n",
       "      <td>whether celebrated according gregorian julian ...</td>\n",
       "    </tr>\n",
       "    <tr>\n",
       "      <th>85362</th>\n",
       "      <td>National Review</td>\n",
       "      <td>Editor’s Note: This piece first appeared in th...</td>\n",
       "      <td>Right</td>\n",
       "      <td>2</td>\n",
       "      <td>editor note piece first appeared april issue n...</td>\n",
       "    </tr>\n",
       "    <tr>\n",
       "      <th>85363</th>\n",
       "      <td>National Review</td>\n",
       "      <td>Israel would seem to be in a disastrous positi...</td>\n",
       "      <td>Right</td>\n",
       "      <td>2</td>\n",
       "      <td>israel would seem disastrous position given in...</td>\n",
       "    </tr>\n",
       "    <tr>\n",
       "      <th>85364</th>\n",
       "      <td>National Review</td>\n",
       "      <td>The year 2016 was a good one for books by men ...</td>\n",
       "      <td>Right</td>\n",
       "      <td>2</td>\n",
       "      <td>year good one book men named yuval past year r...</td>\n",
       "    </tr>\n",
       "  </tbody>\n",
       "</table>\n",
       "<p>85364 rows × 5 columns</p>\n",
       "</div>"
      ],
      "text/plain": [
       "           Publication                                            Content  \\\n",
       "0                  CNN  Istanbul (CNN) At least 39 people were killed ...   \n",
       "1                  CNN  Atlanta (CNN) This season’s College Football P...   \n",
       "2                  CNN   (CNN) Revelers on the United States’ west coa...   \n",
       "3                  CNN  West Palm Beach, Florida (CNN)  Donald Trump s...   \n",
       "4                  CNN   (CNN) Two small planes collided in Texas on S...   \n",
       "...                ...                                                ...   \n",
       "85360  National Review  I first read Thomas Sowell in college  —   no ...   \n",
       "85361  National Review  Whether it’s celebrated according to the Grego...   \n",
       "85362  National Review  Editor’s Note: This piece first appeared in th...   \n",
       "85363  National Review  Israel would seem to be in a disastrous positi...   \n",
       "85364  National Review  The year 2016 was a good one for books by men ...   \n",
       "\n",
       "        Bias  num_bias                                  processed_content  \n",
       "0       Left         0  istanbul least people killed least wounded att...  \n",
       "1       Left         0  atlanta season college football playoff center...  \n",
       "2       Left         0  reveler united state west coast cheered advent...  \n",
       "3       Left         0  west palm beach florida donald trump said satu...  \n",
       "4       Left         0  two small plane collided texas saturday killin...  \n",
       "...      ...       ...                                                ...  \n",
       "85360  Right         2  first read thomas sowell college thanks colleg...  \n",
       "85361  Right         2  whether celebrated according gregorian julian ...  \n",
       "85362  Right         2  editor note piece first appeared april issue n...  \n",
       "85363  Right         2  israel would seem disastrous position given in...  \n",
       "85364  Right         2  year good one book men named yuval past year r...  \n",
       "\n",
       "[85364 rows x 5 columns]"
      ]
     },
     "execution_count": 2,
     "metadata": {},
     "output_type": "execute_result"
    }
   ],
   "source": [
    "# Pulling up a pickled dataframe of processed content\n",
    "df = pd.read_pickle(\"../data/processed.pkl\")\n",
    "df"
   ]
  },
  {
   "cell_type": "markdown",
   "id": "2c46e190",
   "metadata": {},
   "source": [
    "### Train-Test-Split"
   ]
  },
  {
   "cell_type": "markdown",
   "id": "6cdc8a6f",
   "metadata": {},
   "source": [
    "I perform two train-test-splits to maintain a holdout set for final modeling."
   ]
  },
  {
   "cell_type": "code",
   "execution_count": 3,
   "id": "113f7702",
   "metadata": {},
   "outputs": [],
   "source": [
    "# Content of each article\n",
    "X = df[[\"processed_content\"]]\n",
    "# Target of biases\n",
    "y= df[\"num_bias\"]\n",
    "#set random seed\n",
    "seed = 42\n",
    "#holdout set\n",
    "X_hold, X_test, y_hold, y_test = train_test_split(X, y, test_size=0.10, random_state=seed)\n",
    "#training set\n",
    "X_train, X_val, y_train, y_val = train_test_split(X_hold, y_hold, test_size=0.25, random_state=seed)"
   ]
  },
  {
   "cell_type": "markdown",
   "id": "0182ba30",
   "metadata": {},
   "source": [
    "Taking a look at the train and validation sets."
   ]
  },
  {
   "cell_type": "code",
   "execution_count": 4,
   "id": "e43ca58c",
   "metadata": {},
   "outputs": [
    {
     "data": {
      "text/html": [
       "<div>\n",
       "<style scoped>\n",
       "    .dataframe tbody tr th:only-of-type {\n",
       "        vertical-align: middle;\n",
       "    }\n",
       "\n",
       "    .dataframe tbody tr th {\n",
       "        vertical-align: top;\n",
       "    }\n",
       "\n",
       "    .dataframe thead th {\n",
       "        text-align: right;\n",
       "    }\n",
       "</style>\n",
       "<table border=\"1\" class=\"dataframe\">\n",
       "  <thead>\n",
       "    <tr style=\"text-align: right;\">\n",
       "      <th></th>\n",
       "      <th>processed_content</th>\n",
       "    </tr>\n",
       "  </thead>\n",
       "  <tbody>\n",
       "    <tr>\n",
       "      <th>60555</th>\n",
       "      <td>tuesday broadcast situation room senator rober...</td>\n",
       "    </tr>\n",
       "    <tr>\n",
       "      <th>34511</th>\n",
       "      <td>top health official expressed heightened conce...</td>\n",
       "    </tr>\n",
       "    <tr>\n",
       "      <th>43210</th>\n",
       "      <td>dozen incredible kid clarke middle school wrot...</td>\n",
       "    </tr>\n",
       "    <tr>\n",
       "      <th>62118</th>\n",
       "      <td>new mexico democrat assigning new bill number ...</td>\n",
       "    </tr>\n",
       "    <tr>\n",
       "      <th>39828</th>\n",
       "      <td>sign receive report right inbox ly kjmnnn midd...</td>\n",
       "    </tr>\n",
       "  </tbody>\n",
       "</table>\n",
       "</div>"
      ],
      "text/plain": [
       "                                       processed_content\n",
       "60555  tuesday broadcast situation room senator rober...\n",
       "34511  top health official expressed heightened conce...\n",
       "43210  dozen incredible kid clarke middle school wrot...\n",
       "62118  new mexico democrat assigning new bill number ...\n",
       "39828  sign receive report right inbox ly kjmnnn midd..."
      ]
     },
     "execution_count": 4,
     "metadata": {},
     "output_type": "execute_result"
    }
   ],
   "source": [
    "X_train.head()"
   ]
  },
  {
   "cell_type": "code",
   "execution_count": 5,
   "id": "b105c31e",
   "metadata": {},
   "outputs": [
    {
     "data": {
      "text/plain": [
       "(57620, 1)"
      ]
     },
     "execution_count": 5,
     "metadata": {},
     "output_type": "execute_result"
    }
   ],
   "source": [
    "X_train.shape"
   ]
  },
  {
   "cell_type": "code",
   "execution_count": 6,
   "id": "1ea683d7",
   "metadata": {},
   "outputs": [
    {
     "data": {
      "text/plain": [
       "(57620,)"
      ]
     },
     "execution_count": 6,
     "metadata": {},
     "output_type": "execute_result"
    }
   ],
   "source": [
    "y_train.shape"
   ]
  },
  {
   "cell_type": "code",
   "execution_count": 7,
   "id": "fdace93b",
   "metadata": {},
   "outputs": [
    {
     "data": {
      "text/plain": [
       "60555    2\n",
       "34511    1\n",
       "43210    1\n",
       "62118    2\n",
       "39828    1\n",
       "Name: num_bias, dtype: int64"
      ]
     },
     "execution_count": 7,
     "metadata": {},
     "output_type": "execute_result"
    }
   ],
   "source": [
    "y_train.head()"
   ]
  },
  {
   "cell_type": "code",
   "execution_count": 8,
   "id": "015f2f1f",
   "metadata": {},
   "outputs": [
    {
     "data": {
      "text/html": [
       "<div>\n",
       "<style scoped>\n",
       "    .dataframe tbody tr th:only-of-type {\n",
       "        vertical-align: middle;\n",
       "    }\n",
       "\n",
       "    .dataframe tbody tr th {\n",
       "        vertical-align: top;\n",
       "    }\n",
       "\n",
       "    .dataframe thead th {\n",
       "        text-align: right;\n",
       "    }\n",
       "</style>\n",
       "<table border=\"1\" class=\"dataframe\">\n",
       "  <thead>\n",
       "    <tr style=\"text-align: right;\">\n",
       "      <th></th>\n",
       "      <th>processed_content</th>\n",
       "    </tr>\n",
       "  </thead>\n",
       "  <tbody>\n",
       "    <tr>\n",
       "      <th>66202</th>\n",
       "      <td>texas bbq restaurant made transgender bathroom...</td>\n",
       "    </tr>\n",
       "    <tr>\n",
       "      <th>77557</th>\n",
       "      <td>former nbc news anchor tom brokaw agrees news ...</td>\n",
       "    </tr>\n",
       "    <tr>\n",
       "      <th>45472</th>\n",
       "      <td>one week since hillary clintonhillary diane ro...</td>\n",
       "    </tr>\n",
       "    <tr>\n",
       "      <th>72123</th>\n",
       "      <td>home state kentucky senate majority leader ral...</td>\n",
       "    </tr>\n",
       "    <tr>\n",
       "      <th>1349</th>\n",
       "      <td>typical target specific medium outlet exclude ...</td>\n",
       "    </tr>\n",
       "  </tbody>\n",
       "</table>\n",
       "</div>"
      ],
      "text/plain": [
       "                                       processed_content\n",
       "66202  texas bbq restaurant made transgender bathroom...\n",
       "77557  former nbc news anchor tom brokaw agrees news ...\n",
       "45472  one week since hillary clintonhillary diane ro...\n",
       "72123  home state kentucky senate majority leader ral...\n",
       "1349   typical target specific medium outlet exclude ..."
      ]
     },
     "execution_count": 8,
     "metadata": {},
     "output_type": "execute_result"
    }
   ],
   "source": [
    "X_val.head()"
   ]
  },
  {
   "cell_type": "code",
   "execution_count": 9,
   "id": "b501bd3a",
   "metadata": {},
   "outputs": [
    {
     "data": {
      "text/plain": [
       "(19207, 1)"
      ]
     },
     "execution_count": 9,
     "metadata": {},
     "output_type": "execute_result"
    }
   ],
   "source": [
    "X_val.shape"
   ]
  },
  {
   "cell_type": "code",
   "execution_count": 10,
   "id": "be4fc7ca",
   "metadata": {},
   "outputs": [
    {
     "data": {
      "text/plain": [
       "(19207,)"
      ]
     },
     "execution_count": 10,
     "metadata": {},
     "output_type": "execute_result"
    }
   ],
   "source": [
    "y_val.shape"
   ]
  },
  {
   "cell_type": "code",
   "execution_count": 11,
   "id": "f99fe215",
   "metadata": {},
   "outputs": [
    {
     "data": {
      "text/plain": [
       "66202    2\n",
       "77557    2\n",
       "45472    1\n",
       "72123    2\n",
       "1349     0\n",
       "Name: num_bias, dtype: int64"
      ]
     },
     "execution_count": 11,
     "metadata": {},
     "output_type": "execute_result"
    }
   ],
   "source": [
    "y_val.head()"
   ]
  },
  {
   "cell_type": "code",
   "execution_count": 12,
   "id": "19614e1e",
   "metadata": {},
   "outputs": [
    {
     "name": "stdout",
     "output_type": "stream",
     "text": [
      "<class 'pandas.core.frame.DataFrame'>\n",
      "Int64Index: 57620 entries, 60555 to 32481\n",
      "Data columns (total 1 columns):\n",
      " #   Column             Non-Null Count  Dtype \n",
      "---  ------             --------------  ----- \n",
      " 0   processed_content  57620 non-null  object\n",
      "dtypes: object(1)\n",
      "memory usage: 900.3+ KB\n"
     ]
    }
   ],
   "source": [
    "X_train.info()"
   ]
  },
  {
   "cell_type": "code",
   "execution_count": 13,
   "id": "2fcabeac",
   "metadata": {},
   "outputs": [
    {
     "name": "stdout",
     "output_type": "stream",
     "text": [
      "<class 'pandas.core.frame.DataFrame'>\n",
      "Int64Index: 19207 entries, 66202 to 40852\n",
      "Data columns (total 1 columns):\n",
      " #   Column             Non-Null Count  Dtype \n",
      "---  ------             --------------  ----- \n",
      " 0   processed_content  19207 non-null  object\n",
      "dtypes: object(1)\n",
      "memory usage: 300.1+ KB\n"
     ]
    }
   ],
   "source": [
    "X_val.info()"
   ]
  },
  {
   "cell_type": "markdown",
   "id": "6deb1f21",
   "metadata": {},
   "source": [
    "### Vectorize Data"
   ]
  },
  {
   "cell_type": "code",
   "execution_count": 14,
   "id": "1ddbe70d",
   "metadata": {},
   "outputs": [
    {
     "data": {
      "text/plain": [
       "CountVectorizer(max_features=3000, ngram_range=(1, 2), stop_words='english')"
      ]
     },
     "execution_count": 14,
     "metadata": {},
     "output_type": "execute_result"
    }
   ],
   "source": [
    "#initialize the count vectorizer\n",
    "cvec = CountVectorizer(stop_words='english', ngram_range=(1,2), max_features=3000)\n",
    "cvec"
   ]
  },
  {
   "cell_type": "code",
   "execution_count": 15,
   "id": "7648a720",
   "metadata": {},
   "outputs": [
    {
     "data": {
      "text/plain": [
       "[('tuesday', 2790),\n",
       " ('broadcast', 324),\n",
       " ('situation', 2478),\n",
       " ('room', 2318),\n",
       " ('senator', 2409),\n",
       " ('robert', 2309),\n",
       " ('sentence', 2416),\n",
       " ('time', 2715),\n",
       " ('seriously', 2422),\n",
       " ('russia', 2336),\n",
       " ('recent', 2175),\n",
       " ('election', 846),\n",
       " ('role', 2314),\n",
       " ('wikileaks', 2941),\n",
       " ('played', 1963),\n",
       " ('regard', 2204),\n",
       " ('sure', 2629),\n",
       " ('type', 2803),\n",
       " ('message', 1654),\n",
       " ('send', 2410)]"
      ]
     },
     "execution_count": 15,
     "metadata": {},
     "output_type": "execute_result"
    }
   ],
   "source": [
    "#fit to the data to pull out words.\n",
    "cvec.fit(X_train[\"processed_content\"])\n",
    "list(islice(cvec.vocabulary_.items(), 20))"
   ]
  },
  {
   "cell_type": "markdown",
   "id": "5e90a09c",
   "metadata": {},
   "source": [
    "I want to keep as much data as possible when Vectorizing the dataframe. I have limited the max_features to three thousand due to memory constraints. I will also include at Bigrams, this will include terms like \"New York\" or \"President Biden.\" Including bigrams will better help the models understand what words or terms are important to classify bias."
   ]
  },
  {
   "cell_type": "code",
   "execution_count": 16,
   "id": "a8355a0e",
   "metadata": {},
   "outputs": [],
   "source": [
    "#initialize, fit and transform the data\n",
    "tfidf_vectorizer = TfidfVectorizer(max_features=3000, \n",
    "                                   ngram_range=(1,2),\n",
    "                                  max_df =.95, min_df = 6)\n",
    "\n",
    "tfidf_vectorizer.fit(X_train[\"processed_content\"])\n",
    "X_train_tfidf_vec = tfidf_vectorizer.transform(X_train[\"processed_content\"])\n",
    "X_val_tfidf_vec = tfidf_vectorizer.transform(X_val[\"processed_content\"])"
   ]
  },
  {
   "cell_type": "code",
   "execution_count": 17,
   "id": "14cf6d6c",
   "metadata": {},
   "outputs": [
    {
     "data": {
      "text/plain": [
       "(57620, 3000)"
      ]
     },
     "execution_count": 17,
     "metadata": {},
     "output_type": "execute_result"
    }
   ],
   "source": [
    "#returna a dataframe using the count vectorizer to label to the columns rather than usless numbers.\n",
    "X_train_tfidf_vec_df = pd.DataFrame(X_train_tfidf_vec.toarray(),columns=cvec.get_feature_names(), \n",
    "                              index=X_train.index)\n",
    "X_val_tfidf_vec_df = pd.DataFrame(X_val_tfidf_vec.toarray(), columns=cvec.get_feature_names(), \n",
    "                              index=X_val.index)\n",
    "\n",
    "X_train_tfidf_vec_df.shape"
   ]
  },
  {
   "cell_type": "code",
   "execution_count": 18,
   "id": "221660da",
   "metadata": {},
   "outputs": [
    {
     "data": {
      "text/html": [
       "<div>\n",
       "<style scoped>\n",
       "    .dataframe tbody tr th:only-of-type {\n",
       "        vertical-align: middle;\n",
       "    }\n",
       "\n",
       "    .dataframe tbody tr th {\n",
       "        vertical-align: top;\n",
       "    }\n",
       "\n",
       "    .dataframe thead th {\n",
       "        text-align: right;\n",
       "    }\n",
       "</style>\n",
       "<table border=\"1\" class=\"dataframe\">\n",
       "  <thead>\n",
       "    <tr style=\"text-align: right;\">\n",
       "      <th></th>\n",
       "      <th>abc</th>\n",
       "      <th>ability</th>\n",
       "      <th>able</th>\n",
       "      <th>abortion</th>\n",
       "      <th>abroad</th>\n",
       "      <th>absolutely</th>\n",
       "      <th>abuse</th>\n",
       "      <th>academic</th>\n",
       "      <th>academy</th>\n",
       "      <th>accept</th>\n",
       "      <th>...</th>\n",
       "      <th>york time</th>\n",
       "      <th>young</th>\n",
       "      <th>young people</th>\n",
       "      <th>younger</th>\n",
       "      <th>youth</th>\n",
       "      <th>youtube</th>\n",
       "      <th>zero</th>\n",
       "      <th>zika</th>\n",
       "      <th>zone</th>\n",
       "      <th>zuckerberg</th>\n",
       "    </tr>\n",
       "  </thead>\n",
       "  <tbody>\n",
       "    <tr>\n",
       "      <th>60555</th>\n",
       "      <td>0.0</td>\n",
       "      <td>0.0</td>\n",
       "      <td>0.0</td>\n",
       "      <td>0.0</td>\n",
       "      <td>0.0</td>\n",
       "      <td>0.00000</td>\n",
       "      <td>0.0</td>\n",
       "      <td>0.0</td>\n",
       "      <td>0.0</td>\n",
       "      <td>0.0</td>\n",
       "      <td>...</td>\n",
       "      <td>0.0</td>\n",
       "      <td>0.0</td>\n",
       "      <td>0.0</td>\n",
       "      <td>0.0</td>\n",
       "      <td>0.0</td>\n",
       "      <td>0.0</td>\n",
       "      <td>0.0</td>\n",
       "      <td>0.000000</td>\n",
       "      <td>0.0</td>\n",
       "      <td>0.0</td>\n",
       "    </tr>\n",
       "    <tr>\n",
       "      <th>34511</th>\n",
       "      <td>0.0</td>\n",
       "      <td>0.0</td>\n",
       "      <td>0.0</td>\n",
       "      <td>0.0</td>\n",
       "      <td>0.0</td>\n",
       "      <td>0.04078</td>\n",
       "      <td>0.0</td>\n",
       "      <td>0.0</td>\n",
       "      <td>0.0</td>\n",
       "      <td>0.0</td>\n",
       "      <td>...</td>\n",
       "      <td>0.0</td>\n",
       "      <td>0.0</td>\n",
       "      <td>0.0</td>\n",
       "      <td>0.0</td>\n",
       "      <td>0.0</td>\n",
       "      <td>0.0</td>\n",
       "      <td>0.0</td>\n",
       "      <td>0.656331</td>\n",
       "      <td>0.0</td>\n",
       "      <td>0.0</td>\n",
       "    </tr>\n",
       "    <tr>\n",
       "      <th>43210</th>\n",
       "      <td>0.0</td>\n",
       "      <td>0.0</td>\n",
       "      <td>0.0</td>\n",
       "      <td>0.0</td>\n",
       "      <td>0.0</td>\n",
       "      <td>0.00000</td>\n",
       "      <td>0.0</td>\n",
       "      <td>0.0</td>\n",
       "      <td>0.0</td>\n",
       "      <td>0.0</td>\n",
       "      <td>...</td>\n",
       "      <td>0.0</td>\n",
       "      <td>0.0</td>\n",
       "      <td>0.0</td>\n",
       "      <td>0.0</td>\n",
       "      <td>0.0</td>\n",
       "      <td>0.0</td>\n",
       "      <td>0.0</td>\n",
       "      <td>0.000000</td>\n",
       "      <td>0.0</td>\n",
       "      <td>0.0</td>\n",
       "    </tr>\n",
       "    <tr>\n",
       "      <th>62118</th>\n",
       "      <td>0.0</td>\n",
       "      <td>0.0</td>\n",
       "      <td>0.0</td>\n",
       "      <td>0.0</td>\n",
       "      <td>0.0</td>\n",
       "      <td>0.00000</td>\n",
       "      <td>0.0</td>\n",
       "      <td>0.0</td>\n",
       "      <td>0.0</td>\n",
       "      <td>0.0</td>\n",
       "      <td>...</td>\n",
       "      <td>0.0</td>\n",
       "      <td>0.0</td>\n",
       "      <td>0.0</td>\n",
       "      <td>0.0</td>\n",
       "      <td>0.0</td>\n",
       "      <td>0.0</td>\n",
       "      <td>0.0</td>\n",
       "      <td>0.000000</td>\n",
       "      <td>0.0</td>\n",
       "      <td>0.0</td>\n",
       "    </tr>\n",
       "    <tr>\n",
       "      <th>39828</th>\n",
       "      <td>0.0</td>\n",
       "      <td>0.0</td>\n",
       "      <td>0.0</td>\n",
       "      <td>0.0</td>\n",
       "      <td>0.0</td>\n",
       "      <td>0.00000</td>\n",
       "      <td>0.0</td>\n",
       "      <td>0.0</td>\n",
       "      <td>0.0</td>\n",
       "      <td>0.0</td>\n",
       "      <td>...</td>\n",
       "      <td>0.0</td>\n",
       "      <td>0.0</td>\n",
       "      <td>0.0</td>\n",
       "      <td>0.0</td>\n",
       "      <td>0.0</td>\n",
       "      <td>0.0</td>\n",
       "      <td>0.0</td>\n",
       "      <td>0.000000</td>\n",
       "      <td>0.0</td>\n",
       "      <td>0.0</td>\n",
       "    </tr>\n",
       "  </tbody>\n",
       "</table>\n",
       "<p>5 rows × 3000 columns</p>\n",
       "</div>"
      ],
      "text/plain": [
       "       abc  ability  able  abortion  abroad  absolutely  abuse  academic  \\\n",
       "60555  0.0      0.0   0.0       0.0     0.0     0.00000    0.0       0.0   \n",
       "34511  0.0      0.0   0.0       0.0     0.0     0.04078    0.0       0.0   \n",
       "43210  0.0      0.0   0.0       0.0     0.0     0.00000    0.0       0.0   \n",
       "62118  0.0      0.0   0.0       0.0     0.0     0.00000    0.0       0.0   \n",
       "39828  0.0      0.0   0.0       0.0     0.0     0.00000    0.0       0.0   \n",
       "\n",
       "       academy  accept  ...  york time  young  young people  younger  youth  \\\n",
       "60555      0.0     0.0  ...        0.0    0.0           0.0      0.0    0.0   \n",
       "34511      0.0     0.0  ...        0.0    0.0           0.0      0.0    0.0   \n",
       "43210      0.0     0.0  ...        0.0    0.0           0.0      0.0    0.0   \n",
       "62118      0.0     0.0  ...        0.0    0.0           0.0      0.0    0.0   \n",
       "39828      0.0     0.0  ...        0.0    0.0           0.0      0.0    0.0   \n",
       "\n",
       "       youtube  zero      zika  zone  zuckerberg  \n",
       "60555      0.0   0.0  0.000000   0.0         0.0  \n",
       "34511      0.0   0.0  0.656331   0.0         0.0  \n",
       "43210      0.0   0.0  0.000000   0.0         0.0  \n",
       "62118      0.0   0.0  0.000000   0.0         0.0  \n",
       "39828      0.0   0.0  0.000000   0.0         0.0  \n",
       "\n",
       "[5 rows x 3000 columns]"
      ]
     },
     "execution_count": 18,
     "metadata": {},
     "output_type": "execute_result"
    }
   ],
   "source": [
    "#sanity check\n",
    "X_train_tfidf_vec_df.head()"
   ]
  },
  {
   "cell_type": "code",
   "execution_count": 19,
   "id": "f2debd24",
   "metadata": {},
   "outputs": [
    {
     "data": {
      "text/html": [
       "<div>\n",
       "<style scoped>\n",
       "    .dataframe tbody tr th:only-of-type {\n",
       "        vertical-align: middle;\n",
       "    }\n",
       "\n",
       "    .dataframe tbody tr th {\n",
       "        vertical-align: top;\n",
       "    }\n",
       "\n",
       "    .dataframe thead th {\n",
       "        text-align: right;\n",
       "    }\n",
       "</style>\n",
       "<table border=\"1\" class=\"dataframe\">\n",
       "  <thead>\n",
       "    <tr style=\"text-align: right;\">\n",
       "      <th></th>\n",
       "      <th>abc</th>\n",
       "      <th>ability</th>\n",
       "      <th>able</th>\n",
       "      <th>abortion</th>\n",
       "      <th>abroad</th>\n",
       "      <th>absolutely</th>\n",
       "      <th>abuse</th>\n",
       "      <th>academic</th>\n",
       "      <th>academy</th>\n",
       "      <th>accept</th>\n",
       "      <th>...</th>\n",
       "      <th>york time</th>\n",
       "      <th>young</th>\n",
       "      <th>young people</th>\n",
       "      <th>younger</th>\n",
       "      <th>youth</th>\n",
       "      <th>youtube</th>\n",
       "      <th>zero</th>\n",
       "      <th>zika</th>\n",
       "      <th>zone</th>\n",
       "      <th>zuckerberg</th>\n",
       "    </tr>\n",
       "  </thead>\n",
       "  <tbody>\n",
       "    <tr>\n",
       "      <th>66202</th>\n",
       "      <td>0.0</td>\n",
       "      <td>0.0</td>\n",
       "      <td>0.000000</td>\n",
       "      <td>0.0</td>\n",
       "      <td>0.0</td>\n",
       "      <td>0.0</td>\n",
       "      <td>0.0</td>\n",
       "      <td>0.0</td>\n",
       "      <td>0.0</td>\n",
       "      <td>0.0</td>\n",
       "      <td>...</td>\n",
       "      <td>0.0</td>\n",
       "      <td>0.0</td>\n",
       "      <td>0.0</td>\n",
       "      <td>0.000000</td>\n",
       "      <td>0.0</td>\n",
       "      <td>0.0</td>\n",
       "      <td>0.0</td>\n",
       "      <td>0.0</td>\n",
       "      <td>0.0</td>\n",
       "      <td>0.0</td>\n",
       "    </tr>\n",
       "    <tr>\n",
       "      <th>77557</th>\n",
       "      <td>0.0</td>\n",
       "      <td>0.0</td>\n",
       "      <td>0.000000</td>\n",
       "      <td>0.0</td>\n",
       "      <td>0.0</td>\n",
       "      <td>0.0</td>\n",
       "      <td>0.0</td>\n",
       "      <td>0.0</td>\n",
       "      <td>0.0</td>\n",
       "      <td>0.0</td>\n",
       "      <td>...</td>\n",
       "      <td>0.0</td>\n",
       "      <td>0.0</td>\n",
       "      <td>0.0</td>\n",
       "      <td>0.042234</td>\n",
       "      <td>0.0</td>\n",
       "      <td>0.0</td>\n",
       "      <td>0.0</td>\n",
       "      <td>0.0</td>\n",
       "      <td>0.0</td>\n",
       "      <td>0.0</td>\n",
       "    </tr>\n",
       "    <tr>\n",
       "      <th>45472</th>\n",
       "      <td>0.0</td>\n",
       "      <td>0.0</td>\n",
       "      <td>0.000000</td>\n",
       "      <td>0.0</td>\n",
       "      <td>0.0</td>\n",
       "      <td>0.0</td>\n",
       "      <td>0.0</td>\n",
       "      <td>0.0</td>\n",
       "      <td>0.0</td>\n",
       "      <td>0.0</td>\n",
       "      <td>...</td>\n",
       "      <td>0.0</td>\n",
       "      <td>0.0</td>\n",
       "      <td>0.0</td>\n",
       "      <td>0.000000</td>\n",
       "      <td>0.0</td>\n",
       "      <td>0.0</td>\n",
       "      <td>0.0</td>\n",
       "      <td>0.0</td>\n",
       "      <td>0.0</td>\n",
       "      <td>0.0</td>\n",
       "    </tr>\n",
       "    <tr>\n",
       "      <th>72123</th>\n",
       "      <td>0.0</td>\n",
       "      <td>0.0</td>\n",
       "      <td>0.000000</td>\n",
       "      <td>0.0</td>\n",
       "      <td>0.0</td>\n",
       "      <td>0.0</td>\n",
       "      <td>0.0</td>\n",
       "      <td>0.0</td>\n",
       "      <td>0.0</td>\n",
       "      <td>0.0</td>\n",
       "      <td>...</td>\n",
       "      <td>0.0</td>\n",
       "      <td>0.0</td>\n",
       "      <td>0.0</td>\n",
       "      <td>0.000000</td>\n",
       "      <td>0.0</td>\n",
       "      <td>0.0</td>\n",
       "      <td>0.0</td>\n",
       "      <td>0.0</td>\n",
       "      <td>0.0</td>\n",
       "      <td>0.0</td>\n",
       "    </tr>\n",
       "    <tr>\n",
       "      <th>1349</th>\n",
       "      <td>0.0</td>\n",
       "      <td>0.0</td>\n",
       "      <td>0.031959</td>\n",
       "      <td>0.0</td>\n",
       "      <td>0.0</td>\n",
       "      <td>0.0</td>\n",
       "      <td>0.0</td>\n",
       "      <td>0.0</td>\n",
       "      <td>0.0</td>\n",
       "      <td>0.0</td>\n",
       "      <td>...</td>\n",
       "      <td>0.0</td>\n",
       "      <td>0.0</td>\n",
       "      <td>0.0</td>\n",
       "      <td>0.000000</td>\n",
       "      <td>0.0</td>\n",
       "      <td>0.0</td>\n",
       "      <td>0.0</td>\n",
       "      <td>0.0</td>\n",
       "      <td>0.0</td>\n",
       "      <td>0.0</td>\n",
       "    </tr>\n",
       "  </tbody>\n",
       "</table>\n",
       "<p>5 rows × 3000 columns</p>\n",
       "</div>"
      ],
      "text/plain": [
       "       abc  ability      able  abortion  abroad  absolutely  abuse  academic  \\\n",
       "66202  0.0      0.0  0.000000       0.0     0.0         0.0    0.0       0.0   \n",
       "77557  0.0      0.0  0.000000       0.0     0.0         0.0    0.0       0.0   \n",
       "45472  0.0      0.0  0.000000       0.0     0.0         0.0    0.0       0.0   \n",
       "72123  0.0      0.0  0.000000       0.0     0.0         0.0    0.0       0.0   \n",
       "1349   0.0      0.0  0.031959       0.0     0.0         0.0    0.0       0.0   \n",
       "\n",
       "       academy  accept  ...  york time  young  young people   younger  youth  \\\n",
       "66202      0.0     0.0  ...        0.0    0.0           0.0  0.000000    0.0   \n",
       "77557      0.0     0.0  ...        0.0    0.0           0.0  0.042234    0.0   \n",
       "45472      0.0     0.0  ...        0.0    0.0           0.0  0.000000    0.0   \n",
       "72123      0.0     0.0  ...        0.0    0.0           0.0  0.000000    0.0   \n",
       "1349       0.0     0.0  ...        0.0    0.0           0.0  0.000000    0.0   \n",
       "\n",
       "       youtube  zero  zika  zone  zuckerberg  \n",
       "66202      0.0   0.0   0.0   0.0         0.0  \n",
       "77557      0.0   0.0   0.0   0.0         0.0  \n",
       "45472      0.0   0.0   0.0   0.0         0.0  \n",
       "72123      0.0   0.0   0.0   0.0         0.0  \n",
       "1349       0.0   0.0   0.0   0.0         0.0  \n",
       "\n",
       "[5 rows x 3000 columns]"
      ]
     },
     "execution_count": 19,
     "metadata": {},
     "output_type": "execute_result"
    }
   ],
   "source": [
    "X_val_tfidf_vec_df.head()"
   ]
  },
  {
   "cell_type": "markdown",
   "id": "b66a1e5c",
   "metadata": {},
   "source": [
    "### Baseline Model"
   ]
  },
  {
   "cell_type": "code",
   "execution_count": 20,
   "id": "57a0ff8b",
   "metadata": {},
   "outputs": [
    {
     "data": {
      "text/plain": [
       "2    0.348889\n",
       "0    0.328046\n",
       "1    0.323065\n",
       "Name: num_bias, dtype: float64"
      ]
     },
     "execution_count": 20,
     "metadata": {},
     "output_type": "execute_result"
    }
   ],
   "source": [
    "#If we were to randomly guess bias \n",
    "y_train.value_counts(normalize= True)"
   ]
  },
  {
   "cell_type": "markdown",
   "id": "e0b14221",
   "metadata": {},
   "source": [
    "### Cross Valdiating Model\n",
    "Due to the compuational costs of running a Grid Search I will look at the Average Cross Validate scores to determine what models I will use for a Grid Search. <br>\n",
    "I will cross validate a baseline version of each model to guage performance."
   ]
  },
  {
   "cell_type": "code",
   "execution_count": 68,
   "id": "660acb65",
   "metadata": {},
   "outputs": [],
   "source": [
    "#different models to investiagte\n",
    "models = [\n",
    "    LogisticRegression(random_state=seed),\n",
    "    MultinomialNB(),\n",
    "    DecisionTreeClassifier(random_state=seed),\n",
    "    RandomForestClassifier(random_state=seed),\n",
    "    SGDClassifier(random_state=seed)]"
   ]
  },
  {
   "cell_type": "code",
   "execution_count": 69,
   "id": "25520f0e",
   "metadata": {},
   "outputs": [
    {
     "name": "stderr",
     "output_type": "stream",
     "text": [
      "C:\\Users\\david\\anaconda3\\envs\\learn-env\\lib\\site-packages\\sklearn\\linear_model\\_logistic.py:763: ConvergenceWarning: lbfgs failed to converge (status=1):\n",
      "STOP: TOTAL NO. of ITERATIONS REACHED LIMIT.\n",
      "\n",
      "Increase the number of iterations (max_iter) or scale the data as shown in:\n",
      "    https://scikit-learn.org/stable/modules/preprocessing.html\n",
      "Please also refer to the documentation for alternative solver options:\n",
      "    https://scikit-learn.org/stable/modules/linear_model.html#logistic-regression\n",
      "  n_iter_i = _check_optimize_result(\n",
      "C:\\Users\\david\\anaconda3\\envs\\learn-env\\lib\\site-packages\\sklearn\\linear_model\\_logistic.py:763: ConvergenceWarning: lbfgs failed to converge (status=1):\n",
      "STOP: TOTAL NO. of ITERATIONS REACHED LIMIT.\n",
      "\n",
      "Increase the number of iterations (max_iter) or scale the data as shown in:\n",
      "    https://scikit-learn.org/stable/modules/preprocessing.html\n",
      "Please also refer to the documentation for alternative solver options:\n",
      "    https://scikit-learn.org/stable/modules/linear_model.html#logistic-regression\n",
      "  n_iter_i = _check_optimize_result(\n",
      "C:\\Users\\david\\anaconda3\\envs\\learn-env\\lib\\site-packages\\sklearn\\linear_model\\_logistic.py:763: ConvergenceWarning: lbfgs failed to converge (status=1):\n",
      "STOP: TOTAL NO. of ITERATIONS REACHED LIMIT.\n",
      "\n",
      "Increase the number of iterations (max_iter) or scale the data as shown in:\n",
      "    https://scikit-learn.org/stable/modules/preprocessing.html\n",
      "Please also refer to the documentation for alternative solver options:\n",
      "    https://scikit-learn.org/stable/modules/linear_model.html#logistic-regression\n",
      "  n_iter_i = _check_optimize_result(\n",
      "C:\\Users\\david\\anaconda3\\envs\\learn-env\\lib\\site-packages\\sklearn\\linear_model\\_logistic.py:763: ConvergenceWarning: lbfgs failed to converge (status=1):\n",
      "STOP: TOTAL NO. of ITERATIONS REACHED LIMIT.\n",
      "\n",
      "Increase the number of iterations (max_iter) or scale the data as shown in:\n",
      "    https://scikit-learn.org/stable/modules/preprocessing.html\n",
      "Please also refer to the documentation for alternative solver options:\n",
      "    https://scikit-learn.org/stable/modules/linear_model.html#logistic-regression\n",
      "  n_iter_i = _check_optimize_result(\n",
      "C:\\Users\\david\\anaconda3\\envs\\learn-env\\lib\\site-packages\\sklearn\\linear_model\\_logistic.py:763: ConvergenceWarning: lbfgs failed to converge (status=1):\n",
      "STOP: TOTAL NO. of ITERATIONS REACHED LIMIT.\n",
      "\n",
      "Increase the number of iterations (max_iter) or scale the data as shown in:\n",
      "    https://scikit-learn.org/stable/modules/preprocessing.html\n",
      "Please also refer to the documentation for alternative solver options:\n",
      "    https://scikit-learn.org/stable/modules/linear_model.html#logistic-regression\n",
      "  n_iter_i = _check_optimize_result(\n"
     ]
    },
    {
     "name": "stdout",
     "output_type": "stream",
     "text": [
      "LogisticRegression's average score\n",
      "fit_time                 51.508629\n",
      "score_time                0.191214\n",
      "test_accuracy             0.875720\n",
      "train_accuracy            0.903284\n",
      "test_precision_micro      0.875720\n",
      "train_precision_micro     0.903284\n",
      "test_recall_micro         0.875720\n",
      "train_recall_micro        0.903284\n",
      "test_f1_micro             0.875720\n",
      "train_f1_micro            0.903284\n",
      "dtype: float64\n",
      "****************************************\n",
      "MultinomialNB's average score\n",
      "fit_time                 1.873341\n",
      "score_time               0.204214\n",
      "test_accuracy            0.737053\n",
      "train_accuracy           0.741795\n",
      "test_precision_micro     0.737053\n",
      "train_precision_micro    0.741795\n",
      "test_recall_micro        0.737053\n",
      "train_recall_micro       0.741795\n",
      "test_f1_micro            0.737053\n",
      "train_f1_micro           0.741795\n",
      "dtype: float64\n",
      "****************************************\n",
      "DecisionTreeClassifier's average score\n",
      "fit_time                 153.785562\n",
      "score_time                 0.270024\n",
      "test_accuracy              0.763346\n",
      "train_accuracy             0.999393\n",
      "test_precision_micro       0.763346\n",
      "train_precision_micro      0.999393\n",
      "test_recall_micro          0.763346\n",
      "train_recall_micro         0.999393\n",
      "test_f1_micro              0.763346\n",
      "train_f1_micro             0.999393\n",
      "dtype: float64\n",
      "****************************************\n",
      "RandomForestClassifier's average score\n",
      "fit_time                 149.671761\n",
      "score_time                 1.131282\n",
      "test_accuracy              0.851996\n",
      "train_accuracy             0.999393\n",
      "test_precision_micro       0.851996\n",
      "train_precision_micro      0.999393\n",
      "test_recall_micro          0.851996\n",
      "train_recall_micro         0.999393\n",
      "test_f1_micro              0.851996\n",
      "train_f1_micro             0.999393\n",
      "dtype: float64\n",
      "****************************************\n",
      "SGDClassifier's average score\n",
      "fit_time                 8.785865\n",
      "score_time               0.158608\n",
      "test_accuracy            0.861125\n",
      "train_accuracy           0.880224\n",
      "test_precision_micro     0.861125\n",
      "train_precision_micro    0.880224\n",
      "test_recall_micro        0.861125\n",
      "train_recall_micro       0.880224\n",
      "test_f1_micro            0.861125\n",
      "train_f1_micro           0.880224\n",
      "dtype: float64\n",
      "****************************************\n"
     ]
    }
   ],
   "source": [
    "#run through a list of models and return the scores of 5 fold cross validation \n",
    "for model in models:\n",
    "    model_name = model.__class__.__name__\n",
    "    scores= cross_validate(model, X_train_tfidf_vec_df, y_train, \n",
    "                                scoring=['accuracy', \"precision_micro\", \"recall_micro\", \"f1_micro\"],\n",
    "                                return_train_score= True)\n",
    "    model_scores = pd.DataFrame.from_dict(scores)\n",
    "    print(f\"{model_name}'s average score\")\n",
    "    print(model_scores.mean(axis=0))\n",
    "    print(\"*\"*40)"
   ]
  },
  {
   "cell_type": "markdown",
   "id": "88ee8c30",
   "metadata": {},
   "source": [
    "## LIME"
   ]
  },
  {
   "cell_type": "markdown",
   "id": "6c9d00d7",
   "metadata": {},
   "source": [
    "It is important to develop an accurate model. But just as important is the explainability of the model. As more complex models are used for analysis, the level of interpertability decreases. It is difficult to explain how certain models, like a neural network, work under the hood. Opening the black box of accurate complex models is an important aspect of this project. While I do want to accurately predict bias, I also want to understand what is driving decision making and be able to showcase what words are driving decisions."
   ]
  },
  {
   "cell_type": "code",
   "execution_count": null,
   "id": "554b6b7c",
   "metadata": {},
   "outputs": [],
   "source": [
    "class_names=list(df.num_bias.unique())\n",
    "explainer = LimeTextExplainer(class_names=class_names)"
   ]
  },
  {
   "cell_type": "code",
   "execution_count": null,
   "id": "276d08cd",
   "metadata": {},
   "outputs": [],
   "source": [
    "idx = 1877\n",
    "exp = explainer.explain_instance(X_text_tfidf_vec[idx], lr_tuned.predict_proba, num_features=6, labels=[4, 8])\n",
    "print('Document id: %d' % idx)\n",
    "print('Predicted class =', class_names[lr_tuned.predict(X_text_tfidf_vec[idx]).reshape(1,-1)[0,0]])\n",
    "print('True class: %s' % class_names[y_val[idx]])"
   ]
  },
  {
   "cell_type": "code",
   "execution_count": null,
   "id": "e29761f1",
   "metadata": {},
   "outputs": [],
   "source": [
    "exp = explainer.explain_instance(X_text_tfidf_vec[idx], lr_tuned.predict_proba, num_features=6, top_labels=2)\n",
    "print(exp.available_labels())"
   ]
  },
  {
   "cell_type": "code",
   "execution_count": null,
   "id": "27483b41",
   "metadata": {},
   "outputs": [],
   "source": [
    "exp.show_in_notebook(text=y_val[idx], labels=(4,))"
   ]
  },
  {
   "cell_type": "markdown",
   "id": "31e5cbff",
   "metadata": {},
   "source": [
    "### Grid Search/Cross Validate\n",
    "To save on computational costs in this notebook, I have only included the best performing parameters. All of the parameters explored are in the modeing notbook."
   ]
  },
  {
   "cell_type": "markdown",
   "id": "729eda76",
   "metadata": {},
   "source": [
    "Looking at the cross valdiation results, I notice Logitsic Regression and support Vector Machines are not over fitting the data while still performing well. Let's see if hypertuning the parameters can boost performance. The Decision Tree and Random Forest Classifiers are extremely overfit to the training data. I will only do a grid search on the Decision Tree Classifier because it is extremely expensive to run a grid search on Random Forest Classifier. Lastly, the Multinomial Naive Bayes did not perform well so I will skip the grid search on this model."
   ]
  },
  {
   "cell_type": "code",
   "execution_count": 30,
   "id": "c6883f6c",
   "metadata": {},
   "outputs": [],
   "source": [
    "def evaluate(model, X_tr, y_tr, X_te, y_te):\n",
    "    print('Accuracy Score:')\n",
    "    print(f'Train - {accuracy_score(y_tr, model.predict(X_tr))}')\n",
    "    print(f'Test - {accuracy_score(y_te, model.predict(X_te))}')\n",
    "    print('  ')\n",
    "    print('Classification Report:')\n",
    "    print(classification_report(y_te, model.predict(X_te)))\n",
    "    print('Confusion matrix for test data')\n",
    "    return plot_confusion_matrix(model, X_te, y_te, include_values=True, cmap=plt.cm.Blues)"
   ]
  },
  {
   "cell_type": "markdown",
   "id": "e393db03",
   "metadata": {},
   "source": [
    "### Logsitic Regression\n",
    "In the grid search, I added Ridge regression to adjust the weights of the coeffecients. From running the cross validations, I knew I had to increase the max iterations.I looked at the regularization strength to see how much regression to effect. the solver hyperparameter was limited to 'newton-cg', 'sag', 'saga' and 'lbfgs' for muticlass problems."
   ]
  },
  {
   "cell_type": "code",
   "execution_count": 71,
   "id": "e9e8a7ed",
   "metadata": {},
   "outputs": [
    {
     "data": {
      "text/plain": [
       "Pipeline(steps=[('clf', LogisticRegression(random_state=42))])"
      ]
     },
     "execution_count": 71,
     "metadata": {},
     "output_type": "execute_result"
    }
   ],
   "source": [
    "lr_tuned = Pipeline(steps=[\n",
    "    ('clf', LogisticRegression(random_state=seed)),\n",
    "])\n",
    "lr_tuned"
   ]
  },
  {
   "cell_type": "code",
   "execution_count": 72,
   "id": "f521d27c",
   "metadata": {},
   "outputs": [],
   "source": [
    "param_grid = {\n",
    "    'clf__penalty': [\"l2\"],\n",
    "    'clf__max_iter': [1000],\n",
    "    'clf__C': [1],\n",
    "    'clf__solver': ['newton-cg'],\n",
    "}"
   ]
  },
  {
   "cell_type": "code",
   "execution_count": 73,
   "id": "433d8355",
   "metadata": {},
   "outputs": [],
   "source": [
    "grid = GridSearchCV(lr_tuned, param_grid, return_train_score=True, cv=3)"
   ]
  },
  {
   "cell_type": "code",
   "execution_count": 74,
   "id": "69150cf2",
   "metadata": {},
   "outputs": [],
   "source": [
    "output = grid.fit(X_train_tfidf_vec_df, y_train)"
   ]
  },
  {
   "cell_type": "code",
   "execution_count": 75,
   "id": "17ade3c7",
   "metadata": {},
   "outputs": [
    {
     "data": {
      "text/plain": [
       "Pipeline(steps=[('clf',\n",
       "                 LogisticRegression(C=1, max_iter=1000, random_state=42,\n",
       "                                    solver='newton-cg'))])"
      ]
     },
     "execution_count": 75,
     "metadata": {},
     "output_type": "execute_result"
    }
   ],
   "source": [
    "output.best_estimator_"
   ]
  },
  {
   "cell_type": "code",
   "execution_count": 76,
   "id": "1581d22c",
   "metadata": {},
   "outputs": [
    {
     "name": "stdout",
     "output_type": "stream",
     "text": [
      "Accuracy Score:\n",
      "Train - 0.9024817771607081\n",
      "Test - 0.884365075232988\n",
      "  \n",
      "Classification Report:\n",
      "              precision    recall  f1-score   support\n",
      "\n",
      "           0       0.86      0.88      0.87      6276\n",
      "           1       0.92      0.91      0.91      6160\n",
      "           2       0.88      0.87      0.87      6771\n",
      "\n",
      "    accuracy                           0.88     19207\n",
      "   macro avg       0.89      0.88      0.88     19207\n",
      "weighted avg       0.88      0.88      0.88     19207\n",
      "\n",
      "Confusion matrix for test data\n"
     ]
    },
    {
     "data": {
      "text/plain": [
       "<sklearn.metrics._plot.confusion_matrix.ConfusionMatrixDisplay at 0x23041badf70>"
      ]
     },
     "execution_count": 76,
     "metadata": {},
     "output_type": "execute_result"
    },
    {
     "data": {
      "image/png": "[encoded data removed]",
      "text/plain": [
       "<Figure size 432x288 with 2 Axes>"
      ]
     },
     "metadata": {
      "needs_background": "light"
     },
     "output_type": "display_data"
    }
   ],
   "source": [
    "evaluate(output.best_estimator_, X_train_tfidf_vec_df, y_train, X_val_tfidf_vec_df, y_val)"
   ]
  },
  {
   "cell_type": "markdown",
   "id": "7ceb9520",
   "metadata": {},
   "source": [
    "This model performed surprising well."
   ]
  },
  {
   "cell_type": "markdown",
   "id": "dbd4fb5a",
   "metadata": {},
   "source": [
    "### Logistic Regression with PCA"
   ]
  },
  {
   "cell_type": "markdown",
   "id": "68be12f6",
   "metadata": {},
   "source": [
    "Logistic Regression performe well, there could be a lot of multicollinearity issues driving its understanding. Therefore I will use Primary Component Analysis to reduce dimensionality and mulicolinearity. I tested to see how variance to explain."
   ]
  },
  {
   "cell_type": "code",
   "execution_count": 24,
   "id": "76d7f0d4",
   "metadata": {},
   "outputs": [],
   "source": [
    "pca_lr = Pipeline([\n",
    "                    ('pca', PCA()), \n",
    "                    ('clr', LogisticRegression(max_iter=1000, \n",
    "                                               solver= \"newton-cg\",\n",
    "                                               penalty = \"l2\", \n",
    "                                               random_state=seed)\n",
    "                    )])"
   ]
  },
  {
   "cell_type": "code",
   "execution_count": 25,
   "id": "8fb6aaa7",
   "metadata": {},
   "outputs": [],
   "source": [
    "param_grid = {\n",
    "    \"pca__n_components\" : [.99]\n",
    "}"
   ]
  },
  {
   "cell_type": "code",
   "execution_count": 26,
   "id": "9ff676f6",
   "metadata": {},
   "outputs": [],
   "source": [
    "grid = GridSearchCV(pca_lr, param_grid, return_train_score=True, cv = 3)"
   ]
  },
  {
   "cell_type": "code",
   "execution_count": 27,
   "id": "36e7a73c",
   "metadata": {},
   "outputs": [],
   "source": [
    "output = grid.fit(X_train_tfidf_vec_df, y_train)"
   ]
  },
  {
   "cell_type": "code",
   "execution_count": 28,
   "id": "01a9fb39",
   "metadata": {},
   "outputs": [
    {
     "data": {
      "text/plain": [
       "Pipeline(steps=[('pca', PCA(n_components=0.99)),\n",
       "                ('clr',\n",
       "                 LogisticRegression(max_iter=1000, random_state=42,\n",
       "                                    solver='newton-cg'))])"
      ]
     },
     "execution_count": 28,
     "metadata": {},
     "output_type": "execute_result"
    }
   ],
   "source": [
    "output.best_estimator_"
   ]
  },
  {
   "cell_type": "code",
   "execution_count": 31,
   "id": "65d95dce",
   "metadata": {},
   "outputs": [
    {
     "name": "stdout",
     "output_type": "stream",
     "text": [
      "Accuracy Score:\n",
      "Train - 0.9\n",
      "Test - 0.882490758577602\n",
      "  \n",
      "Classification Report:\n",
      "              precision    recall  f1-score   support\n",
      "\n",
      "           0       0.85      0.87      0.86      6276\n",
      "           1       0.92      0.91      0.91      6160\n",
      "           2       0.88      0.87      0.87      6771\n",
      "\n",
      "    accuracy                           0.88     19207\n",
      "   macro avg       0.88      0.88      0.88     19207\n",
      "weighted avg       0.88      0.88      0.88     19207\n",
      "\n",
      "Confusion matrix for test data\n"
     ]
    },
    {
     "data": {
      "text/plain": [
       "<sklearn.metrics._plot.confusion_matrix.ConfusionMatrixDisplay at 0x139e9a61d00>"
      ]
     },
     "execution_count": 31,
     "metadata": {},
     "output_type": "execute_result"
    },
    {
     "data": {
      "image/png": "[encoded data removed]",
      "text/plain": [
       "<Figure size 432x288 with 2 Axes>"
      ]
     },
     "metadata": {
      "needs_background": "light"
     },
     "output_type": "display_data"
    }
   ],
   "source": [
    "evaluate(output.best_estimator_, X_train_tfidf_vec_df, y_train, X_val_tfidf_vec_df, y_val)"
   ]
  },
  {
   "cell_type": "markdown",
   "id": "efd65c1b",
   "metadata": {},
   "source": [
    "This model peformed slightly better than logistic regression without PCA."
   ]
  },
  {
   "cell_type": "markdown",
   "id": "be8ea779",
   "metadata": {},
   "source": [
    "### Decision Tree"
   ]
  },
  {
   "cell_type": "markdown",
   "id": "d03861ea",
   "metadata": {},
   "source": [
    "For the decision tree I decided to explore the depth of the tree, how many samples in each leaf and how many samples to split at internal node. I adjusted these features because the previous model was very overfit."
   ]
  },
  {
   "cell_type": "code",
   "execution_count": 32,
   "id": "70d910a6",
   "metadata": {},
   "outputs": [
    {
     "data": {
      "text/plain": [
       "Pipeline(steps=[('clf', DecisionTreeClassifier(random_state=42))])"
      ]
     },
     "execution_count": 32,
     "metadata": {},
     "output_type": "execute_result"
    }
   ],
   "source": [
    "dt_tuned = Pipeline(steps=[\n",
    "    ('clf', DecisionTreeClassifier(random_state=seed)),\n",
    "])\n",
    "dt_tuned"
   ]
  },
  {
   "cell_type": "code",
   "execution_count": 33,
   "id": "39a56225",
   "metadata": {},
   "outputs": [],
   "source": [
    "param_grid = {\n",
    "    'clf__max_depth': [25],\n",
    "    'clf__min_samples_leaf': [10],\n",
    "    'clf__min_samples_split': [5],\n",
    "}"
   ]
  },
  {
   "cell_type": "code",
   "execution_count": 34,
   "id": "5f9ba409",
   "metadata": {},
   "outputs": [],
   "source": [
    "grid = GridSearchCV(dt_tuned, param_grid, return_train_score=True,cv =3)"
   ]
  },
  {
   "cell_type": "code",
   "execution_count": 35,
   "id": "d277f9ca",
   "metadata": {},
   "outputs": [],
   "source": [
    "output = grid.fit(X_train_tfidf_vec_df, y_train)"
   ]
  },
  {
   "cell_type": "code",
   "execution_count": 36,
   "id": "44cbc17c",
   "metadata": {},
   "outputs": [
    {
     "data": {
      "text/plain": [
       "Pipeline(steps=[('clf',\n",
       "                 DecisionTreeClassifier(max_depth=25, min_samples_leaf=15,\n",
       "                                        min_samples_split=3,\n",
       "                                        random_state=42))])"
      ]
     },
     "execution_count": 36,
     "metadata": {},
     "output_type": "execute_result"
    }
   ],
   "source": [
    "output.best_estimator_"
   ]
  },
  {
   "cell_type": "code",
   "execution_count": 37,
   "id": "3c4a1b04",
   "metadata": {},
   "outputs": [
    {
     "name": "stdout",
     "output_type": "stream",
     "text": [
      "Accuracy Score:\n",
      "Train - 0.8521520305449497\n",
      "Test - 0.7842973915759879\n",
      "  \n",
      "Classification Report:\n",
      "              precision    recall  f1-score   support\n",
      "\n",
      "           0       0.72      0.77      0.74      6276\n",
      "           1       0.87      0.85      0.86      6160\n",
      "           2       0.77      0.74      0.75      6771\n",
      "\n",
      "    accuracy                           0.78     19207\n",
      "   macro avg       0.79      0.79      0.79     19207\n",
      "weighted avg       0.79      0.78      0.78     19207\n",
      "\n",
      "Confusion matrix for test data\n"
     ]
    },
    {
     "data": {
      "text/plain": [
       "<sklearn.metrics._plot.confusion_matrix.ConfusionMatrixDisplay at 0x139cbd37190>"
      ]
     },
     "execution_count": 37,
     "metadata": {},
     "output_type": "execute_result"
    },
    {
     "data": {
      "image/png": "[encoded data removed]",
      "text/plain": [
       "<Figure size 432x288 with 2 Axes>"
      ]
     },
     "metadata": {
      "needs_background": "light"
     },
     "output_type": "display_data"
    }
   ],
   "source": [
    "evaluate(output.best_estimator_, X_train_tfidf_vec_df, y_train, X_val_tfidf_vec_df, y_val)"
   ]
  },
  {
   "cell_type": "markdown",
   "id": "a217f32c",
   "metadata": {},
   "source": [
    "While less overfit, the model is not performing as well as others."
   ]
  },
  {
   "cell_type": "markdown",
   "id": "26e00a30",
   "metadata": {},
   "source": [
    "### Support Vector Machine - SVM"
   ]
  },
  {
   "cell_type": "markdown",
   "id": "05e640c8",
   "metadata": {},
   "source": [
    "SVMs are known to be good for text classification projects. I decided to go with SGDClassifier. This model uses a “one versus all” (OVA) scheme between the classes. "
   ]
  },
  {
   "cell_type": "code",
   "execution_count": 70,
   "id": "b73ff9c7",
   "metadata": {},
   "outputs": [
    {
     "data": {
      "text/plain": [
       "Pipeline(steps=[('clf', SGDClassifier(random_state=42))])"
      ]
     },
     "execution_count": 70,
     "metadata": {},
     "output_type": "execute_result"
    }
   ],
   "source": [
    "svm_tuned = Pipeline(steps=[\n",
    "    ('clf', SGDClassifier(random_state=seed)),\n",
    "])\n",
    "svm_tuned"
   ]
  },
  {
   "cell_type": "code",
   "execution_count": 71,
   "id": "8bfd091b",
   "metadata": {},
   "outputs": [],
   "source": [
    "param_grid = {\n",
    "    \"clf__loss\" : [\"hinge\", \"log\", \"squared_hinge\", \"modified_huber\", \"perceptron\"],\n",
    "    \"clf__alpha\" : [0.0001, 0.001, 0.01, 0.1],\n",
    "    \"clf__penalty\" : [\"l2\", \"l1\", \"elasticnet\", \"none\"],\n",
    "}"
   ]
  },
  {
   "cell_type": "code",
   "execution_count": 72,
   "id": "68dd4974",
   "metadata": {},
   "outputs": [],
   "source": [
    "grid = GridSearchCV(svm_tuned, param_grid, return_train_score=True, cv = 3)"
   ]
  },
  {
   "cell_type": "code",
   "execution_count": null,
   "id": "685c00bf",
   "metadata": {},
   "outputs": [
    {
     "name": "stderr",
     "output_type": "stream",
     "text": [
      "C:\\Users\\david\\anaconda3\\envs\\learn-env\\lib\\site-packages\\sklearn\\linear_model\\_stochastic_gradient.py:574: ConvergenceWarning: Maximum number of iteration reached before convergence. Consider increasing max_iter to improve the fit.\n",
      "  warnings.warn(\"Maximum number of iteration reached before \"\n"
     ]
    }
   ],
   "source": [
    "output = grid.fit(X_train_tfidf_vec_df, y_train)"
   ]
  },
  {
   "cell_type": "code",
   "execution_count": null,
   "id": "80cca0eb",
   "metadata": {},
   "outputs": [],
   "source": [
    "output.best_estimator_"
   ]
  },
  {
   "cell_type": "code",
   "execution_count": null,
   "id": "ce66d319",
   "metadata": {},
   "outputs": [],
   "source": [
    "evaluate(output.best_estimator_, X_train_tfidf_vec_df, y_train, X_val_tfidf_vec_df, y_val)"
   ]
  },
  {
   "cell_type": "markdown",
   "id": "fa6b546e",
   "metadata": {},
   "source": [
    "This model is fit perfectly but does not perform as well"
   ]
  },
  {
   "cell_type": "markdown",
   "id": "47efb9db",
   "metadata": {},
   "source": [
    "### Neural Network"
   ]
  },
  {
   "cell_type": "markdown",
   "id": "53bd78d5",
   "metadata": {},
   "source": [
    "This neural network will use the GLoVe embedding from Stanford NLP."
   ]
  },
  {
   "cell_type": "code",
   "execution_count": 46,
   "id": "673a80d2",
   "metadata": {},
   "outputs": [],
   "source": [
    "def create_embedding_matrix(glove_filepath, word_index, embedding_dim):\n",
    "    '''\n",
    "    Grabs the embeddings just for the words in our vocabulary\n",
    "    \n",
    "    Inputs:\n",
    "    glove_filepath - string, location of the glove text file to use\n",
    "    word_index - word_index attribute from the keras tokenizer\n",
    "    embedding_dim - int, number of dimensions to embed, a hyperparameter\n",
    "    \n",
    "    Output:\n",
    "    embedding_matrix - numpy array of embeddings\n",
    "    '''\n",
    "    vocab_size = len(word_index) + 1  # Adding again 1 because of reserved 0 index\n",
    "    embedding_matrix = np.zeros((vocab_size, embedding_dim))\n",
    "\n",
    "    with open(glove_filepath, encoding=\"UTF-8\") as f:\n",
    "        for line in f:\n",
    "            word, *vector = line.split()\n",
    "            if word in word_index:\n",
    "                idx = word_index[word] \n",
    "                embedding_matrix[idx] = np.array(\n",
    "                    vector, dtype=np.float32)[:embedding_dim]\n",
    "\n",
    "    return embedding_matrix"
   ]
  },
  {
   "cell_type": "code",
   "execution_count": 47,
   "id": "591254e0",
   "metadata": {},
   "outputs": [],
   "source": [
    "def visualize_training_results(history):\n",
    "    '''\n",
    "    From https://machinelearningmastery.com/display-deep-learning-model-training-history-in-keras/\n",
    "    \n",
    "    Input: keras history object (output from trained model)\n",
    "    '''\n",
    "    fig, (ax1, ax2) = plt.subplots(2, sharex=True)\n",
    "    fig.suptitle('Model Results')\n",
    "\n",
    "    # summarize history for accuracy\n",
    "    ax1.plot(history.history['accuracy'])\n",
    "    ax1.plot(history.history['val_accuracy'])\n",
    "    ax1.set_ylabel('Accuracy')\n",
    "    ax1.legend(['train', 'test'], loc='upper left')\n",
    "    # summarize history for loss\n",
    "    ax2.plot(history.history['loss'])\n",
    "    ax2.plot(history.history['val_loss'])\n",
    "    ax2.set_ylabel('Loss')\n",
    "    ax2.legend(['train', 'test'], loc='upper left')\n",
    "    \n",
    "    plt.xlabel('Epoch')\n",
    "    plt.show()"
   ]
  },
  {
   "cell_type": "code",
   "execution_count": 48,
   "id": "063f9fa6",
   "metadata": {},
   "outputs": [
    {
     "data": {
      "text/plain": [
       "6714"
      ]
     },
     "execution_count": 48,
     "metadata": {},
     "output_type": "execute_result"
    }
   ],
   "source": [
    "#will use for padding the corpus\n",
    "max_length = max([len(s.split()) for s in X_train[\"processed_content\"]])\n",
    "max_length"
   ]
  },
  {
   "cell_type": "code",
   "execution_count": 53,
   "id": "94da476b",
   "metadata": {},
   "outputs": [],
   "source": [
    "#tokenizes and vectorizes the words\n",
    "tokenizer = keras.preprocessing.text.Tokenizer()\n",
    "\n",
    "tokenizer.fit_on_texts(X_train[\"processed_content\"])\n",
    "\n",
    "X_train_token = tokenizer.texts_to_sequences(X_train[\"processed_content\"])\n",
    "X_val_token = tokenizer.texts_to_sequences(X_val[\"processed_content\"])"
   ]
  },
  {
   "cell_type": "code",
   "execution_count": 54,
   "id": "62a9e6a8",
   "metadata": {},
   "outputs": [
    {
     "name": "stdout",
     "output_type": "stream",
     "text": [
      "157205\n"
     ]
    }
   ],
   "source": [
    "# Length of vocab+1 because python starts in 0\n",
    "vocab_size = len(tokenizer.word_index) + 1\n",
    "print(vocab_size)"
   ]
  },
  {
   "cell_type": "code",
   "execution_count": 55,
   "id": "668307bd",
   "metadata": {},
   "outputs": [],
   "source": [
    "#pads the corpus\n",
    "X_train_processed = keras.preprocessing.sequence.pad_sequences(\n",
    "    X_train_token, maxlen=max_length, padding='post')\n",
    "X_val_processed = keras.preprocessing.sequence.pad_sequences(\n",
    "    X_val_token, maxlen=max_length, padding='post')"
   ]
  },
  {
   "cell_type": "code",
   "execution_count": 58,
   "id": "43bc1744",
   "metadata": {},
   "outputs": [],
   "source": [
    "#similar to one hot encoding in sklearn\n",
    "y_train2 = to_categorical(y_train)\n",
    "y_val2 = to_categorical(y_val)"
   ]
  },
  {
   "cell_type": "code",
   "execution_count": 59,
   "id": "33f2bb17",
   "metadata": {},
   "outputs": [],
   "source": [
    "#create embedding dictionary for first layer\n",
    "embedding_dim = 50\n",
    "embedding_matrix = create_embedding_matrix('../data/glove.6B.50d.txt',\n",
    "                                           tokenizer.word_index, \n",
    "                                           embedding_dim)"
   ]
  },
  {
   "cell_type": "code",
   "execution_count": 60,
   "id": "3d51f1c9",
   "metadata": {},
   "outputs": [
    {
     "name": "stdout",
     "output_type": "stream",
     "text": [
      "Model: \"sequential\"\n",
      "_________________________________________________________________\n",
      "Layer (type)                 Output Shape              Param #   \n",
      "=================================================================\n",
      "embedding (Embedding)        (None, 6714, 50)          7860250   \n",
      "_________________________________________________________________\n",
      "flatten (Flatten)            (None, 335700)            0         \n",
      "_________________________________________________________________\n",
      "dense (Dense)                (None, 3)                 1007103   \n",
      "=================================================================\n",
      "Total params: 8,867,353\n",
      "Trainable params: 1,007,103\n",
      "Non-trainable params: 7,860,250\n",
      "_________________________________________________________________\n"
     ]
    }
   ],
   "source": [
    "model = keras.models.Sequential()\n",
    "model.add(layers.Embedding(vocab_size, embedding_dim, \n",
    "                           weights=[embedding_matrix], \n",
    "                           input_length=max_length, \n",
    "                           trainable=False)) # Note - not retraining the embedding layer\n",
    "model.add(layers.Flatten()) # flattening these layers down before connecting to dense layer\n",
    "model.add(layers.Dense(3, activation='softmax')) #three for the number of output\n",
    "\n",
    "model.compile(optimizer='adam',\n",
    "              loss='categorical_crossentropy',\n",
    "              metrics=['accuracy'])\n",
    "\n",
    "model.summary()"
   ]
  },
  {
   "cell_type": "code",
   "execution_count": 61,
   "id": "4d031043",
   "metadata": {},
   "outputs": [
    {
     "name": "stdout",
     "output_type": "stream",
     "text": [
      "Epoch 1/10\n",
      "577/577 [==============================] - 63s 110ms/step - loss: 1.0848 - accuracy: 0.6256 - val_loss: 1.2782 - val_accuracy: 0.6110\n",
      "Epoch 2/10\n",
      "577/577 [==============================] - 62s 107ms/step - loss: 0.6711 - accuracy: 0.7508 - val_loss: 1.3177 - val_accuracy: 0.6344\n",
      "Epoch 3/10\n",
      "577/577 [==============================] - 61s 106ms/step - loss: 0.5502 - accuracy: 0.7961 - val_loss: 1.4332 - val_accuracy: 0.6362\n",
      "Epoch 4/10\n",
      "577/577 [==============================] - 62s 107ms/step - loss: 0.5023 - accuracy: 0.8108 - val_loss: 1.5581 - val_accuracy: 0.6399\n",
      "Epoch 5/10\n",
      "577/577 [==============================] - 74s 129ms/step - loss: 0.4542 - accuracy: 0.8272 - val_loss: 1.8043 - val_accuracy: 0.6300\n",
      "Epoch 6/10\n",
      "577/577 [==============================] - 74s 129ms/step - loss: 0.4197 - accuracy: 0.8413 - val_loss: 1.8562 - val_accuracy: 0.6294\n",
      "Epoch 7/10\n",
      "577/577 [==============================] - 77s 134ms/step - loss: 0.3961 - accuracy: 0.8502 - val_loss: 1.9857 - val_accuracy: 0.6185\n",
      "Epoch 8/10\n",
      "577/577 [==============================] - 73s 126ms/step - loss: 0.3848 - accuracy: 0.8539 - val_loss: 2.1640 - val_accuracy: 0.6228\n",
      "Epoch 9/10\n",
      "577/577 [==============================] - 65s 112ms/step - loss: 0.3654 - accuracy: 0.8608 - val_loss: 2.3317 - val_accuracy: 0.6150\n",
      "Epoch 10/10\n",
      "577/577 [==============================] - 79s 136ms/step - loss: 0.3501 - accuracy: 0.8698 - val_loss: 2.4947 - val_accuracy: 0.6165\n"
     ]
    }
   ],
   "source": [
    "#\n",
    "history = model.fit(X_train_processed, y_train2,\n",
    "                    epochs=10,\n",
    "                    batch_size=100,\n",
    "                    validation_data=(X_val_processed, y_val2))"
   ]
  },
  {
   "cell_type": "code",
   "execution_count": null,
   "id": "3fe46a60",
   "metadata": {},
   "outputs": [],
   "source": [
    "visualize_training_results(history)"
   ]
  },
  {
   "cell_type": "code",
   "execution_count": null,
   "id": "aa6e5360",
   "metadata": {},
   "outputs": [],
   "source": []
  },
  {
   "cell_type": "code",
   "execution_count": null,
   "id": "9bc2222f",
   "metadata": {},
   "outputs": [],
   "source": []
  },
  {
   "cell_type": "markdown",
   "id": "1010d10f",
   "metadata": {},
   "source": [
    "## Evaluation/Final Model"
   ]
  },
  {
   "cell_type": "markdown",
   "id": "55b40caa",
   "metadata": {},
   "source": [
    "- Chosen model\n",
    "    - why?\n",
    "- holdout set\n",
    "- May consider factors besides metrics, such as runtime, explainability, parsimony, or ease of use\n",
    "- metric based on context of problem and consequences of errors\n",
    "- Performance on holdout test data\n",
    "- Implicatiosn of final model\n",
    "    - how does it solve real world problem stated before"
   ]
  },
  {
   "cell_type": "code",
   "execution_count": null,
   "id": "39d47304",
   "metadata": {},
   "outputs": [],
   "source": []
  }
 ],
 "metadata": {
  "kernelspec": {
   "display_name": "Python (learn-env)",
   "language": "python",
   "name": "learn-env"
  },
  "language_info": {
   "codemirror_mode": {
    "name": "ipython",
    "version": 3
   },
   "file_extension": ".py",
   "mimetype": "text/x-python",
   "name": "python",
   "nbconvert_exporter": "python",
   "pygments_lexer": "ipython3",
   "version": "3.8.11"
  }
 },
 "nbformat": 4,
 "nbformat_minor": 5
}
